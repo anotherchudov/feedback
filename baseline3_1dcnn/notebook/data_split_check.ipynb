{
    "cells": [
        {
            "cell_type": "code",
            "execution_count": 10,
            "source": [
                "import pickle\n",
                "\n",
                "def get_fold_data():\n",
                "    with open('../data_file/data_splits.pickle', 'rb') as f:\n",
                "        data_splits = pickle.load(f)\n",
                "    return data_splits\n",
                "\n",
                "data_splits = get_fold_data()"
            ],
            "outputs": [],
            "metadata": {}
        },
        {
            "cell_type": "code",
            "execution_count": 12,
            "source": [
                "for key1 in data_splits.keys():\n",
                "    for key2 in data_splits[key1].keys():\n",
                "        for key3 in data_splits[key1][key2].keys():\n",
                "            count = 0\n",
                "            for fold, values in enumerate(data_splits[key1][key2][key3]):\n",
                "                fold_id_list = []\n",
                "                for value in values:\n",
                "                    fold_id_list.append(value)\n",
                "                count += len(fold_id_list)"
            ],
            "outputs": [
                {
                    "output_type": "stream",
                    "name": "stdout",
                    "text": [
                        "key1\n",
                        "0\n",
                        "key2\n",
                        "25\n",
                        "key2\n",
                        "50\n",
                        "key2\n",
                        "100\n",
                        "key2\n",
                        "150\n",
                        "key2\n",
                        "250\n",
                        "key1\n",
                        "1\n",
                        "key2\n",
                        "25\n",
                        "key2\n",
                        "50\n",
                        "key2\n",
                        "100\n",
                        "key2\n",
                        "150\n",
                        "key2\n",
                        "250\n",
                        "key1\n",
                        "2\n",
                        "key2\n",
                        "25\n",
                        "key2\n",
                        "50\n",
                        "key2\n",
                        "100\n",
                        "key2\n",
                        "150\n",
                        "key2\n",
                        "250\n",
                        "key1\n",
                        "3\n",
                        "key2\n",
                        "25\n",
                        "key2\n",
                        "50\n",
                        "key2\n",
                        "100\n",
                        "key2\n",
                        "150\n",
                        "key2\n",
                        "250\n",
                        "key1\n",
                        "4\n",
                        "key2\n",
                        "25\n",
                        "key2\n",
                        "50\n",
                        "key2\n",
                        "100\n",
                        "key2\n",
                        "150\n",
                        "key2\n",
                        "250\n"
                    ]
                }
            ],
            "metadata": {}
        },
        {
            "cell_type": "code",
            "execution_count": 5,
            "source": [
                "with open('../data_file/token_counts.pickle', 'rb') as f:\n",
                "    groupped_token_counts, ungroupped_token_counts = pickle.load(f)"
            ],
            "outputs": [],
            "metadata": {}
        },
        {
            "cell_type": "code",
            "execution_count": 7,
            "source": [
                "ungroupped_token_counts"
            ],
            "outputs": [
                {
                    "output_type": "execute_result",
                    "data": {
                        "text/plain": [
                            "array([ 549185.,    9305.,  551937.,   15419.,  302404.,   45702.,\n",
                            "       4023777.,   50206.,  932022.,   13505.,  931556.,    5817.,\n",
                            "        151710.,    4337.,  133918.])"
                        ]
                    },
                    "metadata": {},
                    "execution_count": 7
                }
            ],
            "metadata": {}
        },
        {
            "cell_type": "code",
            "execution_count": 9,
            "source": [
                "groupped_token_counts"
            ],
            "outputs": [
                {
                    "output_type": "execute_result",
                    "data": {
                        "text/plain": [
                            "array([ 549185.,  561242.,  561242.,  317823.,  317823., 4069479.,\n",
                            "       4069479.,  982228.,  982228.,  945061.,  945061.,  157527.,\n",
                            "        157527.,  138255.,  138255.])"
                        ]
                    },
                    "metadata": {},
                    "execution_count": 9
                }
            ],
            "metadata": {}
        },
        {
            "cell_type": "code",
            "execution_count": 15,
            "source": [
                "token_weights = (ungroupped_token_counts.mean() / ungroupped_token_counts) ** 0.1\n",
                "token_weights"
            ],
            "outputs": [
                {
                    "output_type": "execute_result",
                    "data": {
                        "text/plain": [
                            "array([0.99353973, 1.49377596, 0.99304323, 1.42020646, 1.0546257 ,\n",
                            "       1.27398286, 0.81412992, 1.26206447, 0.94235489, 1.43915525,\n",
                            "       0.94240202, 1.56562302, 1.12994078, 1.61227144, 1.1441243 ])"
                        ]
                    },
                    "metadata": {},
                    "execution_count": 15
                }
            ],
            "metadata": {}
        },
        {
            "cell_type": "code",
            "execution_count": null,
            "source": [],
            "outputs": [],
            "metadata": {}
        }
    ],
    "metadata": {
        "orig_nbformat": 4,
        "language_info": {
            "name": "python",
            "version": "3.7.11",
            "mimetype": "text/x-python",
            "codemirror_mode": {
                "name": "ipython",
                "version": 3
            },
            "pygments_lexer": "ipython3",
            "nbconvert_exporter": "python",
            "file_extension": ".py"
        },
        "kernelspec": {
            "name": "python3",
            "display_name": "Python 3.7.11 64-bit ('new': conda)"
        },
        "interpreter": {
            "hash": "c622ab5b55136b32939278ccb9296a6b680e41a2a5270ba7b0ccd6c71683d8f4"
        }
    },
    "nbformat": 4,
    "nbformat_minor": 2
}