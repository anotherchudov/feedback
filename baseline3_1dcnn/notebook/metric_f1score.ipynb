{
 "cells": [
  {
   "cell_type": "markdown",
   "id": "72540e0a",
   "metadata": {},
   "source": [
    "# F1macro Implementation\n",
    "\n",
    "- code is based on https://www.kaggle.com/cpmpml/faster-metric-computation\n",
    "- fixed bugs with hungarian algorithm"
   ]
  },
  {
   "cell_type": "code",
   "execution_count": 1,
   "id": "c4cfbefe",
   "metadata": {
    "ExecuteTime": {
     "end_time": "2022-02-26T06:09:13.473408Z",
     "start_time": "2022-02-26T06:09:13.465284Z"
    }
   },
   "outputs": [],
   "source": [
    "import pandas as pd\n",
    "import numpy as np\n",
    "\n",
    "from scipy.optimize import linear_sum_assignment"
   ]
  },
  {
   "cell_type": "markdown",
   "id": "121f13d9",
   "metadata": {},
   "source": [
    "## Hungarian mapping"
   ]
  },
  {
   "cell_type": "code",
   "execution_count": 229,
   "id": "d8fbda03",
   "metadata": {
    "ExecuteTime": {
     "end_time": "2022-02-26T07:52:31.451136Z",
     "start_time": "2022-02-26T07:52:31.441229Z"
    }
   },
   "outputs": [],
   "source": [
    "def calc_overlap(row):\n",
    "    \"\"\"\n",
    "    Calculates the overlap between prediction and\n",
    "    ground truth and overlap percentages used for determining\n",
    "    true positives.\n",
    "    \"\"\"\n",
    "    set_pred = set(row.predictionstring_pred.split(\" \"))\n",
    "    set_gt = set(row.predictionstring_gt.split(\" \"))\n",
    "    \n",
    "    # Length of each and intersection\n",
    "    len_gt = len(set_gt)\n",
    "    len_pred = len(set_pred)\n",
    "    \n",
    "    inter = len(set_gt.intersection(set_pred))\n",
    "    \n",
    "    overlap_1 = inter / len_gt\n",
    "    overlap_2 = inter / len_pred\n",
    "    \n",
    "    return [overlap_1, overlap_2]\n",
    "\n",
    "\n",
    "def score_feedback_comp_micro(pred_df, gt_df):\n",
    "    \"\"\"\n",
    "    A function that scores for the kaggle\n",
    "        Student Writing Competition\n",
    "\n",
    "    Uses the steps in the evaluation page here:\n",
    "        https://www.kaggle.com/c/feedback-prize-2021/overview/evaluation\n",
    "    \"\"\"\n",
    "    gt_df = (\n",
    "        gt_df[[\"id\", \"discourse_type\", \"predictionstring\"]]\n",
    "        .reset_index(drop=True)\n",
    "        .copy()\n",
    "    )\n",
    "    pred_df = pred_df[[\"id\", \"class\", \"predictionstring\"]].reset_index(drop=True).copy()\n",
    "    pred_df[\"pred_id\"] = pred_df.index\n",
    "    gt_df[\"gt_id\"] = gt_df.index\n",
    "    \n",
    "    # Step 1. all ground truths and predictions for a given class are compared.\n",
    "    joined = pred_df.merge(\n",
    "        gt_df,\n",
    "        left_on=[\"id\", \"class\"],\n",
    "        right_on=[\"id\", \"discourse_type\"],\n",
    "        how=\"outer\",\n",
    "        suffixes=(\"_pred\", \"_gt\"),\n",
    "    )\n",
    "    joined[\"predictionstring_gt\"] = joined[\"predictionstring_gt\"].fillna(\" \")\n",
    "    joined[\"predictionstring_pred\"] = joined[\"predictionstring_pred\"].fillna(\" \")\n",
    "\n",
    "    joined[\"overlaps\"] = joined.apply(calc_overlap, axis=1)\n",
    "\n",
    "    # 2. If the overlap between the ground truth and prediction is >= 0.5,\n",
    "    # and the overlap between the prediction and the ground truth >= 0.5,\n",
    "    # the prediction is a match and considered a true positive.\n",
    "    # If multiple matches exist, the match with the highest pair of overlaps is taken.\n",
    "    joined[\"overlap1\"] = joined[\"overlaps\"].apply(lambda x: eval(str(x))[0])\n",
    "    joined[\"overlap2\"] = joined[\"overlaps\"].apply(lambda x: eval(str(x))[1])\n",
    "\n",
    "    joined[\"potential_TP\"] = (joined[\"overlap1\"] >= 0.5) & (joined[\"overlap2\"] >= 0.5)\n",
    "    joined[\"max_overlap\"] = joined[[\"overlap1\", \"overlap2\"]].max(axis=1)\n",
    "    \n",
    "    # 3. hungarian algorithm\n",
    "    hungarian_df = pd.pivot_table(joined.query(\"potential_TP\"),\n",
    "                                  index='gt_id',\n",
    "                                  columns='pred_id',\n",
    "                                  values='max_overlap')\n",
    "    hungarian_matrix = hungarian_df.fillna(0).values * -1.\n",
    "    gt_index, pred_index = linear_sum_assignment(hungarian_matrix)\n",
    "\n",
    "    # calc microf1\n",
    "    gt_n = gt_df.gt_id.nunique()\n",
    "    pred_n = pred_df.pred_id.nunique()\n",
    "\n",
    "    # Get numbers of each type\n",
    "    TP = len(gt_index)\n",
    "    FP = pred_n - TP\n",
    "    FN = gt_n - TP\n",
    "    \n",
    "    print(f'TP: {TP}   FP : {FP}   FN : {FN}')\n",
    "    my_f1_score = TP / (TP + 0.5 * (FP + FN))\n",
    "    \n",
    "    return my_f1_score\n",
    "\n",
    "\n",
    "def score_feedback_comp(pred_df, gt_df, return_class_scores=False):\n",
    "    \n",
    "    class_scores = {}\n",
    "    pred_df = pred_df[[\"id\", \"class\", \"predictionstring\"]].reset_index(drop=True).copy()\n",
    "    \n",
    "    for discourse_type, gt_subset in gt_df.groupby(\"discourse_type\"):\n",
    "        pred_subset = (\n",
    "            pred_df.loc[pred_df[\"class\"] == discourse_type]\n",
    "            .reset_index(drop=True)\n",
    "            .copy()\n",
    "        )\n",
    "        class_score = score_feedback_comp_micro(pred_subset, gt_subset)\n",
    "        class_scores[discourse_type] = class_score\n",
    "    \n",
    "    f1 = np.mean([v for v in class_scores.values()])\n",
    "    \n",
    "    if return_class_scores:\n",
    "        return f1, class_scores\n",
    "\n",
    "    return f1"
   ]
  },
  {
   "cell_type": "markdown",
   "id": "dc92c1d8",
   "metadata": {},
   "source": [
    "## Test cases"
   ]
  },
  {
   "cell_type": "code",
   "execution_count": 230,
   "id": "350a31d8",
   "metadata": {
    "ExecuteTime": {
     "end_time": "2022-02-26T07:52:31.984991Z",
     "start_time": "2022-02-26T07:52:31.963006Z"
    }
   },
   "outputs": [
    {
     "name": "stdout",
     "output_type": "stream",
     "text": [
      "TP: 1   FP : 1   FN : 2\n"
     ]
    },
    {
     "data": {
      "text/plain": [
       "(0.4, {1: 0.4})"
      ]
     },
     "execution_count": 230,
     "metadata": {},
     "output_type": "execute_result"
    }
   ],
   "source": [
    "gt_df = pd.DataFrame({'discourse_type': [1, 1, 1], 'id': [1, 1, 1], 'predictionstring': ['1 2 3 4 5', '6 7 8', '21 22 23 24 25']})\n",
    "pred_df = pd.DataFrame({'class': [1, 1], 'id': [1, 1], 'predictionstring': ['1 2', '6 7 8']})\n",
    "score_feedback_comp(pred_df, gt_df, 1)"
   ]
  },
  {
   "cell_type": "code",
   "execution_count": 231,
   "id": "20126f59",
   "metadata": {
    "ExecuteTime": {
     "end_time": "2022-02-26T07:52:32.799972Z",
     "start_time": "2022-02-26T07:52:32.776839Z"
    }
   },
   "outputs": [
    {
     "name": "stdout",
     "output_type": "stream",
     "text": [
      "TP: 1   FP : 0   FN : 1\n"
     ]
    },
    {
     "data": {
      "text/plain": [
       "(0.6666666666666666, {1: 0.6666666666666666})"
      ]
     },
     "execution_count": 231,
     "metadata": {},
     "output_type": "execute_result"
    }
   ],
   "source": [
    "gt_df = pd.DataFrame({'discourse_type': [1, 1], 'id': [1, 1], 'predictionstring': ['0 1', '2 3']})\n",
    "pred_df = pd.DataFrame({'class': [1,], 'id': [1], 'predictionstring': ['0 1 2 3']})\n",
    "score_feedback_comp(pred_df, gt_df, 1)"
   ]
  },
  {
   "cell_type": "code",
   "execution_count": 232,
   "id": "85c64f47",
   "metadata": {
    "ExecuteTime": {
     "end_time": "2022-02-26T07:52:32.977459Z",
     "start_time": "2022-02-26T07:52:32.957080Z"
    }
   },
   "outputs": [
    {
     "name": "stdout",
     "output_type": "stream",
     "text": [
      "TP: 1   FP : 1   FN : 0\n"
     ]
    },
    {
     "data": {
      "text/plain": [
       "(0.6666666666666666, {1: 0.6666666666666666})"
      ]
     },
     "execution_count": 232,
     "metadata": {},
     "output_type": "execute_result"
    }
   ],
   "source": [
    "gt_df = pd.DataFrame({'discourse_type': [1], 'id': [1], 'predictionstring': ['0 1 2 3']})\n",
    "pred_df = pd.DataFrame({'class': [1, 1], 'id': [1, 1], 'predictionstring': ['0 1', '2 3']})\n",
    "score_feedback_comp(pred_df, gt_df, 1)"
   ]
  },
  {
   "cell_type": "code",
   "execution_count": 233,
   "id": "625bfc31",
   "metadata": {
    "ExecuteTime": {
     "end_time": "2022-02-26T07:52:33.181624Z",
     "start_time": "2022-02-26T07:52:33.158957Z"
    }
   },
   "outputs": [
    {
     "name": "stdout",
     "output_type": "stream",
     "text": [
      "TP: 0   FP : 1   FN : 3\n"
     ]
    },
    {
     "data": {
      "text/plain": [
       "(0.0, {1: 0.0})"
      ]
     },
     "execution_count": 233,
     "metadata": {},
     "output_type": "execute_result"
    }
   ],
   "source": [
    "gt_df = pd.DataFrame({'discourse_type': [1, 1, 1], 'id': [1, 1, 1], 'predictionstring': ['0 1', '2 3', '4 5']})\n",
    "pred_df = pd.DataFrame({'class': [1,], 'id': [1], 'predictionstring': ['0 1 2 3 4 5']})\n",
    "score_feedback_comp(pred_df, gt_df, 1)"
   ]
  },
  {
   "cell_type": "code",
   "execution_count": 234,
   "id": "06760364",
   "metadata": {
    "ExecuteTime": {
     "end_time": "2022-02-26T07:52:33.722277Z",
     "start_time": "2022-02-26T07:52:33.704991Z"
    }
   },
   "outputs": [
    {
     "name": "stdout",
     "output_type": "stream",
     "text": [
      "TP: 1   FP : 0   FN : 2\n"
     ]
    },
    {
     "data": {
      "text/plain": [
       "(0.5, {1: 0.5})"
      ]
     },
     "execution_count": 234,
     "metadata": {},
     "output_type": "execute_result"
    }
   ],
   "source": [
    "gt_df = pd.DataFrame({'discourse_type': [1, 1, 1], 'id': [1, 1, 1], 'predictionstring': ['0 1', '2 3 4', '6']})\n",
    "pred_df = pd.DataFrame({'class': [1,], 'id': [1], 'predictionstring': ['0 1 2 3 4 5']})\n",
    "score_feedback_comp(pred_df, gt_df, 1)"
   ]
  },
  {
   "cell_type": "code",
   "execution_count": 235,
   "id": "3176736d",
   "metadata": {
    "ExecuteTime": {
     "end_time": "2022-02-26T07:52:42.473462Z",
     "start_time": "2022-02-26T07:52:42.455232Z"
    }
   },
   "outputs": [
    {
     "name": "stdout",
     "output_type": "stream",
     "text": [
      "TP: 2   FP : 0   FN : 0\n"
     ]
    },
    {
     "data": {
      "text/plain": [
       "(1.0, {1: 1.0})"
      ]
     },
     "execution_count": 235,
     "metadata": {},
     "output_type": "execute_result"
    }
   ],
   "source": [
    "gt_df = pd.DataFrame({'discourse_type': [1, 1], 'id': [1, 1], 'predictionstring': ['0 1', '2 3']})\n",
    "pred_df = pd.DataFrame({'class': [1, 1], 'id': [1, 1], 'predictionstring': ['0 1 2 3', '3 4']})\n",
    "score_feedback_comp(pred_df, gt_df, 1)"
   ]
  },
  {
   "cell_type": "code",
   "execution_count": 236,
   "id": "889eccb9",
   "metadata": {
    "ExecuteTime": {
     "end_time": "2022-02-26T07:52:44.578822Z",
     "start_time": "2022-02-26T07:52:44.557358Z"
    }
   },
   "outputs": [
    {
     "name": "stdout",
     "output_type": "stream",
     "text": [
      "TP: 2   FP : 1   FN : 0\n"
     ]
    },
    {
     "data": {
      "text/plain": [
       "(0.8, {1: 0.8})"
      ]
     },
     "execution_count": 236,
     "metadata": {},
     "output_type": "execute_result"
    }
   ],
   "source": [
    "gt_df = pd.DataFrame({'discourse_type': [1, 1], 'id': [1, 1], 'predictionstring': ['0 1', '2 3']})\n",
    "pred_df = pd.DataFrame({'class': [1, 1, 1], 'id': [1, 1, 1], 'predictionstring': ['0 1 2 3', '3 4', '6']})\n",
    "score_feedback_comp(pred_df, gt_df, 1)"
   ]
  }
 ],
 "metadata": {
  "kernelspec": {
   "display_name": "Python 3 (ipykernel)",
   "language": "python",
   "name": "python3"
  },
  "language_info": {
   "codemirror_mode": {
    "name": "ipython",
    "version": 3
   },
   "file_extension": ".py",
   "mimetype": "text/x-python",
   "name": "python",
   "nbconvert_exporter": "python",
   "pygments_lexer": "ipython3",
   "version": "3.7.12"
  },
  "toc": {
   "base_numbering": 1,
   "nav_menu": {},
   "number_sections": false,
   "sideBar": true,
   "skip_h1_title": false,
   "title_cell": "Table of Contents",
   "title_sidebar": "Contents",
   "toc_cell": false,
   "toc_position": {},
   "toc_section_display": true,
   "toc_window_display": false
  }
 },
 "nbformat": 4,
 "nbformat_minor": 5
}
