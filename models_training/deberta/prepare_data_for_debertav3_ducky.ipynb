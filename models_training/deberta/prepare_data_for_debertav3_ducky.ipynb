{
 "cells": [
  {
   "cell_type": "code",
   "execution_count": 1,
   "id": "fee95c59-a8ab-46b0-82c3-31feb1486379",
   "metadata": {
    "ExecuteTime": {
     "end_time": "2022-02-25T05:21:33.715382Z",
     "start_time": "2022-02-25T05:21:33.706033Z"
    }
   },
   "outputs": [],
   "source": [
    "import sys\n",
    "\n",
    "sys.path.insert(0, '/home/feedback/working/feedback/models_training/longformer/sumbission/codes/new_transformers_branch/transformers/src')"
   ]
  },
  {
   "cell_type": "code",
   "execution_count": 2,
   "id": "601c1bc7-15d0-446b-913c-3c7eeead066d",
   "metadata": {
    "ExecuteTime": {
     "end_time": "2022-02-25T05:21:36.118153Z",
     "start_time": "2022-02-25T05:21:33.876706Z"
    }
   },
   "outputs": [],
   "source": [
    "import re\n",
    "from collections import Counter\n",
    "from collections import deque\n",
    "from glob import glob\n",
    "\n",
    "import pandas as pd\n",
    "import numpy as np\n",
    "\n",
    "import h5py\n",
    "import dill as pickle\n",
    "from tqdm import tqdm\n",
    "\n",
    "import spacy\n",
    "from spacy import displacy\n",
    "\n",
    "import torch\n",
    "from transformers import DebertaV2TokenizerFast"
   ]
  },
  {
   "cell_type": "code",
   "execution_count": 3,
   "id": "8676079f-5c03-4035-8d58-6959605c8aa5",
   "metadata": {
    "ExecuteTime": {
     "end_time": "2022-02-25T05:21:43.383132Z",
     "start_time": "2022-02-25T05:21:36.119073Z"
    }
   },
   "outputs": [
    {
     "name": "stderr",
     "output_type": "stream",
     "text": [
      "Special tokens have been added in the vocabulary, make sure the associated word embeddings are fine-tuned or trained.\n",
      "Special tokens have been added in the vocabulary, make sure the associated word embeddings are fine-tuned or trained.\n"
     ]
    }
   ],
   "source": [
    "tokenizer = DebertaV2TokenizerFast.from_pretrained('microsoft/deberta-v3-large')\n",
    "tokenizer.model_max_length = 2048"
   ]
  },
  {
   "cell_type": "code",
   "execution_count": 4,
   "id": "4067a3d8",
   "metadata": {
    "ExecuteTime": {
     "end_time": "2022-02-25T05:21:43.875803Z",
     "start_time": "2022-02-25T05:21:43.384238Z"
    }
   },
   "outputs": [],
   "source": [
    "data = pd.read_csv('../../../feedback-prize-2021/train.csv')\n",
    "data.loc[data.discourse_id==1623258656795.0, 'discourse_text'] =  data.loc[data.discourse_id==1623258656795.0, \n",
    "                                                                           'discourse_text'].map(lambda x: x.replace('florida', 'LOCATION_NAME')).values"
   ]
  },
  {
   "cell_type": "code",
   "execution_count": 5,
   "id": "9596e2b8-eeab-4bdc-888f-d9aca60467cf",
   "metadata": {
    "ExecuteTime": {
     "end_time": "2022-02-25T05:21:43.878851Z",
     "start_time": "2022-02-25T05:21:43.876784Z"
    }
   },
   "outputs": [],
   "source": [
    "label_names = ['None', 'Lead', 'Position', 'Evidence', 'Claim',\n",
    "               'Concluding Statement', 'Counterclaim', 'Rebuttal']"
   ]
  },
  {
   "cell_type": "code",
   "execution_count": 6,
   "id": "f9fc64a6-21cd-4999-8e10-0c79c9a70a4f",
   "metadata": {
    "ExecuteTime": {
     "end_time": "2022-02-25T06:45:20.602561Z",
     "start_time": "2022-02-25T06:45:20.598869Z"
    }
   },
   "outputs": [],
   "source": [
    "colors = {\n",
    "            'Lead': '#8000ff',\n",
    "            'Position': '#2b7ff6',\n",
    "            'Evidence': '#2adddd',\n",
    "            'Claim': '#80ffb4',\n",
    "            'Concluding Statement': 'd4dd80',\n",
    "            'Counterclaim': '#ff8042',\n",
    "            'Rebuttal': '#ff0000'\n",
    "         }\n",
    "options = {\"ents\": list(colors.keys()), \"colors\": colors}"
   ]
  },
  {
   "cell_type": "code",
   "execution_count": 7,
   "id": "6db29c97-5606-4e72-9e16-bddb3a22fc36",
   "metadata": {
    "ExecuteTime": {
     "end_time": "2022-02-25T06:45:21.096429Z",
     "start_time": "2022-02-25T06:45:21.093251Z"
    }
   },
   "outputs": [],
   "source": [
    "token_maps = dict(zip(colors, range(1, 2 * len(colors), 2)))"
   ]
  },
  {
   "cell_type": "code",
   "execution_count": 8,
   "id": "2dfe8093-d0b5-4a97-90d4-54105d39a7fb",
   "metadata": {
    "ExecuteTime": {
     "end_time": "2022-02-25T06:45:21.476937Z",
     "start_time": "2022-02-25T06:45:21.470707Z"
    },
    "scrolled": true
   },
   "outputs": [
    {
     "data": {
      "text/plain": [
       "{'Lead': 1,\n",
       " 'Position': 3,\n",
       " 'Evidence': 5,\n",
       " 'Claim': 7,\n",
       " 'Concluding Statement': 9,\n",
       " 'Counterclaim': 11,\n",
       " 'Rebuttal': 13}"
      ]
     },
     "execution_count": 8,
     "metadata": {},
     "output_type": "execute_result"
    }
   ],
   "source": [
    "token_maps"
   ]
  },
  {
   "cell_type": "code",
   "execution_count": 9,
   "id": "6d1df82e-4072-4632-8882-c35b3bfe4612",
   "metadata": {
    "ExecuteTime": {
     "end_time": "2022-02-25T06:45:22.832802Z",
     "start_time": "2022-02-25T06:45:22.823035Z"
    }
   },
   "outputs": [],
   "source": [
    "def make_more_targets(targets):\n",
    "    linkage = np.zeros((len(targets), 2), 'f4')\n",
    "    class_index = np.zeros((len(targets),), 'f4')\n",
    "    linkage_mask = np.ones((len(targets),), 'f4')\n",
    "    \n",
    "    current_target = -2\n",
    "    for ix in range(1, len(targets) - 1):\n",
    "        if ((current_target % 2 == 0 and current_target == targets[ix]) \n",
    "              or (targets[ix] == current_target + 1 and current_target % 2 == 1)):\n",
    "            linkage[ix - 1, 1] = 1\n",
    "            linkage[ix, 0] = 1\n",
    "        \n",
    "        current_target = targets[ix]\n",
    "        class_index[:] = [x // 2 for x in targets + 1]\n",
    "    \n",
    "    link_sums = (linkage * np.array([2, 1])).sum(-1).astype('i4')\n",
    "    \n",
    "    bi =  np.zeros((len(targets), 2), 'f4')\n",
    "    bi[link_sums < 2, 0] = 1\n",
    "    bi[link_sums >= 2, 1] = 1\n",
    "    \n",
    "    bio = np.array(bi)\n",
    "    bio[targets == 0] = 0\n",
    "    \n",
    "    bies =  np.zeros((len(targets), 4), 'f4')\n",
    "    bies[:, :2] = bi\n",
    "    bies[link_sums == 0] = (0, 0, 0, 1)\n",
    "    bies[link_sums == 2] = (0, 0, 1, 0)\n",
    "    \n",
    "    bieso = np.array(bies)\n",
    "    bieso[targets==0] = 0\n",
    "    \n",
    "    return class_index, bi, bio, bies, bieso"
   ]
  },
  {
   "cell_type": "code",
   "execution_count": 10,
   "id": "1480d2c6-2c72-4f89-ad56-3a5ad1e80ff6",
   "metadata": {
    "ExecuteTime": {
     "end_time": "2022-02-25T06:45:23.413551Z",
     "start_time": "2022-02-25T06:45:23.401378Z"
    }
   },
   "outputs": [],
   "source": [
    "def combine_labels(class_index, bi, bio, bies, bieso):\n",
    "    \n",
    "    combined_bi = class_index * 2 + bi[:, 0]\n",
    "    combined_bies = class_index * 4 + bies @ np.array([0, 1, 2, 3])\n",
    "    \n",
    "    non_o_index = np.where(class_index != 0)[0]\n",
    "    \n",
    "    combined_bieso = np.array(class_index)\n",
    "    combined_bieso[non_o_index] = (class_index[non_o_index] - 1) * 4 + bieso[non_o_index] @ np.array([1, 2, 3, 4])\n",
    "    \n",
    "    combined_bio = np.array(class_index)\n",
    "    combined_bio[non_o_index] = (class_index[non_o_index] - 1) * 2 + bio[non_o_index] @ np.array([1, 2])\n",
    "    \n",
    "    return combined_bi, combined_bio, combined_bies, combined_bieso"
   ]
  },
  {
   "cell_type": "code",
   "execution_count": 11,
   "id": "c8caa473-8da6-4df2-8465-89963371da1d",
   "metadata": {
    "ExecuteTime": {
     "end_time": "2022-02-25T06:45:23.911136Z",
     "start_time": "2022-02-25T06:45:23.879235Z"
    }
   },
   "outputs": [],
   "source": [
    "# add +1 num text to fill the last text with 0, reason? I don't know why\n",
    "num_texts = len(glob('../../../feedback-prize-2021/train/*.txt')) + 1"
   ]
  },
  {
   "cell_type": "code",
   "execution_count": 12,
   "id": "199be078-08bb-41c9-8f2e-60dda9020d15",
   "metadata": {
    "ExecuteTime": {
     "end_time": "2022-02-25T06:45:27.564513Z",
     "start_time": "2022-02-25T06:45:27.560869Z"
    }
   },
   "outputs": [],
   "source": [
    "def make_one_hot(indices, num_labels):\n",
    "    array = np.zeros((len(indices), num_labels))\n",
    "    array[np.arange(len(indices)), indices.astype('i4')] = 1\n",
    "\n",
    "    return array"
   ]
  },
  {
   "cell_type": "markdown",
   "id": "0a1e7084",
   "metadata": {},
   "source": [
    "## create dataset\n",
    "\n",
    "- [🔥Transformer: tokenize a text [for beginner]🌱](tokenizer_outshttps://www.kaggle.com/sytuannguyen/transformer-tokenize-a-text-for-beginner)"
   ]
  },
  {
   "cell_type": "code",
   "execution_count": 13,
   "id": "71a9067c",
   "metadata": {
    "ExecuteTime": {
     "end_time": "2022-02-25T06:45:28.370226Z",
     "start_time": "2022-02-25T06:45:28.366859Z"
    }
   },
   "outputs": [],
   "source": [
    "# deverta3 newline tokens is gone?\n",
    "fix_text = lambda x: x.replace('\\n', '‽')\n",
    "\n",
    "regexp = re.compile('[0-9a-zA-z]')"
   ]
  },
  {
   "cell_type": "markdown",
   "id": "a79cb924",
   "metadata": {},
   "source": [
    "### Token labeling Comparition\n",
    "\n",
    "- [TensorFlow - LongFormer - NER - [CV 0.633]](https://www.kaggle.com/cdeotte/tensorflow-longformer-ner-cv-0-633)"
   ]
  },
  {
   "cell_type": "code",
   "execution_count": 74,
   "id": "4efcac46",
   "metadata": {
    "ExecuteTime": {
     "end_time": "2022-02-25T07:53:14.401832Z",
     "start_time": "2022-02-25T07:53:14.390467Z"
    },
    "code_folding": [
     0
    ]
   },
   "outputs": [],
   "source": [
    "def sergei_token_labeling(tokenizer_outs, ent_boundaries, token_maps):\n",
    "\n",
    "    targets = np.zeros(len(tokenizer_outs['input_ids']), 'i8')\n",
    "\n",
    "    all_boundaries = deque([])\n",
    "    for ent_boundary in ent_boundaries:\n",
    "        for position, boundary_type in zip(ent_boundary[:2], ('start', 'end')):\n",
    "            discourse_type = ent_boundary[-1]\n",
    "            all_boundaries.append((position, discourse_type, boundary_type))\n",
    "            \n",
    "    current_target = 0\n",
    "    targets = np.zeros(len(tokenizer_outs['input_ids']), 'i8')\n",
    "    token_positions = np.vstack(tokenizer_outs['offset_mapping']).astype('i4')\n",
    "    \n",
    "    for token_ix in range(len(tokenizer_outs['input_ids'])):\n",
    "        token_start_ix, token_end_ix = tokenizer_outs['offset_mapping'][token_ix]\n",
    "        \n",
    "        cur_pos, cur_dis_type, cur_bound_type = all_boundaries[0]\n",
    "\n",
    "        if token_end_ix != 0 \\\n",
    "           and (cur_bound_type == 'end' and token_end_ix >= cur_pos) \\\n",
    "           or (cur_bound_type == 'start' and token_end_ix > cur_pos):\n",
    "            \n",
    "            if len(all_boundaries) > 1:\n",
    "                next_pos, next_dis_type, next_bound_type = all_boundaries[1]\n",
    "            if cur_bound_type == 'start':\n",
    "                # token map {'Lead': 1, 'Position': 3, ..., 'Rebuttal': 13}\n",
    "                current_target = token_maps[cur_dis_type]\n",
    "                targets[token_ix] = current_target\n",
    "                \n",
    "                if token_end_ix == next_pos:\n",
    "                    current_target = 0\n",
    "                    all_boundaries.popleft()\n",
    "                else:\n",
    "                    current_target += 1\n",
    "            else:\n",
    "                # If there is more entity left to consider and current is already on the next pos\n",
    "                if len(all_boundaries) > 1 and token_end_ix > next_pos:\n",
    "                    \n",
    "                    # can this actually happen?\n",
    "                    if token_start_ix >= next_pos:\n",
    "                        assert text[cur_pos - 1] == '¨'\n",
    "\n",
    "                    all_boundaries.popleft()\n",
    "                    current_target = token_maps[cur_dis_type]\n",
    "                    targets[token_ix] = current_target\n",
    "                    current_target += 1\n",
    "                else:\n",
    "                    if token_start_ix >= cur_pos:\n",
    "                        current_target = 0\n",
    "\n",
    "                    targets[token_ix] = current_target\n",
    "                    current_target = 0\n",
    "\n",
    "            all_boundaries.popleft()\n",
    "            if not all_boundaries:\n",
    "                break\n",
    "        else:\n",
    "            targets[token_ix] = current_target\n",
    "            \n",
    "    return targets"
   ]
  },
  {
   "cell_type": "code",
   "execution_count": 75,
   "id": "4e2f1fd4",
   "metadata": {
    "ExecuteTime": {
     "end_time": "2022-02-25T07:53:14.670804Z",
     "start_time": "2022-02-25T07:53:14.663433Z"
    },
    "code_folding": [
     0
    ]
   },
   "outputs": [],
   "source": [
    "def chris_token_labeling(tokenizer_outs, ent_boundaries, token_maps):\n",
    "\n",
    "    targets = np.zeros(len(tokenizer_outs['input_ids']), 'i8')\n",
    "\n",
    "    offsets = tokenizer_outs['offset_mapping']\n",
    "    offset_index = 0    \n",
    "    for entity_start, entity_end, discourse_type in ent_boundaries:\n",
    "        if offset_index > len(offsets) - 1:\n",
    "            break\n",
    "\n",
    "        token_start = offsets[offset_index][0]\n",
    "        token_end = offsets[offset_index][1]\n",
    "        beginning = True\n",
    "        while token_start < entity_end:\n",
    "            if token_start == 0 and token_end == 0:\n",
    "                targets[offset_index] = 0\n",
    "            elif (entity_start <= token_start) and (token_end <= entity_end):\n",
    "                if beginning:\n",
    "                    targets[offset_index] = token_maps[discourse_type]\n",
    "                    beginning = False\n",
    "                else:\n",
    "                    targets[offset_index] = token_maps[discourse_type] + 1\n",
    "\n",
    "            offset_index += 1\n",
    "            if offset_index > len(offsets) - 1:\n",
    "                break\n",
    "\n",
    "            token_start = offsets[offset_index][0]\n",
    "            token_end = offsets[offset_index][1]\n",
    "            \n",
    "    return targets"
   ]
  },
  {
   "cell_type": "code",
   "execution_count": 76,
   "id": "1ca1d57a",
   "metadata": {
    "ExecuteTime": {
     "end_time": "2022-02-25T07:53:15.015801Z",
     "start_time": "2022-02-25T07:53:15.006300Z"
    },
    "code_folding": [
     0
    ]
   },
   "outputs": [],
   "source": [
    "def get_entity_boundary(id_df, tokenizer_outs):\n",
    "    ent_boundaries = []\n",
    "    pointer = 0\n",
    "    \n",
    "    total_pred_n = 0\n",
    "    for row_id, row in id_df.iterrows():\n",
    "        total_pred_n += len(row.predictionstring.split(' '))\n",
    "        \n",
    "        # fix_text = lambda x: x.replace('\\n', '‽')\n",
    "        entity_text = fix_text(row.discourse_text.strip())\n",
    "\n",
    "        # regex to find text start with alphanumeric (a-zA-Z0-9)\n",
    "        entity_text = entity_text[next(regexp.finditer(entity_text)).start():]\n",
    "        \n",
    "        # if the first character length is 1, then check the previous text chunk\n",
    "        if len(entity_text.split()[0]) == 1 and pointer != 0:\n",
    "            entity_start_ix = text[pointer:].index(entity_text)\n",
    "            prev_text = text[:pointer + entity_start_ix]\n",
    "            \n",
    "            # current text is not the beginning and the previous text last char is alphanumeric\n",
    "            if pointer + entity_start_ix > 0 and prev_text[-1].isalpha():\n",
    "                broken_indices.append((filename_ix, ID))\n",
    "                print('cut entity ', filename_ix, ID)\n",
    "                cut_word_chunk_size = len(prev_text.split()[-1])\n",
    "                \n",
    "                # if the previous text last word length is not 1\n",
    "                if cut_word_chunk_size > 1:\n",
    "                    entity_text = entity_text[next(regexp.finditer(entity_text[1:])).start() + 1:]\n",
    "\n",
    "        # TODO: what is the meaning of this?\n",
    "        if row.discourse_id in (1620147556527.0, 1622983056026.0):\n",
    "            pointer += 10\n",
    "\n",
    "        offset = text[pointer:].index(entity_text)\n",
    "        starts_at = offset + pointer\n",
    "        ent_boundaries.append((starts_at, starts_at + len(entity_text), row.discourse_type))\n",
    "        pointer = starts_at + len(entity_text)\n",
    "            \n",
    "    return ent_boundaries"
   ]
  },
  {
   "cell_type": "code",
   "execution_count": 77,
   "id": "829cc9e0",
   "metadata": {
    "ExecuteTime": {
     "end_time": "2022-02-25T07:53:17.851207Z",
     "start_time": "2022-02-25T07:53:17.846220Z"
    },
    "code_folding": [
     0
    ]
   },
   "outputs": [],
   "source": [
    "def show_sample(ID, ent_boundaries):\n",
    "    \n",
    "    with open(f'../../../feedback-prize-2021/train/{ID}.txt') as f:\n",
    "        org_text = f.read()\n",
    "    \n",
    "    ents = []\n",
    "    pointer = 0\n",
    "    for entity_start, entity_end, discourse_type in ent_boundaries:\n",
    "        ents.append({'start': entity_start, 'end': entity_end, 'label': discourse_type})\n",
    "\n",
    "    spacy.displacy.render({'text': org_text, 'ents': ents, 'title': ID}, style=\"ent\",\n",
    "                          options=options, manual=True, jupyter=True)"
   ]
  },
  {
   "cell_type": "code",
   "execution_count": 142,
   "id": "5ee42820",
   "metadata": {
    "ExecuteTime": {
     "end_time": "2022-02-25T09:00:38.970517Z",
     "start_time": "2022-02-25T09:00:38.961744Z"
    },
    "code_folding": [
     0
    ]
   },
   "outputs": [],
   "source": [
    "def target2entity(tokenizer_outs, targets, token_maps):\n",
    "    id2label = {v: k for k, v in token_maps.items()}\n",
    "    offset = tokenizer_outs['offset_mapping']\n",
    "\n",
    "    # find the token index of each entity\n",
    "    label_token_group = []\n",
    "    label_checking = -1\n",
    "    total_len = len(targets)\n",
    "    for pos, label_id in enumerate(targets):\n",
    "        # token is start of the entity\n",
    "        if label_id in token_maps.values():\n",
    "            if label_checking != -1:\n",
    "                end_position = pos - 1\n",
    "                label_token_group.append((start_position, end_position, label))\n",
    "\n",
    "            label = id2label[label_id]\n",
    "            label_checking = label_id + 1\n",
    "            start_position = pos\n",
    "            continue\n",
    "\n",
    "        # token is on the entity\n",
    "        if label_checking != -1:\n",
    "\n",
    "            # the token is located at the last\n",
    "            if pos == total_len - 1:\n",
    "                end_position = pos - 1\n",
    "                label_token_group.append((start_position, end_position, label))\n",
    "                break\n",
    "\n",
    "            # still on the entity\n",
    "            if label_id == label_checking:\n",
    "                continue\n",
    "\n",
    "            # out of the entity\n",
    "            elif label_id == 0:\n",
    "                label_checking = -1\n",
    "                end_position = pos - 1\n",
    "                label_token_group.append((start_position, end_position, label))\n",
    "\n",
    "    # convert token index to char index\n",
    "    label_char_group = []\n",
    "    for token_start_id, token_end_id, label in label_token_group:\n",
    "        char_start = offset[token_start_id][0]\n",
    "        char_end = offset[token_end_id][1]\n",
    "\n",
    "        label_char_group.append((char_start, char_end, label))\n",
    "        \n",
    "    return label_char_group"
   ]
  },
  {
   "cell_type": "code",
   "execution_count": 161,
   "id": "d2b88e06",
   "metadata": {
    "ExecuteTime": {
     "end_time": "2022-02-25T09:10:09.304675Z",
     "start_time": "2022-02-25T09:10:09.300639Z"
    },
    "code_folding": [
     0
    ]
   },
   "outputs": [],
   "source": [
    "def compare_boundary(bound1, bound2):\n",
    "    diff = 0\n",
    "    for i in range(len(bound1)):\n",
    "        start1, end1, entity1  = bound1[i]\n",
    "        start2, end2, entity2  = bound2[i]\n",
    "        \n",
    "        diff += abs(start1 - start2) + abs(end1 - end2)\n",
    "    \n",
    "    return diff"
   ]
  },
  {
   "cell_type": "code",
   "execution_count": 172,
   "id": "e5766e14",
   "metadata": {
    "ExecuteTime": {
     "end_time": "2022-02-25T09:17:06.700468Z",
     "start_time": "2022-02-25T09:17:06.154234Z"
    },
    "scrolled": true,
    "tags": []
   },
   "outputs": [
    {
     "name": "stderr",
     "output_type": "stream",
     "text": [
      "  0% 3/15594 [00:00<09:53, 26.29it/s]"
     ]
    },
    {
     "name": "stdout",
     "output_type": "stream",
     "text": [
      "CF48D9415493\n",
      "sergei diff 3\n",
      "chris version 12\n",
      "------------------------------\n",
      "9741E87BE7CE\n",
      "sergei diff 7\n",
      "chris version 26\n",
      "------------------------------\n",
      "43B24ED85767\n",
      "sergei diff 6\n",
      "chris version 20\n",
      "------------------------------\n",
      "7C898E56E23C\n",
      "sergei diff 6\n",
      "chris version 22\n",
      "------------------------------\n",
      "EB9D8FFB4F45\n",
      "sergei diff 6\n",
      "chris version 22\n",
      "------------------------------\n",
      "F45F03EBB2CA\n",
      "sergei diff 7\n",
      "chris version 19\n",
      "------------------------------\n"
     ]
    },
    {
     "name": "stderr",
     "output_type": "stream",
     "text": [
      "  0% 9/15594 [00:00<10:08, 25.61it/s]"
     ]
    },
    {
     "name": "stdout",
     "output_type": "stream",
     "text": [
      "75BD2CB94662\n",
      "sergei diff 4\n",
      "chris version 11\n",
      "------------------------------\n",
      "5FB75CCB31F8\n",
      "sergei diff 8\n",
      "chris version 33\n",
      "------------------------------\n",
      "46527BA000FB\n",
      "sergei diff 9\n",
      "chris version 48\n",
      "------------------------------\n",
      "16585724607E\n",
      "sergei diff 4\n",
      "chris version 18\n",
      "------------------------------\n",
      "4434757F78FB\n",
      "sergei diff 5\n",
      "chris version 16\n",
      "------------------------------\n",
      "9FD65F435FD4\n",
      "sergei diff 9\n",
      "chris version 62\n",
      "------------------------------\n"
     ]
    },
    {
     "name": "stderr",
     "output_type": "stream",
     "text": [
      "  0% 12/15594 [00:00<10:59, 23.61it/s]"
     ]
    },
    {
     "name": "stdout",
     "output_type": "stream",
     "text": [
      "0F10DC1AE015\n",
      "sergei diff 10\n",
      "chris version 31\n",
      "------------------------------\n"
     ]
    },
    {
     "name": "stderr",
     "output_type": "stream",
     "text": [
      "\n"
     ]
    }
   ],
   "source": [
    "id_to_ix_map = {}\n",
    "broken_indices = []\n",
    "\n",
    "for filename_ix, filename in tqdm(enumerate(glob('../../../feedback-prize-2021/train/*.txt')), total=num_texts - 1):\n",
    "    \n",
    "    # read the textfile by ID\n",
    "    ID = filename.split('/')[-1].split('.')[0]\n",
    "\n",
    "    with open(filename) as f:\n",
    "        text = fix_text(f.read().strip())\n",
    "        \n",
    "     # get text meta information from specific ID\n",
    "    id_df = data.loc[data.id == ID].sort_values('discourse_start')\n",
    "    \n",
    "    tokenizer_outs = tokenizer(text, return_offsets_mapping=True)\n",
    "    tokenizer_outs['input_ids'] = [input_id if input_id != 126861 else 128000 for input_id in tokenizer_outs['input_ids']]\n",
    "    \n",
    "    ent_boundaries = get_entity_boundary(id_df, tokenizer_outs)\n",
    "        \n",
    "    # [(0, 'Lead', 'start'), (174, 'Lead', 'end'), (176, 'Position', 'start'), (271, 'Position', 'end')]\n",
    "    \n",
    "    sergei_targets = sergei_token_labeling(tokenizer_outs, ent_boundaries, token_maps)\n",
    "    chris_targets = chris_token_labeling(tokenizer_outs, ent_boundaries, token_maps)\n",
    "    \n",
    "    sergei_recovered_ent_boundaries = target2entity(tokenizer_outs, sergei_targets, token_maps)\n",
    "    chris_recovered_ent_boundaries = target2entity(tokenizer_outs, chris_targets, token_maps)\n",
    "    #     ent_boundaries, sergei_recovered_ent_boundaries\n",
    "    #     ent_boundaries, chris_recovered_ent_boundaries\n",
    "\n",
    "    sergei_diff = compare_boundary(ent_boundaries, sergei_recovered_ent_boundaries)\n",
    "    chris_diff = compare_boundary(ent_boundaries, chris_recovered_ent_boundaries)\n",
    "    \n",
    "    print(ID)\n",
    "#     print('sergei version', (sergei_targets > 0).sum())\n",
    "#     print('sergei version', sergei_targets)\n",
    "    print('sergei diff', sergei_diff)\n",
    "\n",
    "            \n",
    "#     print('chris version', (chris_targets > 0).sum())\n",
    "#     print('chris version', chris_targets)\n",
    "    print('chris version', chris_diff)\n",
    "\n",
    "    print('-' * 30)\n",
    "    \n",
    "    class_index, bi, bio, bies, bieso = make_more_targets(targets)\n",
    "    combined_bi, combined_bio, combined_bies, combined_bieso = combine_labels(class_index, bi, bio, bies, bieso)\n",
    "    assert (combined_bio[1:-1] == targets[1:-1]).all()\n",
    "    num_tokens = len(targets)\n",
    "    \n",
    "    if ID == '0F10DC1AE015':\n",
    "        break\n",
    "    "
   ]
  },
  {
   "cell_type": "code",
   "execution_count": 177,
   "id": "7aa18326",
   "metadata": {
    "ExecuteTime": {
     "end_time": "2022-02-25T09:21:27.794071Z",
     "start_time": "2022-02-25T09:21:27.787095Z"
    }
   },
   "outputs": [
    {
     "data": {
      "text/plain": [
       "([(0, 376, 'Lead'),\n",
       "  (386, 478, 'Position'),\n",
       "  (530, 624, 'Claim'),\n",
       "  (634, 1394, 'Evidence'),\n",
       "  (1406, 1505, 'Claim'),\n",
       "  (1530, 2064, 'Evidence'),\n",
       "  (2086, 2165, 'Claim'),\n",
       "  (2166, 2877, 'Evidence'),\n",
       "  (2888, 3061, 'Counterclaim'),\n",
       "  (3063, 3504, 'Evidence'),\n",
       "  (3506, 3655, 'Rebuttal'),\n",
       "  (3657, 4404, 'Evidence'),\n",
       "  (4406, 4854, 'Concluding Statement')],\n",
       " [(0, 376, 'Lead'),\n",
       "  (385, 478, 'Position'),\n",
       "  (529, 624, 'Claim'),\n",
       "  (633, 1394, 'Evidence'),\n",
       "  (1405, 1505, 'Claim'),\n",
       "  (1529, 2064, 'Evidence'),\n",
       "  (2085, 2165, 'Claim'),\n",
       "  (2165, 2877, 'Evidence'),\n",
       "  (2887, 3061, 'Counterclaim'),\n",
       "  (3062, 3504, 'Evidence'),\n",
       "  (3506, 3655, 'Rebuttal'),\n",
       "  (3656, 4404, 'Evidence'),\n",
       "  (4406, 4854, 'Concluding Statement')],\n",
       " [(0, 376, 'Lead'),\n",
       "  (387, 478, 'Position'),\n",
       "  (539, 624, 'Claim'),\n",
       "  (635, 1394, 'Evidence'),\n",
       "  (1415, 1505, 'Claim'),\n",
       "  (1531, 2064, 'Evidence'),\n",
       "  (2088, 2165, 'Claim'),\n",
       "  (2167, 2877, 'Evidence'),\n",
       "  (2892, 3061, 'Counterclaim'),\n",
       "  (3064, 3504, 'Evidence'),\n",
       "  (3506, 3655, 'Rebuttal'),\n",
       "  (3659, 4404, 'Evidence'),\n",
       "  (4406, 4854, 'Concluding Statement')])"
      ]
     },
     "execution_count": 177,
     "metadata": {},
     "output_type": "execute_result"
    }
   ],
   "source": [
    "ent_boundaries, sergei_recovered_ent_boundaries, chris_recovered_ent_boundaries"
   ]
  },
  {
   "cell_type": "markdown",
   "id": "2858c9c4",
   "metadata": {},
   "source": [
    "### Comparing with Text Entity Visualization\n",
    "- original\n",
    "- sergei\n",
    "- chris"
   ]
  },
  {
   "cell_type": "code",
   "execution_count": 173,
   "id": "381b25cd",
   "metadata": {
    "ExecuteTime": {
     "end_time": "2022-02-25T09:17:28.849524Z",
     "start_time": "2022-02-25T09:17:28.845265Z"
    }
   },
   "outputs": [
    {
     "data": {
      "text/html": [
       "<span class=\"tex2jax_ignore\"><h2 style=\"margin: 0\">0F10DC1AE015</h2>\n",
       "\n",
       "<div class=\"entities\" style=\"line-height: 2.5; direction: ltr\">\n",
       "<mark class=\"entity\" style=\"background: #8000ff; padding: 0.45em 0.6em; margin: 0 0.25em; line-height: 1; border-radius: 0.35em;\">\n",
       "    Across the nation, nearly 98% of schools have offered extracurricular activities for their students, but less than half of that 98% have mandated participating in one. In many schools worldwide, extracurriculars have been known to both help and hurt students - they can lead to staying up late making up for lost time, or they can lead to winning awards and even scholarships.\n",
       "    <span style=\"font-size: 0.8em; font-weight: bold; line-height: 1; border-radius: 0.35em; vertical-align: middle; margin-left: 0.5rem\">Lead</span>\n",
       "</mark>\n",
       " Overall, \n",
       "<mark class=\"entity\" style=\"background: #2b7ff6; padding: 0.45em 0.6em; margin: 0 0.25em; line-height: 1; border-radius: 0.35em;\">\n",
       "    I believe that all students should be required to participate in extracurricular activities.\n",
       "    <span style=\"font-size: 0.8em; font-weight: bold; line-height: 1; border-radius: 0.35em; vertical-align: middle; margin-left: 0.5rem\">Position</span>\n",
       "</mark>\n",
       ".. and I think you might just agree.</br></br>First of all, \n",
       "<mark class=\"entity\" style=\"background: #80ffb4; padding: 0.45em 0.6em; margin: 0 0.25em; line-height: 1; border-radius: 0.35em;\">\n",
       "    mandating that students participate in after school activities could improve kids' work ethic.\n",
       "    <span style=\"font-size: 0.8em; font-weight: bold; line-height: 1; border-radius: 0.35em; vertical-align: middle; margin-left: 0.5rem\">Claim</span>\n",
       "</mark>\n",
       " In fact, \n",
       "<mark class=\"entity\" style=\"background: #2adddd; padding: 0.45em 0.6em; margin: 0 0.25em; line-height: 1; border-radius: 0.35em;\">\n",
       "    a study titled &quot;Extracurriculars and Students&quot; by Professor James Wood at UVA proves this. Wood found that 65% of students who participated in extracurriculars said they enjoyed the additional challenges that were presented to them, and actually continued to work harder and challenge themselves not only in their education, but also in the workforce. This means that teens and kids who entered after school clubs and sports teams worked harder and were able to learn how to overcome obstacles and challenges. This also goes to show how students that entered extracurricular activities did indeed improve their work ethic. In general, I think you'l find that this is important because it shows how adolescents were able to benefit from after school activities.\n",
       "    <span style=\"font-size: 0.8em; font-weight: bold; line-height: 1; border-radius: 0.35em; vertical-align: middle; margin-left: 0.5rem\">Evidence</span>\n",
       "</mark>\n",
       "</br></br>Secondly, \n",
       "<mark class=\"entity\" style=\"background: #80ffb4; padding: 0.45em 0.6em; margin: 0 0.25em; line-height: 1; border-radius: 0.35em;\">\n",
       "    requiring students to join extracurricular activities could help students get into better colleges.\n",
       "    <span style=\"font-size: 0.8em; font-weight: bold; line-height: 1; border-radius: 0.35em; vertical-align: middle; margin-left: 0.5rem\">Claim</span>\n",
       "</mark>\n",
       " Don't believe me? Well, \n",
       "<mark class=\"entity\" style=\"background: #2adddd; padding: 0.45em 0.6em; margin: 0 0.25em; line-height: 1; border-radius: 0.35em;\">\n",
       "    a statement released by Harvard University said that 80% of colleges look for (and accept) students who participated in one or more extracurricular activities. To put it simply, after school activities have been known to assist students in getting into better schools. This relates because it shows how kids and teens who entered after school activities could manage getting into excellent colleges and create a better future for themselves. This matters due to how it shows that extracurriculars can broaden the horizon for students.\n",
       "    <span style=\"font-size: 0.8em; font-weight: bold; line-height: 1; border-radius: 0.35em; vertical-align: middle; margin-left: 0.5rem\">Evidence</span>\n",
       "</mark>\n",
       "</br></br>But that's not all. \n",
       "<mark class=\"entity\" style=\"background: #80ffb4; padding: 0.45em 0.6em; margin: 0 0.25em; line-height: 1; border-radius: 0.35em;\">\n",
       "    It's actually been shown that clubs and teams could improve a students' health.\n",
       "    <span style=\"font-size: 0.8em; font-weight: bold; line-height: 1; border-radius: 0.35em; vertical-align: middle; margin-left: 0.5rem\">Claim</span>\n",
       "</mark>\n",
       " \n",
       "<mark class=\"entity\" style=\"background: #2adddd; padding: 0.45em 0.6em; margin: 0 0.25em; line-height: 1; border-radius: 0.35em;\">\n",
       "    A professional from Johns Hopkins said in an interview, &quot;...Students who participated in activities after school were reported to have a better attitude, more motivation in and outside of school, and possessed an overall healthier lifestyle than their peers who did not join any extracurriculars.&quot; In other words, adolescents who joined activities after school tended to be in better condition than those who decided not to participate in any clubs or join any sports teams. This displays how students have been able to thrive and even better themselves thanks to extracurriculars. Overall, I think you'll find this important because it shows how kids and teens can greatly benefit from after school activities.\n",
       "    <span style=\"font-size: 0.8em; font-weight: bold; line-height: 1; border-radius: 0.35em; vertical-align: middle; margin-left: 0.5rem\">Evidence</span>\n",
       "</mark>\n",
       "</br></br>However, \n",
       "<mark class=\"entity\" style=\"background: #ff8042; padding: 0.45em 0.6em; margin: 0 0.25em; line-height: 1; border-radius: 0.35em;\">\n",
       "    some might argue that students should not be mandated to take part in extracurricular activities, and say that teens may already have a &quot;full plate&quot; and thus become stressed\n",
       "    <span style=\"font-size: 0.8em; font-weight: bold; line-height: 1; border-radius: 0.35em; vertical-align: middle; margin-left: 0.5rem\">Counterclaim</span>\n",
       "</mark>\n",
       ". \n",
       "<mark class=\"entity\" style=\"background: #2adddd; padding: 0.45em 0.6em; margin: 0 0.25em; line-height: 1; border-radius: 0.35em;\">\n",
       "    A statistic from the Teens and Mental Health Welfare Society revealed that 48% of students who participated in after school activities reported an increase in stress levels. To put it differently, close to half of the kids they talked to felt stressed due to their extracurriculars. This also demonstrates how a few students are actually pressured by their after school activities. Ultimately, extracurricular activities may stress students.\n",
       "    <span style=\"font-size: 0.8em; font-weight: bold; line-height: 1; border-radius: 0.35em; vertical-align: middle; margin-left: 0.5rem\">Evidence</span>\n",
       "</mark>\n",
       "</br></br>\n",
       "<mark class=\"entity\" style=\"background: #ff0000; padding: 0.45em 0.6em; margin: 0 0.25em; line-height: 1; border-radius: 0.35em;\">\n",
       "    While that might be true, there's no denying that after school activities can also teach kids to lessen their stress by learning to budget their time\n",
       "    <span style=\"font-size: 0.8em; font-weight: bold; line-height: 1; border-radius: 0.35em; vertical-align: middle; margin-left: 0.5rem\">Rebuttal</span>\n",
       "</mark>\n",
       ". \n",
       "<mark class=\"entity\" style=\"background: #2adddd; padding: 0.45em 0.6em; margin: 0 0.25em; line-height: 1; border-radius: 0.35em;\">\n",
       "    In fact, I personally was able to learn how to budget my time between school, family, friends, and extracurriculars. While I did have a lot on my plate at first, my extracurriculars like sports, newspaper, and a few of my other hobbies enabled me to learn how to equally set aside time to complete all of my tasks in a timely manner, and still have time to relax. To put it in an alternate way, my after school activities were able to teach me an important skill that I'd be able to use for many years to come. You'll see that this shows that, truly, extracurriculars can teach students how to budget their time effectively. Ultimately, my extracurricular activities taught me an important life skill that could benefit me in many area of my life.\n",
       "    <span style=\"font-size: 0.8em; font-weight: bold; line-height: 1; border-radius: 0.35em; vertical-align: middle; margin-left: 0.5rem\">Evidence</span>\n",
       "</mark>\n",
       "</br></br>\n",
       "<mark class=\"entity\" style=\"background: d4dd80; padding: 0.45em 0.6em; margin: 0 0.25em; line-height: 1; border-radius: 0.35em;\">\n",
       "    In the end, I think that we should mandate participating in extracurriculars, as it could improve kids' work ethic, assist students in getting into good colleges, and even keep them healthy. Imagine a school with no after school clubs or teams offered to students; kids would be bored, unhappy to go to school with no chance to socialize or get active, and, most importantly, no chance to broaden their horizon and truly reach their full potential.\n",
       "    <span style=\"font-size: 0.8em; font-weight: bold; line-height: 1; border-radius: 0.35em; vertical-align: middle; margin-left: 0.5rem\">Concluding Statement</span>\n",
       "</mark>\n",
       "</div></span>"
      ],
      "text/plain": [
       "<IPython.core.display.HTML object>"
      ]
     },
     "metadata": {},
     "output_type": "display_data"
    }
   ],
   "source": [
    "show_sample(ID, ent_boundaries)"
   ]
  },
  {
   "cell_type": "code",
   "execution_count": 174,
   "id": "904e10d3",
   "metadata": {
    "ExecuteTime": {
     "end_time": "2022-02-25T09:17:34.254018Z",
     "start_time": "2022-02-25T09:17:34.249310Z"
    }
   },
   "outputs": [
    {
     "data": {
      "text/html": [
       "<span class=\"tex2jax_ignore\"><h2 style=\"margin: 0\">0F10DC1AE015</h2>\n",
       "\n",
       "<div class=\"entities\" style=\"line-height: 2.5; direction: ltr\">\n",
       "<mark class=\"entity\" style=\"background: #8000ff; padding: 0.45em 0.6em; margin: 0 0.25em; line-height: 1; border-radius: 0.35em;\">\n",
       "    Across the nation, nearly 98% of schools have offered extracurricular activities for their students, but less than half of that 98% have mandated participating in one. In many schools worldwide, extracurriculars have been known to both help and hurt students - they can lead to staying up late making up for lost time, or they can lead to winning awards and even scholarships.\n",
       "    <span style=\"font-size: 0.8em; font-weight: bold; line-height: 1; border-radius: 0.35em; vertical-align: middle; margin-left: 0.5rem\">Lead</span>\n",
       "</mark>\n",
       " Overall,\n",
       "<mark class=\"entity\" style=\"background: #2b7ff6; padding: 0.45em 0.6em; margin: 0 0.25em; line-height: 1; border-radius: 0.35em;\">\n",
       "     I believe that all students should be required to participate in extracurricular activities.\n",
       "    <span style=\"font-size: 0.8em; font-weight: bold; line-height: 1; border-radius: 0.35em; vertical-align: middle; margin-left: 0.5rem\">Position</span>\n",
       "</mark>\n",
       ".. and I think you might just agree.</br></br>First of all,\n",
       "<mark class=\"entity\" style=\"background: #80ffb4; padding: 0.45em 0.6em; margin: 0 0.25em; line-height: 1; border-radius: 0.35em;\">\n",
       "     mandating that students participate in after school activities could improve kids' work ethic.\n",
       "    <span style=\"font-size: 0.8em; font-weight: bold; line-height: 1; border-radius: 0.35em; vertical-align: middle; margin-left: 0.5rem\">Claim</span>\n",
       "</mark>\n",
       " In fact,\n",
       "<mark class=\"entity\" style=\"background: #2adddd; padding: 0.45em 0.6em; margin: 0 0.25em; line-height: 1; border-radius: 0.35em;\">\n",
       "     a study titled &quot;Extracurriculars and Students&quot; by Professor James Wood at UVA proves this. Wood found that 65% of students who participated in extracurriculars said they enjoyed the additional challenges that were presented to them, and actually continued to work harder and challenge themselves not only in their education, but also in the workforce. This means that teens and kids who entered after school clubs and sports teams worked harder and were able to learn how to overcome obstacles and challenges. This also goes to show how students that entered extracurricular activities did indeed improve their work ethic. In general, I think you'l find that this is important because it shows how adolescents were able to benefit from after school activities.\n",
       "    <span style=\"font-size: 0.8em; font-weight: bold; line-height: 1; border-radius: 0.35em; vertical-align: middle; margin-left: 0.5rem\">Evidence</span>\n",
       "</mark>\n",
       "</br></br>Secondly,\n",
       "<mark class=\"entity\" style=\"background: #80ffb4; padding: 0.45em 0.6em; margin: 0 0.25em; line-height: 1; border-radius: 0.35em;\">\n",
       "     requiring students to join extracurricular activities could help students get into better colleges.\n",
       "    <span style=\"font-size: 0.8em; font-weight: bold; line-height: 1; border-radius: 0.35em; vertical-align: middle; margin-left: 0.5rem\">Claim</span>\n",
       "</mark>\n",
       " Don't believe me? Well,\n",
       "<mark class=\"entity\" style=\"background: #2adddd; padding: 0.45em 0.6em; margin: 0 0.25em; line-height: 1; border-radius: 0.35em;\">\n",
       "     a statement released by Harvard University said that 80% of colleges look for (and accept) students who participated in one or more extracurricular activities. To put it simply, after school activities have been known to assist students in getting into better schools. This relates because it shows how kids and teens who entered after school activities could manage getting into excellent colleges and create a better future for themselves. This matters due to how it shows that extracurriculars can broaden the horizon for students.\n",
       "    <span style=\"font-size: 0.8em; font-weight: bold; line-height: 1; border-radius: 0.35em; vertical-align: middle; margin-left: 0.5rem\">Evidence</span>\n",
       "</mark>\n",
       "</br></br>But that's not all.\n",
       "<mark class=\"entity\" style=\"background: #80ffb4; padding: 0.45em 0.6em; margin: 0 0.25em; line-height: 1; border-radius: 0.35em;\">\n",
       "     It's actually been shown that clubs and teams could improve a students' health.\n",
       "    <span style=\"font-size: 0.8em; font-weight: bold; line-height: 1; border-radius: 0.35em; vertical-align: middle; margin-left: 0.5rem\">Claim</span>\n",
       "</mark>\n",
       "\n",
       "<mark class=\"entity\" style=\"background: #2adddd; padding: 0.45em 0.6em; margin: 0 0.25em; line-height: 1; border-radius: 0.35em;\">\n",
       "     A professional from Johns Hopkins said in an interview, &quot;...Students who participated in activities after school were reported to have a better attitude, more motivation in and outside of school, and possessed an overall healthier lifestyle than their peers who did not join any extracurriculars.&quot; In other words, adolescents who joined activities after school tended to be in better condition than those who decided not to participate in any clubs or join any sports teams. This displays how students have been able to thrive and even better themselves thanks to extracurriculars. Overall, I think you'll find this important because it shows how kids and teens can greatly benefit from after school activities.\n",
       "    <span style=\"font-size: 0.8em; font-weight: bold; line-height: 1; border-radius: 0.35em; vertical-align: middle; margin-left: 0.5rem\">Evidence</span>\n",
       "</mark>\n",
       "</br></br>However,\n",
       "<mark class=\"entity\" style=\"background: #ff8042; padding: 0.45em 0.6em; margin: 0 0.25em; line-height: 1; border-radius: 0.35em;\">\n",
       "     some might argue that students should not be mandated to take part in extracurricular activities, and say that teens may already have a &quot;full plate&quot; and thus become stressed\n",
       "    <span style=\"font-size: 0.8em; font-weight: bold; line-height: 1; border-radius: 0.35em; vertical-align: middle; margin-left: 0.5rem\">Counterclaim</span>\n",
       "</mark>\n",
       ".\n",
       "<mark class=\"entity\" style=\"background: #2adddd; padding: 0.45em 0.6em; margin: 0 0.25em; line-height: 1; border-radius: 0.35em;\">\n",
       "     A statistic from the Teens and Mental Health Welfare Society revealed that 48% of students who participated in after school activities reported an increase in stress levels. To put it differently, close to half of the kids they talked to felt stressed due to their extracurriculars. This also demonstrates how a few students are actually pressured by their after school activities. Ultimately, extracurricular activities may stress students.\n",
       "    <span style=\"font-size: 0.8em; font-weight: bold; line-height: 1; border-radius: 0.35em; vertical-align: middle; margin-left: 0.5rem\">Evidence</span>\n",
       "</mark>\n",
       "</br></br>\n",
       "<mark class=\"entity\" style=\"background: #ff0000; padding: 0.45em 0.6em; margin: 0 0.25em; line-height: 1; border-radius: 0.35em;\">\n",
       "    While that might be true, there's no denying that after school activities can also teach kids to lessen their stress by learning to budget their time\n",
       "    <span style=\"font-size: 0.8em; font-weight: bold; line-height: 1; border-radius: 0.35em; vertical-align: middle; margin-left: 0.5rem\">Rebuttal</span>\n",
       "</mark>\n",
       ".\n",
       "<mark class=\"entity\" style=\"background: #2adddd; padding: 0.45em 0.6em; margin: 0 0.25em; line-height: 1; border-radius: 0.35em;\">\n",
       "     In fact, I personally was able to learn how to budget my time between school, family, friends, and extracurriculars. While I did have a lot on my plate at first, my extracurriculars like sports, newspaper, and a few of my other hobbies enabled me to learn how to equally set aside time to complete all of my tasks in a timely manner, and still have time to relax. To put it in an alternate way, my after school activities were able to teach me an important skill that I'd be able to use for many years to come. You'll see that this shows that, truly, extracurriculars can teach students how to budget their time effectively. Ultimately, my extracurricular activities taught me an important life skill that could benefit me in many area of my life.\n",
       "    <span style=\"font-size: 0.8em; font-weight: bold; line-height: 1; border-radius: 0.35em; vertical-align: middle; margin-left: 0.5rem\">Evidence</span>\n",
       "</mark>\n",
       "</br></br>\n",
       "<mark class=\"entity\" style=\"background: d4dd80; padding: 0.45em 0.6em; margin: 0 0.25em; line-height: 1; border-radius: 0.35em;\">\n",
       "    In the end, I think that we should mandate participating in extracurriculars, as it could improve kids' work ethic, assist students in getting into good colleges, and even keep them healthy. Imagine a school with no after school clubs or teams offered to students; kids would be bored, unhappy to go to school with no chance to socialize or get active, and, most importantly, no chance to broaden their horizon and truly reach their full potential.\n",
       "    <span style=\"font-size: 0.8em; font-weight: bold; line-height: 1; border-radius: 0.35em; vertical-align: middle; margin-left: 0.5rem\">Concluding Statement</span>\n",
       "</mark>\n",
       "</div></span>"
      ],
      "text/plain": [
       "<IPython.core.display.HTML object>"
      ]
     },
     "metadata": {},
     "output_type": "display_data"
    }
   ],
   "source": [
    "show_sample(ID, sergei_recovered_ent_boundaries)"
   ]
  },
  {
   "cell_type": "code",
   "execution_count": 175,
   "id": "8f87d4d2",
   "metadata": {
    "ExecuteTime": {
     "end_time": "2022-02-25T09:18:25.988602Z",
     "start_time": "2022-02-25T09:18:25.983876Z"
    }
   },
   "outputs": [
    {
     "data": {
      "text/html": [
       "<span class=\"tex2jax_ignore\"><h2 style=\"margin: 0\">0F10DC1AE015</h2>\n",
       "\n",
       "<div class=\"entities\" style=\"line-height: 2.5; direction: ltr\">\n",
       "<mark class=\"entity\" style=\"background: #8000ff; padding: 0.45em 0.6em; margin: 0 0.25em; line-height: 1; border-radius: 0.35em;\">\n",
       "    Across the nation, nearly 98% of schools have offered extracurricular activities for their students, but less than half of that 98% have mandated participating in one. In many schools worldwide, extracurriculars have been known to both help and hurt students - they can lead to staying up late making up for lost time, or they can lead to winning awards and even scholarships.\n",
       "    <span style=\"font-size: 0.8em; font-weight: bold; line-height: 1; border-radius: 0.35em; vertical-align: middle; margin-left: 0.5rem\">Lead</span>\n",
       "</mark>\n",
       " Overall, I\n",
       "<mark class=\"entity\" style=\"background: #2b7ff6; padding: 0.45em 0.6em; margin: 0 0.25em; line-height: 1; border-radius: 0.35em;\">\n",
       "     believe that all students should be required to participate in extracurricular activities.\n",
       "    <span style=\"font-size: 0.8em; font-weight: bold; line-height: 1; border-radius: 0.35em; vertical-align: middle; margin-left: 0.5rem\">Position</span>\n",
       "</mark>\n",
       ".. and I think you might just agree.</br></br>First of all, mandating\n",
       "<mark class=\"entity\" style=\"background: #80ffb4; padding: 0.45em 0.6em; margin: 0 0.25em; line-height: 1; border-radius: 0.35em;\">\n",
       "     that students participate in after school activities could improve kids' work ethic.\n",
       "    <span style=\"font-size: 0.8em; font-weight: bold; line-height: 1; border-radius: 0.35em; vertical-align: middle; margin-left: 0.5rem\">Claim</span>\n",
       "</mark>\n",
       " In fact, a\n",
       "<mark class=\"entity\" style=\"background: #2adddd; padding: 0.45em 0.6em; margin: 0 0.25em; line-height: 1; border-radius: 0.35em;\">\n",
       "     study titled &quot;Extracurriculars and Students&quot; by Professor James Wood at UVA proves this. Wood found that 65% of students who participated in extracurriculars said they enjoyed the additional challenges that were presented to them, and actually continued to work harder and challenge themselves not only in their education, but also in the workforce. This means that teens and kids who entered after school clubs and sports teams worked harder and were able to learn how to overcome obstacles and challenges. This also goes to show how students that entered extracurricular activities did indeed improve their work ethic. In general, I think you'l find that this is important because it shows how adolescents were able to benefit from after school activities.\n",
       "    <span style=\"font-size: 0.8em; font-weight: bold; line-height: 1; border-radius: 0.35em; vertical-align: middle; margin-left: 0.5rem\">Evidence</span>\n",
       "</mark>\n",
       "</br></br>Secondly, requiring\n",
       "<mark class=\"entity\" style=\"background: #80ffb4; padding: 0.45em 0.6em; margin: 0 0.25em; line-height: 1; border-radius: 0.35em;\">\n",
       "     students to join extracurricular activities could help students get into better colleges.\n",
       "    <span style=\"font-size: 0.8em; font-weight: bold; line-height: 1; border-radius: 0.35em; vertical-align: middle; margin-left: 0.5rem\">Claim</span>\n",
       "</mark>\n",
       " Don't believe me? Well, a\n",
       "<mark class=\"entity\" style=\"background: #2adddd; padding: 0.45em 0.6em; margin: 0 0.25em; line-height: 1; border-radius: 0.35em;\">\n",
       "     statement released by Harvard University said that 80% of colleges look for (and accept) students who participated in one or more extracurricular activities. To put it simply, after school activities have been known to assist students in getting into better schools. This relates because it shows how kids and teens who entered after school activities could manage getting into excellent colleges and create a better future for themselves. This matters due to how it shows that extracurriculars can broaden the horizon for students.\n",
       "    <span style=\"font-size: 0.8em; font-weight: bold; line-height: 1; border-radius: 0.35em; vertical-align: middle; margin-left: 0.5rem\">Evidence</span>\n",
       "</mark>\n",
       "</br></br>But that's not all. It\n",
       "<mark class=\"entity\" style=\"background: #80ffb4; padding: 0.45em 0.6em; margin: 0 0.25em; line-height: 1; border-radius: 0.35em;\">\n",
       "    's actually been shown that clubs and teams could improve a students' health.\n",
       "    <span style=\"font-size: 0.8em; font-weight: bold; line-height: 1; border-radius: 0.35em; vertical-align: middle; margin-left: 0.5rem\">Claim</span>\n",
       "</mark>\n",
       " A\n",
       "<mark class=\"entity\" style=\"background: #2adddd; padding: 0.45em 0.6em; margin: 0 0.25em; line-height: 1; border-radius: 0.35em;\">\n",
       "     professional from Johns Hopkins said in an interview, &quot;...Students who participated in activities after school were reported to have a better attitude, more motivation in and outside of school, and possessed an overall healthier lifestyle than their peers who did not join any extracurriculars.&quot; In other words, adolescents who joined activities after school tended to be in better condition than those who decided not to participate in any clubs or join any sports teams. This displays how students have been able to thrive and even better themselves thanks to extracurriculars. Overall, I think you'll find this important because it shows how kids and teens can greatly benefit from after school activities.\n",
       "    <span style=\"font-size: 0.8em; font-weight: bold; line-height: 1; border-radius: 0.35em; vertical-align: middle; margin-left: 0.5rem\">Evidence</span>\n",
       "</mark>\n",
       "</br></br>However, some\n",
       "<mark class=\"entity\" style=\"background: #ff8042; padding: 0.45em 0.6em; margin: 0 0.25em; line-height: 1; border-radius: 0.35em;\">\n",
       "     might argue that students should not be mandated to take part in extracurricular activities, and say that teens may already have a &quot;full plate&quot; and thus become stressed\n",
       "    <span style=\"font-size: 0.8em; font-weight: bold; line-height: 1; border-radius: 0.35em; vertical-align: middle; margin-left: 0.5rem\">Counterclaim</span>\n",
       "</mark>\n",
       ". A\n",
       "<mark class=\"entity\" style=\"background: #2adddd; padding: 0.45em 0.6em; margin: 0 0.25em; line-height: 1; border-radius: 0.35em;\">\n",
       "     statistic from the Teens and Mental Health Welfare Society revealed that 48% of students who participated in after school activities reported an increase in stress levels. To put it differently, close to half of the kids they talked to felt stressed due to their extracurriculars. This also demonstrates how a few students are actually pressured by their after school activities. Ultimately, extracurricular activities may stress students.\n",
       "    <span style=\"font-size: 0.8em; font-weight: bold; line-height: 1; border-radius: 0.35em; vertical-align: middle; margin-left: 0.5rem\">Evidence</span>\n",
       "</mark>\n",
       "</br></br>\n",
       "<mark class=\"entity\" style=\"background: #ff0000; padding: 0.45em 0.6em; margin: 0 0.25em; line-height: 1; border-radius: 0.35em;\">\n",
       "    While that might be true, there's no denying that after school activities can also teach kids to lessen their stress by learning to budget their time\n",
       "    <span style=\"font-size: 0.8em; font-weight: bold; line-height: 1; border-radius: 0.35em; vertical-align: middle; margin-left: 0.5rem\">Rebuttal</span>\n",
       "</mark>\n",
       ". In\n",
       "<mark class=\"entity\" style=\"background: #2adddd; padding: 0.45em 0.6em; margin: 0 0.25em; line-height: 1; border-radius: 0.35em;\">\n",
       "     fact, I personally was able to learn how to budget my time between school, family, friends, and extracurriculars. While I did have a lot on my plate at first, my extracurriculars like sports, newspaper, and a few of my other hobbies enabled me to learn how to equally set aside time to complete all of my tasks in a timely manner, and still have time to relax. To put it in an alternate way, my after school activities were able to teach me an important skill that I'd be able to use for many years to come. You'll see that this shows that, truly, extracurriculars can teach students how to budget their time effectively. Ultimately, my extracurricular activities taught me an important life skill that could benefit me in many area of my life.\n",
       "    <span style=\"font-size: 0.8em; font-weight: bold; line-height: 1; border-radius: 0.35em; vertical-align: middle; margin-left: 0.5rem\">Evidence</span>\n",
       "</mark>\n",
       "</br></br>\n",
       "<mark class=\"entity\" style=\"background: d4dd80; padding: 0.45em 0.6em; margin: 0 0.25em; line-height: 1; border-radius: 0.35em;\">\n",
       "    In the end, I think that we should mandate participating in extracurriculars, as it could improve kids' work ethic, assist students in getting into good colleges, and even keep them healthy. Imagine a school with no after school clubs or teams offered to students; kids would be bored, unhappy to go to school with no chance to socialize or get active, and, most importantly, no chance to broaden their horizon and truly reach their full potential.\n",
       "    <span style=\"font-size: 0.8em; font-weight: bold; line-height: 1; border-radius: 0.35em; vertical-align: middle; margin-left: 0.5rem\">Concluding Statement</span>\n",
       "</mark>\n",
       "</div></span>"
      ],
      "text/plain": [
       "<IPython.core.display.HTML object>"
      ]
     },
     "metadata": {},
     "output_type": "display_data"
    }
   ],
   "source": [
    "show_sample(ID, chris_recovered_ent_boundaries)"
   ]
  }
 ],
 "metadata": {
  "kernelspec": {
   "display_name": "Python 3 (ipykernel)",
   "language": "python",
   "name": "python3"
  },
  "language_info": {
   "codemirror_mode": {
    "name": "ipython",
    "version": 3
   },
   "file_extension": ".py",
   "mimetype": "text/x-python",
   "name": "python",
   "nbconvert_exporter": "python",
   "pygments_lexer": "ipython3",
   "version": "3.7.12"
  },
  "toc": {
   "base_numbering": 1,
   "nav_menu": {},
   "number_sections": false,
   "sideBar": true,
   "skip_h1_title": false,
   "title_cell": "Table of Contents",
   "title_sidebar": "Contents",
   "toc_cell": false,
   "toc_position": {
    "height": "calc(100% - 180px)",
    "left": "10px",
    "top": "150px",
    "width": "279.823px"
   },
   "toc_section_display": true,
   "toc_window_display": true
  }
 },
 "nbformat": 4,
 "nbformat_minor": 5
}
