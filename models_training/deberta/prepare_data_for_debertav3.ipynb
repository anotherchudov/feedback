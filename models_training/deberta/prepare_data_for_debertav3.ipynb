{
 "cells": [
  {
   "cell_type": "code",
   "execution_count": 1,
   "id": "8b6d8384-f780-4f11-866f-dc64d8dfbd55",
   "metadata": {
    "ExecuteTime": {
     "end_time": "2022-02-23T14:55:03.852012Z",
     "start_time": "2022-02-23T14:55:03.849290Z"
    }
   },
   "outputs": [],
   "source": [
    "#bert_normalizer.normalize_str, ftfy"
   ]
  },
  {
   "cell_type": "code",
   "execution_count": 2,
   "id": "fee95c59-a8ab-46b0-82c3-31feb1486379",
   "metadata": {
    "ExecuteTime": {
     "end_time": "2022-02-23T14:55:03.866849Z",
     "start_time": "2022-02-23T14:55:03.853081Z"
    }
   },
   "outputs": [],
   "source": [
    "import sys\n",
    "\n",
    "sys.path.insert(0, '/home/feedback/working/feedback/models_training/longformer/sumbission/codes/new_transformers_branch/transformers/src')"
   ]
  },
  {
   "cell_type": "code",
   "execution_count": 3,
   "id": "601c1bc7-15d0-446b-913c-3c7eeead066d",
   "metadata": {
    "ExecuteTime": {
     "end_time": "2022-02-23T14:55:06.038623Z",
     "start_time": "2022-02-23T14:55:03.868204Z"
    }
   },
   "outputs": [],
   "source": [
    "import torch as t\n",
    "from glob import glob\n",
    "\n",
    "import pandas as pd\n",
    "import numpy as np\n",
    "\n",
    "import dill as pickle\n",
    "import re\n",
    "from tqdm import tqdm\n",
    "import spacy\n",
    "from spacy import displacy\n",
    "from transformers import DebertaV2TokenizerFast\n",
    "import h5py"
   ]
  },
  {
   "cell_type": "code",
   "execution_count": 4,
   "id": "8676079f-5c03-4035-8d58-6959605c8aa5",
   "metadata": {
    "ExecuteTime": {
     "end_time": "2022-02-23T14:55:14.001323Z",
     "start_time": "2022-02-23T14:55:06.039627Z"
    }
   },
   "outputs": [
    {
     "name": "stderr",
     "output_type": "stream",
     "text": [
      "Special tokens have been added in the vocabulary, make sure the associated word embeddings are fine-tuned or trained.\n",
      "Special tokens have been added in the vocabulary, make sure the associated word embeddings are fine-tuned or trained.\n"
     ]
    }
   ],
   "source": [
    "tokenizer = DebertaV2TokenizerFast.from_pretrained('microsoft/deberta-v3-large')\n",
    "tokenizer.model_max_length = 2048"
   ]
  },
  {
   "cell_type": "code",
   "execution_count": 5,
   "id": "2be1461a",
   "metadata": {
    "ExecuteTime": {
     "end_time": "2022-02-23T14:55:14.500278Z",
     "start_time": "2022-02-23T14:55:14.002418Z"
    }
   },
   "outputs": [],
   "source": [
    "data = pd.read_csv('../../../feedback-prize-2021/train.csv')\n",
    "data.loc[data.discourse_id==1623258656795.0, 'discourse_text'] =  data.loc[data.discourse_id==1623258656795.0, \n",
    "                                                                           'discourse_text'].map(lambda x: x.replace('florida', 'LOCATION_NAME')).values"
   ]
  },
  {
   "cell_type": "code",
   "execution_count": 6,
   "id": "9596e2b8-eeab-4bdc-888f-d9aca60467cf",
   "metadata": {
    "ExecuteTime": {
     "end_time": "2022-02-23T14:55:14.503923Z",
     "start_time": "2022-02-23T14:55:14.501905Z"
    }
   },
   "outputs": [],
   "source": [
    "label_names = ['None', 'Lead', 'Position', 'Evidence', 'Claim',\n",
    "               'Concluding Statement', 'Counterclaim', 'Rebuttal']"
   ]
  },
  {
   "cell_type": "code",
   "execution_count": 7,
   "id": "f9fc64a6-21cd-4999-8e10-0c79c9a70a4f",
   "metadata": {
    "ExecuteTime": {
     "end_time": "2022-02-23T14:55:14.515794Z",
     "start_time": "2022-02-23T14:55:14.504839Z"
    }
   },
   "outputs": [],
   "source": [
    "colors = {\n",
    "            'Lead': '#8000ff',\n",
    "            'Position': '#2b7ff6',\n",
    "            'Evidence': '#2adddd',\n",
    "            'Claim': '#80ffb4',\n",
    "            'Concluding Statement': 'd4dd80',\n",
    "            'Counterclaim': '#ff8042',\n",
    "            'Rebuttal': '#ff0000'\n",
    "         }\n",
    "options = {\"ents\": list(colors.keys()), \"colors\": colors}"
   ]
  },
  {
   "cell_type": "code",
   "execution_count": 8,
   "id": "6db29c97-5606-4e72-9e16-bddb3a22fc36",
   "metadata": {
    "ExecuteTime": {
     "end_time": "2022-02-23T14:55:14.526153Z",
     "start_time": "2022-02-23T14:55:14.516940Z"
    }
   },
   "outputs": [],
   "source": [
    "token_maps = dict(zip(colors, range(1, 2 * len(colors), 2)))"
   ]
  },
  {
   "cell_type": "code",
   "execution_count": 9,
   "id": "2dfe8093-d0b5-4a97-90d4-54105d39a7fb",
   "metadata": {
    "ExecuteTime": {
     "end_time": "2022-02-23T14:55:14.539781Z",
     "start_time": "2022-02-23T14:55:14.527238Z"
    }
   },
   "outputs": [
    {
     "data": {
      "text/plain": [
       "{'Lead': 1,\n",
       " 'Position': 3,\n",
       " 'Evidence': 5,\n",
       " 'Claim': 7,\n",
       " 'Concluding Statement': 9,\n",
       " 'Counterclaim': 11,\n",
       " 'Rebuttal': 13}"
      ]
     },
     "execution_count": 9,
     "metadata": {},
     "output_type": "execute_result"
    }
   ],
   "source": [
    "token_maps"
   ]
  },
  {
   "cell_type": "code",
   "execution_count": 10,
   "id": "86dbfeb2-73bc-4914-bc83-ac50e007276d",
   "metadata": {
    "ExecuteTime": {
     "end_time": "2022-02-23T14:55:14.550550Z",
     "start_time": "2022-02-23T14:55:14.540800Z"
    },
    "code_folding": []
   },
   "outputs": [],
   "source": [
    "def show_sample(ID):\n",
    "    \n",
    "    with open(f'../../../feedback-prize-2021/train/{ID}.txt') as f:\n",
    "        org_text = f.read()\n",
    "    \n",
    "    id_df = data.loc[data.id==ID].sort_values('discourse_start')\n",
    "    ents = []\n",
    "    pointer = 0\n",
    "    for _, row in id_df.iterrows():\n",
    "        \n",
    "        entity = row.discourse_text.strip()\n",
    "        starts_at = org_text[pointer:].index(entity) + pointer\n",
    "        \n",
    "        # something related to punkt? punctuation?\n",
    "        end = 0\n",
    "        start = 0\n",
    "        if starts_at + len(entity) < len(org_text) and punkt_re.match(org_text[starts_at + len(entity)]) is not None:\n",
    "            end = 1\n",
    "        if punkt_re.match(org_text[starts_at]) is not None:\n",
    "            start = 1\n",
    "        \n",
    "        ents.append({'start': starts_at + start, 'end': starts_at + len(entity) + end, 'label': row.discourse_type})\n",
    "        pointer = starts_at + len(entity)\n",
    "    \n",
    "    displacy.render({'text': org_text, 'ents': ents, 'title': ID}, style=\"ent\",\n",
    "                    options=options, manual=True, jupyter=True)"
   ]
  },
  {
   "cell_type": "code",
   "execution_count": 11,
   "id": "fac03bb6-d42a-4b4a-baea-fe447bf16f58",
   "metadata": {
    "ExecuteTime": {
     "end_time": "2022-02-23T14:55:14.565368Z",
     "start_time": "2022-02-23T14:55:14.551328Z"
    }
   },
   "outputs": [],
   "source": [
    "regexp = re.compile('[0-9a-zA-z]')"
   ]
  },
  {
   "cell_type": "code",
   "execution_count": 12,
   "id": "6d1df82e-4072-4632-8882-c35b3bfe4612",
   "metadata": {
    "ExecuteTime": {
     "end_time": "2022-02-23T14:55:14.582227Z",
     "start_time": "2022-02-23T14:55:14.566457Z"
    }
   },
   "outputs": [],
   "source": [
    "def make_more_targets(targets):\n",
    "    linkage = np.zeros((len(targets), 2), 'f4')\n",
    "    class_index = np.zeros((len(targets),), 'f4')\n",
    "    linkage_mask = np.ones((len(targets),), 'f4')\n",
    "    \n",
    "    current_target = -2\n",
    "    for ix in range(1, len(targets) - 1):\n",
    "        if ((current_target % 2 == 0 and current_target == targets[ix]) \n",
    "              or (targets[ix] == current_target + 1 and current_target % 2 == 1)):\n",
    "            linkage[ix - 1, 1] = 1\n",
    "            linkage[ix, 0] = 1\n",
    "        \n",
    "        current_target = targets[ix]\n",
    "        class_index[:] = [x // 2 for x in targets + 1]\n",
    "    \n",
    "    link_sums = (linkage * np.array([2, 1])).sum(-1).astype('i4')\n",
    "    \n",
    "    bi =  np.zeros((len(targets), 2), 'f4')\n",
    "    bi[link_sums < 2, 0] = 1\n",
    "    bi[link_sums >= 2, 1] = 1\n",
    "    \n",
    "    bio = np.array(bi)\n",
    "    bio[targets==0] = 0\n",
    "    \n",
    "    bies =  np.zeros((len(targets), 4), 'f4')\n",
    "    bies[:, :2] = bi\n",
    "    bies[link_sums == 0] = (0, 0, 0, 1)\n",
    "    bies[link_sums == 2] = (0, 0, 1, 0)\n",
    "    \n",
    "    bieso = np.array(bies)\n",
    "    bieso[targets==0] = 0\n",
    "    \n",
    "    return class_index, bi, bio, bies, bieso"
   ]
  },
  {
   "cell_type": "code",
   "execution_count": 13,
   "id": "1480d2c6-2c72-4f89-ad56-3a5ad1e80ff6",
   "metadata": {
    "ExecuteTime": {
     "end_time": "2022-02-23T14:55:14.597431Z",
     "start_time": "2022-02-23T14:55:14.583261Z"
    }
   },
   "outputs": [],
   "source": [
    "def combine_labels(class_index, bi, bio, bies, bieso):\n",
    "    \n",
    "    combined_bi = class_index * 2 + bi[:, 0]\n",
    "    combined_bies = class_index * 4 + bies @ np.array([0, 1, 2, 3])\n",
    "    \n",
    "    non_o_index = np.where(class_index != 0)[0]\n",
    "    \n",
    "    combined_bieso = np.array(class_index)\n",
    "    combined_bieso[non_o_index] = (class_index[non_o_index] - 1) * 4 + bieso[non_o_index] @ np.array([1, 2, 3, 4])\n",
    "    \n",
    "    combined_bio = np.array(class_index)\n",
    "    combined_bio[non_o_index] = (class_index[non_o_index] - 1) * 2 + bio[non_o_index] @ np.array([1, 2])\n",
    "    \n",
    "    return combined_bi, combined_bio, combined_bies, combined_bieso"
   ]
  },
  {
   "cell_type": "code",
   "execution_count": 14,
   "id": "cb2be59a-4984-4430-b17c-876efb691c89",
   "metadata": {
    "ExecuteTime": {
     "end_time": "2022-02-23T14:55:14.607723Z",
     "start_time": "2022-02-23T14:55:14.598695Z"
    }
   },
   "outputs": [],
   "source": [
    "import h5py"
   ]
  },
  {
   "cell_type": "code",
   "execution_count": 15,
   "id": "9de84cde-4841-4331-9153-bd069512e96c",
   "metadata": {
    "ExecuteTime": {
     "end_time": "2022-02-23T14:55:14.618812Z",
     "start_time": "2022-02-23T14:55:14.609800Z"
    }
   },
   "outputs": [],
   "source": [
    "data_file = h5py.File('../../deberta_spm_data_v2.h5py', 'w')"
   ]
  },
  {
   "cell_type": "code",
   "execution_count": 16,
   "id": "c8caa473-8da6-4df2-8465-89963371da1d",
   "metadata": {
    "ExecuteTime": {
     "end_time": "2022-02-23T14:55:14.660028Z",
     "start_time": "2022-02-23T14:55:14.619828Z"
    }
   },
   "outputs": [],
   "source": [
    "num_texts = len(glob('../../../feedback-prize-2021/train/*.txt')) + 1"
   ]
  },
  {
   "cell_type": "markdown",
   "id": "94b1466f",
   "metadata": {},
   "source": [
    "What is bi bio bies bieso??? cbi cbio cbies cbieso??"
   ]
  },
  {
   "cell_type": "code",
   "execution_count": 17,
   "id": "f4c1eebb-a629-45f1-86b2-35b240291816",
   "metadata": {
    "ExecuteTime": {
     "end_time": "2022-02-23T14:55:14.666648Z",
     "start_time": "2022-02-23T14:55:14.660910Z"
    }
   },
   "outputs": [],
   "source": [
    "tokens_dataset = data_file.create_dataset('tokens', (num_texts, 2048), 'i8')\n",
    "attention_masks_dataset = data_file.create_dataset('attention_masks', (num_texts, 2048), 'f4')\n",
    "token_offsets_dataset = data_file.create_dataset('token_offsets', (num_texts, 2048, 2), 'i4')\n",
    "class_labels_dataset = data_file.create_dataset('class_labels', (num_texts, 2048, 8), 'f4')\n",
    "num_tokens_dataset = data_file.create_dataset('num_tokens', (num_texts, 2048), 'i4')\n",
    "\n",
    "bi_labels_dataset = data_file.create_dataset('bi_labels', (num_texts, 2048, 2), 'f4')\n",
    "bio_labels_dataset = data_file.create_dataset('bio_labels', (num_texts, 2048, 2), 'f4')\n",
    "bies_labels_dataset = data_file.create_dataset('bies_labels', (num_texts, 2048, 4), 'f4')\n",
    "bieso_labels_dataset = data_file.create_dataset('bieso_labels', (num_texts, 2048, 4), 'f4')\n",
    "\n",
    "cbi_labels_dataset = data_file.create_dataset('cbi_labels', (num_texts, 2048, 16), 'f4')\n",
    "cbio_labels_dataset = data_file.create_dataset('cbio_labels', (num_texts, 2048, 15), 'f4')\n",
    "cbies_labels_dataset = data_file.create_dataset('cbies_labels', (num_texts, 2048, 32), 'f4')\n",
    "cbieso_labels_dataset = data_file.create_dataset('cbieso_labels', (num_texts, 2048, 29), 'f4')\n"
   ]
  },
  {
   "cell_type": "code",
   "execution_count": 18,
   "id": "40787e7b-e8f1-476c-b41b-9f00b6425f12",
   "metadata": {
    "ExecuteTime": {
     "end_time": "2022-02-23T14:55:14.937182Z",
     "start_time": "2022-02-23T14:55:14.667890Z"
    }
   },
   "outputs": [
    {
     "name": "stderr",
     "output_type": "stream",
     "text": [
      "100% 13/13 [00:00<00:00, 51.02it/s]\n"
     ]
    }
   ],
   "source": [
    "for dataset in tqdm((tokens_dataset, \n",
    "               attention_masks_dataset,\n",
    "               token_offsets_dataset,\n",
    "               class_labels_dataset,\n",
    "               num_tokens_dataset,\n",
    "               bi_labels_dataset,\n",
    "               bio_labels_dataset,\n",
    "               bies_labels_dataset,\n",
    "               bieso_labels_dataset,\n",
    "               cbi_labels_dataset,\n",
    "               cbio_labels_dataset,\n",
    "               cbies_labels_dataset,\n",
    "               cbieso_labels_dataset,)):\n",
    "    dataset[-1] = 0\n",
    "    \n"
   ]
  },
  {
   "cell_type": "code",
   "execution_count": 19,
   "id": "199be078-08bb-41c9-8f2e-60dda9020d15",
   "metadata": {
    "ExecuteTime": {
     "end_time": "2022-02-23T14:55:14.940542Z",
     "start_time": "2022-02-23T14:55:14.938143Z"
    }
   },
   "outputs": [],
   "source": [
    "def make_one_hot(indices, num_labels):\n",
    "    array = np.zeros((len(indices), num_labels))\n",
    "    array[np.arange(len(indices)), indices.astype('i4')] = 1\n",
    "    return array"
   ]
  },
  {
   "cell_type": "code",
   "execution_count": 20,
   "id": "1cd49631-e16e-4f43-8b15-0f56598b7a43",
   "metadata": {
    "ExecuteTime": {
     "end_time": "2022-02-23T14:55:15.047781Z",
     "start_time": "2022-02-23T14:55:14.941300Z"
    }
   },
   "outputs": [],
   "source": [
    "id_to_ix_map = {filename: ix for ix, filename in enumerate(glob('../../../feedback-prize-2021/train/*.txt'))}\n",
    "with open('../../id_to_ix_map.pickle', 'wb') as f:\n",
    "    import dill as pickle\n",
    "    pickle.dump(id_to_ix_map, f)"
   ]
  },
  {
   "cell_type": "code",
   "execution_count": 21,
   "id": "cd5047b6-a060-472a-86b0-0d743c46d1c6",
   "metadata": {
    "ExecuteTime": {
     "end_time": "2022-02-23T14:55:15.050634Z",
     "start_time": "2022-02-23T14:55:15.048683Z"
    }
   },
   "outputs": [],
   "source": [
    "# deverta3 newline tokens is gone?\n",
    "fix_text = lambda x: x.replace('\\n', '‽')"
   ]
  },
  {
   "cell_type": "code",
   "execution_count": 22,
   "id": "92d08f0a-0ea1-443c-a5f7-9a5cb02255a6",
   "metadata": {
    "ExecuteTime": {
     "end_time": "2022-02-23T14:55:15.067292Z",
     "start_time": "2022-02-23T14:55:15.051464Z"
    }
   },
   "outputs": [],
   "source": [
    "from collections import Counter"
   ]
  },
  {
   "cell_type": "raw",
   "id": "597f9dcb",
   "metadata": {},
   "source": [
    "def make_offset_map(raw_tokens, input_ids, text):\n",
    "    offset_mapping = [(0,0)]\n",
    "    current_pos = -1\n",
    "    for x in raw_tokens:\n",
    "        token_len = len(x)\n",
    "        token_offsets = (max(0, current_pos), current_pos + token_len)\n",
    "        current_pos += token_len\n",
    "        offset_mapping.append(token_offsets)\n",
    "        assert text[:offset_mapping[-1][1]] == tokenizer.decode(input_ids[:len(offset_mapping)])\n",
    "    offset_mapping.append((0,0))\n",
    "    return offset_mapping"
   ]
  },
  {
   "cell_type": "raw",
   "id": "94e716aa-d7a5-4078-84d5-733328f70559",
   "metadata": {},
   "source": [
    "import ftfy\n",
    "\n",
    "def fix_text(text):\n",
    "    return ftfy.fix_text(text).translate(str.maketrans({'\\xad': '-', '`': '\\'',\n",
    "                                                          '´': '\\'', '¨': '\"',\n",
    "                                                        '\\xa0': ' '}))"
   ]
  },
  {
   "cell_type": "code",
   "execution_count": 23,
   "id": "cd9baa22-0a46-4e0d-9072-9bf2adf327d6",
   "metadata": {
    "ExecuteTime": {
     "end_time": "2022-02-23T14:55:15.077738Z",
     "start_time": "2022-02-23T14:55:15.068407Z"
    }
   },
   "outputs": [],
   "source": [
    "broken_indices = []"
   ]
  },
  {
   "cell_type": "code",
   "execution_count": null,
   "id": "01a29de6-79d0-4d03-b756-a629f75e7bdc",
   "metadata": {
    "ExecuteTime": {
     "start_time": "2022-02-23T14:55:04.010Z"
    },
    "tags": []
   },
   "outputs": [
    {
     "name": "stderr",
     "output_type": "stream",
     "text": [
      "  1% 100/15594 [00:30<1:11:54,  3.59it/s]"
     ]
    },
    {
     "name": "stdout",
     "output_type": "stream",
     "text": [
      "cut entity  100 C87505F8CC28\n"
     ]
    },
    {
     "name": "stderr",
     "output_type": "stream",
     "text": [
      "  1% 172/15594 [00:52<1:16:24,  3.36it/s]"
     ]
    },
    {
     "name": "stdout",
     "output_type": "stream",
     "text": [
      "cut entity  172 280D13EB16F0\n"
     ]
    },
    {
     "name": "stderr",
     "output_type": "stream",
     "text": [
      "  1% 180/15594 [00:54<1:18:09,  3.29it/s]"
     ]
    }
   ],
   "source": [
    "id_to_ix_map = {}\n",
    "for filename_ix, filename in tqdm(enumerate(glob('../../../feedback-prize-2021/train/*.txt')), total = num_texts - 1):\n",
    "    \n",
    "    ID = filename.split('/')[-1].split('.')[0]\n",
    "    with open(filename) as f:\n",
    "        text = fix_text(f.read().strip())\n",
    "    \n",
    "    tokenizer_outs = tokenizer(text, return_offsets_mapping=True)\n",
    "    tokenizer_outs['input_ids'] = [x if x != 126861 else 128000 for x in tokenizer_outs['input_ids']]\n",
    "    id_df = data.loc[data.id==ID].sort_values('discourse_start')\n",
    "    \n",
    "    ent_boundaries = []\n",
    "    pointer = 0\n",
    "    for row_id, row in id_df.iterrows():\n",
    "        entity_text = fix_text(row.discourse_text.strip())\n",
    "        entity_text = entity_text[next(regexp.finditer(entity_text)).start():]\n",
    "        \n",
    "        if len(entity_text.split()[0]) == 1 and pointer != 0:\n",
    "            entity_start_ix = text[pointer:].index(entity_text)\n",
    "            prev_text = text[:pointer + entity_start_ix]\n",
    "            \n",
    "            if pointer + entity_start_ix > 0 and prev_text[-1].isalpha():\n",
    "                broken_indices.append((filename_ix, ID))\n",
    "                print('cut entity ', filename_ix, ID)\n",
    "                cut_word_chunk_size = len(prev_text.split()[-1])\n",
    "                \n",
    "                if cut_word_chunk_size > 1:\n",
    "                    entity_text = entity_text[next(regexp.finditer(entity_text[1:])).start() + 1]\n",
    "\n",
    "        if row.discourse_id in (1620147556527.0, 1622983056026.0):\n",
    "            pointer += 10\n",
    "        offset = text[pointer:].index(entity_text)\n",
    "        starts_at = offset + pointer\n",
    "        ent_boundaries.append((starts_at, starts_at + len(entity_text), row.discourse_type))\n",
    "        pointer = starts_at + len(entity_text)\n",
    "\n",
    "    all_boundaries = [(z, x[-1], t) for x in ent_boundaries for z, t in zip(x[:2], ('start', 'end'))]\n",
    "    current_target = 0\n",
    "    targets = np.zeros(len(tokenizer_outs['input_ids']), 'i8')\n",
    "    token_positions = np.vstack(tokenizer_outs['offset_mapping']).astype('i4')\n",
    "    \n",
    "    for token_ix in range(len(tokenizer_outs['input_ids'])):\n",
    "        token_start_ix, token_end_ix = tokenizer_outs['offset_mapping'][token_ix]\n",
    "        \n",
    "        if token_end_ix != 0 and (all_boundaries[0][2] == 'end' and token_end_ix >= all_boundaries[0][0])\\\n",
    "                            or (all_boundaries[0][2] == 'start' and token_end_ix > all_boundaries[0][0]):\n",
    "            if all_boundaries[0][2] == 'start':\n",
    "                current_target = token_maps[all_boundaries[0][1]]\n",
    "                targets[token_ix] = current_target\n",
    "                if token_end_ix == all_boundaries[1][0]:\n",
    "                    current_target = 0\n",
    "                    all_boundaries.pop(0)\n",
    "                else:\n",
    "                    current_target += 1\n",
    "            else:\n",
    "                if len(all_boundaries) > 1 and token_end_ix > all_boundaries[1][0]:\n",
    "                    if token_start_ix >= all_boundaries[1][0]:\n",
    "                        assert text[all_boundaries[0][0] - 1] == '¨'\n",
    "                    all_boundaries.pop(0)\n",
    "                    current_target = token_maps[all_boundaries[0][1]]\n",
    "                    targets[token_ix] = current_target\n",
    "                    current_target += 1\n",
    "                else:\n",
    "                    if token_start_ix >= all_boundaries[0][0]:\n",
    "                        current_target = 0\n",
    "                    targets[token_ix] = current_target\n",
    "                    current_target = 0\n",
    "            all_boundaries.pop(0)\n",
    "            if not all_boundaries:\n",
    "                break\n",
    "        else:\n",
    "            targets[token_ix] = current_target\n",
    "    class_index, bi, bio, bies, bieso = make_more_targets(targets)\n",
    "    combined_bi, combined_bio, combined_bies, combined_bieso = combine_labels(class_index, bi, bio, bies, bieso)\n",
    "    assert (combined_bio[1:-1] == targets[1:-1]).all()\n",
    "    num_tokens = len(targets)\n",
    "    \n",
    "    tokens_dataset[filename_ix, :num_tokens] = tokenizer_outs['input_ids']\n",
    "    tokens_dataset[filename_ix, num_tokens:] = 0\n",
    "    attention_masks_dataset[filename_ix, :num_tokens] = tokenizer_outs['attention_mask']\n",
    "    attention_masks_dataset[filename_ix, num_tokens:] = 0\n",
    "    token_offsets_dataset[filename_ix, :num_tokens] = token_positions\n",
    "    token_offsets_dataset[filename_ix, num_tokens:] = 0\n",
    "    class_labels_dataset[filename_ix, :num_tokens] = make_one_hot(class_index, 8)\n",
    "    class_labels_dataset[filename_ix, num_tokens:] = 0\n",
    "    num_tokens_dataset[filename_ix] = num_tokens\n",
    "    bi_labels_dataset[filename_ix, :num_tokens] = bi\n",
    "    bi_labels_dataset[filename_ix, num_tokens:] = 0\n",
    "    bio_labels_dataset[filename_ix, :num_tokens] = bio\n",
    "    bio_labels_dataset[filename_ix, num_tokens:] = 0\n",
    "    bies_labels_dataset[filename_ix, :num_tokens] = bies\n",
    "    bies_labels_dataset[filename_ix, num_tokens:] = 0\n",
    "    bieso_labels_dataset[filename_ix, :num_tokens] = bieso\n",
    "    bieso_labels_dataset[filename_ix, num_tokens:] = 0\n",
    "    cbi_labels_dataset[filename_ix, :num_tokens] = make_one_hot(combined_bi, 16)\n",
    "    cbi_labels_dataset[filename_ix, num_tokens:] = 0\n",
    "    cbio_labels_dataset[filename_ix, :num_tokens] = make_one_hot(combined_bio, 15)\n",
    "    cbio_labels_dataset[filename_ix, num_tokens:] = 0\n",
    "    cbies_labels_dataset[filename_ix, :num_tokens] = make_one_hot(combined_bies, 32)\n",
    "    cbies_labels_dataset[filename_ix, num_tokens:] = 0\n",
    "    cbieso_labels_dataset[filename_ix, :num_tokens] = make_one_hot(combined_bieso, 29)\n",
    "    cbieso_labels_dataset[filename_ix, num_tokens:] = 0\n",
    "                                                                "
   ]
  },
  {
   "cell_type": "code",
   "execution_count": null,
   "id": "916d7ac7-0271-4b50-b038-7b4011d337bf",
   "metadata": {
    "ExecuteTime": {
     "start_time": "2022-02-23T14:55:04.010Z"
    }
   },
   "outputs": [],
   "source": [
    "data_file.close()"
   ]
  }
 ],
 "metadata": {
  "kernelspec": {
   "display_name": "Python 3 (ipykernel)",
   "language": "python",
   "name": "python3"
  },
  "language_info": {
   "codemirror_mode": {
    "name": "ipython",
    "version": 3
   },
   "file_extension": ".py",
   "mimetype": "text/x-python",
   "name": "python",
   "nbconvert_exporter": "python",
   "pygments_lexer": "ipython3",
   "version": "3.7.12"
  },
  "toc": {
   "base_numbering": 1,
   "nav_menu": {},
   "number_sections": true,
   "sideBar": true,
   "skip_h1_title": false,
   "title_cell": "Table of Contents",
   "title_sidebar": "Contents",
   "toc_cell": false,
   "toc_position": {},
   "toc_section_display": true,
   "toc_window_display": false
  }
 },
 "nbformat": 4,
 "nbformat_minor": 5
}
