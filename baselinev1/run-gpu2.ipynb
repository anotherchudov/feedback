{
 "cells": [
  {
   "cell_type": "markdown",
   "id": "61afee34",
   "metadata": {},
   "source": [
    "# run training\n",
    "\n",
    "> notebook to run the `train.py` file"
   ]
  },
  {
   "cell_type": "code",
   "execution_count": 3,
   "id": "4f259f5d",
   "metadata": {
    "ExecuteTime": {
     "end_time": "2022-02-26T02:58:00.112394Z",
     "start_time": "2022-02-26T02:58:00.108480Z"
    }
   },
   "outputs": [],
   "source": [
    "install_pytorch = False\n",
    "if install_pytorch:\n",
    "    !pip install torch==1.8.1+cu111 torchvision==0.9.1+cu111 torchaudio===0.8.1 -f https://download.pytorch.org/whl/torch_stable.html"
   ]
  },
  {
   "cell_type": "markdown",
   "id": "93c8c22e",
   "metadata": {},
   "source": [
    "## Single GPU\n"
   ]
  },
  {
   "cell_type": "markdown",
   "id": "b0cc6185",
   "metadata": {},
   "source": [
    "Currently used for saving cache"
   ]
  },
  {
   "cell_type": "code",
   "execution_count": null,
   "id": "f821dd32",
   "metadata": {
    "ExecuteTime": {
     "start_time": "2022-03-08T02:51:42.730Z"
    }
   },
   "outputs": [
    {
     "name": "stdout",
     "output_type": "stream",
     "text": [
      "\u001b[34m\u001b[1mwandb\u001b[0m: Currently logged in as: \u001b[33mducky\u001b[0m (use `wandb login --relogin` to force relogin)\n",
      "\u001b[34m\u001b[1mwandb\u001b[0m: wandb version 0.12.11 is available!  To upgrade, please run:\n",
      "\u001b[34m\u001b[1mwandb\u001b[0m:  $ pip install wandb --upgrade\n",
      "\u001b[34m\u001b[1mwandb\u001b[0m: Tracking run with wandb version 0.12.10\n",
      "\u001b[34m\u001b[1mwandb\u001b[0m: Syncing run \u001b[33msolar-firebrand-201\u001b[0m\n",
      "\u001b[34m\u001b[1mwandb\u001b[0m: ⭐️ View project at \u001b[34m\u001b[4mhttps://wandb.ai/ducky/feedback_deberta_large\u001b[0m\n",
      "\u001b[34m\u001b[1mwandb\u001b[0m: 🚀 View run at \u001b[34m\u001b[4mhttps://wandb.ai/ducky/feedback_deberta_large/runs/1qolihow\u001b[0m\n",
      "\u001b[34m\u001b[1mwandb\u001b[0m: Run data is saved locally in /home/feedback/working/feedback_ducky/baselinev1/wandb/run-20220308_025151-1qolihow\n",
      "\u001b[34m\u001b[1mwandb\u001b[0m: Run `wandb offline` to turn off syncing.\n",
      "\n",
      "\n",
      "Using Ducky Modified DebertaV2\n",
      "\n",
      "Some weights of the model checkpoint at microsoft/deberta-v3-large were not used when initializing DebertaV2Model: ['mask_predictions.classifier.bias', 'lm_predictions.lm_head.bias', 'lm_predictions.lm_head.dense.bias', 'lm_predictions.lm_head.LayerNorm.weight', 'mask_predictions.LayerNorm.weight', 'mask_predictions.LayerNorm.bias', 'lm_predictions.lm_head.dense.weight', 'mask_predictions.classifier.weight', 'mask_predictions.dense.bias', 'lm_predictions.lm_head.LayerNorm.bias', 'mask_predictions.dense.weight']\n",
      "- This IS expected if you are initializing DebertaV2Model from the checkpoint of a model trained on another task or with another architecture (e.g. initializing a BertForSequenceClassification model from a BertForPreTraining model).\n",
      "- This IS NOT expected if you are initializing DebertaV2Model from the checkpoint of a model that you expect to be exactly identical (initializing a BertForSequenceClassification model from a BertForSequenceClassification model).\n",
      "Namespace(back_translation=False, batch_size=4, ce_weight=0.9, cnn1d=False, criterion_list=['custom_ce'], criterion_ratio=[1.0], cycle_mult=1.0, data_prefix='', dataset_path='../../feedback-prize-2021', dataset_version=2, ddp=False, decay_bias=False, device=device(type='cuda', index=1), dropout_ratio=0.0, epochs=9, extra_dense=False, gamma=0.9, grad_acc_steps=1, grad_checkpt=True, grammer_correction=False, label_smoothing=0.1, local_rank=-1, lr=1e-05, max_grad_norm=1.0, min_len=0, min_lr=1e-06, model='microsoft/deberta-v3-large-ducky', momentum=0.9, nesterov=True, noise_injection=False, noise_injection_prob=0.5, num_worker=8, online_dataset=False, optimizer='radam', print_f1_per_step=500, random_deletion=False, random_deletion_prob=0.5, random_deletion_ratio=0.1, random_insertion=False, random_insertion_prob=0.5, rank=-1, rce_weight=0.1, save_cache=False, save_cache_dir='augmentation', save_path='result', scheduler='plateau', seed=0, start_eval_at=0, steps_per_epoch=3114, swa=True, swa_start_ratio=0.1, swa_update_per_epoch=100, swap_order=False, swap_order_prob=0.5, synonym_replacement=False, synonym_replacement_prob=0.5, text_aug_min_len=15, use_groupped_weights=False, val_fold=0, wandb=True, wandb_comment='swa_ce_swa100_radam', wandb_project='feedback_deberta_large', wandb_user='ducky', warmup_steps=500, weight_decay=0.01, weights_pow=0.1, word2vec=False, word2vec_prob=0.5)\n",
      "[ SWA ] - Applied from 2 epochs\n",
      "[ TRAIN ] epoch 1 lr 0.0000100 loss:  1.1972: 100%|█| 3114/3114 [52:39<00:00,  1\n",
      "100%|█████████████████████████████████████████| 785/785 [03:01<00:00,  4.33it/s]\n",
      "Currenlty on [ bug ] version\n",
      "Predicted match stats: {1: {'fp': 508, 'fn': 332, 'tp': 1535}, 2: {'fp': 1087, 'fn': 1035, 'tp': 2074}, 3: {'fp': 3043, 'fn': 2762, 'tp': 6471}, 4: {'fp': 5099, 'fn': 3712, 'tp': 6365}, 5: {'fp': 1020, 'fn': 359, 'tp': 2363}, 6: {'fp': 468, 'fn': 676, 'tp': 512}, 7: {'fp': 287, 'fn': 612, 'tp': 256}}\n",
      "\n",
      "Currenlty on [ clean ] version\n",
      "Predicted match stats: {1: {'fp': 513, 'fn': 337, 'tp': 1530}, 2: {'fp': 1103, 'fn': 1051, 'tp': 2058}, 3: {'fp': 3291, 'fn': 3010, 'tp': 6223}, 4: {'fp': 5656, 'fn': 4269, 'tp': 5808}, 5: {'fp': 1143, 'fn': 482, 'tp': 2240}, 6: {'fp': 428, 'fn': 636, 'tp': 552}, 7: {'fp': 320, 'fn': 645, 'tp': 223}}\n",
      "\n",
      "Currenlty on [ wonho ] version\n",
      "Predicted match stats: {1: {'fp': 500, 'fn': 316, 'tp': 1551}, 2: {'fp': 1046, 'fn': 1029, 'tp': 2080}, 3: {'fp': 3468, 'fn': 2517, 'tp': 6716}, 4: {'fp': 5332, 'fn': 3980, 'tp': 6097}, 5: {'fp': 1132, 'fn': 331, 'tp': 2391}, 6: {'fp': 421, 'fn': 631, 'tp': 557}, 7: {'fp': 303, 'fn': 637, 'tp': 231}}\n",
      "\n",
      "--------------------------------------------------\n",
      "Validation [ Bug ] 0.6196218963356566\n",
      "Validation [ Clean ] 0.600192764758688\n",
      "Validation [ Wonho ] 0.6181821698232683\n",
      "  0%|                                                  | 0/3114 [00:00<?, ?it/s]--------------------\n",
      "[ SWA ] - First update of the SWA model\n",
      "--------------------\n",
      "[ TRAIN ] epoch 2 lr 0.0000100 loss:  1.0160:  43%|▍| 1346/3114 [22:44<28:04,  1"
     ]
    }
   ],
   "source": [
    "!python train.py --device 1 --wandb --wandb_comment \"swa_ce_swa100_radam\" --optimizer radam --lr 1e-5 --swa --swa_update_per_epoch 100"
   ]
  },
  {
   "cell_type": "code",
   "execution_count": null,
   "id": "cd877a70",
   "metadata": {
    "ExecuteTime": {
     "start_time": "2022-03-07T17:28:21.512Z"
    }
   },
   "outputs": [],
   "source": [
    "!python train.py --device 2  --wandb --wandb_comment \"swa_ce_swa100_lamb\" --online --optimizer lamb --lr 1e-5 --swa --swa_update_per_epoch 100"
   ]
  }
 ],
 "metadata": {
  "kernelspec": {
   "display_name": "Python 3 (ipykernel)",
   "language": "python",
   "name": "python3"
  },
  "language_info": {
   "codemirror_mode": {
    "name": "ipython",
    "version": 3
   },
   "file_extension": ".py",
   "mimetype": "text/x-python",
   "name": "python",
   "nbconvert_exporter": "python",
   "pygments_lexer": "ipython3",
   "version": "3.7.12"
  },
  "toc": {
   "base_numbering": 1,
   "nav_menu": {},
   "number_sections": false,
   "sideBar": true,
   "skip_h1_title": false,
   "title_cell": "Table of Contents",
   "title_sidebar": "Contents",
   "toc_cell": false,
   "toc_position": {
    "height": "calc(100% - 180px)",
    "left": "10px",
    "top": "150px",
    "width": "282.242px"
   },
   "toc_section_display": true,
   "toc_window_display": true
  }
 },
 "nbformat": 4,
 "nbformat_minor": 5
}
