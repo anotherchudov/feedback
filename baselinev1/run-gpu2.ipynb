{
 "cells": [
  {
   "cell_type": "markdown",
   "id": "61afee34",
   "metadata": {},
   "source": [
    "# run training\n",
    "\n",
    "> notebook to run the `train.py` file"
   ]
  },
  {
   "cell_type": "code",
   "execution_count": 3,
   "id": "4f259f5d",
   "metadata": {
    "ExecuteTime": {
     "end_time": "2022-02-26T02:58:00.112394Z",
     "start_time": "2022-02-26T02:58:00.108480Z"
    }
   },
   "outputs": [],
   "source": [
    "install_pytorch = False\n",
    "if install_pytorch:\n",
    "    !pip install torch==1.8.1+cu111 torchvision==0.9.1+cu111 torchaudio===0.8.1 -f https://download.pytorch.org/whl/torch_stable.html"
   ]
  },
  {
   "cell_type": "markdown",
   "id": "93c8c22e",
   "metadata": {},
   "source": [
    "## Single GPU\n"
   ]
  },
  {
   "cell_type": "markdown",
   "id": "d8c18eec",
   "metadata": {},
   "source": [
    "Currently used for saving cache"
   ]
  },
  {
   "cell_type": "code",
   "execution_count": null,
   "id": "95f01541",
   "metadata": {},
   "outputs": [],
   "source": [
    "!python train.py --device 3 --wandb --wandb_comment \"swa_ce_swa100_online_synonyms_replacement\" --online --synonym_replacement --save_cache --swa --swa_update_per_epoch 100 "
   ]
  },
  {
   "cell_type": "code",
   "execution_count": null,
   "id": "80571bec",
   "metadata": {
    "ExecuteTime": {
     "start_time": "2022-03-07T12:21:59.883Z"
    },
    "scrolled": false
   },
   "outputs": [
    {
     "name": "stdout",
     "output_type": "stream",
     "text": [
      "\u001b[34m\u001b[1mwandb\u001b[0m: Currently logged in as: \u001b[33mducky\u001b[0m (use `wandb login --relogin` to force relogin)\n",
      "\u001b[34m\u001b[1mwandb\u001b[0m: wandb version 0.12.11 is available!  To upgrade, please run:\n",
      "\u001b[34m\u001b[1mwandb\u001b[0m:  $ pip install wandb --upgrade\n",
      "\u001b[34m\u001b[1mwandb\u001b[0m: Tracking run with wandb version 0.12.10\n",
      "\u001b[34m\u001b[1mwandb\u001b[0m: Syncing run \u001b[33mtreasured-cloud-174\u001b[0m\n",
      "\u001b[34m\u001b[1mwandb\u001b[0m: ⭐️ View project at \u001b[34m\u001b[4mhttps://wandb.ai/ducky/feedback_deberta_large\u001b[0m\n",
      "\u001b[34m\u001b[1mwandb\u001b[0m: 🚀 View run at \u001b[34m\u001b[4mhttps://wandb.ai/ducky/feedback_deberta_large/runs/1ixe13bd\u001b[0m\n",
      "\u001b[34m\u001b[1mwandb\u001b[0m: Run data is saved locally in /home/feedback/working/feedback_ducky/baselinev1/wandb/run-20220307_122209-1ixe13bd\n",
      "\u001b[34m\u001b[1mwandb\u001b[0m: Run `wandb offline` to turn off syncing.\n",
      "\n",
      "[ Text Augmenter ] Initializing\n",
      "[ Text Augmenter ] EDA - Easy Data Augmentation model\n",
      "[ Text Augmenter ] Initializing tokenizer...\n",
      "Special tokens have been added in the vocabulary, make sure the associated word embeddings are fine-tuned or trained.\n",
      "Special tokens have been added in the vocabulary, make sure the associated word embeddings are fine-tuned or trained.\n",
      "[ Text Augmenter ] Initializing data...\n",
      "100%|████████████████████████████████████| 12454/12454 [00:48<00:00, 257.94it/s]\n",
      "\n",
      "Using Ducky Modified DebertaV2\n",
      "\n",
      "Some weights of the model checkpoint at microsoft/deberta-v3-large were not used when initializing DebertaV2Model: ['mask_predictions.dense.weight', 'mask_predictions.classifier.weight', 'lm_predictions.lm_head.dense.weight', 'mask_predictions.LayerNorm.weight', 'lm_predictions.lm_head.LayerNorm.bias', 'lm_predictions.lm_head.bias', 'lm_predictions.lm_head.LayerNorm.weight', 'mask_predictions.LayerNorm.bias', 'mask_predictions.classifier.bias', 'lm_predictions.lm_head.dense.bias', 'mask_predictions.dense.bias']\n",
      "- This IS expected if you are initializing DebertaV2Model from the checkpoint of a model trained on another task or with another architecture (e.g. initializing a BertForSequenceClassification model from a BertForPreTraining model).\n",
      "- This IS NOT expected if you are initializing DebertaV2Model from the checkpoint of a model that you expect to be exactly identical (initializing a BertForSequenceClassification model from a BertForSequenceClassification model).\n",
      "Namespace(back_translation=False, batch_size=4, ce_weight=0.9, cnn1d=False, criterion_list=['custom_ce'], criterion_ratio=[1.0], cycle_mult=1.0, data_prefix='', dataset_path='../../feedback-prize-2021', dataset_version=2, ddp=False, decay_bias=False, device=device(type='cuda', index=2), dropout_ratio=0.0, epochs=9, extra_dense=False, gamma=0.9, grad_acc_steps=1, grad_checkpt=True, grammer_correction=False, label_smoothing=0.1, local_rank=-1, lr=1e-05, max_grad_norm=1.0, min_len=0, min_lr=1e-06, model='microsoft/deberta-v3-large-ducky', momentum=0.9, nesterov=True, noise_injection=False, num_worker=8, online_dataset=True, optimizer='adamw', print_f1_per_step=500, random_deletion=False, random_deletion_prob=0.5, random_deletion_ratio=0.1, random_insertion=True, random_insertion_prob=0.5, rank=-1, rce_weight=0.1, save_cache=True, save_cache_dir='augmentation', save_path='result', scheduler='plateau', seed=0, start_eval_at=0, steps_per_epoch=3114, swa=True, swa_start_ratio=0.1, swa_update_per_epoch=100, swap_order=False, swap_order_prob=0.5, synonym_replacement=False, synonym_replacement_prob=0.5, text_aug_min_len=15, use_groupped_weights=False, val_fold=0, wandb=True, wandb_comment='swa_ce_swa100_online_random_insertion', wandb_project='feedback_deberta_large', wandb_user='ducky', warmup_steps=500, weight_decay=0.01, weights_pow=0.1, word2vec=False, word2vec_prob=0.5)\n",
      "[ SWA ] - Applied from 2 epochs\n",
      "[ TRAIN ] epoch 1 lr 0.0000100 loss:  1.0780: 100%|█| 3114/3114 [44:24<00:00,  1\n",
      "100%|█████████████████████████████████████████| 785/785 [02:12<00:00,  5.91it/s]\n",
      "Currenlty on [ bug ] version\n",
      "Predicted match stats: {1: {'fp': 456, 'fn': 348, 'tp': 1519}, 2: {'fp': 829, 'fn': 1147, 'tp': 1962}, 3: {'fp': 2424, 'fn': 2860, 'tp': 6373}, 4: {'fp': 4031, 'fn': 4094, 'tp': 5983}, 5: {'fp': 778, 'fn': 429, 'tp': 2293}, 6: {'fp': 385, 'fn': 671, 'tp': 517}, 7: {'fp': 307, 'fn': 590, 'tp': 278}}\n",
      "\n",
      "Currenlty on [ clean ] version\n",
      "Predicted match stats: {1: {'fp': 441, 'fn': 333, 'tp': 1534}, 2: {'fp': 820, 'fn': 1138, 'tp': 1971}, 3: {'fp': 2669, 'fn': 3105, 'tp': 6128}, 4: {'fp': 4383, 'fn': 4446, 'tp': 5631}, 5: {'fp': 889, 'fn': 540, 'tp': 2182}, 6: {'fp': 394, 'fn': 680, 'tp': 508}, 7: {'fp': 346, 'fn': 629, 'tp': 239}}\n",
      "\n",
      "Currenlty on [ wonho ] version\n",
      "Predicted match stats: {1: {'fp': 438, 'fn': 327, 'tp': 1540}, 2: {'fp': 775, 'fn': 1134, 'tp': 1975}, 3: {'fp': 2838, 'fn': 2517, 'tp': 6716}, 4: {'fp': 3997, 'fn': 4217, 'tp': 5860}, 5: {'fp': 864, 'fn': 398, 'tp': 2324}, 6: {'fp': 372, 'fn': 679, 'tp': 509}, 7: {'fp': 319, 'fn': 627, 'tp': 241}}\n",
      "\n",
      "--------------------------------------------------\n",
      "Validation [ Bug ] 0.6324828852451135\n",
      "Validation [ Clean ] 0.6107721991813551\n",
      "Validation [ Wonho ] 0.627734748163362\n",
      "  0%|                                                  | 0/3114 [00:00<?, ?it/s]--------------------\n",
      "[ SWA ] - First update of the SWA model\n",
      "--------------------\n",
      "[ TRAIN ] epoch 2 lr 0.0000100 loss:  0.9346: 100%|█| 3114/3114 [44:36<00:00,  1\n",
      "100%|█████████████████████████████████████████| 785/785 [02:12<00:00,  5.91it/s]\n",
      "Currenlty on [ bug ] version\n",
      "Predicted match stats: {1: {'fp': 424, 'fn': 285, 'tp': 1582}, 2: {'fp': 1042, 'fn': 945, 'tp': 2164}, 3: {'fp': 2046, 'fn': 2841, 'tp': 6392}, 4: {'fp': 3585, 'fn': 4082, 'tp': 5995}, 5: {'fp': 702, 'fn': 388, 'tp': 2334}, 6: {'fp': 424, 'fn': 582, 'tp': 606}, 7: {'fp': 441, 'fn': 514, 'tp': 354}}\n",
      "\n",
      "Currenlty on [ clean ] version\n",
      "Predicted match stats: {1: {'fp': 436, 'fn': 297, 'tp': 1570}, 2: {'fp': 1034, 'fn': 937, 'tp': 2172}, 3: {'fp': 2262, 'fn': 3057, 'tp': 6176}, 4: {'fp': 3966, 'fn': 4463, 'tp': 5614}, 5: {'fp': 756, 'fn': 442, 'tp': 2280}, 6: {'fp': 432, 'fn': 590, 'tp': 598}, 7: {'fp': 448, 'fn': 521, 'tp': 347}}\n",
      "\n",
      "Currenlty on [ wonho ] version\n",
      "Predicted match stats: {1: {'fp': 429, 'fn': 282, 'tp': 1585}, 2: {'fp': 981, 'fn': 903, 'tp': 2206}, 3: {'fp': 2404, 'fn': 2562, 'tp': 6671}, 4: {'fp': 3600, 'fn': 4242, 'tp': 5835}, 5: {'fp': 779, 'fn': 350, 'tp': 2372}, 6: {'fp': 410, 'fn': 586, 'tp': 602}, 7: {'fp': 426, 'fn': 519, 'tp': 349}}\n",
      "\n",
      "--------------------------------------------------\n",
      "Validation [ Bug ] 0.6597955918599157\n",
      "Validation [ Clean ] 0.6453293794984081\n",
      "Validation [ Wonho ] 0.6606111167410075\n",
      "[ TRAIN ] epoch 3 lr 0.0000100 loss:  0.8857:   8%| | 241/3114 [04:00<33:54,  1."
     ]
    }
   ],
   "source": [
    "!python train.py --device 2 --wandb --wandb_comment \"swa_ce_swa100_online_random_insertion\" --online --random_insertion --save_cache --swa --swa_update_per_epoch 100 "
   ]
  }
 ],
 "metadata": {
  "kernelspec": {
   "display_name": "Python 3 (ipykernel)",
   "language": "python",
   "name": "python3"
  },
  "language_info": {
   "codemirror_mode": {
    "name": "ipython",
    "version": 3
   },
   "file_extension": ".py",
   "mimetype": "text/x-python",
   "name": "python",
   "nbconvert_exporter": "python",
   "pygments_lexer": "ipython3",
   "version": "3.7.12"
  },
  "toc": {
   "base_numbering": 1,
   "nav_menu": {},
   "number_sections": false,
   "sideBar": true,
   "skip_h1_title": false,
   "title_cell": "Table of Contents",
   "title_sidebar": "Contents",
   "toc_cell": false,
   "toc_position": {
    "height": "calc(100% - 180px)",
    "left": "10px",
    "top": "150px",
    "width": "282.242px"
   },
   "toc_section_display": true,
   "toc_window_display": true
  }
 },
 "nbformat": 4,
 "nbformat_minor": 5
}
