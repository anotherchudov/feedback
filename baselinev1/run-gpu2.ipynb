{
 "cells": [
  {
   "cell_type": "markdown",
   "id": "61afee34",
   "metadata": {},
   "source": [
    "# run training\n",
    "\n",
    "> notebook to run the `train.py` file"
   ]
  },
  {
   "cell_type": "code",
   "execution_count": 3,
   "id": "4f259f5d",
   "metadata": {
    "ExecuteTime": {
     "end_time": "2022-02-26T02:58:00.112394Z",
     "start_time": "2022-02-26T02:58:00.108480Z"
    }
   },
   "outputs": [],
   "source": [
    "install_pytorch = False\n",
    "if install_pytorch:\n",
    "    !pip install torch==1.8.1+cu111 torchvision==0.9.1+cu111 torchaudio===0.8.1 -f https://download.pytorch.org/whl/torch_stable.html"
   ]
  },
  {
   "cell_type": "markdown",
   "id": "93c8c22e",
   "metadata": {},
   "source": [
    "## Single GPU\n"
   ]
  },
  {
   "cell_type": "markdown",
   "id": "e47c8949",
   "metadata": {},
   "source": [
    "Currently used for saving cache"
   ]
  },
  {
   "cell_type": "code",
   "execution_count": 2,
   "id": "80571bec",
   "metadata": {
    "ExecuteTime": {
     "end_time": "2022-03-07T08:30:48.214534Z",
     "start_time": "2022-03-07T08:30:37.247870Z"
    },
    "scrolled": false
   },
   "outputs": [
    {
     "name": "stdout",
     "output_type": "stream",
     "text": [
      "^C\r\n",
      "Traceback (most recent call last):\r\n",
      "  File \"train.py\", line 186, in <module>\r\n",
      "    all_texts, token_weights, data, csv, train_ids, val_ids, train_text_ids, val_text_ids = get_data_files(args)\r\n",
      "  File \"/home/feedback/working/feedback_ducky/baselinev1/module/utils.py\", line 54, in get_data_files\r\n",
      "    all_texts = get_all_texts(args)\r\n",
      "  File \"/home/feedback/working/feedback_ducky/baselinev1/module/utils.py\", line 45, in get_all_texts\r\n",
      "    with open(text_file) as f:\r\n",
      "  File \"/opt/conda/lib/python3.7/_bootlocale.py\", line 33, in getpreferredencoding\r\n",
      "    def getpreferredencoding(do_setlocale=True):\r\n",
      "KeyboardInterrupt\r\n"
     ]
    }
   ],
   "source": [
    "!python train.py --device 2 --wandb_comment \"swa_ce_rce_swa100_online_word2vec\" --num_worker 0 --online --word2vec --word2vec_prob 1.0 --save_cache --swa --swa_update_per_epoch 100 "
   ]
  }
 ],
 "metadata": {
  "kernelspec": {
   "display_name": "Python 3 (ipykernel)",
   "language": "python",
   "name": "python3"
  },
  "language_info": {
   "codemirror_mode": {
    "name": "ipython",
    "version": 3
   },
   "file_extension": ".py",
   "mimetype": "text/x-python",
   "name": "python",
   "nbconvert_exporter": "python",
   "pygments_lexer": "ipython3",
   "version": "3.7.12"
  },
  "toc": {
   "base_numbering": 1,
   "nav_menu": {},
   "number_sections": false,
   "sideBar": true,
   "skip_h1_title": false,
   "title_cell": "Table of Contents",
   "title_sidebar": "Contents",
   "toc_cell": false,
   "toc_position": {
    "height": "calc(100% - 180px)",
    "left": "10px",
    "top": "150px",
    "width": "282.242px"
   },
   "toc_section_display": true,
   "toc_window_display": true
  }
 },
 "nbformat": 4,
 "nbformat_minor": 5
}
