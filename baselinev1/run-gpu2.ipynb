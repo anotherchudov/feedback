{
 "cells": [
  {
   "cell_type": "markdown",
   "id": "61afee34",
   "metadata": {},
   "source": [
    "# run training\n",
    "\n",
    "> notebook to run the `train.py` file"
   ]
  },
  {
   "cell_type": "code",
   "execution_count": 3,
   "id": "4f259f5d",
   "metadata": {
    "ExecuteTime": {
     "end_time": "2022-02-26T02:58:00.112394Z",
     "start_time": "2022-02-26T02:58:00.108480Z"
    }
   },
   "outputs": [],
   "source": [
    "install_pytorch = False\n",
    "if install_pytorch:\n",
    "    !pip install torch==1.8.1+cu111 torchvision==0.9.1+cu111 torchaudio===0.8.1 -f https://download.pytorch.org/whl/torch_stable.html"
   ]
  },
  {
   "cell_type": "markdown",
   "id": "93c8c22e",
   "metadata": {},
   "source": [
    "## Single GPU\n"
   ]
  },
  {
   "cell_type": "markdown",
   "id": "b0cc6185",
   "metadata": {},
   "source": [
    "Currently used for saving cache"
   ]
  },
  {
   "cell_type": "code",
   "execution_count": null,
   "id": "f821dd32",
   "metadata": {
    "ExecuteTime": {
     "start_time": "2022-03-08T02:51:42.730Z"
    }
   },
   "outputs": [
    {
     "name": "stdout",
     "output_type": "stream",
     "text": [
      "\u001b[34m\u001b[1mwandb\u001b[0m: Currently logged in as: \u001b[33mducky\u001b[0m (use `wandb login --relogin` to force relogin)\n",
      "\u001b[34m\u001b[1mwandb\u001b[0m: wandb version 0.12.11 is available!  To upgrade, please run:\n",
      "\u001b[34m\u001b[1mwandb\u001b[0m:  $ pip install wandb --upgrade\n",
      "\u001b[34m\u001b[1mwandb\u001b[0m: Tracking run with wandb version 0.12.10\n",
      "\u001b[34m\u001b[1mwandb\u001b[0m: Syncing run \u001b[33msolar-firebrand-201\u001b[0m\n",
      "\u001b[34m\u001b[1mwandb\u001b[0m: ⭐️ View project at \u001b[34m\u001b[4mhttps://wandb.ai/ducky/feedback_deberta_large\u001b[0m\n",
      "\u001b[34m\u001b[1mwandb\u001b[0m: 🚀 View run at \u001b[34m\u001b[4mhttps://wandb.ai/ducky/feedback_deberta_large/runs/1qolihow\u001b[0m\n",
      "\u001b[34m\u001b[1mwandb\u001b[0m: Run data is saved locally in /home/feedback/working/feedback_ducky/baselinev1/wandb/run-20220308_025151-1qolihow\n",
      "\u001b[34m\u001b[1mwandb\u001b[0m: Run `wandb offline` to turn off syncing.\n",
      "\n",
      "\n",
      "Using Ducky Modified DebertaV2\n",
      "\n",
      "Some weights of the model checkpoint at microsoft/deberta-v3-large were not used when initializing DebertaV2Model: ['mask_predictions.classifier.bias', 'lm_predictions.lm_head.bias', 'lm_predictions.lm_head.dense.bias', 'lm_predictions.lm_head.LayerNorm.weight', 'mask_predictions.LayerNorm.weight', 'mask_predictions.LayerNorm.bias', 'lm_predictions.lm_head.dense.weight', 'mask_predictions.classifier.weight', 'mask_predictions.dense.bias', 'lm_predictions.lm_head.LayerNorm.bias', 'mask_predictions.dense.weight']\n",
      "- This IS expected if you are initializing DebertaV2Model from the checkpoint of a model trained on another task or with another architecture (e.g. initializing a BertForSequenceClassification model from a BertForPreTraining model).\n",
      "- This IS NOT expected if you are initializing DebertaV2Model from the checkpoint of a model that you expect to be exactly identical (initializing a BertForSequenceClassification model from a BertForSequenceClassification model).\n",
      "Namespace(back_translation=False, batch_size=4, ce_weight=0.9, cnn1d=False, criterion_list=['custom_ce'], criterion_ratio=[1.0], cycle_mult=1.0, data_prefix='', dataset_path='../../feedback-prize-2021', dataset_version=2, ddp=False, decay_bias=False, device=device(type='cuda', index=1), dropout_ratio=0.0, epochs=9, extra_dense=False, gamma=0.9, grad_acc_steps=1, grad_checkpt=True, grammer_correction=False, label_smoothing=0.1, local_rank=-1, lr=1e-05, max_grad_norm=1.0, min_len=0, min_lr=1e-06, model='microsoft/deberta-v3-large-ducky', momentum=0.9, nesterov=True, noise_injection=False, noise_injection_prob=0.5, num_worker=8, online_dataset=False, optimizer='radam', print_f1_per_step=500, random_deletion=False, random_deletion_prob=0.5, random_deletion_ratio=0.1, random_insertion=False, random_insertion_prob=0.5, rank=-1, rce_weight=0.1, save_cache=False, save_cache_dir='augmentation', save_path='result', scheduler='plateau', seed=0, start_eval_at=0, steps_per_epoch=3114, swa=True, swa_start_ratio=0.1, swa_update_per_epoch=100, swap_order=False, swap_order_prob=0.5, synonym_replacement=False, synonym_replacement_prob=0.5, text_aug_min_len=15, use_groupped_weights=False, val_fold=0, wandb=True, wandb_comment='swa_ce_swa100_radam', wandb_project='feedback_deberta_large', wandb_user='ducky', warmup_steps=500, weight_decay=0.01, weights_pow=0.1, word2vec=False, word2vec_prob=0.5)\n",
      "[ SWA ] - Applied from 2 epochs\n",
      "[ TRAIN ] epoch 1 lr 0.0000100 loss:  1.1972: 100%|█| 3114/3114 [52:39<00:00,  1\n",
      "100%|█████████████████████████████████████████| 785/785 [03:01<00:00,  4.33it/s]\n",
      "Currenlty on [ bug ] version\n",
      "Predicted match stats: {1: {'fp': 508, 'fn': 332, 'tp': 1535}, 2: {'fp': 1087, 'fn': 1035, 'tp': 2074}, 3: {'fp': 3043, 'fn': 2762, 'tp': 6471}, 4: {'fp': 5099, 'fn': 3712, 'tp': 6365}, 5: {'fp': 1020, 'fn': 359, 'tp': 2363}, 6: {'fp': 468, 'fn': 676, 'tp': 512}, 7: {'fp': 287, 'fn': 612, 'tp': 256}}\n",
      "\n",
      "Currenlty on [ clean ] version\n",
      "Predicted match stats: {1: {'fp': 513, 'fn': 337, 'tp': 1530}, 2: {'fp': 1103, 'fn': 1051, 'tp': 2058}, 3: {'fp': 3291, 'fn': 3010, 'tp': 6223}, 4: {'fp': 5656, 'fn': 4269, 'tp': 5808}, 5: {'fp': 1143, 'fn': 482, 'tp': 2240}, 6: {'fp': 428, 'fn': 636, 'tp': 552}, 7: {'fp': 320, 'fn': 645, 'tp': 223}}\n",
      "\n",
      "Currenlty on [ wonho ] version\n",
      "Predicted match stats: {1: {'fp': 500, 'fn': 316, 'tp': 1551}, 2: {'fp': 1046, 'fn': 1029, 'tp': 2080}, 3: {'fp': 3468, 'fn': 2517, 'tp': 6716}, 4: {'fp': 5332, 'fn': 3980, 'tp': 6097}, 5: {'fp': 1132, 'fn': 331, 'tp': 2391}, 6: {'fp': 421, 'fn': 631, 'tp': 557}, 7: {'fp': 303, 'fn': 637, 'tp': 231}}\n",
      "\n",
      "--------------------------------------------------\n",
      "Validation [ Bug ] 0.6196218963356566\n",
      "Validation [ Clean ] 0.600192764758688\n",
      "Validation [ Wonho ] 0.6181821698232683\n",
      "  0%|                                                  | 0/3114 [00:00<?, ?it/s]--------------------\n",
      "[ SWA ] - First update of the SWA model\n",
      "--------------------\n",
      "[ TRAIN ] epoch 2 lr 0.0000100 loss:  1.0089: 100%|█| 3114/3114 [52:41<00:00,  1\n",
      "100%|█████████████████████████████████████████| 785/785 [03:00<00:00,  4.34it/s]\n",
      "Currenlty on [ bug ] version\n",
      "Predicted match stats: {1: {'fp': 442, 'fn': 277, 'tp': 1590}, 2: {'fp': 1049, 'fn': 957, 'tp': 2152}, 3: {'fp': 2694, 'fn': 2562, 'tp': 6671}, 4: {'fp': 4798, 'fn': 3494, 'tp': 6583}, 5: {'fp': 845, 'fn': 364, 'tp': 2358}, 6: {'fp': 589, 'fn': 540, 'tp': 648}, 7: {'fp': 571, 'fn': 474, 'tp': 394}}\n",
      "\n",
      "Currenlty on [ clean ] version\n",
      "Predicted match stats: {1: {'fp': 451, 'fn': 286, 'tp': 1581}, 2: {'fp': 1062, 'fn': 970, 'tp': 2139}, 3: {'fp': 2907, 'fn': 2775, 'tp': 6458}, 4: {'fp': 5189, 'fn': 3885, 'tp': 6192}, 5: {'fp': 891, 'fn': 410, 'tp': 2312}, 6: {'fp': 584, 'fn': 535, 'tp': 653}, 7: {'fp': 584, 'fn': 487, 'tp': 381}}\n",
      "\n",
      "Currenlty on [ wonho ] version\n",
      "Predicted match stats: {1: {'fp': 452, 'fn': 281, 'tp': 1586}, 2: {'fp': 992, 'fn': 921, 'tp': 2188}, 3: {'fp': 3044, 'fn': 2415, 'tp': 6818}, 4: {'fp': 4759, 'fn': 3679, 'tp': 6398}, 5: {'fp': 905, 'fn': 321, 'tp': 2401}, 6: {'fp': 564, 'fn': 530, 'tp': 658}, 7: {'fp': 557, 'fn': 482, 'tp': 386}}\n",
      "\n",
      "--------------------------------------------------\n",
      "Validation [ Bug ] 0.6555605748214528\n",
      "Validation [ Clean ] 0.6421785609055759\n",
      "Validation [ Wonho ] 0.6562571168701851\n",
      "[ TRAIN ] epoch 3 lr 0.0000100 loss:  0.9387: 100%|█| 3114/3114 [52:48<00:00,  1\n",
      "100%|█████████████████████████████████████████| 785/785 [03:00<00:00,  4.13it/s]Currenlty on [ bug ] version\n",
      "Predicted match stats: {1: {'fp': 417, 'fn': 273, 'tp': 1594}, 2: {'fp': 1065, 'fn': 920, 'tp': 2189}, 3: {'fp': 2576, 'fn': 2541, 'tp': 6692}, 4: {'fp': 4727, 'fn': 3414, 'tp': 6663}, 5: {'fp': 724, 'fn': 365, 'tp': 2357}, 6: {'fp': 613, 'fn': 508, 'tp': 680}, 7: {'fp': 623, 'fn': 462, 'tp': 406}}\n",
      "100%|█████████████████████████████████████████| 785/785 [03:00<00:00,  4.34it/s]\n",
      "\n",
      "Currenlty on [ clean ] version\n",
      "Predicted match stats: {1: {'fp': 428, 'fn': 284, 'tp': 1583}, 2: {'fp': 1086, 'fn': 941, 'tp': 2168}, 3: {'fp': 2784, 'fn': 2749, 'tp': 6484}, 4: {'fp': 5041, 'fn': 3728, 'tp': 6349}, 5: {'fp': 767, 'fn': 408, 'tp': 2314}, 6: {'fp': 616, 'fn': 511, 'tp': 677}, 7: {'fp': 623, 'fn': 462, 'tp': 406}}\n",
      "\n",
      "Currenlty on [ wonho ] version\n",
      "Predicted match stats: {1: {'fp': 420, 'fn': 271, 'tp': 1596}, 2: {'fp': 1030, 'fn': 900, 'tp': 2209}, 3: {'fp': 2851, 'fn': 2371, 'tp': 6862}, 4: {'fp': 4602, 'fn': 3561, 'tp': 6516}, 5: {'fp': 793, 'fn': 327, 'tp': 2395}, 6: {'fp': 587, 'fn': 508, 'tp': 680}, 7: {'fp': 586, 'fn': 459, 'tp': 409}}\n",
      "\n",
      "--------------------------------------------------\n",
      "Validation [ Bug ] 0.6632641954440068\n",
      "Validation [ Clean ] 0.6516568435857321\n",
      "Validation [ Wonho ] 0.6658267880890929\n",
      "[ TRAIN ] epoch 4 lr 0.0000100 loss:  0.8730: 100%|█| 3114/3114 [52:49<00:00,  1\n",
      "100%|█████████████████████████████████████████| 785/785 [03:00<00:00,  4.34it/s]\n",
      "Currenlty on [ bug ] version\n",
      "Predicted match stats: {1: {'fp': 390, 'fn': 265, 'tp': 1602}, 2: {'fp': 1040, 'fn': 907, 'tp': 2202}, 3: {'fp': 2580, 'fn': 2519, 'tp': 6714}, 4: {'fp': 4687, 'fn': 3415, 'tp': 6662}, 5: {'fp': 678, 'fn': 356, 'tp': 2366}, 6: {'fp': 626, 'fn': 501, 'tp': 687}, 7: {'fp': 623, 'fn': 450, 'tp': 418}}\n",
      "\n",
      "Currenlty on [ clean ] version\n",
      "Predicted match stats: {1: {'fp': 400, 'fn': 275, 'tp': 1592}, 2: {'fp': 1051, 'fn': 918, 'tp': 2191}, 3: {'fp': 2790, 'fn': 2729, 'tp': 6504}, 4: {'fp': 4928, 'fn': 3656, 'tp': 6421}, 5: {'fp': 717, 'fn': 395, 'tp': 2327}, 6: {'fp': 626, 'fn': 501, 'tp': 687}, 7: {'fp': 619, 'fn': 446, 'tp': 422}}\n",
      "\n",
      "Currenlty on [ wonho ] version\n",
      "Predicted match stats: {1: {'fp': 399, 'fn': 269, 'tp': 1598}, 2: {'fp': 1011, 'fn': 888, 'tp': 2221}, 3: {'fp': 2828, 'fn': 2357, 'tp': 6876}, 4: {'fp': 4498, 'fn': 3501, 'tp': 6576}, 5: {'fp': 750, 'fn': 324, 'tp': 2398}, 6: {'fp': 604, 'fn': 499, 'tp': 689}, 7: {'fp': 583, 'fn': 444, 'tp': 424}}\n",
      "\n",
      "--------------------------------------------------\n",
      "Validation [ Bug ] 0.6683315896459602\n",
      "Validation [ Clean ] 0.6593102666320414\n",
      "Validation [ Wonho ] 0.6714825973349161\n"
     ]
    },
    {
     "name": "stdout",
     "output_type": "stream",
     "text": [
      "[ TRAIN ] epoch 5 lr 0.0000100 loss:  0.8144: 100%|█| 3114/3114 [1:15:20<00:00, \n",
      "100%|████████████████████████████████████████▉| 784/785 [09:56<00:00,  1.79it/s]Currenlty on [ bug ] version\n",
      "Predicted match stats: {1: {'fp': 373, 'fn': 261, 'tp': 1606}, 2: {'fp': 1059, 'fn': 918, 'tp': 2191}, 3: {'fp': 2608, 'fn': 2466, 'tp': 6767}, 4: {'fp': 4663, 'fn': 3403, 'tp': 6674}, 5: {'fp': 639, 'fn': 363, 'tp': 2359}, 6: {'fp': 627, 'fn': 493, 'tp': 695}, 7: {'fp': 635, 'fn': 440, 'tp': 428}}\n",
      "\n",
      "Currenlty on [ clean ] version\n",
      "Predicted match stats: {1: {'fp': 381, 'fn': 269, 'tp': 1598}, 2: {'fp': 1056, 'fn': 915, 'tp': 2194}, 3: {'fp': 2815, 'fn': 2673, 'tp': 6560}, 4: {'fp': 4857, 'fn': 3597, 'tp': 6480}, 5: {'fp': 676, 'fn': 400, 'tp': 2322}, 6: {'fp': 626, 'fn': 492, 'tp': 696}, 7: {'fp': 632, 'fn': 437, 'tp': 431}}\n",
      "\n",
      "Currenlty on [ wonho ] version\n",
      "Predicted match stats: {1: {'fp': 383, 'fn': 266, 'tp': 1601}, 2: {'fp': 1030, 'fn': 884, 'tp': 2225}, 3: {'fp': 2847, 'fn': 2339, 'tp': 6894}, 4: {'fp': 4448, 'fn': 3466, 'tp': 6611}, 5: {'fp': 702, 'fn': 322, 'tp': 2400}, 6: {'fp': 607, 'fn': 489, 'tp': 699}, 7: {'fp': 593, 'fn': 434, 'tp': 434}}\n",
      "\n",
      "--------------------------------------------------\n",
      "100%|█████████████████████████████████████████| 785/785 [09:58<00:00,  1.31it/s]\n",
      "Validation [ Bug ] 0.6709730350257942\n",
      "Validation [ Clean ] 0.6634562983803922\n",
      "Validation [ Wonho ] 0.6751047275561181\n",
      "Epoch     5: reducing learning rate of group 0 to 8.0000e-06.\n",
      "[ TRAIN ] epoch 6 lr 0.0000080 loss:  0.7491:  37%|▎| 1165/3114 [32:00<50:24,  1"
     ]
    }
   ],
   "source": [
    "!python train.py --device 1 --wandb --wandb_comment \"swa_ce_swa100_radam\" --optimizer radam --lr 1e-5 --swa --swa_update_per_epoch 100"
   ]
  },
  {
   "cell_type": "code",
   "execution_count": null,
   "id": "cd877a70",
   "metadata": {
    "ExecuteTime": {
     "start_time": "2022-03-07T17:28:21.512Z"
    }
   },
   "outputs": [],
   "source": [
    "!python train.py --device 2  --wandb --wandb_comment \"swa_ce_swa100_lamb\" --online --optimizer lamb --lr 1e-5 --swa --swa_update_per_epoch 100"
   ]
  }
 ],
 "metadata": {
  "kernelspec": {
   "display_name": "Python 3 (ipykernel)",
   "language": "python",
   "name": "python3"
  },
  "language_info": {
   "codemirror_mode": {
    "name": "ipython",
    "version": 3
   },
   "file_extension": ".py",
   "mimetype": "text/x-python",
   "name": "python",
   "nbconvert_exporter": "python",
   "pygments_lexer": "ipython3",
   "version": "3.7.12"
  },
  "toc": {
   "base_numbering": 1,
   "nav_menu": {},
   "number_sections": false,
   "sideBar": true,
   "skip_h1_title": false,
   "title_cell": "Table of Contents",
   "title_sidebar": "Contents",
   "toc_cell": false,
   "toc_position": {
    "height": "calc(100% - 180px)",
    "left": "10px",
    "top": "150px",
    "width": "282.242px"
   },
   "toc_section_display": true,
   "toc_window_display": true
  }
 },
 "nbformat": 4,
 "nbformat_minor": 5
}
