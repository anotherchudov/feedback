{
 "cells": [
  {
   "cell_type": "markdown",
   "id": "61afee34",
   "metadata": {},
   "source": [
    "# run training\n",
    "\n",
    "> notebook to run the `train.py` file"
   ]
  },
  {
   "cell_type": "code",
   "execution_count": 3,
   "id": "4f259f5d",
   "metadata": {
    "ExecuteTime": {
     "end_time": "2022-02-26T02:58:00.112394Z",
     "start_time": "2022-02-26T02:58:00.108480Z"
    }
   },
   "outputs": [],
   "source": [
    "install_pytorch = False\n",
    "if install_pytorch:\n",
    "    !pip install torch==1.8.1+cu111 torchvision==0.9.1+cu111 torchaudio===0.8.1 -f https://download.pytorch.org/whl/torch_stable.html"
   ]
  },
  {
   "cell_type": "markdown",
   "id": "93c8c22e",
   "metadata": {},
   "source": [
    "## Single GPU"
   ]
  },
  {
   "cell_type": "code",
   "execution_count": null,
   "id": "80571bec",
   "metadata": {
    "ExecuteTime": {
     "start_time": "2022-03-09T01:00:58.803Z"
    },
    "scrolled": false
   },
   "outputs": [
    {
     "name": "stdout",
     "output_type": "stream",
     "text": [
      "\u001b[34m\u001b[1mwandb\u001b[0m: Currently logged in as: \u001b[33mducky\u001b[0m (use `wandb login --relogin` to force relogin)\n",
      "\u001b[34m\u001b[1mwandb\u001b[0m: wandb version 0.12.11 is available!  To upgrade, please run:\n",
      "\u001b[34m\u001b[1mwandb\u001b[0m:  $ pip install wandb --upgrade\n",
      "\u001b[34m\u001b[1mwandb\u001b[0m: Tracking run with wandb version 0.12.10\n",
      "\u001b[34m\u001b[1mwandb\u001b[0m: Syncing run \u001b[33mglamorous-paper-228\u001b[0m\n",
      "\u001b[34m\u001b[1mwandb\u001b[0m: ⭐️ View project at \u001b[34m\u001b[4mhttps://wandb.ai/ducky/feedback_deberta_large\u001b[0m\n",
      "\u001b[34m\u001b[1mwandb\u001b[0m: 🚀 View run at \u001b[34m\u001b[4mhttps://wandb.ai/ducky/feedback_deberta_large/runs/2vnurqpj\u001b[0m\n",
      "\u001b[34m\u001b[1mwandb\u001b[0m: Run data is saved locally in /home/feedback/working/feedback_ducky/baselinev1/wandb/run-20220309_010108-2vnurqpj\n",
      "\u001b[34m\u001b[1mwandb\u001b[0m: Run `wandb offline` to turn off syncing.\n",
      "\n",
      "Namespace(back_translation=False, batch_size=4, ce_weight=0.9, cnn1d=False, criterion_list=['custom_ce'], criterion_ratio=[1.0], cycle_mult=1.0, data_prefix='', dataset_path='../../feedback-prize-2021', dataset_version=2, ddp=False, decay_bias=False, device=device(type='cuda', index=2), dropout_ratio=0.0, epochs=9, extra_dense=False, gamma=0.9, grad_acc_steps=1, grad_checkpt=True, grammer_correction=False, label_smoothing=0.1, local_rank=-1, lr=1e-05, max_grad_norm=1.0, min_len=0, min_lr=1e-06, model='microsoft/deberta-v3-large-ducky', momentum=0.9, nesterov=True, noise_filter=False, noise_injection=False, noise_injection_prob=0.5, num_worker=8, online_dataset=True, optimizer='adamw', print_f1_per_step=500, random_deletion=True, random_deletion_prob=0.5, random_deletion_ratio=0.1, random_insertion=False, random_insertion_prob=0.5, rank=-1, rce_weight=0.1, save_cache=False, save_cache_dir='augmentation', save_path='result', scheduler='plateau', seed=0, start_eval_at=0, swa=True, swa_start_ratio=0.1, swa_update_per_epoch=100, swap_order=False, swap_order_prob=0.5, synonym_replacement=False, synonym_replacement_prob=0.5, text_aug_min_len=15, use_groupped_weights=False, val_fold=1, wandb=True, wandb_comment='swa_ce_swa100_online_random_deletion0.1', wandb_project='feedback_deberta_large', wandb_user='ducky', warmup_steps=500, weight_decay=0.01, weights_pow=0.1, word2vec=False, word2vec_prob=0.5)\n",
      "[ Text Augmenter ] Initializing\n",
      "[ Text Augmenter ] EDA - Easy Data Augmentation model\n",
      "[ Text Augmenter ] Initializing tokenizer...\n",
      "Special tokens have been added in the vocabulary, make sure the associated word embeddings are fine-tuned or trained.\n",
      "Special tokens have been added in the vocabulary, make sure the associated word embeddings are fine-tuned or trained.\n",
      "[ Text Augmenter ] Initializing Train data\n",
      "100%|████████████████████████████████████| 12473/12473 [00:48<00:00, 257.65it/s]\n",
      "[ Text Augmenter ] Initializing\n",
      "[ Text Augmenter ] EDA - Easy Data Augmentation model\n",
      "[ Text Augmenter ] Initializing tokenizer...\n",
      "Special tokens have been added in the vocabulary, make sure the associated word embeddings are fine-tuned or trained.\n",
      "Special tokens have been added in the vocabulary, make sure the associated word embeddings are fine-tuned or trained.\n",
      "[ Text Augmenter ] Initializing Valid data\n",
      "100%|██████████████████████████████████████| 3121/3121 [00:11<00:00, 261.07it/s]\n",
      "\n",
      "Using Ducky Modified DebertaV2\n",
      "\n",
      "Some weights of the model checkpoint at microsoft/deberta-v3-large were not used when initializing DebertaV2Model: ['lm_predictions.lm_head.dense.weight', 'mask_predictions.dense.weight', 'mask_predictions.dense.bias', 'lm_predictions.lm_head.bias', 'lm_predictions.lm_head.LayerNorm.weight', 'mask_predictions.LayerNorm.bias', 'lm_predictions.lm_head.LayerNorm.bias', 'mask_predictions.LayerNorm.weight', 'lm_predictions.lm_head.dense.bias', 'mask_predictions.classifier.weight', 'mask_predictions.classifier.bias']\n",
      "- This IS expected if you are initializing DebertaV2Model from the checkpoint of a model trained on another task or with another architecture (e.g. initializing a BertForSequenceClassification model from a BertForPreTraining model).\n",
      "- This IS NOT expected if you are initializing DebertaV2Model from the checkpoint of a model that you expect to be exactly identical (initializing a BertForSequenceClassification model from a BertForSequenceClassification model).\n",
      "[ SWA ] - Applied from 2 epochs\n",
      "[ TRAIN ] epoch 1 lr 0.0000100 loss:  1.0867: 100%|█| 3119/3119 [49:06<00:00,  1--------------------\n",
      "[ SWA ] - First update of the SWA model\n",
      "--------------------\n",
      "[ TRAIN ] epoch 1 lr 0.0000100 loss:  1.0867: 100%|█| 3119/3119 [49:06<00:00,  1\n",
      "100%|█████████████████████████████████████████| 781/781 [03:05<00:00,  4.21it/s]\n",
      "Currenlty on [ bug ] version\n",
      "Predicted match stats: {1: {'fp': 447, 'fn': 351, 'tp': 1536}, 2: {'fp': 1173, 'fn': 1019, 'tp': 2059}, 3: {'fp': 2752, 'fn': 2814, 'tp': 6297}, 4: {'fp': 4234, 'fn': 4117, 'tp': 6039}, 5: {'fp': 678, 'fn': 462, 'tp': 2249}, 6: {'fp': 585, 'fn': 567, 'tp': 610}, 7: {'fp': 567, 'fn': 554, 'tp': 335}}\n",
      "\n",
      "Currenlty on [ clean ] version\n",
      "Predicted match stats: {1: {'fp': 455, 'fn': 359, 'tp': 1528}, 2: {'fp': 1210, 'fn': 1056, 'tp': 2022}, 3: {'fp': 2913, 'fn': 2975, 'tp': 6136}, 4: {'fp': 4644, 'fn': 4527, 'tp': 5629}, 5: {'fp': 753, 'fn': 537, 'tp': 2174}, 6: {'fp': 589, 'fn': 571, 'tp': 606}, 7: {'fp': 536, 'fn': 523, 'tp': 366}}\n",
      "\n",
      "Currenlty on [ wonho ] version\n",
      "Predicted match stats: {1: {'fp': 444, 'fn': 339, 'tp': 1548}, 2: {'fp': 1083, 'fn': 1013, 'tp': 2065}, 3: {'fp': 3088, 'fn': 2543, 'tp': 6568}, 4: {'fp': 4046, 'fn': 4221, 'tp': 5935}, 5: {'fp': 797, 'fn': 382, 'tp': 2329}, 6: {'fp': 557, 'fn': 569, 'tp': 608}, 7: {'fp': 536, 'fn': 517, 'tp': 372}}\n",
      "\n",
      "--------------------------------------------------\n",
      "Validation [ Bug ] 0.6310515906751176\n",
      "Validation [ Clean ] 0.6211812467266823\n",
      "Validation [ Wonho ] 0.6403079612903609\n",
      "[ TRAIN ] epoch 2 lr 0.0000100 loss:  0.9563: 100%|█| 3119/3119 [49:00<00:00,  1\n",
      "100%|█████████████████████████████████████████| 781/781 [03:05<00:00,  4.21it/s]\n",
      "Currenlty on [ bug ] version\n",
      "Predicted match stats: {1: {'fp': 397, 'fn': 307, 'tp': 1580}, 2: {'fp': 1057, 'fn': 926, 'tp': 2152}, 3: {'fp': 2362, 'fn': 2726, 'tp': 6385}, 4: {'fp': 4540, 'fn': 3602, 'tp': 6554}, 5: {'fp': 810, 'fn': 429, 'tp': 2282}, 6: {'fp': 559, 'fn': 519, 'tp': 658}, 7: {'fp': 632, 'fn': 467, 'tp': 422}}\n",
      "\n",
      "Currenlty on [ clean ] version\n",
      "Predicted match stats: {1: {'fp': 410, 'fn': 320, 'tp': 1567}, 2: {'fp': 1067, 'fn': 936, 'tp': 2142}, 3: {'fp': 2558, 'fn': 2922, 'tp': 6189}, 4: {'fp': 5016, 'fn': 4078, 'tp': 6078}, 5: {'fp': 848, 'fn': 467, 'tp': 2244}, 6: {'fp': 566, 'fn': 526, 'tp': 651}, 7: {'fp': 617, 'fn': 452, 'tp': 437}}\n",
      "\n",
      "Currenlty on [ wonho ] version\n",
      "Predicted match stats: {1: {'fp': 405, 'fn': 306, 'tp': 1581}, 2: {'fp': 991, 'fn': 913, 'tp': 2165}, 3: {'fp': 2699, 'fn': 2463, 'tp': 6648}, 4: {'fp': 4475, 'fn': 3767, 'tp': 6389}, 5: {'fp': 891, 'fn': 378, 'tp': 2333}, 6: {'fp': 539, 'fn': 524, 'tp': 653}, 7: {'fp': 580, 'fn': 448, 'tp': 441}}\n",
      "\n",
      "--------------------------------------------------\n",
      "Validation [ Bug ] 0.6578432192987665\n",
      "Validation [ Clean ] 0.6463910080862689\n",
      "Validation [ Wonho ] 0.662640861162245\n",
      "[ TRAIN ] epoch 3 lr 0.0000100 loss:  0.8997:  59%|▌| 1841/3119 [28:54<26:13,  1"
     ]
    }
   ],
   "source": [
    "!python train.py --val_fold 1 --device 2 --wandb --wandb_comment \"swa_ce_swa100_online_random_deletion0.1\" --online --random_deletion --random_deletion_ratio 0.1 --optimizer adamw --swa --swa_update_per_epoch 100"
   ]
  },
  {
   "cell_type": "code",
   "execution_count": null,
   "id": "e19ffe5f",
   "metadata": {
    "ExecuteTime": {
     "start_time": "2022-03-09T01:01:02.105Z"
    },
    "scrolled": false
   },
   "outputs": [],
   "source": [
    "!python train.py --val_fold 2 --device 2 --wandb --wandb_comment \"swa_ce_swa100_online_random_deletion0.1\" --online --random_deletion --random_deletion_ratio 0.1 --optimizer adamw --swa --swa_update_per_epoch 100"
   ]
  }
 ],
 "metadata": {
  "kernelspec": {
   "display_name": "Python 3 (ipykernel)",
   "language": "python",
   "name": "python3"
  },
  "language_info": {
   "codemirror_mode": {
    "name": "ipython",
    "version": 3
   },
   "file_extension": ".py",
   "mimetype": "text/x-python",
   "name": "python",
   "nbconvert_exporter": "python",
   "pygments_lexer": "ipython3",
   "version": "3.7.12"
  },
  "toc": {
   "base_numbering": 1,
   "nav_menu": {},
   "number_sections": false,
   "sideBar": true,
   "skip_h1_title": false,
   "title_cell": "Table of Contents",
   "title_sidebar": "Contents",
   "toc_cell": false,
   "toc_position": {
    "height": "calc(100% - 180px)",
    "left": "10px",
    "top": "150px",
    "width": "282.242px"
   },
   "toc_section_display": true,
   "toc_window_display": true
  }
 },
 "nbformat": 4,
 "nbformat_minor": 5
}
