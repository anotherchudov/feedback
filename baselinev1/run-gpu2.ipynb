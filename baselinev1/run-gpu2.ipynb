{
 "cells": [
  {
   "cell_type": "markdown",
   "id": "61afee34",
   "metadata": {},
   "source": [
    "# run training\n",
    "\n",
    "> notebook to run the `train.py` file"
   ]
  },
  {
   "cell_type": "code",
   "execution_count": 3,
   "id": "4f259f5d",
   "metadata": {
    "ExecuteTime": {
     "end_time": "2022-02-26T02:58:00.112394Z",
     "start_time": "2022-02-26T02:58:00.108480Z"
    }
   },
   "outputs": [],
   "source": [
    "install_pytorch = False\n",
    "if install_pytorch:\n",
    "    !pip install torch==1.8.1+cu111 torchvision==0.9.1+cu111 torchaudio===0.8.1 -f https://download.pytorch.org/whl/torch_stable.html"
   ]
  },
  {
   "cell_type": "markdown",
   "id": "93c8c22e",
   "metadata": {},
   "source": [
    "## Single GPU"
   ]
  },
  {
   "cell_type": "code",
   "execution_count": null,
   "id": "d698c729",
   "metadata": {
    "ExecuteTime": {
     "start_time": "2022-03-12T08:51:34.183Z"
    },
    "scrolled": true
   },
   "outputs": [
    {
     "name": "stdout",
     "output_type": "stream",
     "text": [
      "\u001b[34m\u001b[1mwandb\u001b[0m: Currently logged in as: \u001b[33mducky\u001b[0m (use `wandb login --relogin` to force relogin)\n",
      "\u001b[34m\u001b[1mwandb\u001b[0m: wandb version 0.12.11 is available!  To upgrade, please run:\n",
      "\u001b[34m\u001b[1mwandb\u001b[0m:  $ pip install wandb --upgrade\n",
      "\u001b[34m\u001b[1mwandb\u001b[0m: Tracking run with wandb version 0.12.10\n",
      "\u001b[34m\u001b[1mwandb\u001b[0m: Syncing run \u001b[33mlikely-microwave-297\u001b[0m\n",
      "\u001b[34m\u001b[1mwandb\u001b[0m: ⭐️ View project at \u001b[34m\u001b[4mhttps://wandb.ai/ducky/feedback_deberta_large\u001b[0m\n",
      "\u001b[34m\u001b[1mwandb\u001b[0m: 🚀 View run at \u001b[34m\u001b[4mhttps://wandb.ai/ducky/feedback_deberta_large/runs/1852bx98\u001b[0m\n",
      "\u001b[34m\u001b[1mwandb\u001b[0m: Run data is saved locally in /home/feedback/working/feedback_ducky/baselinev1/wandb/run-20220312_085144-1852bx98\n",
      "\u001b[34m\u001b[1mwandb\u001b[0m: Run `wandb offline` to turn off syncing.\n",
      "\n",
      "Namespace(back_translation=False, batch_size=4, ce_weight=0.9, cnn1d=True, const_loss_weight=10.0, criterion_list=['custom_ce'], criterion_ratio=[1.0], cycle_mult=1.0, data_prefix='', dataset_path='../../feedback-prize-2021', dataset_version=2, ddp=False, decay_bias=False, device=device(type='cuda', index=2), dropout_ratio=0.0, epochs=20, extra_dense=False, gamma=0.9, grad_acc_steps=1, grad_checkpt=True, grammer_correction=False, label_smoothing=0.1, local_rank=-1, lr=1e-05, max_grad_norm=1.0, mean_teacher_alpha=0.99, min_len=0, min_lr=1e-06, model='microsoft/deberta-v3-large-ducky', momentum=0.9, nesterov=True, noise_filter=True, noise_filter_acc_thres=0.4, noise_filter_alpha=0.99, noise_injection=False, noise_injection_prob=0.5, num_worker=8, online_dataset=True, optimizer='adamw', print_f1_per_step=500, random_deletion=True, random_deletion_prob=0.5, random_deletion_ratio=0.1, random_insertion=False, random_insertion_prob=0.5, rank=-1, rce_weight=0.1, save_cache=False, save_cache_dir='augmentation', save_path='result', scheduler='plateau', seed=0, start_eval_at=0, swa=False, swa_start_ratio=0.1, swa_update_per_epoch=1, swap_order=False, swap_order_prob=0.5, synonym_replacement=False, synonym_replacement_prob=0.5, text_aug_min_len=15, use_double_space=False, use_groupped_weights=False, use_space=False, val_fold=0, wandb=True, wandb_comment='online_no_wd_noise_filtering0.4_mean_teacher0.99_random_deletion0.1_cnn1d', wandb_project='feedback_deberta_large', wandb_user='ducky', warmup_steps=500, weight_decay=0.0, weights_pow=0.1, word2vec=False, word2vec_prob=0.5)\n",
      "[ Text Augmenter ] Initializing\n",
      "[ Text Augmenter ] EDA - Easy Data Augmentation model\n",
      "[ Text Augmenter ] Initializing tokenizer...\n",
      "Special tokens have been added in the vocabulary, make sure the associated word embeddings are fine-tuned or trained.\n",
      "Special tokens have been added in the vocabulary, make sure the associated word embeddings are fine-tuned or trained.\n",
      "[ Text Augmenter ] Initializing Train data\n",
      "100%|████████████████████████████████████| 12454/12454 [00:49<00:00, 253.63it/s]\n",
      "[ Text Augmenter ] Initializing\n",
      "[ Text Augmenter ] EDA - Easy Data Augmentation model\n",
      "[ Text Augmenter ] Initializing tokenizer...\n",
      "Special tokens have been added in the vocabulary, make sure the associated word embeddings are fine-tuned or trained.\n",
      "Special tokens have been added in the vocabulary, make sure the associated word embeddings are fine-tuned or trained.\n",
      "[ Text Augmenter ] Initializing Valid data\n",
      "100%|██████████████████████████████████████| 3140/3140 [00:12<00:00, 260.27it/s]\n",
      "\n",
      "Using Ducky Modified DebertaV2\n",
      "\n",
      "Some weights of the model checkpoint at microsoft/deberta-v3-large were not used when initializing DebertaV2Model: ['mask_predictions.dense.bias', 'mask_predictions.LayerNorm.bias', 'lm_predictions.lm_head.dense.bias', 'mask_predictions.LayerNorm.weight', 'lm_predictions.lm_head.LayerNorm.bias', 'mask_predictions.classifier.bias', 'mask_predictions.classifier.weight', 'lm_predictions.lm_head.dense.weight', 'lm_predictions.lm_head.bias', 'lm_predictions.lm_head.LayerNorm.weight', 'mask_predictions.dense.weight']\n",
      "- This IS expected if you are initializing DebertaV2Model from the checkpoint of a model trained on another task or with another architecture (e.g. initializing a BertForSequenceClassification model from a BertForPreTraining model).\n",
      "- This IS NOT expected if you are initializing DebertaV2Model from the checkpoint of a model that you expect to be exactly identical (initializing a BertForSequenceClassification model from a BertForSequenceClassification model).\n",
      "[ TRAIN ] epoch 1 lr 0.0000100 loss:  1.5553: 100%|█| 3114/3114 [1:05:16<00:00, \n",
      "100%|█████████████████████████████████████████| 785/785 [03:05<00:00,  4.23it/s]\n",
      "Currenlty on [ bug ] version\n",
      "Predicted match stats: {1: {'fp': 3280, 'fn': 323, 'tp': 1544}, 2: {'fp': 892, 'fn': 1117, 'tp': 1992}, 3: {'fp': 2204, 'fn': 3522, 'tp': 5711}, 4: {'fp': 4034, 'fn': 4536, 'tp': 5541}, 5: {'fp': 1187, 'fn': 504, 'tp': 2218}, 6: {'fp': 449, 'fn': 752, 'tp': 436}, 7: {'fp': 317, 'fn': 635, 'tp': 233}}\n",
      "\n",
      "Currenlty on [ clean ] version\n",
      "Predicted match stats: {1: {'fp': 3291, 'fn': 334, 'tp': 1533}, 2: {'fp': 864, 'fn': 1089, 'tp': 2020}, 3: {'fp': 2281, 'fn': 3599, 'tp': 5634}, 4: {'fp': 4105, 'fn': 4607, 'tp': 5470}, 5: {'fp': 1434, 'fn': 751, 'tp': 1971}, 6: {'fp': 362, 'fn': 665, 'tp': 523}, 7: {'fp': 278, 'fn': 596, 'tp': 272}}\n",
      "\n",
      "Currenlty on [ wonho ] version\n",
      "Predicted match stats: {1: {'fp': 3298, 'fn': 316, 'tp': 1551}, 2: {'fp': 836, 'fn': 1037, 'tp': 2072}, 3: {'fp': 2789, 'fn': 2607, 'tp': 6626}, 4: {'fp': 3855, 'fn': 4348, 'tp': 5729}, 5: {'fp': 1288, 'fn': 454, 'tp': 2268}, 6: {'fp': 368, 'fn': 655, 'tp': 533}, 7: {'fp': 277, 'fn': 586, 'tp': 282}}\n",
      "\n",
      "--------------------------------------------------\n",
      "100%|█████████████████████████████████████████| 785/785 [03:05<00:00,  4.24it/s]\n",
      "Currenlty on [ Mean Teacher bug ] version\n",
      "Predicted match stats: {1: {'fp': 3184, 'fn': 318, 'tp': 1549}, 2: {'fp': 886, 'fn': 1139, 'tp': 1970}, 3: {'fp': 1924, 'fn': 3594, 'tp': 5639}, 4: {'fp': 3820, 'fn': 4590, 'tp': 5487}, 5: {'fp': 1349, 'fn': 526, 'tp': 2196}, 6: {'fp': 442, 'fn': 784, 'tp': 404}, 7: {'fp': 293, 'fn': 643, 'tp': 225}}\n",
      "\n",
      "Currenlty on [ Mean Teacher clean ] version\n",
      "Predicted match stats: {1: {'fp': 3176, 'fn': 310, 'tp': 1557}, 2: {'fp': 835, 'fn': 1088, 'tp': 2021}, 3: {'fp': 2033, 'fn': 3703, 'tp': 5530}, 4: {'fp': 3764, 'fn': 4534, 'tp': 5543}, 5: {'fp': 1531, 'fn': 708, 'tp': 2014}, 6: {'fp': 329, 'fn': 671, 'tp': 517}, 7: {'fp': 255, 'fn': 605, 'tp': 263}}\n",
      "\n",
      "Currenlty on [ Mean Teacher wonho ] version\n",
      "Predicted match stats: {1: {'fp': 3195, 'fn': 291, 'tp': 1576}, 2: {'fp': 828, 'fn': 1064, 'tp': 2045}, 3: {'fp': 2516, 'fn': 2677, 'tp': 6556}, 4: {'fp': 3559, 'fn': 4298, 'tp': 5779}, 5: {'fp': 1427, 'fn': 471, 'tp': 2251}, 6: {'fp': 334, 'fn': 661, 'tp': 527}, 7: {'fp': 265, 'fn': 592, 'tp': 276}}\n",
      "\n",
      "--------------------------------------------------\n",
      "Mean Teacher Validation [ Bug ] 0.5414651386680192\n",
      "Mean Teacher Validation [ Clean ] 0.5586345415815859\n",
      "Mean Teacher Validation [ Wonho ] 0.5828259342650883\n",
      "Validation [ Bug ] 0.5470819124656884\n",
      "Validation [ Clean ] 0.5539628426866401\n",
      "Validation [ Wonho ] 0.5817235055518639\n",
      "100%|███████████████████████████████████████| 3114/3114 [11:14<00:00,  4.62it/s]\n",
      "--------------------\n",
      "[ Filter ] - Process step 1\n",
      "                - alpha 0.99\n",
      "                - filter accuracy threshold 0.4\n",
      "             Total texts 12454\n",
      "             Clean texts 10419 (83.66 %)\n",
      "-------------------- \n",
      "\n",
      "[ TRAIN ] epoch 2 lr 0.0000100 loss:  1.0622:  64%|▋| 1674/2605 [37:20<20:05,  1"
     ]
    }
   ],
   "source": [
    "!python train.py --device 2 --wandb --wandb_comment \"online_no_wd_noise_filtering0.4_mean_teacher0.99_random_deletion0.1_cnn1d\" --random_deletion --cnn1d True --online --epochs 20 --noise_filter_acc_thres 0.4 --noise_filter --optimizer adamw --weight_decay 0.0"
   ]
  }
 ],
 "metadata": {
  "kernelspec": {
   "display_name": "Python 3 (ipykernel)",
   "language": "python",
   "name": "python3"
  },
  "language_info": {
   "codemirror_mode": {
    "name": "ipython",
    "version": 3
   },
   "file_extension": ".py",
   "mimetype": "text/x-python",
   "name": "python",
   "nbconvert_exporter": "python",
   "pygments_lexer": "ipython3",
   "version": "3.7.12"
  },
  "toc": {
   "base_numbering": 1,
   "nav_menu": {},
   "number_sections": false,
   "sideBar": true,
   "skip_h1_title": false,
   "title_cell": "Table of Contents",
   "title_sidebar": "Contents",
   "toc_cell": false,
   "toc_position": {
    "height": "calc(100% - 180px)",
    "left": "10px",
    "top": "150px",
    "width": "282.242px"
   },
   "toc_section_display": true,
   "toc_window_display": true
  }
 },
 "nbformat": 4,
 "nbformat_minor": 5
}
