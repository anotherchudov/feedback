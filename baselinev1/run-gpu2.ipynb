{
 "cells": [
  {
   "cell_type": "markdown",
   "id": "61afee34",
   "metadata": {},
   "source": [
    "# run training\n",
    "\n",
    "> notebook to run the `train.py` file"
   ]
  },
  {
   "cell_type": "code",
   "execution_count": 3,
   "id": "4f259f5d",
   "metadata": {
    "ExecuteTime": {
     "end_time": "2022-02-26T02:58:00.112394Z",
     "start_time": "2022-02-26T02:58:00.108480Z"
    }
   },
   "outputs": [],
   "source": [
    "install_pytorch = False\n",
    "if install_pytorch:\n",
    "    !pip install torch==1.8.1+cu111 torchvision==0.9.1+cu111 torchaudio===0.8.1 -f https://download.pytorch.org/whl/torch_stable.html"
   ]
  },
  {
   "cell_type": "markdown",
   "id": "93c8c22e",
   "metadata": {},
   "source": [
    "## Single GPU"
   ]
  },
  {
   "cell_type": "code",
   "execution_count": null,
   "id": "d698c729",
   "metadata": {
    "ExecuteTime": {
     "start_time": "2022-03-10T10:18:17.132Z"
    },
    "scrolled": false
   },
   "outputs": [
    {
     "name": "stdout",
     "output_type": "stream",
     "text": [
      "\u001b[34m\u001b[1mwandb\u001b[0m: Currently logged in as: \u001b[33mducky\u001b[0m (use `wandb login --relogin` to force relogin)\n",
      "\u001b[34m\u001b[1mwandb\u001b[0m: wandb version 0.12.11 is available!  To upgrade, please run:\n",
      "\u001b[34m\u001b[1mwandb\u001b[0m:  $ pip install wandb --upgrade\n",
      "\u001b[34m\u001b[1mwandb\u001b[0m: Tracking run with wandb version 0.12.10\n",
      "\u001b[34m\u001b[1mwandb\u001b[0m: Syncing run \u001b[33msparkling-frost-271\u001b[0m\n",
      "\u001b[34m\u001b[1mwandb\u001b[0m: ⭐️ View project at \u001b[34m\u001b[4mhttps://wandb.ai/ducky/feedback_deberta_large\u001b[0m\n",
      "\u001b[34m\u001b[1mwandb\u001b[0m: 🚀 View run at \u001b[34m\u001b[4mhttps://wandb.ai/ducky/feedback_deberta_large/runs/1ywb8gtb\u001b[0m\n",
      "\u001b[34m\u001b[1mwandb\u001b[0m: Run data is saved locally in /home/feedback/working/feedback_ducky/baselinev1/wandb/run-20220310_102002-1ywb8gtb\n",
      "\u001b[34m\u001b[1mwandb\u001b[0m: Run `wandb offline` to turn off syncing.\n",
      "\n",
      "Namespace(back_translation=False, batch_size=4, ce_weight=0.9, cnn1d=False, criterion_list=['custom_ce'], criterion_ratio=[1.0], cycle_mult=1.0, data_prefix='', dataset_path='../../feedback-prize-2021', dataset_version=2, ddp=False, decay_bias=False, device=device(type='cuda', index=2), dropout_ratio=0.0, epochs=12, extra_dense=False, gamma=0.9, grad_acc_steps=1, grad_checkpt=True, grammer_correction=False, label_smoothing=0.1, local_rank=-1, lr=1e-05, max_grad_norm=1.0, min_len=0, min_lr=1e-06, model='microsoft/deberta-v3-large-ducky', momentum=0.9, nesterov=True, noise_filter=True, noise_filter_acc_thres=0.6, noise_filter_alpha=0.8, noise_injection=False, noise_injection_prob=0.5, num_worker=8, online_dataset=True, optimizer='adamw', print_f1_per_step=500, random_deletion=False, random_deletion_prob=0.5, random_deletion_ratio=0.1, random_insertion=False, random_insertion_prob=0.5, rank=-1, rce_weight=0.1, save_cache=False, save_cache_dir='augmentation', save_path='result', scheduler='plateau', seed=0, start_eval_at=0, swa=False, swa_start_ratio=0.1, swa_update_per_epoch=1, swap_order=False, swap_order_prob=0.5, synonym_replacement=False, synonym_replacement_prob=0.5, text_aug_min_len=15, use_double_space=False, use_groupped_weights=False, use_space=False, val_fold=0, wandb=True, wandb_comment='online_noise_filtering0.6_no_wd', wandb_project='feedback_deberta_large', wandb_user='ducky', warmup_steps=500, weight_decay=0.0, weights_pow=0.1, word2vec=False, word2vec_prob=0.5)\n",
      "[ Text Augmenter ] Initializing\n",
      "[ Text Augmenter ] EDA - Easy Data Augmentation model\n",
      "[ Text Augmenter ] Initializing tokenizer...\n",
      "Special tokens have been added in the vocabulary, make sure the associated word embeddings are fine-tuned or trained.\n",
      "Special tokens have been added in the vocabulary, make sure the associated word embeddings are fine-tuned or trained.\n",
      "[ Text Augmenter ] Initializing Train data\n",
      "100%|█████████████████████████████████████| 12454/12454 [06:53<00:00, 30.15it/s]\n",
      "[ Text Augmenter ] Initializing\n",
      "[ Text Augmenter ] EDA - Easy Data Augmentation model\n",
      "[ Text Augmenter ] Initializing tokenizer...\n",
      "Special tokens have been added in the vocabulary, make sure the associated word embeddings are fine-tuned or trained.\n",
      "Special tokens have been added in the vocabulary, make sure the associated word embeddings are fine-tuned or trained.\n",
      "[ Text Augmenter ] Initializing Valid data\n",
      "100%|███████████████████████████████████████| 3140/3140 [01:48<00:00, 28.98it/s]\n",
      "\n",
      "Using Ducky Modified DebertaV2\n",
      "\n",
      "Some weights of the model checkpoint at microsoft/deberta-v3-large were not used when initializing DebertaV2Model: ['lm_predictions.lm_head.dense.bias', 'mask_predictions.LayerNorm.bias', 'mask_predictions.LayerNorm.weight', 'lm_predictions.lm_head.dense.weight', 'lm_predictions.lm_head.LayerNorm.weight', 'lm_predictions.lm_head.LayerNorm.bias', 'mask_predictions.classifier.weight', 'mask_predictions.dense.weight', 'mask_predictions.classifier.bias', 'lm_predictions.lm_head.bias', 'mask_predictions.dense.bias']\n",
      "- This IS expected if you are initializing DebertaV2Model from the checkpoint of a model trained on another task or with another architecture (e.g. initializing a BertForSequenceClassification model from a BertForPreTraining model).\n",
      "- This IS NOT expected if you are initializing DebertaV2Model from the checkpoint of a model that you expect to be exactly identical (initializing a BertForSequenceClassification model from a BertForSequenceClassification model).\n",
      "[ TRAIN ] epoch 1 lr 0.0000100 loss:  1.1147: 100%|█| 3114/3114 [1:41:30<00:00, \n",
      "100%|█████████████████████████████████████████| 785/785 [03:00<00:00,  4.35it/s]\n",
      "Currenlty on [ bug ] version\n",
      "Predicted match stats: {1: {'fp': 376, 'fn': 341, 'tp': 1526}, 2: {'fp': 1076, 'fn': 962, 'tp': 2147}, 3: {'fp': 2999, 'fn': 2599, 'tp': 6634}, 4: {'fp': 4881, 'fn': 3695, 'tp': 6382}, 5: {'fp': 890, 'fn': 350, 'tp': 2372}, 6: {'fp': 434, 'fn': 614, 'tp': 574}, 7: {'fp': 394, 'fn': 525, 'tp': 343}}\n",
      "\n",
      "Currenlty on [ clean ] version\n",
      "Predicted match stats: {1: {'fp': 410, 'fn': 375, 'tp': 1492}, 2: {'fp': 1111, 'fn': 997, 'tp': 2112}, 3: {'fp': 3166, 'fn': 2766, 'tp': 6467}, 4: {'fp': 5306, 'fn': 4120, 'tp': 5957}, 5: {'fp': 949, 'fn': 409, 'tp': 2313}, 6: {'fp': 463, 'fn': 643, 'tp': 545}, 7: {'fp': 472, 'fn': 603, 'tp': 265}}\n",
      "\n",
      "Currenlty on [ wonho ] version\n",
      "Predicted match stats: {1: {'fp': 393, 'fn': 353, 'tp': 1514}, 2: {'fp': 1044, 'fn': 961, 'tp': 2148}, 3: {'fp': 3294, 'fn': 2384, 'tp': 6849}, 4: {'fp': 4971, 'fn': 3921, 'tp': 6156}, 5: {'fp': 974, 'fn': 320, 'tp': 2402}, 6: {'fp': 416, 'fn': 643, 'tp': 545}, 7: {'fp': 425, 'fn': 599, 'tp': 269}}\n",
      "\n",
      "--------------------------------------------------\n",
      "Validation [ Bug ] 0.6474673855510417\n",
      "Validation [ Clean ] 0.614616077131035\n",
      "Validation [ Wonho ] 0.6301675226126177\n",
      "100%|███████████████████████████████████████| 3114/3114 [11:55<00:00,  4.35it/s]\n",
      "--------------------\n",
      "[ Filter ] - Process step 1\n",
      "                - alpha 0.8\n",
      "                - filter accuracy threshold 0.6\n",
      "             Total texts 12454\n",
      "             Clean texts 6691 (53.73 %)\n",
      "-------------------- \n",
      "\n",
      "[ TRAIN ] epoch 2 lr 0.0000100 loss:  0.8793: 100%|█| 1673/1673 [33:59<00:00,  1\n",
      "100%|█████████████████████████████████████████| 785/785 [03:01<00:00,  4.34it/s]\n",
      "Currenlty on [ bug ] version\n",
      "Predicted match stats: {1: {'fp': 368, 'fn': 330, 'tp': 1537}, 2: {'fp': 1121, 'fn': 989, 'tp': 2120}, 3: {'fp': 2306, 'fn': 2756, 'tp': 6477}, 4: {'fp': 3570, 'fn': 4087, 'tp': 5990}, 5: {'fp': 566, 'fn': 440, 'tp': 2282}, 6: {'fp': 659, 'fn': 537, 'tp': 651}, 7: {'fp': 566, 'fn': 476, 'tp': 392}}\n",
      "\n",
      "Currenlty on [ clean ] version\n",
      "Predicted match stats: {1: {'fp': 382, 'fn': 344, 'tp': 1523}, 2: {'fp': 1094, 'fn': 962, 'tp': 2147}, 3: {'fp': 2439, 'fn': 2889, 'tp': 6344}, 4: {'fp': 3796, 'fn': 4313, 'tp': 5764}, 5: {'fp': 614, 'fn': 488, 'tp': 2234}, 6: {'fp': 636, 'fn': 514, 'tp': 674}, 7: {'fp': 582, 'fn': 492, 'tp': 376}}\n",
      "\n",
      "Currenlty on [ wonho ] version\n",
      "Predicted match stats: {1: {'fp': 371, 'fn': 330, 'tp': 1537}, 2: {'fp': 1047, 'fn': 921, 'tp': 2188}, 3: {'fp': 2634, 'fn': 2437, 'tp': 6796}, 4: {'fp': 3511, 'fn': 4146, 'tp': 5931}, 5: {'fp': 636, 'fn': 396, 'tp': 2326}, 6: {'fp': 606, 'fn': 511, 'tp': 677}, 7: {'fp': 565, 'fn': 492, 'tp': 376}}\n",
      "\n",
      "--------------------------------------------------\n",
      "Validation [ Bug ] 0.6545327867707815\n",
      "Validation [ Clean ] 0.6469546856752839\n",
      "Validation [ Wonho ] 0.6603121466519724\n",
      "100%|███████████████████████████████████████| 3114/3114 [11:55<00:00,  4.35it/s]\n",
      "--------------------\n",
      "[ Filter ] - Process step 2\n",
      "                - alpha 0.8\n",
      "                - filter accuracy threshold 0.6\n",
      "             Total texts 12454\n",
      "             Clean texts 6927 (55.62 %)\n",
      "-------------------- \n",
      "\n",
      "[ TRAIN ] epoch 3 lr 0.0000100 loss:  0.8228: 100%|█| 1732/1732 [35:04<00:00,  1\n",
      "100%|█████████████████████████████████████████| 785/785 [03:01<00:00,  4.33it/s]\n",
      "Currenlty on [ bug ] version\n",
      "Predicted match stats: {1: {'fp': 346, 'fn': 308, 'tp': 1559}, 2: {'fp': 1037, 'fn': 956, 'tp': 2153}, 3: {'fp': 2402, 'fn': 2608, 'tp': 6625}, 4: {'fp': 4702, 'fn': 3365, 'tp': 6712}, 5: {'fp': 726, 'fn': 351, 'tp': 2371}, 6: {'fp': 564, 'fn': 539, 'tp': 649}, 7: {'fp': 554, 'fn': 468, 'tp': 400}}\n",
      "\n",
      "Currenlty on [ clean ] version\n",
      "Predicted match stats: {1: {'fp': 355, 'fn': 317, 'tp': 1550}, 2: {'fp': 1022, 'fn': 941, 'tp': 2168}, 3: {'fp': 2637, 'fn': 2843, 'tp': 6390}, 4: {'fp': 4763, 'fn': 3426, 'tp': 6651}, 5: {'fp': 769, 'fn': 394, 'tp': 2328}, 6: {'fp': 568, 'fn': 543, 'tp': 645}, 7: {'fp': 572, 'fn': 486, 'tp': 382}}\n",
      "\n",
      "Currenlty on [ wonho ] version\n",
      "Predicted match stats: {1: {'fp': 352, 'fn': 310, 'tp': 1557}, 2: {'fp': 1006, 'fn': 896, 'tp': 2213}, 3: {'fp': 2710, 'fn': 2469, 'tp': 6764}, 4: {'fp': 4503, 'fn': 3305, 'tp': 6772}, 5: {'fp': 782, 'fn': 323, 'tp': 2399}, 6: {'fp': 544, 'fn': 540, 'tp': 648}, 7: {'fp': 548, 'fn': 484, 'tp': 384}}\n",
      "\n",
      "--------------------------------------------------\n",
      "Validation [ Bug ] 0.6650119683735605\n",
      "Validation [ Clean ] 0.6551126707745666\n",
      "Validation [ Wonho ] 0.6665137947884342\n"
     ]
    },
    {
     "name": "stdout",
     "output_type": "stream",
     "text": [
      "100%|███████████████████████████████████████| 3114/3114 [11:56<00:00,  4.35it/s]\n",
      "--------------------\n",
      "[ Filter ] - Process step 3\n",
      "                - alpha 0.8\n",
      "                - filter accuracy threshold 0.6\n",
      "             Total texts 12454\n",
      "             Clean texts 7037 (56.50 %)\n",
      "-------------------- \n",
      "\n",
      "[ TRAIN ] epoch 4 lr 0.0000100 loss:  0.7712: 100%|█| 1760/1760 [35:20<00:00,  1\n",
      "100%|█████████████████████████████████████████| 785/785 [03:01<00:00,  4.34it/s]\n",
      "Currenlty on [ bug ] version\n",
      "Predicted match stats: {1: {'fp': 307, 'fn': 335, 'tp': 1532}, 2: {'fp': 1187, 'fn': 893, 'tp': 2216}, 3: {'fp': 2260, 'fn': 2567, 'tp': 6666}, 4: {'fp': 3885, 'fn': 3887, 'tp': 6190}, 5: {'fp': 546, 'fn': 422, 'tp': 2300}, 6: {'fp': 560, 'fn': 541, 'tp': 647}, 7: {'fp': 516, 'fn': 490, 'tp': 378}}\n",
      "\n",
      "Currenlty on [ clean ] version\n",
      "Predicted match stats: {1: {'fp': 336, 'fn': 364, 'tp': 1503}, 2: {'fp': 1221, 'fn': 927, 'tp': 2182}, 3: {'fp': 2377, 'fn': 2684, 'tp': 6549}, 4: {'fp': 3867, 'fn': 3869, 'tp': 6208}, 5: {'fp': 570, 'fn': 446, 'tp': 2276}, 6: {'fp': 575, 'fn': 556, 'tp': 632}, 7: {'fp': 531, 'fn': 505, 'tp': 363}}\n",
      "\n",
      "Currenlty on [ wonho ] version\n",
      "Predicted match stats: {1: {'fp': 326, 'fn': 349, 'tp': 1518}, 2: {'fp': 1160, 'fn': 881, 'tp': 2228}, 3: {'fp': 2464, 'fn': 2324, 'tp': 6909}, 4: {'fp': 3660, 'fn': 3732, 'tp': 6345}, 5: {'fp': 606, 'fn': 372, 'tp': 2350}, 6: {'fp': 542, 'fn': 551, 'tp': 637}, 7: {'fp': 513, 'fn': 502, 'tp': 366}}\n",
      "\n",
      "--------------------------------------------------\n",
      "Validation [ Bug ] 0.6644813079482236\n",
      "Validation [ Clean ] 0.6537148510051655\n",
      "Validation [ Wonho ] 0.666218639469948\n",
      "Epoch     4: reducing learning rate of group 0 to 8.0000e-06.\n",
      "Epoch     4: reducing learning rate of group 1 to 8.0000e-06.\n",
      "100%|███████████████████████████████████████| 3114/3114 [11:55<00:00,  4.35it/s]\n",
      "--------------------\n",
      "[ Filter ] - Process step 4\n",
      "                - alpha 0.8\n",
      "                - filter accuracy threshold 0.6\n",
      "             Total texts 12454\n",
      "             Clean texts 7111 (57.10 %)\n",
      "-------------------- \n",
      "\n",
      "[ TRAIN ] epoch 5 lr 0.0000080 loss:  0.7230:  10%| | 175/1778 [03:53<22:13,  1."
     ]
    }
   ],
   "source": [
    "!python train.py --device 2 --wandb --wandb_comment \"online_noise_filtering0.6_no_wd\" --weight_decay 0.0 --noise_filter_acc_thres 0.6 --epochs 12 --noise_filter --online --optimizer adamw"
   ]
  }
 ],
 "metadata": {
  "kernelspec": {
   "display_name": "Python 3 (ipykernel)",
   "language": "python",
   "name": "python3"
  },
  "language_info": {
   "codemirror_mode": {
    "name": "ipython",
    "version": 3
   },
   "file_extension": ".py",
   "mimetype": "text/x-python",
   "name": "python",
   "nbconvert_exporter": "python",
   "pygments_lexer": "ipython3",
   "version": "3.7.12"
  },
  "toc": {
   "base_numbering": 1,
   "nav_menu": {},
   "number_sections": false,
   "sideBar": true,
   "skip_h1_title": false,
   "title_cell": "Table of Contents",
   "title_sidebar": "Contents",
   "toc_cell": false,
   "toc_position": {
    "height": "calc(100% - 180px)",
    "left": "10px",
    "top": "150px",
    "width": "282.242px"
   },
   "toc_section_display": true,
   "toc_window_display": true
  }
 },
 "nbformat": 4,
 "nbformat_minor": 5
}
