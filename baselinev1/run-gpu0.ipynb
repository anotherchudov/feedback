{
 "cells": [
  {
   "cell_type": "markdown",
   "id": "61afee34",
   "metadata": {},
   "source": [
    "# run training\n",
    "\n",
    "> notebook to run the `train.py` file"
   ]
  },
  {
   "cell_type": "code",
   "execution_count": 3,
   "id": "4f259f5d",
   "metadata": {
    "ExecuteTime": {
     "end_time": "2022-02-26T02:58:00.112394Z",
     "start_time": "2022-02-26T02:58:00.108480Z"
    }
   },
   "outputs": [],
   "source": [
    "install_pytorch = False\n",
    "if install_pytorch:\n",
    "    !pip install torch==1.8.1+cu111 torchvision==0.9.1+cu111 torchaudio===0.8.1 -f https://download.pytorch.org/whl/torch_stable.html"
   ]
  },
  {
   "cell_type": "markdown",
   "id": "93c8c22e",
   "metadata": {},
   "source": [
    "## Single GPU"
   ]
  },
  {
   "cell_type": "code",
   "execution_count": null,
   "id": "80571bec",
   "metadata": {
    "ExecuteTime": {
     "start_time": "2022-03-12T08:51:29.716Z"
    },
    "scrolled": true
   },
   "outputs": [
    {
     "name": "stdout",
     "output_type": "stream",
     "text": [
      "\u001b[34m\u001b[1mwandb\u001b[0m: Currently logged in as: \u001b[33mducky\u001b[0m (use `wandb login --relogin` to force relogin)\n",
      "\u001b[34m\u001b[1mwandb\u001b[0m: wandb version 0.12.11 is available!  To upgrade, please run:\n",
      "\u001b[34m\u001b[1mwandb\u001b[0m:  $ pip install wandb --upgrade\n",
      "\u001b[34m\u001b[1mwandb\u001b[0m: Tracking run with wandb version 0.12.10\n",
      "\u001b[34m\u001b[1mwandb\u001b[0m: Syncing run \u001b[33micy-glade-296\u001b[0m\n",
      "\u001b[34m\u001b[1mwandb\u001b[0m: ⭐️ View project at \u001b[34m\u001b[4mhttps://wandb.ai/ducky/feedback_deberta_large\u001b[0m\n",
      "\u001b[34m\u001b[1mwandb\u001b[0m: 🚀 View run at \u001b[34m\u001b[4mhttps://wandb.ai/ducky/feedback_deberta_large/runs/8so1jemy\u001b[0m\n",
      "\u001b[34m\u001b[1mwandb\u001b[0m: Run data is saved locally in /home/feedback/working/feedback_ducky/baselinev1/wandb/run-20220312_085140-8so1jemy\n",
      "\u001b[34m\u001b[1mwandb\u001b[0m: Run `wandb offline` to turn off syncing.\n",
      "\n",
      "Namespace(back_translation=False, batch_size=4, ce_weight=0.9, cnn1d=True, const_loss_weight=10.0, criterion_list=['custom_ce'], criterion_ratio=[1.0], cycle_mult=1.0, data_prefix='', dataset_path='../../feedback-prize-2021', dataset_version=2, ddp=False, decay_bias=False, device=device(type='cuda', index=0), dropout_ratio=0.0, epochs=20, extra_dense=False, gamma=0.9, grad_acc_steps=1, grad_checkpt=True, grammer_correction=False, label_smoothing=0.1, local_rank=-1, lr=1e-05, max_grad_norm=1.0, mean_teacher_alpha=0.99, min_len=0, min_lr=1e-06, model='microsoft/deberta-v3-large-ducky', momentum=0.9, nesterov=True, noise_filter=True, noise_filter_acc_thres=0.4, noise_filter_alpha=0.99, noise_injection=False, noise_injection_prob=0.5, num_worker=8, online_dataset=True, optimizer='adamw', print_f1_per_step=500, random_deletion=False, random_deletion_prob=0.5, random_deletion_ratio=0.1, random_insertion=False, random_insertion_prob=0.5, rank=-1, rce_weight=0.1, save_cache=False, save_cache_dir='augmentation', save_path='result', scheduler='plateau', seed=0, start_eval_at=0, swa=False, swa_start_ratio=0.1, swa_update_per_epoch=1, swap_order=False, swap_order_prob=0.5, synonym_replacement=False, synonym_replacement_prob=0.5, text_aug_min_len=15, use_double_space=False, use_groupped_weights=False, use_space=False, val_fold=0, wandb=True, wandb_comment='online_no_wd_noise_filtering0.4_mean_teacher0.99_cnn1d', wandb_project='feedback_deberta_large', wandb_user='ducky', warmup_steps=500, weight_decay=0.0, weights_pow=0.1, word2vec=False, word2vec_prob=0.5)\n",
      "[ Text Augmenter ] Initializing\n",
      "[ Text Augmenter ] EDA - Easy Data Augmentation model\n",
      "[ Text Augmenter ] Initializing tokenizer...\n",
      "Special tokens have been added in the vocabulary, make sure the associated word embeddings are fine-tuned or trained.\n",
      "Special tokens have been added in the vocabulary, make sure the associated word embeddings are fine-tuned or trained.\n",
      "[ Text Augmenter ] Initializing Train data\n",
      "100%|████████████████████████████████████| 12454/12454 [00:48<00:00, 256.10it/s]\n",
      "[ Text Augmenter ] Initializing\n",
      "[ Text Augmenter ] EDA - Easy Data Augmentation model\n",
      "[ Text Augmenter ] Initializing tokenizer...\n",
      "Special tokens have been added in the vocabulary, make sure the associated word embeddings are fine-tuned or trained.\n",
      "Special tokens have been added in the vocabulary, make sure the associated word embeddings are fine-tuned or trained.\n",
      "[ Text Augmenter ] Initializing Valid data\n",
      "100%|██████████████████████████████████████| 3140/3140 [00:11<00:00, 262.40it/s]\n",
      "\n",
      "Using Ducky Modified DebertaV2\n",
      "\n",
      "Some weights of the model checkpoint at microsoft/deberta-v3-large were not used when initializing DebertaV2Model: ['lm_predictions.lm_head.dense.weight', 'mask_predictions.dense.bias', 'mask_predictions.dense.weight', 'mask_predictions.classifier.bias', 'mask_predictions.LayerNorm.weight', 'mask_predictions.classifier.weight', 'lm_predictions.lm_head.dense.bias', 'lm_predictions.lm_head.LayerNorm.weight', 'lm_predictions.lm_head.LayerNorm.bias', 'lm_predictions.lm_head.bias', 'mask_predictions.LayerNorm.bias']\n",
      "- This IS expected if you are initializing DebertaV2Model from the checkpoint of a model trained on another task or with another architecture (e.g. initializing a BertForSequenceClassification model from a BertForPreTraining model).\n",
      "- This IS NOT expected if you are initializing DebertaV2Model from the checkpoint of a model that you expect to be exactly identical (initializing a BertForSequenceClassification model from a BertForSequenceClassification model).\n",
      "[ TRAIN ] epoch 1 lr 0.0000100 loss:  1.5631: 100%|█| 3114/3114 [1:11:07<00:00, \n",
      "100%|█████████████████████████████████████████| 785/785 [03:07<00:00,  4.20it/s]\n",
      "Currenlty on [ bug ] version\n",
      "Predicted match stats: {1: {'fp': 2236, 'fn': 322, 'tp': 1545}, 2: {'fp': 932, 'fn': 1095, 'tp': 2014}, 3: {'fp': 2437, 'fn': 3115, 'tp': 6118}, 4: {'fp': 3925, 'fn': 4360, 'tp': 5717}, 5: {'fp': 824, 'fn': 417, 'tp': 2305}, 6: {'fp': 411, 'fn': 741, 'tp': 447}, 7: {'fp': 276, 'fn': 630, 'tp': 238}}\n",
      "\n",
      "Currenlty on [ clean ] version\n",
      "Predicted match stats: {1: {'fp': 2246, 'fn': 332, 'tp': 1535}, 2: {'fp': 890, 'fn': 1053, 'tp': 2056}, 3: {'fp': 2595, 'fn': 3273, 'tp': 5960}, 4: {'fp': 4412, 'fn': 4847, 'tp': 5230}, 5: {'fp': 1042, 'fn': 635, 'tp': 2087}, 6: {'fp': 332, 'fn': 662, 'tp': 526}, 7: {'fp': 252, 'fn': 606, 'tp': 262}}\n",
      "\n",
      "Currenlty on [ wonho ] version\n",
      "Predicted match stats: {1: {'fp': 2263, 'fn': 314, 'tp': 1553}, 2: {'fp': 857, 'fn': 1008, 'tp': 2101}, 3: {'fp': 2975, 'fn': 2552, 'tp': 6681}, 4: {'fp': 4134, 'fn': 4531, 'tp': 5546}, 5: {'fp': 937, 'fn': 396, 'tp': 2326}, 6: {'fp': 335, 'fn': 656, 'tp': 532}, 7: {'fp': 250, 'fn': 588, 'tp': 280}}\n",
      "\n",
      "--------------------------------------------------\n",
      "100%|█████████████████████████████████████████| 785/785 [03:06<00:00,  4.21it/s]\n",
      "Currenlty on [ Mean Teacher bug ] version\n",
      "Predicted match stats: {1: {'fp': 2378, 'fn': 307, 'tp': 1560}, 2: {'fp': 893, 'fn': 1119, 'tp': 1990}, 3: {'fp': 2432, 'fn': 3055, 'tp': 6178}, 4: {'fp': 4119, 'fn': 4186, 'tp': 5891}, 5: {'fp': 799, 'fn': 442, 'tp': 2280}, 6: {'fp': 427, 'fn': 749, 'tp': 439}, 7: {'fp': 273, 'fn': 638, 'tp': 230}}\n",
      "\n",
      "Currenlty on [ Mean Teacher clean ] version\n",
      "Predicted match stats: {1: {'fp': 2375, 'fn': 304, 'tp': 1563}, 2: {'fp': 841, 'fn': 1067, 'tp': 2042}, 3: {'fp': 2664, 'fn': 3287, 'tp': 5946}, 4: {'fp': 4404, 'fn': 4471, 'tp': 5606}, 5: {'fp': 975, 'fn': 618, 'tp': 2104}, 6: {'fp': 330, 'fn': 652, 'tp': 536}, 7: {'fp': 228, 'fn': 593, 'tp': 275}}\n",
      "\n",
      "Currenlty on [ Mean Teacher wonho ] version\n",
      "Predicted match stats: {1: {'fp': 2395, 'fn': 291, 'tp': 1576}, 2: {'fp': 821, 'fn': 1028, 'tp': 2081}, 3: {'fp': 3013, 'fn': 2561, 'tp': 6672}, 4: {'fp': 4149, 'fn': 4148, 'tp': 5929}, 5: {'fp': 911, 'fn': 420, 'tp': 2302}, 6: {'fp': 333, 'fn': 646, 'tp': 542}, 7: {'fp': 238, 'fn': 575, 'tp': 293}}\n",
      "\n",
      "--------------------------------------------------\n",
      "Mean Teacher Validation [ Bug ] 0.5756815888318912\n",
      "Mean Teacher Validation [ Clean ] 0.5847423151667313\n",
      "Mean Teacher Validation [ Wonho ] 0.6065806696009365\n",
      "Validation [ Bug ] 0.5784765704278927\n",
      "Validation [ Clean ] 0.5757068464370603\n",
      "Validation [ Wonho ] 0.6005098659838018\n",
      "100%|███████████████████████████████████████| 3114/3114 [12:17<00:00,  4.22it/s]\n",
      "--------------------\n",
      "[ Filter ] - Process step 1\n",
      "                - alpha 0.99\n",
      "                - filter accuracy threshold 0.4\n",
      "             Total texts 12454\n",
      "             Clean texts 10370 (83.27 %)\n",
      "-------------------- \n",
      "\n",
      "[ TRAIN ] epoch 2 lr 0.0000100 loss:  1.0665: 100%|█| 2593/2593 [1:02:58<00:00, \n",
      "100%|█████████████████████████████████████████| 785/785 [03:06<00:00,  4.20it/s]\n",
      "Currenlty on [ bug ] version\n",
      "Predicted match stats: {1: {'fp': 523, 'fn': 309, 'tp': 1558}, 2: {'fp': 850, 'fn': 1083, 'tp': 2026}, 3: {'fp': 2420, 'fn': 2828, 'tp': 6405}, 4: {'fp': 3783, 'fn': 4051, 'tp': 6026}, 5: {'fp': 600, 'fn': 441, 'tp': 2281}, 6: {'fp': 495, 'fn': 602, 'tp': 586}, 7: {'fp': 434, 'fn': 534, 'tp': 334}}\n",
      "\n",
      "Currenlty on [ clean ] version\n",
      "Predicted match stats: {1: {'fp': 515, 'fn': 301, 'tp': 1566}, 2: {'fp': 821, 'fn': 1054, 'tp': 2055}, 3: {'fp': 2634, 'fn': 3042, 'tp': 6191}, 4: {'fp': 3773, 'fn': 4041, 'tp': 6036}, 5: {'fp': 682, 'fn': 523, 'tp': 2199}, 6: {'fp': 471, 'fn': 578, 'tp': 610}, 7: {'fp': 413, 'fn': 513, 'tp': 355}}\n",
      "\n",
      "Currenlty on [ wonho ] version\n",
      "Predicted match stats: {1: {'fp': 540, 'fn': 282, 'tp': 1585}, 2: {'fp': 788, 'fn': 1008, 'tp': 2101}, 3: {'fp': 2849, 'fn': 2462, 'tp': 6771}, 4: {'fp': 3597, 'fn': 3810, 'tp': 6267}, 5: {'fp': 691, 'fn': 413, 'tp': 2309}, 6: {'fp': 451, 'fn': 574, 'tp': 614}, 7: {'fp': 401, 'fn': 505, 'tp': 363}}\n",
      "\n",
      "--------------------------------------------------\n"
     ]
    },
    {
     "name": "stdout",
     "output_type": "stream",
     "text": [
      "100%|█████████████████████████████████████████| 785/785 [03:06<00:00,  4.21it/s]\n",
      "Currenlty on [ Mean Teacher bug ] version\n",
      "Predicted match stats: {1: {'fp': 512, 'fn': 310, 'tp': 1557}, 2: {'fp': 893, 'fn': 1036, 'tp': 2073}, 3: {'fp': 2544, 'fn': 2824, 'tp': 6409}, 4: {'fp': 3771, 'fn': 4016, 'tp': 6061}, 5: {'fp': 734, 'fn': 409, 'tp': 2313}, 6: {'fp': 502, 'fn': 607, 'tp': 581}, 7: {'fp': 459, 'fn': 533, 'tp': 335}}\n",
      "\n",
      "Currenlty on [ Mean Teacher clean ] version\n",
      "Predicted match stats: {1: {'fp': 517, 'fn': 315, 'tp': 1552}, 2: {'fp': 861, 'fn': 1004, 'tp': 2105}, 3: {'fp': 2736, 'fn': 3016, 'tp': 6217}, 4: {'fp': 3851, 'fn': 4096, 'tp': 5981}, 5: {'fp': 801, 'fn': 476, 'tp': 2246}, 6: {'fp': 468, 'fn': 573, 'tp': 615}, 7: {'fp': 435, 'fn': 509, 'tp': 359}}\n",
      "\n",
      "Currenlty on [ Mean Teacher wonho ] version\n",
      "Predicted match stats: {1: {'fp': 536, 'fn': 295, 'tp': 1572}, 2: {'fp': 835, 'fn': 962, 'tp': 2147}, 3: {'fp': 2935, 'fn': 2453, 'tp': 6780}, 4: {'fp': 3622, 'fn': 3877, 'tp': 6200}, 5: {'fp': 820, 'fn': 386, 'tp': 2336}, 6: {'fp': 452, 'fn': 570, 'tp': 618}, 7: {'fp': 417, 'fn': 502, 'tp': 366}}\n",
      "\n",
      "--------------------------------------------------\n",
      "Mean Teacher Validation [ Bug ] 0.6434279465237669\n",
      "Mean Teacher Validation [ Clean ] 0.6454906102764209\n",
      "Mean Teacher Validation [ Wonho ] 0.6600415070521214\n",
      "Validation [ Bug ] 0.6458240593277761\n",
      "Validation [ Clean ] 0.6470533359454603\n",
      "Validation [ Wonho ] 0.6626382700061704\n",
      "100%|███████████████████████████████████████| 3114/3114 [12:17<00:00,  4.22it/s]\n",
      "--------------------\n",
      "[ Filter ] - Process step 2\n",
      "                - alpha 0.99\n",
      "                - filter accuracy threshold 0.4\n",
      "             Total texts 12454\n",
      "             Clean texts 10443 (83.85 %)\n",
      "-------------------- \n",
      "\n",
      "[ TRAIN ] epoch 3 lr 0.0000100 loss:  0.9998:  40%|▍| 1053/2611 [25:47<42:17,  1"
     ]
    }
   ],
   "source": [
    "!python train.py --device 0 --wandb --wandb_comment \"online_no_wd_noise_filtering0.4_mean_teacher0.99_cnn1d\" --cnn1d True --online --epochs 20 --noise_filter_acc_thres 0.4 --noise_filter --optimizer adamw --weight_decay 0.0"
   ]
  }
 ],
 "metadata": {
  "kernelspec": {
   "display_name": "Python 3 (ipykernel)",
   "language": "python",
   "name": "python3"
  },
  "language_info": {
   "codemirror_mode": {
    "name": "ipython",
    "version": 3
   },
   "file_extension": ".py",
   "mimetype": "text/x-python",
   "name": "python",
   "nbconvert_exporter": "python",
   "pygments_lexer": "ipython3",
   "version": "3.7.12"
  },
  "toc": {
   "base_numbering": 1,
   "nav_menu": {},
   "number_sections": false,
   "sideBar": true,
   "skip_h1_title": false,
   "title_cell": "Table of Contents",
   "title_sidebar": "Contents",
   "toc_cell": false,
   "toc_position": {
    "height": "calc(100% - 180px)",
    "left": "10px",
    "top": "150px",
    "width": "282.255px"
   },
   "toc_section_display": true,
   "toc_window_display": true
  }
 },
 "nbformat": 4,
 "nbformat_minor": 5
}
