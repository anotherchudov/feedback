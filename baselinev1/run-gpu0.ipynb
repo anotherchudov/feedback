{
 "cells": [
  {
   "cell_type": "markdown",
   "id": "61afee34",
   "metadata": {},
   "source": [
    "# run training\n",
    "\n",
    "> notebook to run the `train.py` file"
   ]
  },
  {
   "cell_type": "code",
   "execution_count": 3,
   "id": "4f259f5d",
   "metadata": {
    "ExecuteTime": {
     "end_time": "2022-02-26T02:58:00.112394Z",
     "start_time": "2022-02-26T02:58:00.108480Z"
    }
   },
   "outputs": [],
   "source": [
    "install_pytorch = False\n",
    "if install_pytorch:\n",
    "    !pip install torch==1.8.1+cu111 torchvision==0.9.1+cu111 torchaudio===0.8.1 -f https://download.pytorch.org/whl/torch_stable.html"
   ]
  },
  {
   "cell_type": "markdown",
   "id": "93c8c22e",
   "metadata": {},
   "source": [
    "## Single GPU"
   ]
  },
  {
   "cell_type": "code",
   "execution_count": null,
   "id": "80571bec",
   "metadata": {
    "ExecuteTime": {
     "start_time": "2022-03-08T14:03:18.928Z"
    },
    "scrolled": true
   },
   "outputs": [
    {
     "name": "stdout",
     "output_type": "stream",
     "text": [
      "\u001b[34m\u001b[1mwandb\u001b[0m: Currently logged in as: \u001b[33mducky\u001b[0m (use `wandb login --relogin` to force relogin)\n",
      "\u001b[34m\u001b[1mwandb\u001b[0m: wandb version 0.12.11 is available!  To upgrade, please run:\n",
      "\u001b[34m\u001b[1mwandb\u001b[0m:  $ pip install wandb --upgrade\n",
      "\u001b[34m\u001b[1mwandb\u001b[0m: Tracking run with wandb version 0.12.10\n",
      "\u001b[34m\u001b[1mwandb\u001b[0m: Syncing run \u001b[33mazure-paper-218\u001b[0m\n",
      "\u001b[34m\u001b[1mwandb\u001b[0m: ⭐️ View project at \u001b[34m\u001b[4mhttps://wandb.ai/ducky/feedback_deberta_large\u001b[0m\n",
      "\u001b[34m\u001b[1mwandb\u001b[0m: 🚀 View run at \u001b[34m\u001b[4mhttps://wandb.ai/ducky/feedback_deberta_large/runs/2vnwn427\u001b[0m\n",
      "\u001b[34m\u001b[1mwandb\u001b[0m: Run data is saved locally in /home/feedback/working/feedback_ducky/baselinev1/wandb/run-20220308_140331-2vnwn427\n",
      "\u001b[34m\u001b[1mwandb\u001b[0m: Run `wandb offline` to turn off syncing.\n",
      "\n",
      "Namespace(back_translation=False, batch_size=4, ce_weight=0.9, cnn1d=False, criterion_list=['custom_ce'], criterion_ratio=[1.0], cycle_mult=1.0, data_prefix='', dataset_path='../../feedback-prize-2021', dataset_version=2, ddp=False, decay_bias=False, device=device(type='cuda', index=0), dropout_ratio=0.0, epochs=9, extra_dense=False, gamma=0.9, grad_acc_steps=1, grad_checkpt=True, grammer_correction=False, label_smoothing=0.1, local_rank=-1, lr=1e-05, max_grad_norm=1.0, min_len=0, min_lr=1e-06, model='microsoft/deberta-v3-large-ducky', momentum=0.9, nesterov=True, noise_injection=False, noise_injection_prob=0.5, num_worker=8, online_dataset=True, optimizer='adamw', print_f1_per_step=500, random_deletion=True, random_deletion_prob=0.5, random_deletion_ratio=0.2, random_insertion=False, random_insertion_prob=0.5, rank=-1, rce_weight=0.1, save_cache=False, save_cache_dir='augmentation', save_path='result', scheduler='plateau', seed=0, start_eval_at=0, swa=True, swa_start_ratio=0.1, swa_update_per_epoch=3, swap_order=False, swap_order_prob=0.5, synonym_replacement=False, synonym_replacement_prob=0.5, text_aug_min_len=15, use_groupped_weights=False, val_fold=0, wandb=True, wandb_comment='swa_ce_swa3_online_random_deletion0.2', wandb_project='feedback_deberta_large', wandb_user='ducky', warmup_steps=500, weight_decay=0.01, weights_pow=0.1, word2vec=False, word2vec_prob=0.5)\n",
      "[ Text Augmenter ] Initializing\n",
      "[ Text Augmenter ] EDA - Easy Data Augmentation model\n",
      "[ Text Augmenter ] Initializing tokenizer...\n",
      "Special tokens have been added in the vocabulary, make sure the associated word embeddings are fine-tuned or trained.\n",
      "Special tokens have been added in the vocabulary, make sure the associated word embeddings are fine-tuned or trained.\n",
      "[ Text Augmenter ] Initializing Train data\n",
      "100%|████████████████████████████████████| 12454/12454 [00:48<00:00, 257.26it/s]\n",
      "[ Text Augmenter ] Initializing\n",
      "[ Text Augmenter ] EDA - Easy Data Augmentation model\n",
      "[ Text Augmenter ] Initializing tokenizer...\n",
      "Special tokens have been added in the vocabulary, make sure the associated word embeddings are fine-tuned or trained.\n",
      "Special tokens have been added in the vocabulary, make sure the associated word embeddings are fine-tuned or trained.\n",
      "[ Text Augmenter ] Initializing Valid data\n",
      "100%|██████████████████████████████████████| 3140/3140 [00:11<00:00, 265.23it/s]\n",
      "\n",
      "Using Ducky Modified DebertaV2\n",
      "\n",
      "Some weights of the model checkpoint at microsoft/deberta-v3-large were not used when initializing DebertaV2Model: ['mask_predictions.dense.weight', 'mask_predictions.LayerNorm.weight', 'lm_predictions.lm_head.dense.weight', 'mask_predictions.LayerNorm.bias', 'lm_predictions.lm_head.bias', 'mask_predictions.classifier.weight', 'mask_predictions.classifier.bias', 'lm_predictions.lm_head.LayerNorm.weight', 'lm_predictions.lm_head.LayerNorm.bias', 'lm_predictions.lm_head.dense.bias', 'mask_predictions.dense.bias']\n",
      "- This IS expected if you are initializing DebertaV2Model from the checkpoint of a model trained on another task or with another architecture (e.g. initializing a BertForSequenceClassification model from a BertForPreTraining model).\n",
      "- This IS NOT expected if you are initializing DebertaV2Model from the checkpoint of a model that you expect to be exactly identical (initializing a BertForSequenceClassification model from a BertForSequenceClassification model).\n",
      "[ SWA ] - Applied from 2 epochs\n",
      "[ TRAIN ] epoch 1 lr 0.0000100 loss:  1.1119: 100%|█| 3114/3114 [45:35<00:00,  1\n",
      "100%|█████████████████████████████████████████| 785/785 [03:00<00:00,  4.35it/s]\n",
      "Currenlty on [ bug ] version\n",
      "Predicted match stats: {1: {'fp': 521, 'fn': 354, 'tp': 1513}, 2: {'fp': 885, 'fn': 1190, 'tp': 1919}, 3: {'fp': 1874, 'fn': 3537, 'tp': 5696}, 4: {'fp': 4024, 'fn': 4362, 'tp': 5715}, 5: {'fp': 710, 'fn': 441, 'tp': 2281}, 6: {'fp': 368, 'fn': 743, 'tp': 445}, 7: {'fp': 265, 'fn': 634, 'tp': 234}}\n",
      "\n",
      "Currenlty on [ clean ] version\n",
      "Predicted match stats: {1: {'fp': 484, 'fn': 317, 'tp': 1550}, 2: {'fp': 855, 'fn': 1160, 'tp': 1949}, 3: {'fp': 1960, 'fn': 3623, 'tp': 5610}, 4: {'fp': 4777, 'fn': 5115, 'tp': 4962}, 5: {'fp': 797, 'fn': 528, 'tp': 2194}, 6: {'fp': 368, 'fn': 743, 'tp': 445}, 7: {'fp': 362, 'fn': 731, 'tp': 137}}\n",
      "\n",
      "Currenlty on [ wonho ] version\n",
      "Predicted match stats: {1: {'fp': 481, 'fn': 311, 'tp': 1556}, 2: {'fp': 839, 'fn': 1124, 'tp': 1985}, 3: {'fp': 2387, 'fn': 2762, 'tp': 6471}, 4: {'fp': 4366, 'fn': 4805, 'tp': 5272}, 5: {'fp': 806, 'fn': 404, 'tp': 2318}, 6: {'fp': 337, 'fn': 739, 'tp': 449}, 7: {'fp': 347, 'fn': 730, 'tp': 138}}\n",
      "\n",
      "--------------------------------------------------\n",
      "Validation [ Bug ] 0.6093172051841257\n",
      "Validation [ Clean ] 0.5765325923348132\n",
      "Validation [ Wonho ] 0.5954857550240092\n",
      "  0%|                                                  | 0/3114 [00:00<?, ?it/s]--------------------\n",
      "[ SWA ] - First update of the SWA model\n",
      "--------------------\n",
      "[ TRAIN ] epoch 2 lr 0.0000100 loss:  0.9800: 100%|█| 3114/3114 [45:26<00:00,  1\n",
      "100%|█████████████████████████████████████████| 785/785 [03:00<00:00,  4.34it/s]\n",
      "Currenlty on [ bug ] version\n",
      "Predicted match stats: {1: {'fp': 452, 'fn': 277, 'tp': 1590}, 2: {'fp': 1084, 'fn': 962, 'tp': 2147}, 3: {'fp': 2311, 'fn': 2826, 'tp': 6407}, 4: {'fp': 4227, 'fn': 3759, 'tp': 6318}, 5: {'fp': 819, 'fn': 392, 'tp': 2330}, 6: {'fp': 589, 'fn': 575, 'tp': 613}, 7: {'fp': 550, 'fn': 500, 'tp': 368}}\n",
      "\n",
      "Currenlty on [ clean ] version\n",
      "Predicted match stats: {1: {'fp': 478, 'fn': 303, 'tp': 1564}, 2: {'fp': 1070, 'fn': 948, 'tp': 2161}, 3: {'fp': 2545, 'fn': 3060, 'tp': 6173}, 4: {'fp': 4756, 'fn': 4288, 'tp': 5789}, 5: {'fp': 916, 'fn': 489, 'tp': 2233}, 6: {'fp': 572, 'fn': 558, 'tp': 630}, 7: {'fp': 555, 'fn': 505, 'tp': 363}}\n",
      "\n",
      "Currenlty on [ wonho ] version\n",
      "Predicted match stats: {1: {'fp': 466, 'fn': 289, 'tp': 1578}, 2: {'fp': 1015, 'fn': 902, 'tp': 2207}, 3: {'fp': 2675, 'fn': 2506, 'tp': 6727}, 4: {'fp': 4269, 'fn': 3966, 'tp': 6111}, 5: {'fp': 919, 'fn': 359, 'tp': 2363}, 6: {'fp': 542, 'fn': 553, 'tp': 635}, 7: {'fp': 533, 'fn': 501, 'tp': 367}}\n",
      "\n",
      "--------------------------------------------------\n",
      "Validation [ Bug ] 0.6480238294337253\n",
      "Validation [ Clean ] 0.6322126049337975\n",
      "Validation [ Wonho ] 0.6518400318704767\n",
      "[ TRAIN ] epoch 3 lr 0.0000100 loss:  0.9251:   8%| | 250/3114 [04:07<47:10,  1.\n",
      "100%|█████████████████████████████████████████| 785/785 [03:01<00:00,  4.33it/s]\n",
      "Currenlty on [ bug ] version\n",
      "Predicted match stats: {1: {'fp': 452, 'fn': 277, 'tp': 1590}, 2: {'fp': 1084, 'fn': 962, 'tp': 2147}, 3: {'fp': 2311, 'fn': 2826, 'tp': 6407}, 4: {'fp': 4227, 'fn': 3759, 'tp': 6318}, 5: {'fp': 819, 'fn': 392, 'tp': 2330}, 6: {'fp': 589, 'fn': 575, 'tp': 613}, 7: {'fp': 550, 'fn': 500, 'tp': 368}}\n",
      "\n",
      "Currenlty on [ clean ] version\n",
      "Predicted match stats: {1: {'fp': 478, 'fn': 303, 'tp': 1564}, 2: {'fp': 1070, 'fn': 948, 'tp': 2161}, 3: {'fp': 2545, 'fn': 3060, 'tp': 6173}, 4: {'fp': 4756, 'fn': 4288, 'tp': 5789}, 5: {'fp': 916, 'fn': 489, 'tp': 2233}, 6: {'fp': 572, 'fn': 558, 'tp': 630}, 7: {'fp': 555, 'fn': 505, 'tp': 363}}\n",
      "\n",
      "Currenlty on [ wonho ] version\n",
      "Predicted match stats: {1: {'fp': 466, 'fn': 289, 'tp': 1578}, 2: {'fp': 1015, 'fn': 902, 'tp': 2207}, 3: {'fp': 2675, 'fn': 2506, 'tp': 6727}, 4: {'fp': 4269, 'fn': 3966, 'tp': 6111}, 5: {'fp': 919, 'fn': 359, 'tp': 2363}, 6: {'fp': 542, 'fn': 553, 'tp': 635}, 7: {'fp': 533, 'fn': 501, 'tp': 367}}\n",
      "\n",
      "--------------------------------------------------\n"
     ]
    },
    {
     "name": "stdout",
     "output_type": "stream",
     "text": [
      "Validation [ Bug ] 0.6480238294337253\n",
      "Validation [ Clean ] 0.6322126049337975\n",
      "Validation [ Wonho ] 0.6518400318704767\n",
      "[ TRAIN ] epoch 4 lr 0.0000100 loss:  0.9254:  60%|▌| 1861/3114 [27:27<15:38,  1"
     ]
    }
   ],
   "source": [
    "!python train.py --device 0 --wandb --wandb_comment \"swa_ce_swa3_online_random_deletion0.2\" --online --random_deletion --random_deletion_ratio 0.2 --optimizer adamw --swa --swa_update_per_epoch 3 "
   ]
  },
  {
   "cell_type": "code",
   "execution_count": null,
   "id": "c9e4d7a8",
   "metadata": {
    "ExecuteTime": {
     "start_time": "2022-03-09T01:01:16.722Z"
    }
   },
   "outputs": [
    {
     "name": "stdout",
     "output_type": "stream",
     "text": [
      "\u001b[34m\u001b[1mwandb\u001b[0m: Currently logged in as: \u001b[33mducky\u001b[0m (use `wandb login --relogin` to force relogin)\n",
      "\u001b[34m\u001b[1mwandb\u001b[0m: wandb version 0.12.11 is available!  To upgrade, please run:\n",
      "\u001b[34m\u001b[1mwandb\u001b[0m:  $ pip install wandb --upgrade\n",
      "\u001b[34m\u001b[1mwandb\u001b[0m: Tracking run with wandb version 0.12.10\n",
      "\u001b[34m\u001b[1mwandb\u001b[0m: Syncing run \u001b[33mhelpful-tree-229\u001b[0m\n",
      "\u001b[34m\u001b[1mwandb\u001b[0m: ⭐️ View project at \u001b[34m\u001b[4mhttps://wandb.ai/ducky/feedback_deberta_large\u001b[0m\n",
      "\u001b[34m\u001b[1mwandb\u001b[0m: 🚀 View run at \u001b[34m\u001b[4mhttps://wandb.ai/ducky/feedback_deberta_large/runs/2rs0c2fc\u001b[0m\n",
      "\u001b[34m\u001b[1mwandb\u001b[0m: Run data is saved locally in /home/feedback/working/feedback_ducky/baselinev1/wandb/run-20220309_010125-2rs0c2fc\n",
      "\u001b[34m\u001b[1mwandb\u001b[0m: Run `wandb offline` to turn off syncing.\n",
      "\n",
      "Namespace(back_translation=False, batch_size=4, ce_weight=0.9, cnn1d=False, criterion_list=['custom_ce'], criterion_ratio=[1.0], cycle_mult=1.0, data_prefix='', dataset_path='../../feedback-prize-2021', dataset_version=2, ddp=False, decay_bias=False, device=device(type='cuda', index=0), dropout_ratio=0.0, epochs=9, extra_dense=False, gamma=0.9, grad_acc_steps=1, grad_checkpt=True, grammer_correction=False, label_smoothing=0.1, local_rank=-1, lr=1e-05, max_grad_norm=1.0, min_len=0, min_lr=1e-06, model='microsoft/deberta-v3-large-ducky', momentum=0.9, nesterov=True, noise_filter=False, noise_injection=False, noise_injection_prob=0.5, num_worker=8, online_dataset=True, optimizer='adamw', print_f1_per_step=500, random_deletion=True, random_deletion_prob=0.5, random_deletion_ratio=0.1, random_insertion=False, random_insertion_prob=0.5, rank=-1, rce_weight=0.1, save_cache=False, save_cache_dir='augmentation', save_path='result', scheduler='plateau', seed=0, start_eval_at=0, swa=True, swa_start_ratio=0.1, swa_update_per_epoch=100, swap_order=False, swap_order_prob=0.5, synonym_replacement=False, synonym_replacement_prob=0.5, text_aug_min_len=15, use_groupped_weights=False, val_fold=3, wandb=True, wandb_comment='swa_ce_swa100_online_random_deletion0.1', wandb_project='feedback_deberta_large', wandb_user='ducky', warmup_steps=500, weight_decay=0.01, weights_pow=0.1, word2vec=False, word2vec_prob=0.5)\n",
      "[ Text Augmenter ] Initializing\n",
      "[ Text Augmenter ] EDA - Easy Data Augmentation model\n",
      "[ Text Augmenter ] Initializing tokenizer...\n",
      "Special tokens have been added in the vocabulary, make sure the associated word embeddings are fine-tuned or trained.\n",
      "Special tokens have been added in the vocabulary, make sure the associated word embeddings are fine-tuned or trained.\n",
      "[ Text Augmenter ] Initializing Train data\n",
      "100%|████████████████████████████████████| 12498/12498 [00:48<00:00, 256.64it/s]\n",
      "[ Text Augmenter ] Initializing\n",
      "[ Text Augmenter ] EDA - Easy Data Augmentation model\n",
      "[ Text Augmenter ] Initializing tokenizer...\n",
      "Special tokens have been added in the vocabulary, make sure the associated word embeddings are fine-tuned or trained.\n",
      "Special tokens have been added in the vocabulary, make sure the associated word embeddings are fine-tuned or trained.\n",
      "[ Text Augmenter ] Initializing Valid data\n",
      "100%|██████████████████████████████████████| 3096/3096 [00:11<00:00, 260.76it/s]\n",
      "\n",
      "Using Ducky Modified DebertaV2\n",
      "\n",
      "Some weights of the model checkpoint at microsoft/deberta-v3-large were not used when initializing DebertaV2Model: ['mask_predictions.classifier.weight', 'lm_predictions.lm_head.bias', 'mask_predictions.dense.bias', 'lm_predictions.lm_head.dense.bias', 'lm_predictions.lm_head.LayerNorm.weight', 'mask_predictions.dense.weight', 'lm_predictions.lm_head.LayerNorm.bias', 'lm_predictions.lm_head.dense.weight', 'mask_predictions.LayerNorm.weight', 'mask_predictions.LayerNorm.bias', 'mask_predictions.classifier.bias']\n",
      "- This IS expected if you are initializing DebertaV2Model from the checkpoint of a model trained on another task or with another architecture (e.g. initializing a BertForSequenceClassification model from a BertForPreTraining model).\n",
      "- This IS NOT expected if you are initializing DebertaV2Model from the checkpoint of a model that you expect to be exactly identical (initializing a BertForSequenceClassification model from a BertForSequenceClassification model).\n",
      "[ SWA ] - Applied from 2 epochs\n",
      "[ TRAIN ] epoch 1 lr 0.0000100 loss:  1.0881: 100%|▉| 3124/3125 [49:38<00:01,  1--------------------\n",
      "[ SWA ] - First update of the SWA model\n",
      "--------------------\n",
      "[ TRAIN ] epoch 1 lr 0.0000100 loss:  1.0881: 100%|█| 3125/3125 [49:38<00:00,  1\n",
      "100%|█████████████████████████████████████████| 774/774 [03:04<00:00,  4.19it/s]\n",
      "Currenlty on [ bug ] version\n",
      "Predicted match stats: {1: {'fp': 439, 'fn': 293, 'tp': 1547}, 2: {'fp': 938, 'fn': 1106, 'tp': 1955}, 3: {'fp': 2270, 'fn': 2757, 'tp': 6326}, 4: {'fp': 4378, 'fn': 4017, 'tp': 5862}, 5: {'fp': 767, 'fn': 380, 'tp': 2313}, 6: {'fp': 484, 'fn': 618, 'tp': 529}, 7: {'fp': 387, 'fn': 598, 'tp': 269}}\n",
      "\n",
      "Currenlty on [ clean ] version\n",
      "Predicted match stats: {1: {'fp': 475, 'fn': 329, 'tp': 1511}, 2: {'fp': 970, 'fn': 1138, 'tp': 1923}, 3: {'fp': 2445, 'fn': 2932, 'tp': 6151}, 4: {'fp': 4785, 'fn': 4424, 'tp': 5455}, 5: {'fp': 891, 'fn': 504, 'tp': 2189}, 6: {'fp': 499, 'fn': 633, 'tp': 514}, 7: {'fp': 412, 'fn': 623, 'tp': 244}}\n",
      "\n",
      "Currenlty on [ wonho ] version\n",
      "Predicted match stats: {1: {'fp': 463, 'fn': 314, 'tp': 1526}, 2: {'fp': 849, 'fn': 1097, 'tp': 1964}, 3: {'fp': 2631, 'fn': 2431, 'tp': 6652}, 4: {'fp': 4327, 'fn': 4067, 'tp': 5812}, 5: {'fp': 881, 'fn': 335, 'tp': 2358}, 6: {'fp': 470, 'fn': 632, 'tp': 515}, 7: {'fp': 378, 'fn': 620, 'tp': 247}}\n",
      "\n",
      "--------------------------------------------------\n",
      "Validation [ Bug ] 0.6297349110161938\n",
      "Validation [ Clean ] 0.604091784851917\n",
      "Validation [ Wonho ] 0.6257239541635092\n",
      "[ TRAIN ] epoch 2 lr 0.0000100 loss:  0.9590: 100%|█| 3125/3125 [49:44<00:00,  1\n",
      "100%|█████████████████████████████████████████| 774/774 [03:05<00:00,  4.17it/s]\n",
      "Currenlty on [ bug ] version\n",
      "Predicted match stats: {1: {'fp': 399, 'fn': 272, 'tp': 1568}, 2: {'fp': 964, 'fn': 940, 'tp': 2121}, 3: {'fp': 2141, 'fn': 2629, 'tp': 6454}, 4: {'fp': 4417, 'fn': 3427, 'tp': 6452}, 5: {'fp': 676, 'fn': 400, 'tp': 2293}, 6: {'fp': 563, 'fn': 534, 'tp': 613}, 7: {'fp': 565, 'fn': 501, 'tp': 366}}\n",
      "\n",
      "Currenlty on [ clean ] version\n",
      "Predicted match stats: {1: {'fp': 427, 'fn': 300, 'tp': 1540}, 2: {'fp': 973, 'fn': 949, 'tp': 2112}, 3: {'fp': 2331, 'fn': 2819, 'tp': 6264}, 4: {'fp': 4743, 'fn': 3753, 'tp': 6126}, 5: {'fp': 776, 'fn': 500, 'tp': 2193}, 6: {'fp': 584, 'fn': 555, 'tp': 592}, 7: {'fp': 586, 'fn': 522, 'tp': 345}}\n",
      "\n",
      "Currenlty on [ wonho ] version\n",
      "Predicted match stats: {1: {'fp': 413, 'fn': 283, 'tp': 1557}, 2: {'fp': 928, 'fn': 920, 'tp': 2141}, 3: {'fp': 2457, 'fn': 2401, 'tp': 6682}, 4: {'fp': 4288, 'fn': 3503, 'tp': 6376}, 5: {'fp': 796, 'fn': 355, 'tp': 2338}, 6: {'fp': 547, 'fn': 551, 'tp': 596}, 7: {'fp': 555, 'fn': 520, 'tp': 347}}\n",
      "\n",
      "--------------------------------------------------\n",
      "Validation [ Bug ] 0.658701326993283\n",
      "Validation [ Clean ] 0.6376554121938732\n",
      "Validation [ Wonho ] 0.655043981723162\n",
      "[ TRAIN ] epoch 3 lr 0.0000100 loss:  0.9021: 100%|█| 3125/3125 [49:49<00:00,  1\n",
      "100%|█████████████████████████████████████████| 774/774 [03:05<00:00,  4.18it/s]\n",
      "Currenlty on [ bug ] version\n",
      "Predicted match stats: {1: {'fp': 383, 'fn': 283, 'tp': 1557}, 2: {'fp': 988, 'fn': 928, 'tp': 2133}, 3: {'fp': 2109, 'fn': 2617, 'tp': 6466}, 4: {'fp': 4376, 'fn': 3376, 'tp': 6503}, 5: {'fp': 657, 'fn': 387, 'tp': 2306}, 6: {'fp': 585, 'fn': 511, 'tp': 636}, 7: {'fp': 571, 'fn': 471, 'tp': 396}}\n",
      "\n",
      "Currenlty on [ clean ] version\n",
      "Predicted match stats: {1: {'fp': 403, 'fn': 303, 'tp': 1537}, 2: {'fp': 971, 'fn': 911, 'tp': 2150}, 3: {'fp': 2272, 'fn': 2780, 'tp': 6303}, 4: {'fp': 4660, 'fn': 3660, 'tp': 6219}, 5: {'fp': 722, 'fn': 452, 'tp': 2241}, 6: {'fp': 612, 'fn': 538, 'tp': 609}, 7: {'fp': 586, 'fn': 486, 'tp': 381}}\n",
      "\n",
      "Currenlty on [ wonho ] version\n",
      "Predicted match stats: {1: {'fp': 394, 'fn': 291, 'tp': 1549}, 2: {'fp': 946, 'fn': 893, 'tp': 2168}, 3: {'fp': 2357, 'fn': 2376, 'tp': 6707}, 4: {'fp': 4202, 'fn': 3446, 'tp': 6433}, 5: {'fp': 738, 'fn': 347, 'tp': 2346}, 6: {'fp': 571, 'fn': 533, 'tp': 614}, 7: {'fp': 550, 'fn': 483, 'tp': 384}}\n",
      "\n",
      "--------------------------------------------------\n",
      "Validation [ Bug ] 0.6653161050888092\n",
      "Validation [ Clean ] 0.6491656497779932\n",
      "Validation [ Wonho ] 0.6646689468136765\n"
     ]
    },
    {
     "name": "stdout",
     "output_type": "stream",
     "text": [
      "[ TRAIN ] epoch 4 lr 0.0000100 loss:  0.8519: 100%|█| 3125/3125 [49:51<00:00,  1\n",
      "100%|█████████████████████████████████████████| 774/774 [03:05<00:00,  4.17it/s]\n",
      "Currenlty on [ bug ] version\n",
      "Predicted match stats: {1: {'fp': 359, 'fn': 270, 'tp': 1570}, 2: {'fp': 992, 'fn': 908, 'tp': 2153}, 3: {'fp': 2072, 'fn': 2581, 'tp': 6502}, 4: {'fp': 4419, 'fn': 3303, 'tp': 6576}, 5: {'fp': 632, 'fn': 386, 'tp': 2307}, 6: {'fp': 604, 'fn': 495, 'tp': 652}, 7: {'fp': 579, 'fn': 467, 'tp': 400}}\n",
      "\n",
      "Currenlty on [ clean ] version\n",
      "Predicted match stats: {1: {'fp': 385, 'fn': 296, 'tp': 1544}, 2: {'fp': 978, 'fn': 894, 'tp': 2167}, 3: {'fp': 2232, 'fn': 2741, 'tp': 6342}, 4: {'fp': 4652, 'fn': 3536, 'tp': 6343}, 5: {'fp': 679, 'fn': 433, 'tp': 2260}, 6: {'fp': 623, 'fn': 514, 'tp': 633}, 7: {'fp': 589, 'fn': 477, 'tp': 390}}\n",
      "\n",
      "Currenlty on [ wonho ] version\n",
      "Predicted match stats: {1: {'fp': 378, 'fn': 283, 'tp': 1557}, 2: {'fp': 956, 'fn': 873, 'tp': 2188}, 3: {'fp': 2288, 'fn': 2345, 'tp': 6738}, 4: {'fp': 4204, 'fn': 3334, 'tp': 6545}, 5: {'fp': 707, 'fn': 343, 'tp': 2350}, 6: {'fp': 575, 'fn': 511, 'tp': 636}, 7: {'fp': 565, 'fn': 476, 'tp': 391}}\n",
      "\n",
      "--------------------------------------------------\n",
      "Validation [ Bug ] 0.6698247257350115\n",
      "Validation [ Clean ] 0.6565289128172986\n",
      "Validation [ Wonho ] 0.6706668365812589\n",
      "[ TRAIN ] epoch 5 lr 0.0000100 loss:  0.8095: 100%|█| 3125/3125 [49:58<00:00,  1\n",
      "100%|█████████████████████████████████████████| 774/774 [03:05<00:00,  4.16it/s]\n",
      "Currenlty on [ bug ] version\n",
      "Predicted match stats: {1: {'fp': 354, 'fn': 271, 'tp': 1569}, 2: {'fp': 981, 'fn': 902, 'tp': 2159}, 3: {'fp': 2101, 'fn': 2541, 'tp': 6542}, 4: {'fp': 4346, 'fn': 3293, 'tp': 6586}, 5: {'fp': 621, 'fn': 387, 'tp': 2306}, 6: {'fp': 613, 'fn': 493, 'tp': 654}, 7: {'fp': 582, 'fn': 464, 'tp': 403}}\n",
      "\n",
      "Currenlty on [ clean ] version\n",
      "Predicted match stats: {1: {'fp': 385, 'fn': 302, 'tp': 1538}, 2: {'fp': 973, 'fn': 894, 'tp': 2167}, 3: {'fp': 2261, 'fn': 2701, 'tp': 6382}, 4: {'fp': 4564, 'fn': 3511, 'tp': 6368}, 5: {'fp': 660, 'fn': 426, 'tp': 2267}, 6: {'fp': 629, 'fn': 509, 'tp': 638}, 7: {'fp': 593, 'fn': 475, 'tp': 392}}\n",
      "\n",
      "Currenlty on [ wonho ] version\n",
      "Predicted match stats: {1: {'fp': 379, 'fn': 291, 'tp': 1549}, 2: {'fp': 947, 'fn': 877, 'tp': 2184}, 3: {'fp': 2268, 'fn': 2307, 'tp': 6776}, 4: {'fp': 4139, 'fn': 3337, 'tp': 6542}, 5: {'fp': 683, 'fn': 346, 'tp': 2347}, 6: {'fp': 584, 'fn': 506, 'tp': 641}, 7: {'fp': 577, 'fn': 474, 'tp': 393}}\n",
      "\n",
      "--------------------------------------------------\n",
      "Validation [ Bug ] 0.6712846761592698\n",
      "Validation [ Clean ] 0.6581542356343587\n",
      "Validation [ Wonho ] 0.6714502105022593\n",
      "Epoch     5: reducing learning rate of group 0 to 8.0000e-06.\n",
      "Epoch     5: reducing learning rate of group 1 to 8.0000e-06.\n",
      "[ TRAIN ] epoch 6 lr 0.0000080 loss:  0.7628: 100%|█| 3125/3125 [49:52<00:00,  1\n",
      "100%|█████████████████████████████████████████| 774/774 [03:05<00:00,  4.17it/s]\n",
      "Currenlty on [ bug ] version\n",
      "Predicted match stats: {1: {'fp': 355, 'fn': 271, 'tp': 1569}, 2: {'fp': 975, 'fn': 894, 'tp': 2167}, 3: {'fp': 2137, 'fn': 2515, 'tp': 6568}, 4: {'fp': 4376, 'fn': 3276, 'tp': 6603}, 5: {'fp': 610, 'fn': 389, 'tp': 2304}, 6: {'fp': 613, 'fn': 480, 'tp': 667}, 7: {'fp': 580, 'fn': 462, 'tp': 405}}\n",
      "\n",
      "Currenlty on [ clean ] version\n",
      "Predicted match stats: {1: {'fp': 382, 'fn': 298, 'tp': 1542}, 2: {'fp': 977, 'fn': 896, 'tp': 2165}, 3: {'fp': 2289, 'fn': 2667, 'tp': 6416}, 4: {'fp': 4582, 'fn': 3482, 'tp': 6397}, 5: {'fp': 635, 'fn': 414, 'tp': 2279}, 6: {'fp': 631, 'fn': 498, 'tp': 649}, 7: {'fp': 585, 'fn': 467, 'tp': 400}}\n",
      "\n",
      "Currenlty on [ wonho ] version\n",
      "Predicted match stats: {1: {'fp': 377, 'fn': 290, 'tp': 1550}, 2: {'fp': 948, 'fn': 878, 'tp': 2183}, 3: {'fp': 2311, 'fn': 2299, 'tp': 6784}, 4: {'fp': 4186, 'fn': 3322, 'tp': 6557}, 5: {'fp': 661, 'fn': 342, 'tp': 2351}, 6: {'fp': 588, 'fn': 496, 'tp': 651}, 7: {'fp': 570, 'fn': 466, 'tp': 401}}\n",
      "\n",
      "--------------------------------------------------\n",
      "Validation [ Bug ] 0.6732628752865575\n",
      "Validation [ Clean ] 0.6616937045326375\n",
      "Validation [ Wonho ] 0.6737964625565119\n",
      "[ TRAIN ] epoch 7 lr 0.0000080 loss:  0.7270:  21%|▏| 658/3125 [10:58<33:11,  1."
     ]
    }
   ],
   "source": [
    "!python train.py --val_fold 3 --device 0 --wandb --wandb_comment \"swa_ce_swa100_online_random_deletion0.1\" --online --random_deletion --random_deletion_ratio 0.1 --optimizer adamw --swa --swa_update_per_epoch 100"
   ]
  },
  {
   "cell_type": "code",
   "execution_count": null,
   "id": "32ff8ec1",
   "metadata": {
    "ExecuteTime": {
     "start_time": "2022-03-09T18:00:08.619Z"
    }
   },
   "outputs": [],
   "source": [
    "!python train.py --val_fold 4 --device 0 --wandb --wandb_comment \"swa_ce_swa100_online_random_deletion0.5\" --online --random_deletion --random_deletion_ratio 0.5 --optimizer adamw --swa --swa_update_per_epoch 100"
   ]
  }
 ],
 "metadata": {
  "kernelspec": {
   "display_name": "Python 3 (ipykernel)",
   "language": "python",
   "name": "python3"
  },
  "language_info": {
   "codemirror_mode": {
    "name": "ipython",
    "version": 3
   },
   "file_extension": ".py",
   "mimetype": "text/x-python",
   "name": "python",
   "nbconvert_exporter": "python",
   "pygments_lexer": "ipython3",
   "version": "3.7.12"
  },
  "toc": {
   "base_numbering": 1,
   "nav_menu": {},
   "number_sections": false,
   "sideBar": true,
   "skip_h1_title": false,
   "title_cell": "Table of Contents",
   "title_sidebar": "Contents",
   "toc_cell": false,
   "toc_position": {
    "height": "calc(100% - 180px)",
    "left": "10px",
    "top": "150px",
    "width": "282.255px"
   },
   "toc_section_display": true,
   "toc_window_display": true
  }
 },
 "nbformat": 4,
 "nbformat_minor": 5
}
