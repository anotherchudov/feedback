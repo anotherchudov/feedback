{
 "cells": [
  {
   "cell_type": "markdown",
   "id": "61afee34",
   "metadata": {},
   "source": [
    "# run training\n",
    "\n",
    "> notebook to run the `train.py` file"
   ]
  },
  {
   "cell_type": "code",
   "execution_count": 3,
   "id": "4f259f5d",
   "metadata": {
    "ExecuteTime": {
     "end_time": "2022-02-26T02:58:00.112394Z",
     "start_time": "2022-02-26T02:58:00.108480Z"
    }
   },
   "outputs": [],
   "source": [
    "install_pytorch = False\n",
    "if install_pytorch:\n",
    "    !pip install torch==1.8.1+cu111 torchvision==0.9.1+cu111 torchaudio===0.8.1 -f https://download.pytorch.org/whl/torch_stable.html"
   ]
  },
  {
   "cell_type": "markdown",
   "id": "93c8c22e",
   "metadata": {},
   "source": [
    "## Single GPU"
   ]
  },
  {
   "cell_type": "code",
   "execution_count": null,
   "id": "80571bec",
   "metadata": {
    "ExecuteTime": {
     "start_time": "2022-03-08T14:03:18.928Z"
    },
    "scrolled": true
   },
   "outputs": [
    {
     "name": "stdout",
     "output_type": "stream",
     "text": [
      "\u001b[34m\u001b[1mwandb\u001b[0m: Currently logged in as: \u001b[33mducky\u001b[0m (use `wandb login --relogin` to force relogin)\n",
      "\u001b[34m\u001b[1mwandb\u001b[0m: wandb version 0.12.11 is available!  To upgrade, please run:\n",
      "\u001b[34m\u001b[1mwandb\u001b[0m:  $ pip install wandb --upgrade\n",
      "\u001b[34m\u001b[1mwandb\u001b[0m: Tracking run with wandb version 0.12.10\n",
      "\u001b[34m\u001b[1mwandb\u001b[0m: Syncing run \u001b[33mazure-paper-218\u001b[0m\n",
      "\u001b[34m\u001b[1mwandb\u001b[0m: ⭐️ View project at \u001b[34m\u001b[4mhttps://wandb.ai/ducky/feedback_deberta_large\u001b[0m\n",
      "\u001b[34m\u001b[1mwandb\u001b[0m: 🚀 View run at \u001b[34m\u001b[4mhttps://wandb.ai/ducky/feedback_deberta_large/runs/2vnwn427\u001b[0m\n",
      "\u001b[34m\u001b[1mwandb\u001b[0m: Run data is saved locally in /home/feedback/working/feedback_ducky/baselinev1/wandb/run-20220308_140331-2vnwn427\n",
      "\u001b[34m\u001b[1mwandb\u001b[0m: Run `wandb offline` to turn off syncing.\n",
      "\n",
      "Namespace(back_translation=False, batch_size=4, ce_weight=0.9, cnn1d=False, criterion_list=['custom_ce'], criterion_ratio=[1.0], cycle_mult=1.0, data_prefix='', dataset_path='../../feedback-prize-2021', dataset_version=2, ddp=False, decay_bias=False, device=device(type='cuda', index=0), dropout_ratio=0.0, epochs=9, extra_dense=False, gamma=0.9, grad_acc_steps=1, grad_checkpt=True, grammer_correction=False, label_smoothing=0.1, local_rank=-1, lr=1e-05, max_grad_norm=1.0, min_len=0, min_lr=1e-06, model='microsoft/deberta-v3-large-ducky', momentum=0.9, nesterov=True, noise_injection=False, noise_injection_prob=0.5, num_worker=8, online_dataset=True, optimizer='adamw', print_f1_per_step=500, random_deletion=True, random_deletion_prob=0.5, random_deletion_ratio=0.2, random_insertion=False, random_insertion_prob=0.5, rank=-1, rce_weight=0.1, save_cache=False, save_cache_dir='augmentation', save_path='result', scheduler='plateau', seed=0, start_eval_at=0, swa=True, swa_start_ratio=0.1, swa_update_per_epoch=3, swap_order=False, swap_order_prob=0.5, synonym_replacement=False, synonym_replacement_prob=0.5, text_aug_min_len=15, use_groupped_weights=False, val_fold=0, wandb=True, wandb_comment='swa_ce_swa3_online_random_deletion0.2', wandb_project='feedback_deberta_large', wandb_user='ducky', warmup_steps=500, weight_decay=0.01, weights_pow=0.1, word2vec=False, word2vec_prob=0.5)\n",
      "[ Text Augmenter ] Initializing\n",
      "[ Text Augmenter ] EDA - Easy Data Augmentation model\n",
      "[ Text Augmenter ] Initializing tokenizer...\n",
      "Special tokens have been added in the vocabulary, make sure the associated word embeddings are fine-tuned or trained.\n",
      "Special tokens have been added in the vocabulary, make sure the associated word embeddings are fine-tuned or trained.\n",
      "[ Text Augmenter ] Initializing Train data\n",
      "100%|████████████████████████████████████| 12454/12454 [00:48<00:00, 257.26it/s]\n",
      "[ Text Augmenter ] Initializing\n",
      "[ Text Augmenter ] EDA - Easy Data Augmentation model\n",
      "[ Text Augmenter ] Initializing tokenizer...\n",
      "Special tokens have been added in the vocabulary, make sure the associated word embeddings are fine-tuned or trained.\n",
      "Special tokens have been added in the vocabulary, make sure the associated word embeddings are fine-tuned or trained.\n",
      "[ Text Augmenter ] Initializing Valid data\n",
      "100%|██████████████████████████████████████| 3140/3140 [00:11<00:00, 265.23it/s]\n",
      "\n",
      "Using Ducky Modified DebertaV2\n",
      "\n",
      "Some weights of the model checkpoint at microsoft/deberta-v3-large were not used when initializing DebertaV2Model: ['mask_predictions.dense.weight', 'mask_predictions.LayerNorm.weight', 'lm_predictions.lm_head.dense.weight', 'mask_predictions.LayerNorm.bias', 'lm_predictions.lm_head.bias', 'mask_predictions.classifier.weight', 'mask_predictions.classifier.bias', 'lm_predictions.lm_head.LayerNorm.weight', 'lm_predictions.lm_head.LayerNorm.bias', 'lm_predictions.lm_head.dense.bias', 'mask_predictions.dense.bias']\n",
      "- This IS expected if you are initializing DebertaV2Model from the checkpoint of a model trained on another task or with another architecture (e.g. initializing a BertForSequenceClassification model from a BertForPreTraining model).\n",
      "- This IS NOT expected if you are initializing DebertaV2Model from the checkpoint of a model that you expect to be exactly identical (initializing a BertForSequenceClassification model from a BertForSequenceClassification model).\n",
      "[ SWA ] - Applied from 2 epochs\n",
      "[ TRAIN ] epoch 1 lr 0.0000100 loss:  1.1119: 100%|█| 3114/3114 [45:35<00:00,  1\n",
      "100%|█████████████████████████████████████████| 785/785 [03:00<00:00,  4.35it/s]\n",
      "Currenlty on [ bug ] version\n",
      "Predicted match stats: {1: {'fp': 521, 'fn': 354, 'tp': 1513}, 2: {'fp': 885, 'fn': 1190, 'tp': 1919}, 3: {'fp': 1874, 'fn': 3537, 'tp': 5696}, 4: {'fp': 4024, 'fn': 4362, 'tp': 5715}, 5: {'fp': 710, 'fn': 441, 'tp': 2281}, 6: {'fp': 368, 'fn': 743, 'tp': 445}, 7: {'fp': 265, 'fn': 634, 'tp': 234}}\n",
      "\n",
      "Currenlty on [ clean ] version\n",
      "Predicted match stats: {1: {'fp': 484, 'fn': 317, 'tp': 1550}, 2: {'fp': 855, 'fn': 1160, 'tp': 1949}, 3: {'fp': 1960, 'fn': 3623, 'tp': 5610}, 4: {'fp': 4777, 'fn': 5115, 'tp': 4962}, 5: {'fp': 797, 'fn': 528, 'tp': 2194}, 6: {'fp': 368, 'fn': 743, 'tp': 445}, 7: {'fp': 362, 'fn': 731, 'tp': 137}}\n",
      "\n",
      "Currenlty on [ wonho ] version\n",
      "Predicted match stats: {1: {'fp': 481, 'fn': 311, 'tp': 1556}, 2: {'fp': 839, 'fn': 1124, 'tp': 1985}, 3: {'fp': 2387, 'fn': 2762, 'tp': 6471}, 4: {'fp': 4366, 'fn': 4805, 'tp': 5272}, 5: {'fp': 806, 'fn': 404, 'tp': 2318}, 6: {'fp': 337, 'fn': 739, 'tp': 449}, 7: {'fp': 347, 'fn': 730, 'tp': 138}}\n",
      "\n",
      "--------------------------------------------------\n",
      "Validation [ Bug ] 0.6093172051841257\n",
      "Validation [ Clean ] 0.5765325923348132\n",
      "Validation [ Wonho ] 0.5954857550240092\n",
      "  0%|                                                  | 0/3114 [00:00<?, ?it/s]--------------------\n",
      "[ SWA ] - First update of the SWA model\n",
      "--------------------\n",
      "[ TRAIN ] epoch 2 lr 0.0000100 loss:  0.9800: 100%|█| 3114/3114 [45:26<00:00,  1\n",
      "100%|█████████████████████████████████████████| 785/785 [03:00<00:00,  4.34it/s]\n",
      "Currenlty on [ bug ] version\n",
      "Predicted match stats: {1: {'fp': 452, 'fn': 277, 'tp': 1590}, 2: {'fp': 1084, 'fn': 962, 'tp': 2147}, 3: {'fp': 2311, 'fn': 2826, 'tp': 6407}, 4: {'fp': 4227, 'fn': 3759, 'tp': 6318}, 5: {'fp': 819, 'fn': 392, 'tp': 2330}, 6: {'fp': 589, 'fn': 575, 'tp': 613}, 7: {'fp': 550, 'fn': 500, 'tp': 368}}\n",
      "\n",
      "Currenlty on [ clean ] version\n",
      "Predicted match stats: {1: {'fp': 478, 'fn': 303, 'tp': 1564}, 2: {'fp': 1070, 'fn': 948, 'tp': 2161}, 3: {'fp': 2545, 'fn': 3060, 'tp': 6173}, 4: {'fp': 4756, 'fn': 4288, 'tp': 5789}, 5: {'fp': 916, 'fn': 489, 'tp': 2233}, 6: {'fp': 572, 'fn': 558, 'tp': 630}, 7: {'fp': 555, 'fn': 505, 'tp': 363}}\n",
      "\n",
      "Currenlty on [ wonho ] version\n",
      "Predicted match stats: {1: {'fp': 466, 'fn': 289, 'tp': 1578}, 2: {'fp': 1015, 'fn': 902, 'tp': 2207}, 3: {'fp': 2675, 'fn': 2506, 'tp': 6727}, 4: {'fp': 4269, 'fn': 3966, 'tp': 6111}, 5: {'fp': 919, 'fn': 359, 'tp': 2363}, 6: {'fp': 542, 'fn': 553, 'tp': 635}, 7: {'fp': 533, 'fn': 501, 'tp': 367}}\n",
      "\n",
      "--------------------------------------------------\n",
      "Validation [ Bug ] 0.6480238294337253\n",
      "Validation [ Clean ] 0.6322126049337975\n",
      "Validation [ Wonho ] 0.6518400318704767\n",
      "[ TRAIN ] epoch 3 lr 0.0000100 loss:  0.9251:   8%| | 250/3114 [04:07<47:10,  1.\n",
      "100%|█████████████████████████████████████████| 785/785 [03:01<00:00,  4.33it/s]\n",
      "Currenlty on [ bug ] version\n",
      "Predicted match stats: {1: {'fp': 452, 'fn': 277, 'tp': 1590}, 2: {'fp': 1084, 'fn': 962, 'tp': 2147}, 3: {'fp': 2311, 'fn': 2826, 'tp': 6407}, 4: {'fp': 4227, 'fn': 3759, 'tp': 6318}, 5: {'fp': 819, 'fn': 392, 'tp': 2330}, 6: {'fp': 589, 'fn': 575, 'tp': 613}, 7: {'fp': 550, 'fn': 500, 'tp': 368}}\n",
      "\n",
      "Currenlty on [ clean ] version\n",
      "Predicted match stats: {1: {'fp': 478, 'fn': 303, 'tp': 1564}, 2: {'fp': 1070, 'fn': 948, 'tp': 2161}, 3: {'fp': 2545, 'fn': 3060, 'tp': 6173}, 4: {'fp': 4756, 'fn': 4288, 'tp': 5789}, 5: {'fp': 916, 'fn': 489, 'tp': 2233}, 6: {'fp': 572, 'fn': 558, 'tp': 630}, 7: {'fp': 555, 'fn': 505, 'tp': 363}}\n",
      "\n",
      "Currenlty on [ wonho ] version\n",
      "Predicted match stats: {1: {'fp': 466, 'fn': 289, 'tp': 1578}, 2: {'fp': 1015, 'fn': 902, 'tp': 2207}, 3: {'fp': 2675, 'fn': 2506, 'tp': 6727}, 4: {'fp': 4269, 'fn': 3966, 'tp': 6111}, 5: {'fp': 919, 'fn': 359, 'tp': 2363}, 6: {'fp': 542, 'fn': 553, 'tp': 635}, 7: {'fp': 533, 'fn': 501, 'tp': 367}}\n",
      "\n",
      "--------------------------------------------------\n"
     ]
    },
    {
     "name": "stdout",
     "output_type": "stream",
     "text": [
      "Validation [ Bug ] 0.6480238294337253\n",
      "Validation [ Clean ] 0.6322126049337975\n",
      "Validation [ Wonho ] 0.6518400318704767\n",
      "[ TRAIN ] epoch 4 lr 0.0000100 loss:  0.9254:  60%|▌| 1861/3114 [27:27<15:38,  1"
     ]
    }
   ],
   "source": [
    "!python train.py --device 0 --wandb --wandb_comment \"swa_ce_swa3_online_random_deletion0.2\" --online --random_deletion --random_deletion_ratio 0.2 --optimizer adamw --swa --swa_update_per_epoch 3 "
   ]
  },
  {
   "cell_type": "code",
   "execution_count": null,
   "id": "c9e4d7a8",
   "metadata": {
    "ExecuteTime": {
     "start_time": "2022-03-09T01:01:16.722Z"
    }
   },
   "outputs": [
    {
     "name": "stdout",
     "output_type": "stream",
     "text": [
      "\u001b[34m\u001b[1mwandb\u001b[0m: Currently logged in as: \u001b[33mducky\u001b[0m (use `wandb login --relogin` to force relogin)\n",
      "\u001b[34m\u001b[1mwandb\u001b[0m: wandb version 0.12.11 is available!  To upgrade, please run:\n",
      "\u001b[34m\u001b[1mwandb\u001b[0m:  $ pip install wandb --upgrade\n",
      "\u001b[34m\u001b[1mwandb\u001b[0m: Tracking run with wandb version 0.12.10\n",
      "\u001b[34m\u001b[1mwandb\u001b[0m: Syncing run \u001b[33mhelpful-tree-229\u001b[0m\n",
      "\u001b[34m\u001b[1mwandb\u001b[0m: ⭐️ View project at \u001b[34m\u001b[4mhttps://wandb.ai/ducky/feedback_deberta_large\u001b[0m\n",
      "\u001b[34m\u001b[1mwandb\u001b[0m: 🚀 View run at \u001b[34m\u001b[4mhttps://wandb.ai/ducky/feedback_deberta_large/runs/2rs0c2fc\u001b[0m\n",
      "\u001b[34m\u001b[1mwandb\u001b[0m: Run data is saved locally in /home/feedback/working/feedback_ducky/baselinev1/wandb/run-20220309_010125-2rs0c2fc\n",
      "\u001b[34m\u001b[1mwandb\u001b[0m: Run `wandb offline` to turn off syncing.\n",
      "\n",
      "Namespace(back_translation=False, batch_size=4, ce_weight=0.9, cnn1d=False, criterion_list=['custom_ce'], criterion_ratio=[1.0], cycle_mult=1.0, data_prefix='', dataset_path='../../feedback-prize-2021', dataset_version=2, ddp=False, decay_bias=False, device=device(type='cuda', index=0), dropout_ratio=0.0, epochs=9, extra_dense=False, gamma=0.9, grad_acc_steps=1, grad_checkpt=True, grammer_correction=False, label_smoothing=0.1, local_rank=-1, lr=1e-05, max_grad_norm=1.0, min_len=0, min_lr=1e-06, model='microsoft/deberta-v3-large-ducky', momentum=0.9, nesterov=True, noise_filter=False, noise_injection=False, noise_injection_prob=0.5, num_worker=8, online_dataset=True, optimizer='adamw', print_f1_per_step=500, random_deletion=True, random_deletion_prob=0.5, random_deletion_ratio=0.1, random_insertion=False, random_insertion_prob=0.5, rank=-1, rce_weight=0.1, save_cache=False, save_cache_dir='augmentation', save_path='result', scheduler='plateau', seed=0, start_eval_at=0, swa=True, swa_start_ratio=0.1, swa_update_per_epoch=100, swap_order=False, swap_order_prob=0.5, synonym_replacement=False, synonym_replacement_prob=0.5, text_aug_min_len=15, use_groupped_weights=False, val_fold=3, wandb=True, wandb_comment='swa_ce_swa100_online_random_deletion0.1', wandb_project='feedback_deberta_large', wandb_user='ducky', warmup_steps=500, weight_decay=0.01, weights_pow=0.1, word2vec=False, word2vec_prob=0.5)\n",
      "[ Text Augmenter ] Initializing\n",
      "[ Text Augmenter ] EDA - Easy Data Augmentation model\n",
      "[ Text Augmenter ] Initializing tokenizer...\n",
      "Special tokens have been added in the vocabulary, make sure the associated word embeddings are fine-tuned or trained.\n",
      "Special tokens have been added in the vocabulary, make sure the associated word embeddings are fine-tuned or trained.\n",
      "[ Text Augmenter ] Initializing Train data\n",
      "100%|████████████████████████████████████| 12498/12498 [00:48<00:00, 256.64it/s]\n",
      "[ Text Augmenter ] Initializing\n",
      "[ Text Augmenter ] EDA - Easy Data Augmentation model\n",
      "[ Text Augmenter ] Initializing tokenizer...\n",
      "Special tokens have been added in the vocabulary, make sure the associated word embeddings are fine-tuned or trained.\n",
      "Special tokens have been added in the vocabulary, make sure the associated word embeddings are fine-tuned or trained.\n",
      "[ Text Augmenter ] Initializing Valid data\n",
      "100%|██████████████████████████████████████| 3096/3096 [00:11<00:00, 260.76it/s]\n",
      "\n",
      "Using Ducky Modified DebertaV2\n",
      "\n",
      "Some weights of the model checkpoint at microsoft/deberta-v3-large were not used when initializing DebertaV2Model: ['mask_predictions.classifier.weight', 'lm_predictions.lm_head.bias', 'mask_predictions.dense.bias', 'lm_predictions.lm_head.dense.bias', 'lm_predictions.lm_head.LayerNorm.weight', 'mask_predictions.dense.weight', 'lm_predictions.lm_head.LayerNorm.bias', 'lm_predictions.lm_head.dense.weight', 'mask_predictions.LayerNorm.weight', 'mask_predictions.LayerNorm.bias', 'mask_predictions.classifier.bias']\n",
      "- This IS expected if you are initializing DebertaV2Model from the checkpoint of a model trained on another task or with another architecture (e.g. initializing a BertForSequenceClassification model from a BertForPreTraining model).\n",
      "- This IS NOT expected if you are initializing DebertaV2Model from the checkpoint of a model that you expect to be exactly identical (initializing a BertForSequenceClassification model from a BertForSequenceClassification model).\n",
      "[ SWA ] - Applied from 2 epochs\n",
      "[ TRAIN ] epoch 1 lr 0.0000100 loss:  1.2077:  33%|▎| 1018/3125 [16:56<43:12,  1"
     ]
    }
   ],
   "source": [
    "!python train.py --val_fold 3 --device 0 --wandb --wandb_comment \"swa_ce_swa100_online_random_deletion0.1\" --online --random_deletion --random_deletion_ratio 0.1 --optimizer adamw --swa --swa_update_per_epoch 100"
   ]
  },
  {
   "cell_type": "code",
   "execution_count": null,
   "id": "32ff8ec1",
   "metadata": {
    "ExecuteTime": {
     "start_time": "2022-03-09T01:01:19.067Z"
    }
   },
   "outputs": [],
   "source": [
    "!python train.py --val_fold 4 --device 0 --wandb --wandb_comment \"swa_ce_swa100_online_random_deletion0.1\" --online --random_deletion --random_deletion_ratio 0.1 --optimizer adamw --swa --swa_update_per_epoch 100"
   ]
  }
 ],
 "metadata": {
  "kernelspec": {
   "display_name": "Python 3 (ipykernel)",
   "language": "python",
   "name": "python3"
  },
  "language_info": {
   "codemirror_mode": {
    "name": "ipython",
    "version": 3
   },
   "file_extension": ".py",
   "mimetype": "text/x-python",
   "name": "python",
   "nbconvert_exporter": "python",
   "pygments_lexer": "ipython3",
   "version": "3.7.12"
  },
  "toc": {
   "base_numbering": 1,
   "nav_menu": {},
   "number_sections": false,
   "sideBar": true,
   "skip_h1_title": false,
   "title_cell": "Table of Contents",
   "title_sidebar": "Contents",
   "toc_cell": false,
   "toc_position": {
    "height": "calc(100% - 180px)",
    "left": "10px",
    "top": "150px",
    "width": "282.255px"
   },
   "toc_section_display": true,
   "toc_window_display": true
  }
 },
 "nbformat": 4,
 "nbformat_minor": 5
}
