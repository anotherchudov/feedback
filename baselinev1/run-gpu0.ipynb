{
 "cells": [
  {
   "cell_type": "markdown",
   "id": "61afee34",
   "metadata": {},
   "source": [
    "# run training\n",
    "\n",
    "> notebook to run the `train.py` file"
   ]
  },
  {
   "cell_type": "code",
   "execution_count": 3,
   "id": "4f259f5d",
   "metadata": {
    "ExecuteTime": {
     "end_time": "2022-02-26T02:58:00.112394Z",
     "start_time": "2022-02-26T02:58:00.108480Z"
    }
   },
   "outputs": [],
   "source": [
    "install_pytorch = False\n",
    "if install_pytorch:\n",
    "    !pip install torch==1.8.1+cu111 torchvision==0.9.1+cu111 torchaudio===0.8.1 -f https://download.pytorch.org/whl/torch_stable.html"
   ]
  },
  {
   "cell_type": "markdown",
   "id": "93c8c22e",
   "metadata": {},
   "source": [
    "## Single GPU"
   ]
  },
  {
   "cell_type": "code",
   "execution_count": 35,
   "id": "cb6396bd",
   "metadata": {
    "ExecuteTime": {
     "end_time": "2022-03-07T09:59:34.032892Z",
     "start_time": "2022-03-07T09:59:34.016369Z"
    }
   },
   "outputs": [
    {
     "data": {
      "text/plain": [
       "True"
      ]
     },
     "execution_count": 35,
     "metadata": {},
     "output_type": "execute_result"
    }
   ],
   "source": [
    "a = [1, 2]\n",
    "a is not None"
   ]
  },
  {
   "cell_type": "code",
   "execution_count": null,
   "id": "80571bec",
   "metadata": {
    "ExecuteTime": {
     "start_time": "2022-03-07T11:59:06.876Z"
    },
    "scrolled": false
   },
   "outputs": [
    {
     "name": "stdout",
     "output_type": "stream",
     "text": [
      "[ Text Augmenter ] Initializing\n",
      "[ Text Augmenter ] EDA - Easy Data Augmentation model\n",
      "[ Text Augmenter ] Initializing tokenizer...\n",
      "Special tokens have been added in the vocabulary, make sure the associated word embeddings are fine-tuned or trained.\n",
      "Special tokens have been added in the vocabulary, make sure the associated word embeddings are fine-tuned or trained.\n",
      "[ Text Augmenter ] Initializing data...\n",
      "100%|████████████████████████████████████| 12454/12454 [00:48<00:00, 255.91it/s]\n",
      "\n",
      "Using Ducky Modified DebertaV2\n",
      "\n",
      "Some weights of the model checkpoint at microsoft/deberta-v3-large were not used when initializing DebertaV2Model: ['lm_predictions.lm_head.bias', 'mask_predictions.LayerNorm.weight', 'mask_predictions.LayerNorm.bias', 'mask_predictions.dense.bias', 'lm_predictions.lm_head.dense.weight', 'mask_predictions.classifier.weight', 'mask_predictions.dense.weight', 'lm_predictions.lm_head.dense.bias', 'lm_predictions.lm_head.LayerNorm.bias', 'lm_predictions.lm_head.LayerNorm.weight', 'mask_predictions.classifier.bias']\n",
      "- This IS expected if you are initializing DebertaV2Model from the checkpoint of a model trained on another task or with another architecture (e.g. initializing a BertForSequenceClassification model from a BertForPreTraining model).\n",
      "- This IS NOT expected if you are initializing DebertaV2Model from the checkpoint of a model that you expect to be exactly identical (initializing a BertForSequenceClassification model from a BertForSequenceClassification model).\n",
      "Namespace(back_translation=False, batch_size=4, ce_weight=0.9, cnn1d=False, criterion_list=['custom_ce'], criterion_ratio=[1.0], cycle_mult=1.0, data_prefix='', dataset_path='../../feedback-prize-2021', dataset_version=2, ddp=False, decay_bias=False, device=device(type='cuda', index=0), dropout_ratio=0.0, epochs=9, extra_dense=False, gamma=0.9, grad_acc_steps=1, grad_checkpt=True, grammer_correction=False, label_smoothing=0.1, local_rank=-1, lr=1e-05, max_grad_norm=1.0, min_len=0, min_lr=1e-06, model='microsoft/deberta-v3-large-ducky', momentum=0.9, nesterov=True, noise_injection=False, num_worker=8, online_dataset=True, optimizer='adamw', print_f1_per_step=500, random_deletion=True, random_deletion_prob=0.5, random_deletion_ratio=0.1, random_insertion=False, random_insertion_prob=0.5, rank=-1, rce_weight=0.1, save_cache=True, save_cache_dir='augmentation', save_path='result', scheduler='plateau', seed=0, start_eval_at=0, steps_per_epoch=3114, swa=True, swa_start_ratio=0.1, swa_update_per_epoch=100, swap_order=False, swap_order_prob=0.5, synonym_replacement=False, synonym_replacement_prob=0.5, text_aug_min_len=15, use_groupped_weights=False, val_fold=0, wandb=False, wandb_comment='swa_ce_swa100_online_random_deletion', wandb_project='feedback_deberta_large', wandb_user='ducky', warmup_steps=500, weight_decay=0.01, weights_pow=0.1, word2vec=False, word2vec_prob=0.5)\n",
      "[ SWA ] - Applied from 2 epochs\n",
      "[ TRAIN ] epoch 1 lr 0.0000100 loss:  1.0910: 100%|█| 3114/3114 [40:49<00:00,  1\n",
      "100%|█████████████████████████████████████████| 785/785 [02:12<00:00,  5.92it/s]\n",
      "Currenlty on [ bug ] version\n",
      "Predicted match stats: {1: {'fp': 506, 'fn': 316, 'tp': 1551}, 2: {'fp': 884, 'fn': 1117, 'tp': 1992}, 3: {'fp': 2475, 'fn': 3082, 'tp': 6151}, 4: {'fp': 4794, 'fn': 3907, 'tp': 6170}, 5: {'fp': 780, 'fn': 384, 'tp': 2338}, 6: {'fp': 398, 'fn': 710, 'tp': 478}, 7: {'fp': 316, 'fn': 597, 'tp': 271}}\n",
      "\n",
      "Currenlty on [ clean ] version\n",
      "Predicted match stats: {1: {'fp': 491, 'fn': 301, 'tp': 1566}, 2: {'fp': 900, 'fn': 1133, 'tp': 1976}, 3: {'fp': 2642, 'fn': 3249, 'tp': 5984}, 4: {'fp': 5369, 'fn': 4482, 'tp': 5595}, 5: {'fp': 835, 'fn': 439, 'tp': 2283}, 6: {'fp': 422, 'fn': 734, 'tp': 454}, 7: {'fp': 407, 'fn': 688, 'tp': 180}}\n",
      "\n",
      "Currenlty on [ wonho ] version\n",
      "Predicted match stats: {1: {'fp': 476, 'fn': 280, 'tp': 1587}, 2: {'fp': 834, 'fn': 1107, 'tp': 2002}, 3: {'fp': 2869, 'fn': 2733, 'tp': 6500}, 4: {'fp': 4936, 'fn': 4252, 'tp': 5825}, 5: {'fp': 865, 'fn': 342, 'tp': 2380}, 6: {'fp': 382, 'fn': 731, 'tp': 457}, 7: {'fp': 373, 'fn': 688, 'tp': 180}}\n",
      "\n",
      "--------------------------------------------------\n",
      "Validation [ Bug ] 0.623981463217951\n",
      "Validation [ Clean ] 0.5899477441963109\n",
      "Validation [ Wonho ] 0.6058630403912709\n",
      "  0%|                                                  | 0/3114 [00:00<?, ?it/s]--------------------\n",
      "[ SWA ] - First update of the SWA model\n",
      "--------------------\n",
      "[ TRAIN ] epoch 2 lr 0.0000100 loss:  0.9616: 100%|█| 3114/3114 [40:55<00:00,  1\n",
      "100%|█████████████████████████████████████████| 785/785 [02:12<00:00,  5.94it/s]\n",
      "Currenlty on [ bug ] version\n",
      "Predicted match stats: {1: {'fp': 444, 'fn': 270, 'tp': 1597}, 2: {'fp': 1087, 'fn': 946, 'tp': 2163}, 3: {'fp': 2357, 'fn': 2724, 'tp': 6509}, 4: {'fp': 4530, 'fn': 3577, 'tp': 6500}, 5: {'fp': 772, 'fn': 401, 'tp': 2321}, 6: {'fp': 574, 'fn': 530, 'tp': 658}, 7: {'fp': 619, 'fn': 451, 'tp': 417}}\n",
      "\n",
      "Currenlty on [ clean ] version\n",
      "Predicted match stats: {1: {'fp': 456, 'fn': 282, 'tp': 1585}, 2: {'fp': 1091, 'fn': 950, 'tp': 2159}, 3: {'fp': 2573, 'fn': 2940, 'tp': 6293}, 4: {'fp': 4896, 'fn': 3943, 'tp': 6134}, 5: {'fp': 846, 'fn': 475, 'tp': 2247}, 6: {'fp': 573, 'fn': 529, 'tp': 659}, 7: {'fp': 630, 'fn': 462, 'tp': 406}}\n",
      "\n",
      "Currenlty on [ wonho ] version\n",
      "Predicted match stats: {1: {'fp': 445, 'fn': 266, 'tp': 1601}, 2: {'fp': 1023, 'fn': 908, 'tp': 2201}, 3: {'fp': 2693, 'fn': 2475, 'tp': 6758}, 4: {'fp': 4451, 'fn': 3652, 'tp': 6425}, 5: {'fp': 861, 'fn': 358, 'tp': 2364}, 6: {'fp': 534, 'fn': 526, 'tp': 662}, 7: {'fp': 582, 'fn': 460, 'tp': 408}}\n",
      "\n",
      "--------------------------------------------------\n",
      "Validation [ Bug ] 0.6589823340857698\n",
      "Validation [ Clean ] 0.6443926109041139\n",
      "Validation [ Wonho ] 0.6628054250650716\n",
      "[ TRAIN ] epoch 3 lr 0.0000100 loss:  0.9025:  81%|▊| 2522/3114 [33:15<10:20,  1"
     ]
    }
   ],
   "source": [
    "!python train.py --device 0 --wandb_comment \"swa_ce_swa100_online_random_deletion\" --online --random_deletion --save_cache --swa --swa_update_per_epoch 100 "
   ]
  }
 ],
 "metadata": {
  "kernelspec": {
   "display_name": "Python 3 (ipykernel)",
   "language": "python",
   "name": "python3"
  },
  "language_info": {
   "codemirror_mode": {
    "name": "ipython",
    "version": 3
   },
   "file_extension": ".py",
   "mimetype": "text/x-python",
   "name": "python",
   "nbconvert_exporter": "python",
   "pygments_lexer": "ipython3",
   "version": "3.7.12"
  },
  "toc": {
   "base_numbering": 1,
   "nav_menu": {},
   "number_sections": false,
   "sideBar": true,
   "skip_h1_title": false,
   "title_cell": "Table of Contents",
   "title_sidebar": "Contents",
   "toc_cell": false,
   "toc_position": {
    "height": "calc(100% - 180px)",
    "left": "10px",
    "top": "150px",
    "width": "282.242px"
   },
   "toc_section_display": true,
   "toc_window_display": true
  }
 },
 "nbformat": 4,
 "nbformat_minor": 5
}
