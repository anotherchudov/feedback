{
 "cells": [
  {
   "cell_type": "markdown",
   "id": "61afee34",
   "metadata": {},
   "source": [
    "# run training\n",
    "\n",
    "> notebook to run the `train.py` file"
   ]
  },
  {
   "cell_type": "code",
   "execution_count": 3,
   "id": "4f259f5d",
   "metadata": {
    "ExecuteTime": {
     "end_time": "2022-02-26T02:58:00.112394Z",
     "start_time": "2022-02-26T02:58:00.108480Z"
    }
   },
   "outputs": [],
   "source": [
    "install_pytorch = False\n",
    "if install_pytorch:\n",
    "    !pip install torch==1.8.1+cu111 torchvision==0.9.1+cu111 torchaudio===0.8.1 -f https://download.pytorch.org/whl/torch_stable.html"
   ]
  },
  {
   "cell_type": "markdown",
   "id": "93c8c22e",
   "metadata": {},
   "source": [
    "## Single GPU"
   ]
  },
  {
   "cell_type": "markdown",
   "id": "bed952e7",
   "metadata": {},
   "source": [
    "baseline"
   ]
  },
  {
   "cell_type": "code",
   "execution_count": null,
   "id": "80571bec",
   "metadata": {
    "ExecuteTime": {
     "start_time": "2022-02-28T17:15:26.295Z"
    },
    "scrolled": false
   },
   "outputs": [
    {
     "name": "stdout",
     "output_type": "stream",
     "text": [
      "\u001b[34m\u001b[1mwandb\u001b[0m: Currently logged in as: \u001b[33mducky\u001b[0m (use `wandb login --relogin` to force relogin)\n",
      "\u001b[34m\u001b[1mwandb\u001b[0m: Tracking run with wandb version 0.12.10\n",
      "\u001b[34m\u001b[1mwandb\u001b[0m: Syncing run \u001b[33mamber-sun-47\u001b[0m\n",
      "\u001b[34m\u001b[1mwandb\u001b[0m: ⭐️ View project at \u001b[34m\u001b[4mhttps://wandb.ai/ducky/feedback_deberta_large\u001b[0m\n",
      "\u001b[34m\u001b[1mwandb\u001b[0m: 🚀 View run at \u001b[34m\u001b[4mhttps://wandb.ai/ducky/feedback_deberta_large/runs/3kve8kxm\u001b[0m\n",
      "\u001b[34m\u001b[1mwandb\u001b[0m: Run data is saved locally in /home/feedback/working/feedback_ducky/baselinev1/wandb/run-20220228_171528-3kve8kxm\n",
      "\u001b[34m\u001b[1mwandb\u001b[0m: Run `wandb offline` to turn off syncing.\n",
      "\n",
      "Some weights of the model checkpoint at microsoft/deberta-v3-large were not used when initializing DebertaV2Model: ['lm_predictions.lm_head.dense.weight', 'mask_predictions.LayerNorm.weight', 'lm_predictions.lm_head.dense.bias', 'lm_predictions.lm_head.LayerNorm.weight', 'lm_predictions.lm_head.bias', 'mask_predictions.dense.weight', 'mask_predictions.dense.bias', 'mask_predictions.classifier.weight', 'mask_predictions.classifier.bias', 'mask_predictions.LayerNorm.bias', 'lm_predictions.lm_head.LayerNorm.bias']\n",
      "- This IS expected if you are initializing DebertaV2Model from the checkpoint of a model trained on another task or with another architecture (e.g. initializing a BertForSequenceClassification model from a BertForPreTraining model).\n",
      "- This IS NOT expected if you are initializing DebertaV2Model from the checkpoint of a model that you expect to be exactly identical (initializing a BertForSequenceClassification model from a BertForSequenceClassification model).\n",
      "TRAIN EPOCH 1 acc: 0.1040 loss:  1.2473:   3%| | 99/3114 [01:49<57:38,  1.15s/itEpoch: 1 | Step: 100 | Train Acc per class: tensor([0.3114, 0.0078, 0.0005, 0.0000, 0.0032, 0.0035, 0.4301, 0.0191, 0.3887,\n",
      "        0.0147, 0.0233, 0.1625, 0.0012, 0.0000, 0.0020, 0.2972])\n",
      "TRAIN EPOCH 1 acc: 0.1273 loss:  1.0785:   6%| | 199/3114 [03:08<50:03,  1.03s/iEpoch: 1 | Step: 200 | Train Acc per class: tensor([2.8545e-01, 4.1494e-03, 2.9756e-02, 0.0000e+00, 3.8057e-02, 3.9012e-03,\n",
      "        6.9031e-01, 3.3453e-02, 2.3522e-01, 1.3100e-02, 1.8938e-01, 8.9109e-02,\n",
      "        6.3857e-04, 0.0000e+00, 9.6286e-04, 4.3768e-01])\n",
      "TRAIN EPOCH 1 acc: 0.1748 loss:  0.9738:  10%| | 299/3114 [04:35<38:12,  1.23it/Epoch: 1 | Step: 300 | Train Acc per class: tensor([2.6268e-01, 6.9638e-03, 2.2111e-01, 3.3898e-03, 1.2383e-01, 2.7260e-02,\n",
      "        7.6600e-01, 1.0585e-01, 2.6031e-01, 1.1617e-02, 4.2532e-01, 6.2212e-02,\n",
      "        6.3291e-04, 0.0000e+00, 7.0671e-04, 5.2611e-01])\n",
      "TRAIN EPOCH 1 acc: 0.2197 loss:  0.9128:  13%|▏| 399/3114 [05:47<32:06,  1.41it/Epoch: 1 | Step: 400 | Train Acc per class: tensor([2.7802e-01, 1.0105e-01, 3.4921e-01, 1.0139e-02, 2.0593e-01, 8.1505e-02,\n",
      "        7.9730e-01, 1.7119e-01, 3.1738e-01, 4.9419e-02, 5.4058e-01, 4.6875e-02,\n",
      "        4.6407e-04, 0.0000e+00, 5.2258e-04, 5.7527e-01])\n",
      "TRAIN EPOCH 1 acc: 0.2567 loss:  0.8752:  16%|▏| 485/3114 [06:59<24:07,  1.82it/"
     ]
    }
   ],
   "source": [
    "!python train.py"
   ]
  },
  {
   "cell_type": "markdown",
   "id": "6d4b975d",
   "metadata": {},
   "source": [
    "## DDP"
   ]
  },
  {
   "cell_type": "code",
   "execution_count": null,
   "id": "4ecfd1d6",
   "metadata": {
    "ExecuteTime": {
     "start_time": "2022-02-25T16:24:15.710Z"
    }
   },
   "outputs": [],
   "source": [
    "!python -m torch.distributed.launch --nproc_per_node=4 train.py"
   ]
  }
 ],
 "metadata": {
  "kernelspec": {
   "display_name": "Python 3 (ipykernel)",
   "language": "python",
   "name": "python3"
  },
  "language_info": {
   "codemirror_mode": {
    "name": "ipython",
    "version": 3
   },
   "file_extension": ".py",
   "mimetype": "text/x-python",
   "name": "python",
   "nbconvert_exporter": "python",
   "pygments_lexer": "ipython3",
   "version": "3.7.12"
  },
  "toc": {
   "base_numbering": 1,
   "nav_menu": {},
   "number_sections": false,
   "sideBar": true,
   "skip_h1_title": false,
   "title_cell": "Table of Contents",
   "title_sidebar": "Contents",
   "toc_cell": false,
   "toc_position": {
    "height": "calc(100% - 180px)",
    "left": "10px",
    "top": "150px",
    "width": "282.255px"
   },
   "toc_section_display": true,
   "toc_window_display": true
  }
 },
 "nbformat": 4,
 "nbformat_minor": 5
}
