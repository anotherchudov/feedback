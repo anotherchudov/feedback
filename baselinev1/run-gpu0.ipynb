{
 "cells": [
  {
   "cell_type": "markdown",
   "id": "61afee34",
   "metadata": {},
   "source": [
    "# run training\n",
    "\n",
    "> notebook to run the `train.py` file"
   ]
  },
  {
   "cell_type": "code",
   "execution_count": 3,
   "id": "4f259f5d",
   "metadata": {
    "ExecuteTime": {
     "end_time": "2022-02-26T02:58:00.112394Z",
     "start_time": "2022-02-26T02:58:00.108480Z"
    }
   },
   "outputs": [],
   "source": [
    "install_pytorch = False\n",
    "if install_pytorch:\n",
    "    !pip install torch==1.8.1+cu111 torchvision==0.9.1+cu111 torchaudio===0.8.1 -f https://download.pytorch.org/whl/torch_stable.html"
   ]
  },
  {
   "cell_type": "markdown",
   "id": "93c8c22e",
   "metadata": {},
   "source": [
    "## Single GPU"
   ]
  },
  {
   "cell_type": "code",
   "execution_count": 1,
   "id": "80571bec",
   "metadata": {
    "ExecuteTime": {
     "end_time": "2022-03-10T14:57:39.045787Z",
     "start_time": "2022-03-10T13:27:17.902237Z"
    },
    "scrolled": false
   },
   "outputs": [
    {
     "name": "stdout",
     "output_type": "stream",
     "text": [
      "\u001b[34m\u001b[1mwandb\u001b[0m: Currently logged in as: \u001b[33mducky\u001b[0m (use `wandb login --relogin` to force relogin)\n",
      "\u001b[34m\u001b[1mwandb\u001b[0m: wandb version 0.12.11 is available!  To upgrade, please run:\n",
      "\u001b[34m\u001b[1mwandb\u001b[0m:  $ pip install wandb --upgrade\n",
      "\u001b[34m\u001b[1mwandb\u001b[0m: Tracking run with wandb version 0.12.10\n",
      "\u001b[34m\u001b[1mwandb\u001b[0m: Syncing run \u001b[33mquiet-mountain-280\u001b[0m\n",
      "\u001b[34m\u001b[1mwandb\u001b[0m: ⭐️ View project at \u001b[34m\u001b[4mhttps://wandb.ai/ducky/feedback_deberta_large\u001b[0m\n",
      "\u001b[34m\u001b[1mwandb\u001b[0m: 🚀 View run at \u001b[34m\u001b[4mhttps://wandb.ai/ducky/feedback_deberta_large/runs/gknyookh\u001b[0m\n",
      "\u001b[34m\u001b[1mwandb\u001b[0m: Run data is saved locally in /home/feedback/working/feedback_ducky/baselinev1/wandb/run-20220310_132728-gknyookh\n",
      "\u001b[34m\u001b[1mwandb\u001b[0m: Run `wandb offline` to turn off syncing.\n",
      "\n",
      "Namespace(back_translation=False, batch_size=4, ce_weight=0.9, cnn1d=False, const_loss_weight=10.0, criterion_list=['custom_ce'], criterion_ratio=[1.0], cycle_mult=1.0, data_prefix='', dataset_path='../../feedback-prize-2021', dataset_version=2, ddp=False, decay_bias=False, device=device(type='cuda', index=0), dropout_ratio=0.0, epochs=12, extra_dense=False, gamma=0.9, grad_acc_steps=1, grad_checkpt=True, grammer_correction=False, label_smoothing=0.1, local_rank=-1, lr=1e-05, max_grad_norm=1.0, mean_teacher_alpha=0.99, min_len=0, min_lr=1e-06, model='microsoft/deberta-v3-large-ducky', momentum=0.9, nesterov=True, noise_filter=True, noise_filter_acc_thres=0.6, noise_filter_alpha=0.99, noise_injection=False, noise_injection_prob=0.5, num_worker=8, online_dataset=True, optimizer='adamw', print_f1_per_step=500, random_deletion=False, random_deletion_prob=0.5, random_deletion_ratio=0.1, random_insertion=False, random_insertion_prob=0.5, rank=-1, rce_weight=0.1, save_cache=False, save_cache_dir='augmentation', save_path='result', scheduler='plateau', seed=0, start_eval_at=0, swa=False, swa_start_ratio=0.1, swa_update_per_epoch=1, swap_order=False, swap_order_prob=0.5, synonym_replacement=False, synonym_replacement_prob=0.5, text_aug_min_len=15, use_double_space=False, use_groupped_weights=False, use_space=False, val_fold=0, wandb=True, wandb_comment='online_no_wd_noise_filtering_mean_teacher0.99', wandb_project='feedback_deberta_large', wandb_user='ducky', warmup_steps=500, weight_decay=0.0, weights_pow=0.1, word2vec=False, word2vec_prob=0.5)\n",
      "[ Text Augmenter ] Initializing\n",
      "[ Text Augmenter ] EDA - Easy Data Augmentation model\n",
      "[ Text Augmenter ] Initializing tokenizer...\n",
      "Special tokens have been added in the vocabulary, make sure the associated word embeddings are fine-tuned or trained.\n",
      "Special tokens have been added in the vocabulary, make sure the associated word embeddings are fine-tuned or trained.\n",
      "[ Text Augmenter ] Initializing Train data\n",
      "100%|████████████████████████████████████| 12454/12454 [00:48<00:00, 256.28it/s]\n",
      "[ Text Augmenter ] Initializing\n",
      "[ Text Augmenter ] EDA - Easy Data Augmentation model\n",
      "[ Text Augmenter ] Initializing tokenizer...\n",
      "Special tokens have been added in the vocabulary, make sure the associated word embeddings are fine-tuned or trained.\n",
      "Special tokens have been added in the vocabulary, make sure the associated word embeddings are fine-tuned or trained.\n",
      "[ Text Augmenter ] Initializing Valid data\n",
      "100%|██████████████████████████████████████| 3140/3140 [00:12<00:00, 258.51it/s]\n",
      "\n",
      "Using Ducky Modified DebertaV2\n",
      "\n",
      "Some weights of the model checkpoint at microsoft/deberta-v3-large were not used when initializing DebertaV2Model: ['lm_predictions.lm_head.dense.bias', 'mask_predictions.classifier.bias', 'mask_predictions.LayerNorm.bias', 'lm_predictions.lm_head.LayerNorm.bias', 'lm_predictions.lm_head.bias', 'mask_predictions.classifier.weight', 'lm_predictions.lm_head.LayerNorm.weight', 'mask_predictions.LayerNorm.weight', 'lm_predictions.lm_head.dense.weight', 'mask_predictions.dense.bias', 'mask_predictions.dense.weight']\n",
      "- This IS expected if you are initializing DebertaV2Model from the checkpoint of a model trained on another task or with another architecture (e.g. initializing a BertForSequenceClassification model from a BertForPreTraining model).\n",
      "- This IS NOT expected if you are initializing DebertaV2Model from the checkpoint of a model that you expect to be exactly identical (initializing a BertForSequenceClassification model from a BertForSequenceClassification model).\n",
      "[ TRAIN ] epoch 1 lr 0.0000100 loss:  1.6314: 100%|█| 3114/3114 [1:10:11<00:00, \n",
      "100%|█████████████████████████████████████████| 785/785 [03:01<00:00,  4.32it/s]\n",
      "Currenlty on [ bug ] version\n",
      "Predicted match stats: {1: {'fp': 455, 'fn': 293, 'tp': 1574}, 2: {'fp': 920, 'fn': 1113, 'tp': 1996}, 3: {'fp': 2157, 'fn': 2994, 'tp': 6239}, 4: {'fp': 4501, 'fn': 4000, 'tp': 6077}, 5: {'fp': 488, 'fn': 422, 'tp': 2300}, 6: {'fp': 379, 'fn': 717, 'tp': 471}, 7: {'fp': 261, 'fn': 649, 'tp': 219}}\n",
      "\n",
      "Currenlty on [ clean ] version\n",
      "Predicted match stats: {1: {'fp': 466, 'fn': 304, 'tp': 1563}, 2: {'fp': 926, 'fn': 1119, 'tp': 1990}, 3: {'fp': 2389, 'fn': 3226, 'tp': 6007}, 4: {'fp': 4805, 'fn': 4304, 'tp': 5773}, 5: {'fp': 764, 'fn': 698, 'tp': 2024}, 6: {'fp': 317, 'fn': 655, 'tp': 533}, 7: {'fp': 230, 'fn': 618, 'tp': 250}}\n",
      "\n",
      "Currenlty on [ wonho ] version\n",
      "Predicted match stats: {1: {'fp': 464, 'fn': 290, 'tp': 1577}, 2: {'fp': 876, 'fn': 1060, 'tp': 2049}, 3: {'fp': 2759, 'fn': 2549, 'tp': 6684}, 4: {'fp': 4501, 'fn': 3987, 'tp': 6090}, 5: {'fp': 625, 'fn': 395, 'tp': 2327}, 6: {'fp': 319, 'fn': 647, 'tp': 541}, 7: {'fp': 236, 'fn': 600, 'tp': 268}}\n",
      "\n",
      "--------------------------------------------------\n",
      "100%|█████████████████████████████████████████| 785/785 [03:01<00:00,  4.32it/s]\n",
      "Currenlty on [ Mean Teacher bug ] version\n",
      "Predicted match stats: {1: {'fp': 455, 'fn': 293, 'tp': 1574}, 2: {'fp': 920, 'fn': 1113, 'tp': 1996}, 3: {'fp': 2157, 'fn': 2994, 'tp': 6239}, 4: {'fp': 4501, 'fn': 4000, 'tp': 6077}, 5: {'fp': 488, 'fn': 422, 'tp': 2300}, 6: {'fp': 379, 'fn': 717, 'tp': 471}, 7: {'fp': 261, 'fn': 649, 'tp': 219}}\n",
      "\n",
      "Currenlty on [ Mean Teacher clean ] version\n",
      "Predicted match stats: {1: {'fp': 466, 'fn': 304, 'tp': 1563}, 2: {'fp': 926, 'fn': 1119, 'tp': 1990}, 3: {'fp': 2389, 'fn': 3226, 'tp': 6007}, 4: {'fp': 4805, 'fn': 4304, 'tp': 5773}, 5: {'fp': 764, 'fn': 698, 'tp': 2024}, 6: {'fp': 317, 'fn': 655, 'tp': 533}, 7: {'fp': 230, 'fn': 618, 'tp': 250}}\n",
      "\n",
      "Currenlty on [ Mean Teacher wonho ] version\n",
      "Predicted match stats: {1: {'fp': 464, 'fn': 290, 'tp': 1577}, 2: {'fp': 876, 'fn': 1060, 'tp': 2049}, 3: {'fp': 2759, 'fn': 2549, 'tp': 6684}, 4: {'fp': 4501, 'fn': 3987, 'tp': 6090}, 5: {'fp': 625, 'fn': 395, 'tp': 2327}, 6: {'fp': 319, 'fn': 647, 'tp': 541}, 7: {'fp': 236, 'fn': 600, 'tp': 268}}\n",
      "\n",
      "--------------------------------------------------\n",
      "Mean Teacher Validation [ Bug ] 0.6269728834621761\n",
      "Mean Teacher Validation [ Clean ] 0.6188674239747618\n",
      "Mean Teacher Validation [ Wonho ] 0.6472198857525907\n",
      "Validation [ Bug ] 0.6269728834621761\n",
      "Validation [ Clean ] 0.6188674239747618\n",
      "Validation [ Wonho ] 0.6472198857525907\n",
      "100%|███████████████████████████████████████| 3114/3114 [12:00<00:00,  4.32it/s]\n",
      "--------------------\n",
      "[ Filter ] - Process step 1\n",
      "                - alpha 0.99\n",
      "                - filter accuracy threshold 0.6\n",
      "             Total texts 12454\n",
      "             Clean texts 6647 (53.37 %)\n",
      "-------------------- \n",
      "\n",
      "[ TRAIN ] epoch 2 lr 0.0000100 loss:  1.0859:   0%| | 3/1662 [00:19<3:03:43,  6.^C\n",
      "[ TRAIN ] epoch 2 lr 0.0000100 loss:  1.0859:   0%| | 3/1662 [00:22<3:24:28,  7.\n",
      "Traceback (most recent call last):\n",
      "  File \"train.py\", line 225, in <module>\n",
      "    best_f1_bug, best_f1_clean, best_f1_wonho = trainer.train()\n",
      "  File \"/home/feedback/working/feedback_ducky/baselinev1/module/trainer.py\", line 583, in train\n",
      "    # train\n",
      "  File \"/home/feedback/working/feedback_ducky/baselinev1/module/trainer.py\", line 364, in train_one_epoch\n",
      "    # consistency loss\n",
      "  File \"/opt/conda/lib/python3.7/site-packages/torch/nn/modules/module.py\", line 889, in _call_impl\n",
      "    result = self.forward(*input, **kwargs)\n",
      "  File \"/home/feedback/working/feedback_ducky/baselinev1/model/debertav3_ducky.py\", line 64, in forward\n",
      "    transformer_output = self.feats(tokens, mask, return_dict=False)[0]\n",
      "  File \"/opt/conda/lib/python3.7/site-packages/torch/nn/modules/module.py\", line 889, in _call_impl\n",
      "    result = self.forward(*input, **kwargs)\n",
      "  File \"./codes/ducky_transformers/models/deberta_v2/modeling_deberta_v2.py\", line 1087, in forward\n",
      "    return_dict=return_dict,\n",
      "  File \"/opt/conda/lib/python3.7/site-packages/torch/nn/modules/module.py\", line 889, in _call_impl\n",
      "    result = self.forward(*input, **kwargs)\n",
      "  File \"./codes/ducky_transformers/models/deberta_v2/modeling_deberta_v2.py\", line 490, in forward\n",
      "    rel_embeddings,\n",
      "  File \"/opt/conda/lib/python3.7/site-packages/torch/utils/checkpoint.py\", line 177, in checkpoint\n",
      "    return CheckpointFunction.apply(function, preserve, *args)\n",
      "  File \"/opt/conda/lib/python3.7/site-packages/torch/utils/checkpoint.py\", line 75, in forward\n",
      "    outputs = run_function(*args)\n",
      "  File \"./codes/ducky_transformers/models/deberta_v2/modeling_deberta_v2.py\", line 480, in custom_forward\n",
      "    return module(*inputs, output_attentions)\n",
      "  File \"/opt/conda/lib/python3.7/site-packages/torch/nn/modules/module.py\", line 889, in _call_impl\n",
      "    result = self.forward(*input, **kwargs)\n",
      "  File \"./codes/ducky_transformers/models/deberta_v2/modeling_deberta_v2.py\", line 343, in forward\n",
      "    rel_embeddings=rel_embeddings,\n",
      "  File \"/opt/conda/lib/python3.7/site-packages/torch/nn/modules/module.py\", line 889, in _call_impl\n",
      "    result = self.forward(*input, **kwargs)\n",
      "  File \"./codes/ducky_transformers/models/deberta_v2/modeling_deberta_v2.py\", line 274, in forward\n",
      "    rel_embeddings=rel_embeddings,\n",
      "  File \"/opt/conda/lib/python3.7/site-packages/torch/nn/modules/module.py\", line 889, in _call_impl\n",
      "    result = self.forward(*input, **kwargs)\n",
      "  File \"./codes/ducky_transformers/models/deberta_v2/modeling_deberta_v2.py\", line 696, in forward\n",
      "    query_layer, key_layer, relative_pos, rel_embeddings, scale_factor\n",
      "  File \"./codes/ducky_transformers/models/deberta_v2/modeling_deberta_v2.py\", line 739, in disentangled_attention_bias\n",
      "    relative_pos = relative_pos.long().to(query_layer.device)\n",
      "KeyboardInterrupt\n"
     ]
    }
   ],
   "source": [
    "!python train.py --device 0 --wandb --wandb_comment \"online_no_wd_noise_filtering_mean_teacher0.99\" --online --epochs 12 --noise_filter --optimizer adamw --weight_decay 0.0"
   ]
  }
 ],
 "metadata": {
  "kernelspec": {
   "display_name": "Python 3 (ipykernel)",
   "language": "python",
   "name": "python3"
  },
  "language_info": {
   "codemirror_mode": {
    "name": "ipython",
    "version": 3
   },
   "file_extension": ".py",
   "mimetype": "text/x-python",
   "name": "python",
   "nbconvert_exporter": "python",
   "pygments_lexer": "ipython3",
   "version": "3.7.12"
  },
  "toc": {
   "base_numbering": 1,
   "nav_menu": {},
   "number_sections": false,
   "sideBar": true,
   "skip_h1_title": false,
   "title_cell": "Table of Contents",
   "title_sidebar": "Contents",
   "toc_cell": false,
   "toc_position": {
    "height": "calc(100% - 180px)",
    "left": "10px",
    "top": "150px",
    "width": "282.255px"
   },
   "toc_section_display": true,
   "toc_window_display": true
  }
 },
 "nbformat": 4,
 "nbformat_minor": 5
}
