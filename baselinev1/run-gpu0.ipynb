{
 "cells": [
  {
   "cell_type": "markdown",
   "id": "61afee34",
   "metadata": {},
   "source": [
    "# run training\n",
    "\n",
    "> notebook to run the `train.py` file"
   ]
  },
  {
   "cell_type": "code",
   "execution_count": 3,
   "id": "4f259f5d",
   "metadata": {
    "ExecuteTime": {
     "end_time": "2022-02-26T02:58:00.112394Z",
     "start_time": "2022-02-26T02:58:00.108480Z"
    }
   },
   "outputs": [],
   "source": [
    "install_pytorch = False\n",
    "if install_pytorch:\n",
    "    !pip install torch==1.8.1+cu111 torchvision==0.9.1+cu111 torchaudio===0.8.1 -f https://download.pytorch.org/whl/torch_stable.html"
   ]
  },
  {
   "cell_type": "markdown",
   "id": "93c8c22e",
   "metadata": {},
   "source": [
    "## Single GPU"
   ]
  },
  {
   "cell_type": "markdown",
   "id": "bed952e7",
   "metadata": {},
   "source": [
    "baseline"
   ]
  },
  {
   "cell_type": "code",
   "execution_count": null,
   "id": "80571bec",
   "metadata": {
    "ExecuteTime": {
     "start_time": "2022-02-28T17:15:26.295Z"
    },
    "scrolled": false
   },
   "outputs": [
    {
     "name": "stdout",
     "output_type": "stream",
     "text": [
      "\u001b[34m\u001b[1mwandb\u001b[0m: Currently logged in as: \u001b[33mducky\u001b[0m (use `wandb login --relogin` to force relogin)\n",
      "\u001b[34m\u001b[1mwandb\u001b[0m: Tracking run with wandb version 0.12.10\n",
      "\u001b[34m\u001b[1mwandb\u001b[0m: Syncing run \u001b[33mamber-sun-47\u001b[0m\n",
      "\u001b[34m\u001b[1mwandb\u001b[0m: ⭐️ View project at \u001b[34m\u001b[4mhttps://wandb.ai/ducky/feedback_deberta_large\u001b[0m\n",
      "\u001b[34m\u001b[1mwandb\u001b[0m: 🚀 View run at \u001b[34m\u001b[4mhttps://wandb.ai/ducky/feedback_deberta_large/runs/3kve8kxm\u001b[0m\n",
      "\u001b[34m\u001b[1mwandb\u001b[0m: Run data is saved locally in /home/feedback/working/feedback_ducky/baselinev1/wandb/run-20220228_171528-3kve8kxm\n",
      "\u001b[34m\u001b[1mwandb\u001b[0m: Run `wandb offline` to turn off syncing.\n",
      "\n",
      "Some weights of the model checkpoint at microsoft/deberta-v3-large were not used when initializing DebertaV2Model: ['lm_predictions.lm_head.dense.weight', 'mask_predictions.LayerNorm.weight', 'lm_predictions.lm_head.dense.bias', 'lm_predictions.lm_head.LayerNorm.weight', 'lm_predictions.lm_head.bias', 'mask_predictions.dense.weight', 'mask_predictions.dense.bias', 'mask_predictions.classifier.weight', 'mask_predictions.classifier.bias', 'mask_predictions.LayerNorm.bias', 'lm_predictions.lm_head.LayerNorm.bias']\n",
      "- This IS expected if you are initializing DebertaV2Model from the checkpoint of a model trained on another task or with another architecture (e.g. initializing a BertForSequenceClassification model from a BertForPreTraining model).\n",
      "- This IS NOT expected if you are initializing DebertaV2Model from the checkpoint of a model that you expect to be exactly identical (initializing a BertForSequenceClassification model from a BertForSequenceClassification model).\n",
      "TRAIN EPOCH 1 acc: 0.1040 loss:  1.2473:   3%| | 99/3114 [01:49<57:38,  1.15s/itEpoch: 1 | Step: 100 | Train Acc per class: tensor([0.3114, 0.0078, 0.0005, 0.0000, 0.0032, 0.0035, 0.4301, 0.0191, 0.3887,\n",
      "        0.0147, 0.0233, 0.1625, 0.0012, 0.0000, 0.0020, 0.2972])\n",
      "TRAIN EPOCH 1 acc: 0.1273 loss:  1.0785:   6%| | 199/3114 [03:08<50:03,  1.03s/iEpoch: 1 | Step: 200 | Train Acc per class: tensor([2.8545e-01, 4.1494e-03, 2.9756e-02, 0.0000e+00, 3.8057e-02, 3.9012e-03,\n",
      "        6.9031e-01, 3.3453e-02, 2.3522e-01, 1.3100e-02, 1.8938e-01, 8.9109e-02,\n",
      "        6.3857e-04, 0.0000e+00, 9.6286e-04, 4.3768e-01])\n",
      "TRAIN EPOCH 1 acc: 0.1748 loss:  0.9738:  10%| | 299/3114 [04:35<38:12,  1.23it/Epoch: 1 | Step: 300 | Train Acc per class: tensor([2.6268e-01, 6.9638e-03, 2.2111e-01, 3.3898e-03, 1.2383e-01, 2.7260e-02,\n",
      "        7.6600e-01, 1.0585e-01, 2.6031e-01, 1.1617e-02, 4.2532e-01, 6.2212e-02,\n",
      "        6.3291e-04, 0.0000e+00, 7.0671e-04, 5.2611e-01])\n",
      "TRAIN EPOCH 1 acc: 0.2197 loss:  0.9128:  13%|▏| 399/3114 [05:47<32:06,  1.41it/Epoch: 1 | Step: 400 | Train Acc per class: tensor([2.7802e-01, 1.0105e-01, 3.4921e-01, 1.0139e-02, 2.0593e-01, 8.1505e-02,\n",
      "        7.9730e-01, 1.7119e-01, 3.1738e-01, 4.9419e-02, 5.4058e-01, 4.6875e-02,\n",
      "        4.6407e-04, 0.0000e+00, 5.2258e-04, 5.7527e-01])\n",
      "TRAIN EPOCH 1 acc: 0.2625 loss:  0.8698:  16%|▏| 499/3114 [07:10<28:19,  1.54it/Epoch: 1 | Step: 500 | Train Acc per class: tensor([2.8761e-01, 2.1506e-01, 4.2375e-01, 5.0101e-02, 2.6197e-01, 1.4976e-01,\n",
      "        8.2002e-01, 2.3341e-01, 3.6122e-01, 1.4071e-01, 6.1354e-01, 3.7815e-02,\n",
      "        4.1909e-03, 0.0000e+00, 4.1293e-04, 6.0952e-01])\n",
      "TRAIN EPOCH 1 acc: 0.3006 loss:  0.8361:  19%|▏| 599/3114 [08:30<34:02,  1.23it/Epoch: 1 | Step: 600 | Train Acc per class: tensor([0.2941, 0.3031, 0.4882, 0.1169, 0.3178, 0.1945, 0.8371, 0.2785, 0.3828,\n",
      "        0.2214, 0.6665, 0.0313, 0.0476, 0.0000, 0.0009, 0.6366])\n",
      "TRAIN EPOCH 1 acc: 0.3306 loss:  0.8120:  22%|▏| 699/3114 [09:49<34:14,  1.18it/Epoch: 1 | Step: 700 | Train Acc per class: tensor([0.3007, 0.3671, 0.5297, 0.1761, 0.3532, 0.2300, 0.8475, 0.3157, 0.3998,\n",
      "        0.2841, 0.7004, 0.0263, 0.1021, 0.0000, 0.0096, 0.6554])\n",
      "TRAIN EPOCH 1 acc: 0.3562 loss:  0.7904:  26%|▎| 799/3114 [11:12<26:57,  1.43it/Epoch: 1 | Step: 800 | Train Acc per class: tensor([0.3083, 0.4123, 0.5658, 0.2318, 0.3847, 0.2614, 0.8555, 0.3474, 0.4214,\n",
      "        0.3292, 0.7286, 0.0242, 0.1351, 0.0000, 0.0281, 0.6716])\n",
      "TRAIN EPOCH 1 acc: 0.3774 loss:  0.7748:  29%|▎| 899/3114 [12:31<23:54,  1.54it/Epoch: 1 | Step: 900 | Train Acc per class: tensor([0.3125, 0.4592, 0.5939, 0.2712, 0.4111, 0.2864, 0.8614, 0.3668, 0.4298,\n",
      "        0.3620, 0.7485, 0.0254, 0.1640, 0.0000, 0.0640, 0.6833])\n",
      "TRAIN EPOCH 1 acc: 0.3955 loss:  0.7606:  32%|▎| 999/3114 [13:47<21:20,  1.65it/Epoch: 1 | Step: 1000 | Train Acc per class: tensor([0.3161, 0.4985, 0.6153, 0.3037, 0.4323, 0.3044, 0.8663, 0.3864, 0.4371,\n",
      "        0.3966, 0.7683, 0.0335, 0.1910, 0.0000, 0.0892, 0.6931])\n",
      "TRAIN EPOCH 1 acc: 0.4121 loss:  0.7476:  35%|▎| 1099/3114 [15:03<29:17,  1.15itEpoch: 1 | Step: 1100 | Train Acc per class: tensor([0.3237, 0.5353, 0.6373, 0.3324, 0.4479, 0.3209, 0.8701, 0.4035, 0.4480,\n",
      "        0.4198, 0.7816, 0.0474, 0.2093, 0.0000, 0.1155, 0.7021])\n",
      "TRAIN EPOCH 1 acc: 0.4265 loss:  0.7383:  39%|▍| 1199/3114 [16:23<22:16,  1.43itEpoch: 1 | Step: 1200 | Train Acc per class: tensor([0.3284, 0.5660, 0.6544, 0.3623, 0.4666, 0.3380, 0.8731, 0.4167, 0.4563,\n",
      "        0.4393, 0.7909, 0.0640, 0.2243, 0.0015, 0.1368, 0.7086])\n",
      "TRAIN EPOCH 1 acc: 0.4313 loss:  0.7349:  40%|▍| 1238/3114 [16:59<32:08,  1.03s/"
     ]
    }
   ],
   "source": [
    "!python train.py"
   ]
  },
  {
   "cell_type": "markdown",
   "id": "6d4b975d",
   "metadata": {},
   "source": [
    "## DDP"
   ]
  },
  {
   "cell_type": "code",
   "execution_count": null,
   "id": "4ecfd1d6",
   "metadata": {
    "ExecuteTime": {
     "start_time": "2022-02-25T16:24:15.710Z"
    }
   },
   "outputs": [],
   "source": [
    "!python -m torch.distributed.launch --nproc_per_node=4 train.py"
   ]
  }
 ],
 "metadata": {
  "kernelspec": {
   "display_name": "Python 3 (ipykernel)",
   "language": "python",
   "name": "python3"
  },
  "language_info": {
   "codemirror_mode": {
    "name": "ipython",
    "version": 3
   },
   "file_extension": ".py",
   "mimetype": "text/x-python",
   "name": "python",
   "nbconvert_exporter": "python",
   "pygments_lexer": "ipython3",
   "version": "3.7.12"
  },
  "toc": {
   "base_numbering": 1,
   "nav_menu": {},
   "number_sections": false,
   "sideBar": true,
   "skip_h1_title": false,
   "title_cell": "Table of Contents",
   "title_sidebar": "Contents",
   "toc_cell": false,
   "toc_position": {
    "height": "calc(100% - 180px)",
    "left": "10px",
    "top": "150px",
    "width": "282.255px"
   },
   "toc_section_display": true,
   "toc_window_display": true
  }
 },
 "nbformat": 4,
 "nbformat_minor": 5
}
