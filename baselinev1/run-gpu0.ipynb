{
 "cells": [
  {
   "cell_type": "markdown",
   "id": "61afee34",
   "metadata": {},
   "source": [
    "# run training\n",
    "\n",
    "> notebook to run the `train.py` file"
   ]
  },
  {
   "cell_type": "code",
   "execution_count": 33,
   "id": "78d44049",
   "metadata": {
    "ExecuteTime": {
     "end_time": "2022-03-07T09:34:41.072336Z",
     "start_time": "2022-03-07T09:34:30.969985Z"
    }
   },
   "outputs": [
    {
     "name": "stdout",
     "output_type": "stream",
     "text": [
      "Collecting torchlars\n",
      "  Using cached torchlars-0.1.2.tar.gz (6.5 kB)\n",
      "  Preparing metadata (setup.py) ... \u001b[?25lerror\n",
      "\u001b[31m  ERROR: Command errored out with exit status 1:\n",
      "   command: /opt/conda/bin/python3.7 -c 'import io, os, sys, setuptools, tokenize; sys.argv[0] = '\"'\"'/tmp/pip-install-vmriwfou/torchlars_aa3354cfa2bb4f47b8891a2db5d6421a/setup.py'\"'\"'; __file__='\"'\"'/tmp/pip-install-vmriwfou/torchlars_aa3354cfa2bb4f47b8891a2db5d6421a/setup.py'\"'\"';f = getattr(tokenize, '\"'\"'open'\"'\"', open)(__file__) if os.path.exists(__file__) else io.StringIO('\"'\"'from setuptools import setup; setup()'\"'\"');code = f.read().replace('\"'\"'\\r\\n'\"'\"', '\"'\"'\\n'\"'\"');f.close();exec(compile(code, __file__, '\"'\"'exec'\"'\"'))' egg_info --egg-base /tmp/pip-pip-egg-info-_8fugzjc\n",
      "       cwd: /tmp/pip-install-vmriwfou/torchlars_aa3354cfa2bb4f47b8891a2db5d6421a/\n",
      "  Complete output (11 lines):\n",
      "  Traceback (most recent call last):\n",
      "    File \"<string>\", line 1, in <module>\n",
      "    File \"/tmp/pip-install-vmriwfou/torchlars_aa3354cfa2bb4f47b8891a2db5d6421a/setup.py\", line 23, in <module>\n",
      "      'torchlars/adaptive_lr_cuda.cu',\n",
      "    File \"/opt/conda/lib/python3.7/site-packages/torch/utils/cpp_extension.py\", line 867, in CUDAExtension\n",
      "      library_dirs += library_paths(cuda=True)\n",
      "    File \"/opt/conda/lib/python3.7/site-packages/torch/utils/cpp_extension.py\", line 975, in library_paths\n",
      "      if (not os.path.exists(_join_cuda_home(lib_dir)) and\n",
      "    File \"/opt/conda/lib/python3.7/site-packages/torch/utils/cpp_extension.py\", line 1982, in _join_cuda_home\n",
      "      raise EnvironmentError('CUDA_HOME environment variable is not set. '\n",
      "  OSError: CUDA_HOME environment variable is not set. Please set it to your CUDA install root.\n",
      "  ----------------------------------------\u001b[0m\n",
      "\u001b[33mWARNING: Discarding https://files.pythonhosted.org/packages/f5/12/633c1822dc87d72ad2a80ba40706c7a77056c68d6211351313ff0e96bda0/torchlars-0.1.2.tar.gz#sha256=efef03da466de95b34c736e6d19469478b98f74105572f5a816949dc104fe299 (from https://pypi.org/simple/torchlars/). Command errored out with exit status 1: python setup.py egg_info Check the logs for full command output.\u001b[0m\n",
      "\u001b[?25h  Using cached torchlars-0.1.1.tar.gz (6.5 kB)\n",
      "  Preparing metadata (setup.py) ... \u001b[?25lerror\n",
      "\u001b[31m  ERROR: Command errored out with exit status 1:\n",
      "   command: /opt/conda/bin/python3.7 -c 'import io, os, sys, setuptools, tokenize; sys.argv[0] = '\"'\"'/tmp/pip-install-vmriwfou/torchlars_b451aa6adbde4165af259cdc7158304c/setup.py'\"'\"'; __file__='\"'\"'/tmp/pip-install-vmriwfou/torchlars_b451aa6adbde4165af259cdc7158304c/setup.py'\"'\"';f = getattr(tokenize, '\"'\"'open'\"'\"', open)(__file__) if os.path.exists(__file__) else io.StringIO('\"'\"'from setuptools import setup; setup()'\"'\"');code = f.read().replace('\"'\"'\\r\\n'\"'\"', '\"'\"'\\n'\"'\"');f.close();exec(compile(code, __file__, '\"'\"'exec'\"'\"'))' egg_info --egg-base /tmp/pip-pip-egg-info-3f8cm2_h\n",
      "       cwd: /tmp/pip-install-vmriwfou/torchlars_b451aa6adbde4165af259cdc7158304c/\n",
      "  Complete output (11 lines):\n",
      "  Traceback (most recent call last):\n",
      "    File \"<string>\", line 1, in <module>\n",
      "    File \"/tmp/pip-install-vmriwfou/torchlars_b451aa6adbde4165af259cdc7158304c/setup.py\", line 23, in <module>\n",
      "      'torchlars/adaptive_lr_cuda.cu',\n",
      "    File \"/opt/conda/lib/python3.7/site-packages/torch/utils/cpp_extension.py\", line 867, in CUDAExtension\n",
      "      library_dirs += library_paths(cuda=True)\n",
      "    File \"/opt/conda/lib/python3.7/site-packages/torch/utils/cpp_extension.py\", line 975, in library_paths\n",
      "      if (not os.path.exists(_join_cuda_home(lib_dir)) and\n",
      "    File \"/opt/conda/lib/python3.7/site-packages/torch/utils/cpp_extension.py\", line 1982, in _join_cuda_home\n",
      "      raise EnvironmentError('CUDA_HOME environment variable is not set. '\n",
      "  OSError: CUDA_HOME environment variable is not set. Please set it to your CUDA install root.\n",
      "  ----------------------------------------\u001b[0m\n",
      "\u001b[33mWARNING: Discarding https://files.pythonhosted.org/packages/3d/36/b5a0e48535e9cf372cc58eb8abbefdc85787f7f8ee8c7b7fb3c247ec63f6/torchlars-0.1.1.tar.gz#sha256=ed4777f164e78ae83c4b0d2a5ece9d6384e20226ea659e3314c4490703d21d18 (from https://pypi.org/simple/torchlars/). Command errored out with exit status 1: python setup.py egg_info Check the logs for full command output.\u001b[0m\n",
      "\u001b[?25h  Using cached torchlars-0.1.0.tar.gz (6.2 kB)\n",
      "  Preparing metadata (setup.py) ... \u001b[?25lerror\n",
      "\u001b[31m  ERROR: Command errored out with exit status 1:\n",
      "   command: /opt/conda/bin/python3.7 -c 'import io, os, sys, setuptools, tokenize; sys.argv[0] = '\"'\"'/tmp/pip-install-vmriwfou/torchlars_53751e4bbbc54c2f8cbec10801d2ef76/setup.py'\"'\"'; __file__='\"'\"'/tmp/pip-install-vmriwfou/torchlars_53751e4bbbc54c2f8cbec10801d2ef76/setup.py'\"'\"';f = getattr(tokenize, '\"'\"'open'\"'\"', open)(__file__) if os.path.exists(__file__) else io.StringIO('\"'\"'from setuptools import setup; setup()'\"'\"');code = f.read().replace('\"'\"'\\r\\n'\"'\"', '\"'\"'\\n'\"'\"');f.close();exec(compile(code, __file__, '\"'\"'exec'\"'\"'))' egg_info --egg-base /tmp/pip-pip-egg-info-3myfriwa\n",
      "       cwd: /tmp/pip-install-vmriwfou/torchlars_53751e4bbbc54c2f8cbec10801d2ef76/\n",
      "  Complete output (11 lines):\n",
      "  Traceback (most recent call last):\n",
      "    File \"<string>\", line 1, in <module>\n",
      "    File \"/tmp/pip-install-vmriwfou/torchlars_53751e4bbbc54c2f8cbec10801d2ef76/setup.py\", line 23, in <module>\n",
      "      'torchlars/adaptive_lr_cuda.cu',\n",
      "    File \"/opt/conda/lib/python3.7/site-packages/torch/utils/cpp_extension.py\", line 867, in CUDAExtension\n",
      "      library_dirs += library_paths(cuda=True)\n",
      "    File \"/opt/conda/lib/python3.7/site-packages/torch/utils/cpp_extension.py\", line 975, in library_paths\n",
      "      if (not os.path.exists(_join_cuda_home(lib_dir)) and\n",
      "    File \"/opt/conda/lib/python3.7/site-packages/torch/utils/cpp_extension.py\", line 1982, in _join_cuda_home\n",
      "      raise EnvironmentError('CUDA_HOME environment variable is not set. '\n",
      "  OSError: CUDA_HOME environment variable is not set. Please set it to your CUDA install root.\n",
      "  ----------------------------------------\u001b[0m\n",
      "\u001b[33mWARNING: Discarding https://files.pythonhosted.org/packages/88/34/65e3fbf961665b4a3407c1bd5446b6aa53c53161f19a2dc2d4e84b6b8a17/torchlars-0.1.0.tar.gz#sha256=99b7b46ac4957e7268e4eda35b52867a0abc4d8ecb15a6445c9c0932d6daed92 (from https://pypi.org/simple/torchlars/). Command errored out with exit status 1: python setup.py egg_info Check the logs for full command output.\u001b[0m\n",
      "\u001b[31mERROR: Could not find a version that satisfies the requirement torchlars (from versions: 0.1.0, 0.1.1, 0.1.2)\u001b[0m\n",
      "\u001b[31mERROR: No matching distribution found for torchlars\u001b[0m\n",
      "\u001b[?25h"
     ]
    }
   ],
   "source": [
    "!pip install torchlars"
   ]
  },
  {
   "cell_type": "code",
   "execution_count": 3,
   "id": "4f259f5d",
   "metadata": {
    "ExecuteTime": {
     "end_time": "2022-02-26T02:58:00.112394Z",
     "start_time": "2022-02-26T02:58:00.108480Z"
    }
   },
   "outputs": [],
   "source": [
    "install_pytorch = False\n",
    "if install_pytorch:\n",
    "    !pip install torch==1.8.1+cu111 torchvision==0.9.1+cu111 torchaudio===0.8.1 -f https://download.pytorch.org/whl/torch_stable.html"
   ]
  },
  {
   "cell_type": "markdown",
   "id": "93c8c22e",
   "metadata": {},
   "source": [
    "## Single GPU"
   ]
  },
  {
   "cell_type": "code",
   "execution_count": null,
   "id": "f170013e",
   "metadata": {
    "ExecuteTime": {
     "end_time": "2022-03-07T09:05:40.967802Z",
     "start_time": "2022-03-07T09:05:40.963911Z"
    }
   },
   "outputs": [],
   "source": [
    "from textaugment import EDA\n",
    "t = EDA()"
   ]
  },
  {
   "cell_type": "code",
   "execution_count": 32,
   "id": "c13e95da",
   "metadata": {
    "ExecuteTime": {
     "end_time": "2022-03-07T09:06:06.619148Z",
     "start_time": "2022-03-07T09:06:06.599359Z"
    }
   },
   "outputs": [
    {
     "data": {
      "text/plain": [
       "'John is a a a a a a going to town'"
      ]
     },
     "execution_count": 32,
     "metadata": {},
     "output_type": "execute_result"
    }
   ],
   "source": [
    "t.random_deletion(\"John is a a a a a a  going to town\", p=0.1)"
   ]
  },
  {
   "cell_type": "code",
   "execution_count": null,
   "id": "80571bec",
   "metadata": {
    "ExecuteTime": {
     "start_time": "2022-03-06T16:54:58.674Z"
    },
    "scrolled": false
   },
   "outputs": [
    {
     "name": "stdout",
     "output_type": "stream",
     "text": [
      "\u001b[34m\u001b[1mwandb\u001b[0m: Currently logged in as: \u001b[33mducky\u001b[0m (use `wandb login --relogin` to force relogin)\n",
      "\u001b[34m\u001b[1mwandb\u001b[0m: wandb version 0.12.11 is available!  To upgrade, please run:\n",
      "\u001b[34m\u001b[1mwandb\u001b[0m:  $ pip install wandb --upgrade\n",
      "\u001b[34m\u001b[1mwandb\u001b[0m: Tracking run with wandb version 0.12.10\n",
      "\u001b[34m\u001b[1mwandb\u001b[0m: Syncing run \u001b[33mdry-salad-147\u001b[0m\n",
      "\u001b[34m\u001b[1mwandb\u001b[0m: ⭐️ View project at \u001b[34m\u001b[4mhttps://wandb.ai/ducky/feedback_deberta_large\u001b[0m\n",
      "\u001b[34m\u001b[1mwandb\u001b[0m: 🚀 View run at \u001b[34m\u001b[4mhttps://wandb.ai/ducky/feedback_deberta_large/runs/35xy0877\u001b[0m\n",
      "\u001b[34m\u001b[1mwandb\u001b[0m: Run data is saved locally in /home/feedback/working/feedback_ducky/baselinev1/wandb/run-20220306_165501-35xy0877\n",
      "\u001b[34m\u001b[1mwandb\u001b[0m: Run `wandb offline` to turn off syncing.\n",
      "\n",
      "[ Text Augmenter ] Initializing\n",
      "[ Text Augmenter ] Initializing tokenizer...\n",
      "Special tokens have been added in the vocabulary, make sure the associated word embeddings are fine-tuned or trained.\n",
      "Special tokens have been added in the vocabulary, make sure the associated word embeddings are fine-tuned or trained.\n",
      "[ Text Augmenter ] Initializing data...\n",
      "100%|████████████████████████████████████| 12454/12454 [00:47<00:00, 263.09it/s]\n",
      "\n",
      "Using Ducky Modified DebertaV2\n",
      "\n",
      "Some weights of the model checkpoint at microsoft/deberta-v3-large were not used when initializing DebertaV2Model: ['mask_predictions.classifier.bias', 'mask_predictions.LayerNorm.weight', 'mask_predictions.dense.weight', 'lm_predictions.lm_head.dense.bias', 'lm_predictions.lm_head.dense.weight', 'mask_predictions.LayerNorm.bias', 'lm_predictions.lm_head.LayerNorm.weight', 'mask_predictions.dense.bias', 'lm_predictions.lm_head.LayerNorm.bias', 'lm_predictions.lm_head.bias', 'mask_predictions.classifier.weight']\n",
      "- This IS expected if you are initializing DebertaV2Model from the checkpoint of a model trained on another task or with another architecture (e.g. initializing a BertForSequenceClassification model from a BertForPreTraining model).\n",
      "- This IS NOT expected if you are initializing DebertaV2Model from the checkpoint of a model that you expect to be exactly identical (initializing a BertForSequenceClassification model from a BertForSequenceClassification model).\n",
      "Namespace(back_translation=False, batch_size=4, ce_weight=0.9, cnn1d=False, criterion_list=['custom_ce', 'custom_rce'], criterion_ratio=[0.9, 0.1], cycle_mult=1.0, data_prefix='', dataset_path='../../feedback-prize-2021', dataset_version=2, ddp=False, decay_bias=False, device=device(type='cuda', index=0), dropout_ratio=0.0, epochs=12, extra_dense=False, gamma=0.9, grad_acc_steps=1, grad_checkpt=True, grammer_correction=False, label_smoothing=0.1, local_rank=-1, lr=1e-05, max_grad_norm=1.0, min_len=0, min_lr=1e-06, model='microsoft/deberta-v3-large-ducky', momentum=0.9, nesterov=True, noise_injection=False, num_worker=8, online_dataset=True, optimizer='adamw', print_f1_per_step=500, rank=-1, rce_weight=0.1, save_path='result', scheduler='plateau', seed=0, start_eval_at=0, steps_per_epoch=3114, swa=True, swa_start_ratio=0.1, swa_update_per_epoch=100, use_groupped_weights=False, val_fold=0, wandb_comment='swa_ce_rce_swa100_online_data', wandb_project='feedback_deberta_large', wandb_user='ducky', warmup_steps=500, weight_decay=0.01, weights_pow=0.1)\n",
      "[ SWA ] - Applied from 2 epochs\n",
      "[ TRAIN ] epoch 1 lr 0.0000100 loss:  1.5343: 100%|█| 3114/3114 [43:04<00:00,  1\n",
      "100%|█████████████████████████████████████████| 785/785 [02:12<00:00,  5.92it/s]\n",
      "Currenlty on [ bug ] version\n",
      "Predicted match stats: {1: {'fp': 613, 'fn': 338, 'tp': 1529}, 2: {'fp': 1637, 'fn': 1086, 'tp': 2023}, 3: {'fp': 9150, 'fn': 2856, 'tp': 6377}, 4: {'fp': 4271, 'fn': 5561, 'tp': 4516}, 5: {'fp': 58, 'fn': 2223, 'tp': 499}, 6: {'fp': 8, 'fn': 1181, 'tp': 7}, 7: {'fp': 537, 'fn': 536, 'tp': 332}}\n",
      "\n",
      "Currenlty on [ clean ] version\n",
      "Predicted match stats: {1: {'fp': 627, 'fn': 352, 'tp': 1515}, 2: {'fp': 1729, 'fn': 1178, 'tp': 1931}, 3: {'fp': 9487, 'fn': 3193, 'tp': 6040}, 4: {'fp': 4797, 'fn': 6087, 'tp': 3990}, 5: {'fp': 152, 'fn': 2317, 'tp': 405}, 6: {'fp': 14, 'fn': 1187, 'tp': 1}, 7: {'fp': 601, 'fn': 600, 'tp': 268}}\n",
      "\n",
      "Currenlty on [ wonho ] version\n",
      "Predicted match stats: {1: {'fp': 622, 'fn': 338, 'tp': 1529}, 2: {'fp': 1602, 'fn': 1151, 'tp': 1958}, 3: {'fp': 9719, 'fn': 2750, 'tp': 6483}, 4: {'fp': 4567, 'fn': 5911, 'tp': 4166}, 5: {'fp': 86, 'fn': 2297, 'tp': 425}, 6: {'fp': 12, 'fn': 1187, 'tp': 1}, 7: {'fp': 542, 'fn': 596, 'tp': 272}}\n",
      "\n",
      "--------------------------------------------------\n",
      "Validation [ Bug ] 0.43609659907670284\n",
      "Validation [ Clean ] 0.39921719325817345\n",
      "Validation [ Wonho ] 0.4127141423016794\n",
      "  0%|                                                  | 0/3114 [00:00<?, ?it/s]--------------------\n",
      "[ SWA ] - First update of the SWA model\n",
      "--------------------\n",
      "[ TRAIN ] epoch 2 lr 0.0000100 loss:  1.4151: 100%|█| 3114/3114 [43:22<00:00,  1\n",
      "100%|█████████████████████████████████████████| 785/785 [02:13<00:00,  6.10it/s]Currenlty on [ bug ] version\n",
      "Predicted match stats: {1: {'fp': 583, 'fn': 291, 'tp': 1576}, 2: {'fp': 1576, 'fn': 1006, 'tp': 2103}, 3: {'fp': 8960, 'fn': 2547, 'tp': 6686}, 4: {'fp': 3374, 'fn': 5827, 'tp': 4250}, 5: {'fp': 127, 'fn': 2190, 'tp': 532}, 6: {'fp': 109, 'fn': 1089, 'tp': 99}, 7: {'fp': 974, 'fn': 440, 'tp': 428}}\n",
      "\n",
      "100%|█████████████████████████████████████████| 785/785 [02:13<00:00,  5.89it/s]\n",
      "Currenlty on [ clean ] version\n",
      "Predicted match stats: {1: {'fp': 587, 'fn': 295, 'tp': 1572}, 2: {'fp': 1656, 'fn': 1086, 'tp': 2023}, 3: {'fp': 9276, 'fn': 2863, 'tp': 6370}, 4: {'fp': 3722, 'fn': 6175, 'tp': 3902}, 5: {'fp': 289, 'fn': 2352, 'tp': 370}, 6: {'fp': 135, 'fn': 1115, 'tp': 73}, 7: {'fp': 995, 'fn': 461, 'tp': 407}}\n",
      "\n",
      "Currenlty on [ wonho ] version\n",
      "Predicted match stats: {1: {'fp': 591, 'fn': 290, 'tp': 1577}, 2: {'fp': 1577, 'fn': 1043, 'tp': 2066}, 3: {'fp': 9431, 'fn': 2592, 'tp': 6641}, 4: {'fp': 3556, 'fn': 6036, 'tp': 4041}, 5: {'fp': 238, 'fn': 2331, 'tp': 391}, 6: {'fp': 131, 'fn': 1111, 'tp': 77}, 7: {'fp': 933, 'fn': 457, 'tp': 411}}\n",
      "\n",
      "--------------------------------------------------\n",
      "Validation [ Bug ] 0.4648343322056579\n",
      "Validation [ Clean ] 0.4302826212294829\n",
      "Validation [ Wonho ] 0.44158192138271696\n",
      "[ TRAIN ] epoch 3 lr 0.0000100 loss:  1.3458:  55%|▌| 1714/3114 [24:08<19:02,  1"
     ]
    }
   ],
   "source": [
    "!python train.py --device 0 --wandb_comment \"swa_ce_rce_swa100_online_data\" --swa --epochs 12 --swa_update_per_epoch 100 --online_dataset"
   ]
  }
 ],
 "metadata": {
  "kernelspec": {
   "display_name": "Python 3 (ipykernel)",
   "language": "python",
   "name": "python3"
  },
  "language_info": {
   "codemirror_mode": {
    "name": "ipython",
    "version": 3
   },
   "file_extension": ".py",
   "mimetype": "text/x-python",
   "name": "python",
   "nbconvert_exporter": "python",
   "pygments_lexer": "ipython3",
   "version": "3.7.12"
  },
  "toc": {
   "base_numbering": 1,
   "nav_menu": {},
   "number_sections": false,
   "sideBar": true,
   "skip_h1_title": false,
   "title_cell": "Table of Contents",
   "title_sidebar": "Contents",
   "toc_cell": false,
   "toc_position": {
    "height": "calc(100% - 180px)",
    "left": "10px",
    "top": "150px",
    "width": "282.242px"
   },
   "toc_section_display": true,
   "toc_window_display": true
  }
 },
 "nbformat": 4,
 "nbformat_minor": 5
}
