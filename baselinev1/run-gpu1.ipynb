{
 "cells": [
  {
   "cell_type": "markdown",
   "id": "61afee34",
   "metadata": {},
   "source": [
    "# run training\n",
    "\n",
    "> notebook to run the `train.py` file"
   ]
  },
  {
   "cell_type": "code",
   "execution_count": 3,
   "id": "4f259f5d",
   "metadata": {
    "ExecuteTime": {
     "end_time": "2022-02-26T02:58:00.112394Z",
     "start_time": "2022-02-26T02:58:00.108480Z"
    }
   },
   "outputs": [],
   "source": [
    "install_pytorch = False\n",
    "if install_pytorch:\n",
    "    !pip install torch==1.8.1+cu111 torchvision==0.9.1+cu111 torchaudio===0.8.1 -f https://download.pytorch.org/whl/torch_stable.html"
   ]
  },
  {
   "cell_type": "markdown",
   "id": "93c8c22e",
   "metadata": {},
   "source": [
    "## Single GPU\n"
   ]
  },
  {
   "cell_type": "markdown",
   "id": "b0cc6185",
   "metadata": {},
   "source": [
    "Currently used for saving cache"
   ]
  },
  {
   "cell_type": "code",
   "execution_count": null,
   "id": "4953b678",
   "metadata": {
    "ExecuteTime": {
     "start_time": "2022-03-11T10:28:29.225Z"
    }
   },
   "outputs": [
    {
     "name": "stdout",
     "output_type": "stream",
     "text": [
      "\u001b[34m\u001b[1mwandb\u001b[0m: Currently logged in as: \u001b[33mducky\u001b[0m (use `wandb login --relogin` to force relogin)\n",
      "\u001b[34m\u001b[1mwandb\u001b[0m: wandb version 0.12.11 is available!  To upgrade, please run:\n",
      "\u001b[34m\u001b[1mwandb\u001b[0m:  $ pip install wandb --upgrade\n",
      "\u001b[34m\u001b[1mwandb\u001b[0m: Tracking run with wandb version 0.12.10\n",
      "\u001b[34m\u001b[1mwandb\u001b[0m: Syncing run \u001b[33mapricot-armadillo-288\u001b[0m\n",
      "\u001b[34m\u001b[1mwandb\u001b[0m: ⭐️ View project at \u001b[34m\u001b[4mhttps://wandb.ai/ducky/feedback_deberta_large\u001b[0m\n",
      "\u001b[34m\u001b[1mwandb\u001b[0m: 🚀 View run at \u001b[34m\u001b[4mhttps://wandb.ai/ducky/feedback_deberta_large/runs/3h3jm676\u001b[0m\n",
      "\u001b[34m\u001b[1mwandb\u001b[0m: Run data is saved locally in /home/feedback/working/feedback_ducky/baselinev1/wandb/run-20220311_102841-3h3jm676\n",
      "\u001b[34m\u001b[1mwandb\u001b[0m: Run `wandb offline` to turn off syncing.\n",
      "\n",
      "Namespace(back_translation=False, batch_size=4, ce_weight=0.9, cnn1d=False, const_loss_weight=10.0, criterion_list=['custom_ce'], criterion_ratio=[1.0], cycle_mult=1.0, data_prefix='', dataset_path='../../feedback-prize-2021', dataset_version=2, ddp=False, decay_bias=False, device=device(type='cuda', index=1), dropout_ratio=0.0, epochs=20, extra_dense=False, gamma=0.9, grad_acc_steps=1, grad_checkpt=True, grammer_correction=False, label_smoothing=0.1, local_rank=-1, lr=1e-05, max_grad_norm=1.0, mean_teacher_alpha=0.99, min_len=0, min_lr=1e-06, model='microsoft/deberta-v3-large-ducky', momentum=0.9, nesterov=True, noise_filter=True, noise_filter_acc_thres=0.4, noise_filter_alpha=0.99, noise_injection=False, noise_injection_prob=0.5, num_worker=8, online_dataset=True, optimizer='adamw', print_f1_per_step=500, random_deletion=False, random_deletion_prob=0.5, random_deletion_ratio=0.1, random_insertion=False, random_insertion_prob=0.5, rank=-1, rce_weight=0.1, save_cache=False, save_cache_dir='augmentation', save_path='result', scheduler='plateau', seed=0, start_eval_at=0, swa=False, swa_start_ratio=0.1, swa_update_per_epoch=1, swap_order=False, swap_order_prob=0.5, synonym_replacement=False, synonym_replacement_prob=0.5, text_aug_min_len=15, use_double_space=False, use_groupped_weights=False, use_space=False, val_fold=0, wandb=True, wandb_comment='online_no_wd_noise_filtering0.4_mean_teacher0.99', wandb_project='feedback_deberta_large', wandb_user='ducky', warmup_steps=500, weight_decay=0.0, weights_pow=0.1, word2vec=False, word2vec_prob=0.5)\n",
      "[ Text Augmenter ] Initializing\n",
      "[ Text Augmenter ] EDA - Easy Data Augmentation model\n",
      "[ Text Augmenter ] Initializing tokenizer...\n",
      "Special tokens have been added in the vocabulary, make sure the associated word embeddings are fine-tuned or trained.\n",
      "Special tokens have been added in the vocabulary, make sure the associated word embeddings are fine-tuned or trained.\n",
      "[ Text Augmenter ] Initializing Train data\n",
      "100%|████████████████████████████████████| 12454/12454 [00:49<00:00, 254.05it/s]\n",
      "[ Text Augmenter ] Initializing\n",
      "[ Text Augmenter ] EDA - Easy Data Augmentation model\n",
      "[ Text Augmenter ] Initializing tokenizer...\n",
      "Special tokens have been added in the vocabulary, make sure the associated word embeddings are fine-tuned or trained.\n",
      "Special tokens have been added in the vocabulary, make sure the associated word embeddings are fine-tuned or trained.\n",
      "[ Text Augmenter ] Initializing Valid data\n",
      "100%|██████████████████████████████████████| 3140/3140 [00:12<00:00, 260.23it/s]\n",
      "\n",
      "Using Ducky Modified DebertaV2\n",
      "\n",
      "Some weights of the model checkpoint at microsoft/deberta-v3-large were not used when initializing DebertaV2Model: ['mask_predictions.dense.weight', 'mask_predictions.classifier.bias', 'mask_predictions.LayerNorm.weight', 'lm_predictions.lm_head.LayerNorm.bias', 'lm_predictions.lm_head.dense.bias', 'mask_predictions.dense.bias', 'lm_predictions.lm_head.LayerNorm.weight', 'lm_predictions.lm_head.bias', 'mask_predictions.LayerNorm.bias', 'mask_predictions.classifier.weight', 'lm_predictions.lm_head.dense.weight']\n",
      "- This IS expected if you are initializing DebertaV2Model from the checkpoint of a model trained on another task or with another architecture (e.g. initializing a BertForSequenceClassification model from a BertForPreTraining model).\n",
      "- This IS NOT expected if you are initializing DebertaV2Model from the checkpoint of a model that you expect to be exactly identical (initializing a BertForSequenceClassification model from a BertForSequenceClassification model).\n",
      "[ TRAIN ] epoch 1 lr 0.0000100 loss:  1.6090: 100%|█| 3114/3114 [1:10:10<00:00, \n",
      "100%|█████████████████████████████████████████| 785/785 [03:02<00:00,  4.31it/s]\n",
      "Currenlty on [ bug ] version\n",
      "Predicted match stats: {1: {'fp': 451, 'fn': 301, 'tp': 1566}, 2: {'fp': 878, 'fn': 1137, 'tp': 1972}, 3: {'fp': 2291, 'fn': 2900, 'tp': 6333}, 4: {'fp': 4201, 'fn': 4085, 'tp': 5992}, 5: {'fp': 485, 'fn': 467, 'tp': 2255}, 6: {'fp': 342, 'fn': 737, 'tp': 451}, 7: {'fp': 247, 'fn': 641, 'tp': 227}}\n",
      "\n",
      "Currenlty on [ clean ] version\n",
      "Predicted match stats: {1: {'fp': 462, 'fn': 312, 'tp': 1555}, 2: {'fp': 873, 'fn': 1132, 'tp': 1977}, 3: {'fp': 2501, 'fn': 3110, 'tp': 6123}, 4: {'fp': 4399, 'fn': 4283, 'tp': 5794}, 5: {'fp': 869, 'fn': 851, 'tp': 1871}, 6: {'fp': 283, 'fn': 678, 'tp': 510}, 7: {'fp': 222, 'fn': 616, 'tp': 252}}\n",
      "\n",
      "Currenlty on [ wonho ] version\n",
      "Predicted match stats: {1: {'fp': 461, 'fn': 293, 'tp': 1574}, 2: {'fp': 823, 'fn': 1074, 'tp': 2035}, 3: {'fp': 2855, 'fn': 2502, 'tp': 6731}, 4: {'fp': 4165, 'fn': 3988, 'tp': 6089}, 5: {'fp': 748, 'fn': 438, 'tp': 2284}, 6: {'fp': 288, 'fn': 673, 'tp': 515}, 7: {'fp': 219, 'fn': 602, 'tp': 266}}\n",
      "\n",
      "--------------------------------------------------\n",
      "100%|█████████████████████████████████████████| 785/785 [03:02<00:00,  4.30it/s]\n",
      "Currenlty on [ Mean Teacher bug ] version\n",
      "Predicted match stats: {1: {'fp': 449, 'fn': 300, 'tp': 1567}, 2: {'fp': 899, 'fn': 1103, 'tp': 2006}, 3: {'fp': 2242, 'fn': 2933, 'tp': 6300}, 4: {'fp': 4443, 'fn': 3978, 'tp': 6099}, 5: {'fp': 503, 'fn': 414, 'tp': 2308}, 6: {'fp': 379, 'fn': 722, 'tp': 466}, 7: {'fp': 263, 'fn': 631, 'tp': 237}}\n",
      "\n",
      "Currenlty on [ Mean Teacher clean ] version\n",
      "Predicted match stats: {1: {'fp': 455, 'fn': 306, 'tp': 1561}, 2: {'fp': 909, 'fn': 1113, 'tp': 1996}, 3: {'fp': 2467, 'fn': 3158, 'tp': 6075}, 4: {'fp': 4745, 'fn': 4280, 'tp': 5797}, 5: {'fp': 782, 'fn': 693, 'tp': 2029}, 6: {'fp': 318, 'fn': 661, 'tp': 527}, 7: {'fp': 237, 'fn': 605, 'tp': 263}}\n",
      "\n",
      "Currenlty on [ Mean Teacher wonho ] version\n",
      "Predicted match stats: {1: {'fp': 447, 'fn': 281, 'tp': 1586}, 2: {'fp': 858, 'fn': 1045, 'tp': 2064}, 3: {'fp': 2797, 'fn': 2538, 'tp': 6695}, 4: {'fp': 4469, 'fn': 3969, 'tp': 6108}, 5: {'fp': 663, 'fn': 387, 'tp': 2335}, 6: {'fp': 322, 'fn': 654, 'tp': 534}, 7: {'fp': 244, 'fn': 585, 'tp': 283}}\n",
      "\n",
      "--------------------------------------------------\n",
      "Mean Teacher Validation [ Bug ] 0.6305518835128975\n",
      "Mean Teacher Validation [ Clean ] 0.621429925118662\n",
      "Mean Teacher Validation [ Wonho ] 0.6498594610749852\n",
      "Validation [ Bug ] 0.6268704165989651\n",
      "Validation [ Clean ] 0.6138951716881786\n",
      "Validation [ Wonho ] 0.6439412852254508\n",
      "100%|███████████████████████████████████████| 3114/3114 [12:01<00:00,  4.32it/s]\n",
      "--------------------\n",
      "[ Filter ] - Process step 1\n",
      "                - alpha 0.99\n",
      "                - filter accuracy threshold 0.4\n",
      "             Total texts 12454\n",
      "             Clean texts 10379 (83.34 %)\n",
      "-------------------- \n",
      "\n",
      "[ TRAIN ] epoch 2 lr 0.0000100 loss:  1.1208:  20%|▏| 526/2595 [13:33<1:09:58,  "
     ]
    }
   ],
   "source": [
    "!python train.py --device 1 --wandb --wandb_comment \"online_no_wd_noise_filtering0.4_mean_teacher0.99\" --online --epochs 20 --noise_filter_acc_thres 0.4 --noise_filter --optimizer adamw --weight_decay 0.0"
   ]
  }
 ],
 "metadata": {
  "kernelspec": {
   "display_name": "Python 3 (ipykernel)",
   "language": "python",
   "name": "python3"
  },
  "language_info": {
   "codemirror_mode": {
    "name": "ipython",
    "version": 3
   },
   "file_extension": ".py",
   "mimetype": "text/x-python",
   "name": "python",
   "nbconvert_exporter": "python",
   "pygments_lexer": "ipython3",
   "version": "3.7.12"
  },
  "toc": {
   "base_numbering": 1,
   "nav_menu": {},
   "number_sections": false,
   "sideBar": true,
   "skip_h1_title": false,
   "title_cell": "Table of Contents",
   "title_sidebar": "Contents",
   "toc_cell": false,
   "toc_position": {
    "height": "calc(100% - 180px)",
    "left": "10px",
    "top": "150px",
    "width": "282.242px"
   },
   "toc_section_display": true,
   "toc_window_display": true
  }
 },
 "nbformat": 4,
 "nbformat_minor": 5
}
