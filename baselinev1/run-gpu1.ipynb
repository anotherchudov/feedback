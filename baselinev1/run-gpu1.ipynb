{
 "cells": [
  {
   "cell_type": "markdown",
   "id": "61afee34",
   "metadata": {},
   "source": [
    "# run training\n",
    "\n",
    "> notebook to run the `train.py` file"
   ]
  },
  {
   "cell_type": "code",
   "execution_count": 3,
   "id": "4f259f5d",
   "metadata": {
    "ExecuteTime": {
     "end_time": "2022-02-26T02:58:00.112394Z",
     "start_time": "2022-02-26T02:58:00.108480Z"
    }
   },
   "outputs": [],
   "source": [
    "install_pytorch = False\n",
    "if install_pytorch:\n",
    "    !pip install torch==1.8.1+cu111 torchvision==0.9.1+cu111 torchaudio===0.8.1 -f https://download.pytorch.org/whl/torch_stable.html"
   ]
  },
  {
   "cell_type": "markdown",
   "id": "93c8c22e",
   "metadata": {},
   "source": [
    "## Single GPU"
   ]
  },
  {
   "cell_type": "code",
   "execution_count": null,
   "id": "80571bec",
   "metadata": {
    "ExecuteTime": {
     "start_time": "2022-03-07T11:59:11.688Z"
    },
    "scrolled": false
   },
   "outputs": [
    {
     "name": "stdout",
     "output_type": "stream",
     "text": [
      "\u001b[34m\u001b[1mwandb\u001b[0m: Currently logged in as: \u001b[33mducky\u001b[0m (use `wandb login --relogin` to force relogin)\n",
      "\u001b[34m\u001b[1mwandb\u001b[0m: wandb version 0.12.11 is available!  To upgrade, please run:\n",
      "\u001b[34m\u001b[1mwandb\u001b[0m:  $ pip install wandb --upgrade\n",
      "\u001b[34m\u001b[1mwandb\u001b[0m: Tracking run with wandb version 0.12.10\n",
      "\u001b[34m\u001b[1mwandb\u001b[0m: Syncing run \u001b[33mfearless-brook-172\u001b[0m\n",
      "\u001b[34m\u001b[1mwandb\u001b[0m: ⭐️ View project at \u001b[34m\u001b[4mhttps://wandb.ai/ducky/feedback_deberta_large\u001b[0m\n",
      "\u001b[34m\u001b[1mwandb\u001b[0m: 🚀 View run at \u001b[34m\u001b[4mhttps://wandb.ai/ducky/feedback_deberta_large/runs/1w5rdk6w\u001b[0m\n",
      "\u001b[34m\u001b[1mwandb\u001b[0m: Run data is saved locally in /home/feedback/working/feedback_ducky/baselinev1/wandb/run-20220307_115921-1w5rdk6w\n",
      "\u001b[34m\u001b[1mwandb\u001b[0m: Run `wandb offline` to turn off syncing.\n",
      "\n",
      "[ Text Augmenter ] Initializing\n",
      "[ Text Augmenter ] EDA - Easy Data Augmentation model\n",
      "[ Text Augmenter ] Initializing tokenizer...\n",
      "Special tokens have been added in the vocabulary, make sure the associated word embeddings are fine-tuned or trained.\n",
      "Special tokens have been added in the vocabulary, make sure the associated word embeddings are fine-tuned or trained.\n",
      "[ Text Augmenter ] Initializing data...\n",
      "100%|████████████████████████████████████| 12454/12454 [00:49<00:00, 252.63it/s]\n",
      "\n",
      "Using Ducky Modified DebertaV2\n",
      "\n",
      "Some weights of the model checkpoint at microsoft/deberta-v3-large were not used when initializing DebertaV2Model: ['lm_predictions.lm_head.LayerNorm.bias', 'lm_predictions.lm_head.dense.weight', 'lm_predictions.lm_head.dense.bias', 'lm_predictions.lm_head.LayerNorm.weight', 'mask_predictions.dense.bias', 'mask_predictions.classifier.bias', 'mask_predictions.classifier.weight', 'mask_predictions.dense.weight', 'mask_predictions.LayerNorm.weight', 'mask_predictions.LayerNorm.bias', 'lm_predictions.lm_head.bias']\n",
      "- This IS expected if you are initializing DebertaV2Model from the checkpoint of a model trained on another task or with another architecture (e.g. initializing a BertForSequenceClassification model from a BertForPreTraining model).\n",
      "- This IS NOT expected if you are initializing DebertaV2Model from the checkpoint of a model that you expect to be exactly identical (initializing a BertForSequenceClassification model from a BertForSequenceClassification model).\n",
      "Namespace(back_translation=False, batch_size=4, ce_weight=0.9, cnn1d=False, criterion_list=['custom_ce'], criterion_ratio=[1.0], cycle_mult=1.0, data_prefix='', dataset_path='../../feedback-prize-2021', dataset_version=2, ddp=False, decay_bias=False, device=device(type='cuda', index=1), dropout_ratio=0.0, epochs=9, extra_dense=False, gamma=0.9, grad_acc_steps=1, grad_checkpt=True, grammer_correction=False, label_smoothing=0.1, local_rank=-1, lr=1e-05, max_grad_norm=1.0, min_len=0, min_lr=1e-06, model='microsoft/deberta-v3-large-ducky', momentum=0.9, nesterov=True, noise_injection=False, num_worker=8, online_dataset=True, optimizer='adamw', print_f1_per_step=500, random_deletion=False, random_deletion_prob=0.5, random_deletion_ratio=0.1, random_insertion=False, random_insertion_prob=0.5, rank=-1, rce_weight=0.1, save_cache=True, save_cache_dir='augmentation', save_path='result', scheduler='plateau', seed=0, start_eval_at=0, steps_per_epoch=3114, swa=True, swa_start_ratio=0.1, swa_update_per_epoch=100, swap_order=True, swap_order_prob=0.5, synonym_replacement=False, synonym_replacement_prob=0.5, text_aug_min_len=15, use_groupped_weights=False, val_fold=0, wandb=True, wandb_comment='swa_ce_swa100_online_swap_word_order', wandb_project='feedback_deberta_large', wandb_user='ducky', warmup_steps=500, weight_decay=0.01, weights_pow=0.1, word2vec=False, word2vec_prob=0.5)\n",
      "[ SWA ] - Applied from 2 epochs\n",
      "[ TRAIN ] epoch 1 lr 0.0000100 loss:  1.0818: 100%|█| 3114/3114 [43:52<00:00,  1\n",
      "100%|█████████████████████████████████████████| 785/785 [02:12<00:00,  5.90it/s]\n",
      "Currenlty on [ bug ] version\n",
      "Predicted match stats: {1: {'fp': 480, 'fn': 347, 'tp': 1520}, 2: {'fp': 928, 'fn': 1181, 'tp': 1928}, 3: {'fp': 2113, 'fn': 3097, 'tp': 6136}, 4: {'fp': 3949, 'fn': 4144, 'tp': 5933}, 5: {'fp': 576, 'fn': 485, 'tp': 2237}, 6: {'fp': 370, 'fn': 679, 'tp': 509}, 7: {'fp': 262, 'fn': 607, 'tp': 261}}\n",
      "\n",
      "Currenlty on [ clean ] version\n",
      "Predicted match stats: {1: {'fp': 474, 'fn': 341, 'tp': 1526}, 2: {'fp': 930, 'fn': 1183, 'tp': 1926}, 3: {'fp': 2226, 'fn': 3210, 'tp': 6023}, 4: {'fp': 4314, 'fn': 4509, 'tp': 5568}, 5: {'fp': 623, 'fn': 532, 'tp': 2190}, 6: {'fp': 390, 'fn': 699, 'tp': 489}, 7: {'fp': 366, 'fn': 711, 'tp': 157}}\n",
      "\n",
      "Currenlty on [ wonho ] version\n",
      "Predicted match stats: {1: {'fp': 468, 'fn': 332, 'tp': 1535}, 2: {'fp': 841, 'fn': 1183, 'tp': 1926}, 3: {'fp': 2476, 'fn': 2652, 'tp': 6581}, 4: {'fp': 4074, 'fn': 4309, 'tp': 5768}, 5: {'fp': 630, 'fn': 435, 'tp': 2287}, 6: {'fp': 362, 'fn': 696, 'tp': 492}, 7: {'fp': 344, 'fn': 706, 'tp': 162}}\n",
      "\n",
      "--------------------------------------------------\n",
      "Validation [ Bug ] 0.6293080242353389\n",
      "Validation [ Clean ] 0.5960312780650059\n",
      "Validation [ Wonho ] 0.6109183561285273\n",
      "  0%|                                                  | 0/3114 [00:00<?, ?it/s]--------------------\n",
      "[ SWA ] - First update of the SWA model\n",
      "--------------------\n",
      "[ TRAIN ] epoch 2 lr 0.0000100 loss:  0.9432: 100%|█| 3114/3114 [43:59<00:00,  1\n",
      "100%|█████████████████████████████████████████| 785/785 [02:12<00:00,  5.95it/s]Currenlty on [ bug ] version\n",
      "100%|█████████████████████████████████████████| 785/785 [02:12<00:00,  5.91it/s]\n",
      "Predicted match stats: {1: {'fp': 433, 'fn': 282, 'tp': 1585}, 2: {'fp': 1035, 'fn': 951, 'tp': 2158}, 3: {'fp': 2000, 'fn': 2820, 'tp': 6413}, 4: {'fp': 3761, 'fn': 3954, 'tp': 6123}, 5: {'fp': 704, 'fn': 412, 'tp': 2310}, 6: {'fp': 449, 'fn': 613, 'tp': 575}, 7: {'fp': 422, 'fn': 522, 'tp': 346}}\n",
      "\n",
      "Currenlty on [ clean ] version\n",
      "Predicted match stats: {1: {'fp': 455, 'fn': 304, 'tp': 1563}, 2: {'fp': 1022, 'fn': 938, 'tp': 2171}, 3: {'fp': 2219, 'fn': 3039, 'tp': 6194}, 4: {'fp': 4265, 'fn': 4458, 'tp': 5619}, 5: {'fp': 744, 'fn': 452, 'tp': 2270}, 6: {'fp': 446, 'fn': 610, 'tp': 578}, 7: {'fp': 433, 'fn': 533, 'tp': 335}}\n",
      "\n",
      "Currenlty on [ wonho ] version\n",
      "Predicted match stats: {1: {'fp': 446, 'fn': 291, 'tp': 1576}, 2: {'fp': 968, 'fn': 904, 'tp': 2205}, 3: {'fp': 2354, 'fn': 2572, 'tp': 6661}, 4: {'fp': 3834, 'fn': 4178, 'tp': 5899}, 5: {'fp': 787, 'fn': 371, 'tp': 2351}, 6: {'fp': 415, 'fn': 605, 'tp': 583}, 7: {'fp': 408, 'fn': 530, 'tp': 338}}\n",
      "\n",
      "--------------------------------------------------\n",
      "Validation [ Bug ] 0.6556401537683405\n",
      "Validation [ Clean ] 0.6403256030533812\n",
      "Validation [ Wonho ] 0.656103694997252\n",
      "[ TRAIN ] epoch 3 lr 0.0000100 loss:  0.8815:  62%|▌| 1917/3114 [27:17<15:13,  1"
     ]
    }
   ],
   "source": [
    "!python train.py --device 1 --wandb --wandb_comment \"swa_ce_swa100_online_swap_word_order\" --online --swap_order --save_cache --swa --swa_update_per_epoch 100 "
   ]
  },
  {
   "cell_type": "code",
   "execution_count": null,
   "id": "591ea7d2",
   "metadata": {},
   "outputs": [],
   "source": []
  }
 ],
 "metadata": {
  "kernelspec": {
   "display_name": "Python 3 (ipykernel)",
   "language": "python",
   "name": "python3"
  },
  "language_info": {
   "codemirror_mode": {
    "name": "ipython",
    "version": 3
   },
   "file_extension": ".py",
   "mimetype": "text/x-python",
   "name": "python",
   "nbconvert_exporter": "python",
   "pygments_lexer": "ipython3",
   "version": "3.7.12"
  },
  "toc": {
   "base_numbering": 1,
   "nav_menu": {},
   "number_sections": false,
   "sideBar": true,
   "skip_h1_title": false,
   "title_cell": "Table of Contents",
   "title_sidebar": "Contents",
   "toc_cell": false,
   "toc_position": {
    "height": "calc(100% - 180px)",
    "left": "10px",
    "top": "150px",
    "width": "282.255px"
   },
   "toc_section_display": true,
   "toc_window_display": true
  }
 },
 "nbformat": 4,
 "nbformat_minor": 5
}
