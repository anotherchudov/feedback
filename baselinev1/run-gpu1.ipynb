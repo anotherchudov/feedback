{
 "cells": [
  {
   "cell_type": "markdown",
   "id": "61afee34",
   "metadata": {},
   "source": [
    "# run training\n",
    "\n",
    "> notebook to run the `train.py` file"
   ]
  },
  {
   "cell_type": "code",
   "execution_count": 3,
   "id": "4f259f5d",
   "metadata": {
    "ExecuteTime": {
     "end_time": "2022-02-26T02:58:00.112394Z",
     "start_time": "2022-02-26T02:58:00.108480Z"
    }
   },
   "outputs": [],
   "source": [
    "install_pytorch = False\n",
    "if install_pytorch:\n",
    "    !pip install torch==1.8.1+cu111 torchvision==0.9.1+cu111 torchaudio===0.8.1 -f https://download.pytorch.org/whl/torch_stable.html"
   ]
  },
  {
   "cell_type": "markdown",
   "id": "93c8c22e",
   "metadata": {},
   "source": [
    "## Single GPU"
   ]
  },
  {
   "cell_type": "code",
   "execution_count": null,
   "id": "80571bec",
   "metadata": {
    "ExecuteTime": {
     "start_time": "2022-03-08T04:05:31.347Z"
    },
    "scrolled": false
   },
   "outputs": [
    {
     "name": "stdout",
     "output_type": "stream",
     "text": [
      "\u001b[34m\u001b[1mwandb\u001b[0m: Currently logged in as: \u001b[33mducky\u001b[0m (use `wandb login --relogin` to force relogin)\n",
      "\u001b[34m\u001b[1mwandb\u001b[0m: wandb version 0.12.11 is available!  To upgrade, please run:\n",
      "\u001b[34m\u001b[1mwandb\u001b[0m:  $ pip install wandb --upgrade\n",
      "\u001b[34m\u001b[1mwandb\u001b[0m: Tracking run with wandb version 0.12.10\n",
      "\u001b[34m\u001b[1mwandb\u001b[0m: Syncing run \u001b[33mstellar-leaf-204\u001b[0m\n",
      "\u001b[34m\u001b[1mwandb\u001b[0m: ⭐️ View project at \u001b[34m\u001b[4mhttps://wandb.ai/ducky/feedback_deberta_large\u001b[0m\n",
      "\u001b[34m\u001b[1mwandb\u001b[0m: 🚀 View run at \u001b[34m\u001b[4mhttps://wandb.ai/ducky/feedback_deberta_large/runs/171b242s\u001b[0m\n",
      "\u001b[34m\u001b[1mwandb\u001b[0m: Run data is saved locally in /home/feedback/working/feedback_ducky/baselinev1/wandb/run-20220308_040540-171b242s\n",
      "\u001b[34m\u001b[1mwandb\u001b[0m: Run `wandb offline` to turn off syncing.\n",
      "\n",
      "[ Text Augmenter ] Initializing\n",
      "[ Text Augmenter ] EDA - Easy Data Augmentation model\n",
      "[ Text Augmenter ] Initializing tokenizer...\n",
      "Special tokens have been added in the vocabulary, make sure the associated word embeddings are fine-tuned or trained.\n",
      "Special tokens have been added in the vocabulary, make sure the associated word embeddings are fine-tuned or trained.\n",
      "[ Text Augmenter ] Initializing data...\n",
      "100%|████████████████████████████████████| 12454/12454 [00:48<00:00, 254.83it/s]\n",
      "\n",
      "Using Ducky Modified DebertaV2\n",
      "\n",
      "Some weights of the model checkpoint at microsoft/deberta-v3-large were not used when initializing DebertaV2Model: ['lm_predictions.lm_head.LayerNorm.bias', 'lm_predictions.lm_head.LayerNorm.weight', 'mask_predictions.LayerNorm.weight', 'mask_predictions.dense.weight', 'lm_predictions.lm_head.dense.bias', 'lm_predictions.lm_head.dense.weight', 'mask_predictions.classifier.bias', 'mask_predictions.LayerNorm.bias', 'lm_predictions.lm_head.bias', 'mask_predictions.classifier.weight', 'mask_predictions.dense.bias']\n",
      "- This IS expected if you are initializing DebertaV2Model from the checkpoint of a model trained on another task or with another architecture (e.g. initializing a BertForSequenceClassification model from a BertForPreTraining model).\n",
      "- This IS NOT expected if you are initializing DebertaV2Model from the checkpoint of a model that you expect to be exactly identical (initializing a BertForSequenceClassification model from a BertForSequenceClassification model).\n",
      "Namespace(back_translation=False, batch_size=4, ce_weight=0.9, cnn1d=False, criterion_list=['custom_ce'], criterion_ratio=[1.0], cycle_mult=1.0, data_prefix='', dataset_path='../../feedback-prize-2021', dataset_version=2, ddp=False, decay_bias=False, device=device(type='cuda', index=0), dropout_ratio=0.0, epochs=9, extra_dense=False, gamma=0.9, grad_acc_steps=1, grad_checkpt=True, grammer_correction=False, label_smoothing=0.1, local_rank=-1, lr=1e-05, max_grad_norm=1.0, min_len=0, min_lr=1e-06, model='microsoft/deberta-v3-large-ducky', momentum=0.9, nesterov=True, noise_injection=True, noise_injection_prob=0.5, num_worker=8, online_dataset=True, optimizer='adamw', print_f1_per_step=500, random_deletion=False, random_deletion_prob=0.5, random_deletion_ratio=0.1, random_insertion=False, random_insertion_prob=0.5, rank=-1, rce_weight=0.1, save_cache=True, save_cache_dir='augmentation', save_path='result', scheduler='plateau', seed=0, start_eval_at=0, steps_per_epoch=3114, swa=True, swa_start_ratio=0.1, swa_update_per_epoch=100, swap_order=False, swap_order_prob=0.5, synonym_replacement=False, synonym_replacement_prob=0.5, text_aug_min_len=15, use_groupped_weights=False, val_fold=0, wandb=True, wandb_comment='swa_ce_swa100_online_newline_injection', wandb_project='feedback_deberta_large', wandb_user='ducky', warmup_steps=500, weight_decay=0.01, weights_pow=0.1, word2vec=False, word2vec_prob=0.5)\n",
      "[ SWA ] - Applied from 2 epochs\n",
      "[ TRAIN ] epoch 1 lr 0.0000100 loss:  1.1021: 100%|█| 3114/3114 [54:18<00:00,  1\n",
      "100%|█████████████████████████████████████████| 785/785 [03:01<00:00,  4.32it/s]\n",
      "Currenlty on [ bug ] version\n",
      "Predicted match stats: {1: {'fp': 425, 'fn': 362, 'tp': 1505}, 2: {'fp': 1038, 'fn': 1093, 'tp': 2016}, 3: {'fp': 2318, 'fn': 3017, 'tp': 6216}, 4: {'fp': 3276, 'fn': 4621, 'tp': 5456}, 5: {'fp': 834, 'fn': 395, 'tp': 2327}, 6: {'fp': 332, 'fn': 753, 'tp': 435}, 7: {'fp': 221, 'fn': 643, 'tp': 225}}\n",
      "\n",
      "Currenlty on [ clean ] version\n",
      "Predicted match stats: {1: {'fp': 425, 'fn': 362, 'tp': 1505}, 2: {'fp': 1023, 'fn': 1078, 'tp': 2031}, 3: {'fp': 2541, 'fn': 3240, 'tp': 5993}, 4: {'fp': 3698, 'fn': 5043, 'tp': 5034}, 5: {'fp': 890, 'fn': 451, 'tp': 2271}, 6: {'fp': 333, 'fn': 754, 'tp': 434}, 7: {'fp': 327, 'fn': 749, 'tp': 119}}\n",
      "\n",
      "Currenlty on [ wonho ] version\n",
      "Predicted match stats: {1: {'fp': 408, 'fn': 341, 'tp': 1526}, 2: {'fp': 970, 'fn': 1063, 'tp': 2046}, 3: {'fp': 2740, 'fn': 2655, 'tp': 6578}, 4: {'fp': 3409, 'fn': 4837, 'tp': 5240}, 5: {'fp': 892, 'fn': 370, 'tp': 2352}, 6: {'fp': 322, 'fn': 753, 'tp': 435}, 7: {'fp': 304, 'fn': 747, 'tp': 121}}\n",
      "\n",
      "--------------------------------------------------\n",
      "Validation [ Bug ] 0.615057353026612\n",
      "Validation [ Clean ] 0.5798420044101391\n",
      "Validation [ Wonho ] 0.5946840577956587\n",
      "[ TRAIN ] epoch 2 lr 0.0000100 loss:  1.0755:   0%|    | 0/3114 [00:04<?, ?it/s]--------------------\n",
      "[ SWA ] - First update of the SWA model\n",
      "--------------------\n",
      "[ TRAIN ] epoch 2 lr 0.0000100 loss:  0.9677: 100%|█| 3114/3114 [54:17<00:00,  1\n",
      "100%|█████████████████████████████████████████| 785/785 [03:01<00:00,  4.33it/s]\n",
      "Currenlty on [ bug ] version\n",
      "Predicted match stats: {1: {'fp': 426, 'fn': 318, 'tp': 1549}, 2: {'fp': 1015, 'fn': 997, 'tp': 2112}, 3: {'fp': 1951, 'fn': 3009, 'tp': 6224}, 4: {'fp': 3339, 'fn': 4204, 'tp': 5873}, 5: {'fp': 696, 'fn': 381, 'tp': 2341}, 6: {'fp': 345, 'fn': 676, 'tp': 512}, 7: {'fp': 344, 'fn': 543, 'tp': 325}}\n",
      "\n",
      "Currenlty on [ clean ] version\n",
      "Predicted match stats: {1: {'fp': 423, 'fn': 315, 'tp': 1552}, 2: {'fp': 988, 'fn': 970, 'tp': 2139}, 3: {'fp': 2118, 'fn': 3176, 'tp': 6057}, 4: {'fp': 3687, 'fn': 4552, 'tp': 5525}, 5: {'fp': 742, 'fn': 427, 'tp': 2295}, 6: {'fp': 347, 'fn': 678, 'tp': 510}, 7: {'fp': 360, 'fn': 559, 'tp': 309}}\n",
      "\n",
      "Currenlty on [ wonho ] version\n",
      "Predicted match stats: {1: {'fp': 422, 'fn': 311, 'tp': 1556}, 2: {'fp': 949, 'fn': 953, 'tp': 2156}, 3: {'fp': 2240, 'fn': 2733, 'tp': 6500}, 4: {'fp': 3411, 'fn': 4380, 'tp': 5697}, 5: {'fp': 753, 'fn': 356, 'tp': 2366}, 6: {'fp': 329, 'fn': 678, 'tp': 510}, 7: {'fp': 338, 'fn': 557, 'tp': 311}}\n",
      "\n",
      "--------------------------------------------------\n",
      "Validation [ Bug ] 0.649193341801657\n",
      "Validation [ Clean ] 0.6372220556108784\n",
      "Validation [ Wonho ] 0.6491214535676652\n",
      "[ TRAIN ] epoch 3 lr 0.0000100 loss:  0.9097: 100%|█| 3114/3114 [54:40<00:00,  1\n",
      "100%|█████████████████████████████████████████| 785/785 [03:00<00:00,  4.15it/s]Currenlty on [ bug ] version\n",
      "100%|█████████████████████████████████████████| 785/785 [03:00<00:00,  4.34it/s]\n",
      "Predicted match stats: {1: {'fp': 396, 'fn': 304, 'tp': 1563}, 2: {'fp': 1030, 'fn': 961, 'tp': 2148}, 3: {'fp': 1840, 'fn': 2968, 'tp': 6265}, 4: {'fp': 3358, 'fn': 4084, 'tp': 5993}, 5: {'fp': 598, 'fn': 383, 'tp': 2339}, 6: {'fp': 357, 'fn': 652, 'tp': 536}, 7: {'fp': 364, 'fn': 534, 'tp': 334}}\n",
      "\n",
      "Currenlty on [ clean ] version\n",
      "Predicted match stats: {1: {'fp': 403, 'fn': 311, 'tp': 1556}, 2: {'fp': 1013, 'fn': 944, 'tp': 2165}, 3: {'fp': 1999, 'fn': 3127, 'tp': 6106}, 4: {'fp': 3674, 'fn': 4400, 'tp': 5677}, 5: {'fp': 636, 'fn': 421, 'tp': 2301}, 6: {'fp': 357, 'fn': 652, 'tp': 536}, 7: {'fp': 379, 'fn': 549, 'tp': 319}}\n",
      "\n",
      "Currenlty on [ wonho ] version\n",
      "Predicted match stats: {1: {'fp': 400, 'fn': 305, 'tp': 1562}, 2: {'fp': 962, 'fn': 924, 'tp': 2185}, 3: {'fp': 2098, 'fn': 2714, 'tp': 6519}, 4: {'fp': 3387, 'fn': 4251, 'tp': 5826}, 5: {'fp': 667, 'fn': 367, 'tp': 2355}, 6: {'fp': 332, 'fn': 651, 'tp': 537}, 7: {'fp': 362, 'fn': 548, 'tp': 320}}\n",
      "\n",
      "--------------------------------------------------\n",
      "Validation [ Bug ] 0.6583342857518835\n",
      "Validation [ Clean ] 0.646661457688306\n",
      "Validation [ Wonho ] 0.6576972621288462\n",
      "[ TRAIN ] epoch 4 lr 0.0000100 loss:  0.8582:  99%|▉| 3078/3114 [1:33:18<00:35, "
     ]
    }
   ],
   "source": [
    "!python train.py --device 0 --wandb --wandb_comment \"swa_ce_swa100_online_newline_injection\" --online --noise_injection --optimizer adamw --save_cache --swa --swa_update_per_epoch 100 "
   ]
  }
 ],
 "metadata": {
  "kernelspec": {
   "display_name": "Python 3 (ipykernel)",
   "language": "python",
   "name": "python3"
  },
  "language_info": {
   "codemirror_mode": {
    "name": "ipython",
    "version": 3
   },
   "file_extension": ".py",
   "mimetype": "text/x-python",
   "name": "python",
   "nbconvert_exporter": "python",
   "pygments_lexer": "ipython3",
   "version": "3.7.12"
  },
  "toc": {
   "base_numbering": 1,
   "nav_menu": {},
   "number_sections": false,
   "sideBar": true,
   "skip_h1_title": false,
   "title_cell": "Table of Contents",
   "title_sidebar": "Contents",
   "toc_cell": false,
   "toc_position": {
    "height": "calc(100% - 180px)",
    "left": "10px",
    "top": "150px",
    "width": "282.255px"
   },
   "toc_section_display": true,
   "toc_window_display": true
  }
 },
 "nbformat": 4,
 "nbformat_minor": 5
}
