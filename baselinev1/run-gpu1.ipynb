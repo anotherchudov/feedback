{
 "cells": [
  {
   "cell_type": "markdown",
   "id": "61afee34",
   "metadata": {},
   "source": [
    "# run training\n",
    "\n",
    "> notebook to run the `train.py` file"
   ]
  },
  {
   "cell_type": "code",
   "execution_count": 3,
   "id": "4f259f5d",
   "metadata": {
    "ExecuteTime": {
     "end_time": "2022-02-26T02:58:00.112394Z",
     "start_time": "2022-02-26T02:58:00.108480Z"
    }
   },
   "outputs": [],
   "source": [
    "install_pytorch = False\n",
    "if install_pytorch:\n",
    "    !pip install torch==1.8.1+cu111 torchvision==0.9.1+cu111 torchaudio===0.8.1 -f https://download.pytorch.org/whl/torch_stable.html"
   ]
  },
  {
   "cell_type": "markdown",
   "id": "93c8c22e",
   "metadata": {},
   "source": [
    "## Single GPU"
   ]
  },
  {
   "cell_type": "markdown",
   "id": "8c7633d4",
   "metadata": {},
   "source": [
    "baseline + swa"
   ]
  },
  {
   "cell_type": "code",
   "execution_count": null,
   "id": "80571bec",
   "metadata": {
    "ExecuteTime": {
     "start_time": "2022-03-01T02:57:07.623Z"
    },
    "scrolled": false
   },
   "outputs": [
    {
     "name": "stdout",
     "output_type": "stream",
     "text": [
      "Namespace(batch_size=4, ce_weight=0.9, cnn1d=False, data_prefix='', dataset_path='../../feedback-prize-2021', dataset_version=2, ddp=False, decay_bias=False, device=device(type='cuda', index=1), dropout_ratio=0.0, epochs=9, extra_dense=False, global_attn=False, grad_acc_steps=2, grad_checkpt=True, label_smoothing=0.1, local_rank=-1, lr=3e-05, max_grad_norm=280, min_len=0, min_lr=3e-05, model='microsoft/deberta-v3-large', momentum=0.9, nesterov=True, num_worker=8, print_acc=500, rank=-1, rce_weight=0.1, save_path='result', seed=0, start_eval_at=0, swa=False, swa_update_per_epoch=3, use_groupped_weights=False, val_fold=0, wandb_comment='onecycle_cosine', wandb_project='feedback_deberta_large', wandb_user='ducky', warmup_steps=500, weight_decay=0.01, weights_pow=0.1)\n",
      "\u001b[34m\u001b[1mwandb\u001b[0m: Currently logged in as: \u001b[33mducky\u001b[0m (use `wandb login --relogin` to force relogin)\n",
      "\u001b[34m\u001b[1mwandb\u001b[0m: Tracking run with wandb version 0.12.10\n",
      "\u001b[34m\u001b[1mwandb\u001b[0m: Syncing run \u001b[33mgraceful-oath-57\u001b[0m\n",
      "\u001b[34m\u001b[1mwandb\u001b[0m: ⭐️ View project at \u001b[34m\u001b[4mhttps://wandb.ai/ducky/feedback_deberta_large\u001b[0m\n",
      "\u001b[34m\u001b[1mwandb\u001b[0m: 🚀 View run at \u001b[34m\u001b[4mhttps://wandb.ai/ducky/feedback_deberta_large/runs/3438431y\u001b[0m\n",
      "\u001b[34m\u001b[1mwandb\u001b[0m: Run data is saved locally in /home/feedback/working/feedback_ducky/baselinev1/wandb/run-20220301_025709-3438431y\n",
      "\u001b[34m\u001b[1mwandb\u001b[0m: Run `wandb offline` to turn off syncing.\n",
      "\n",
      "Some weights of the model checkpoint at microsoft/deberta-v3-large were not used when initializing DebertaV2Model: ['mask_predictions.classifier.weight', 'lm_predictions.lm_head.dense.bias', 'lm_predictions.lm_head.LayerNorm.bias', 'lm_predictions.lm_head.dense.weight', 'mask_predictions.LayerNorm.weight', 'mask_predictions.dense.weight', 'lm_predictions.lm_head.bias', 'lm_predictions.lm_head.LayerNorm.weight', 'mask_predictions.classifier.bias', 'mask_predictions.LayerNorm.bias', 'mask_predictions.dense.bias']\n",
      "- This IS expected if you are initializing DebertaV2Model from the checkpoint of a model trained on another task or with another architecture (e.g. initializing a BertForSequenceClassification model from a BertForPreTraining model).\n",
      "- This IS NOT expected if you are initializing DebertaV2Model from the checkpoint of a model that you expect to be exactly identical (initializing a BertForSequenceClassification model from a BertForSequenceClassification model).\n",
      "[ TRAIN ] epoch 1 lr 0.0000230 acc: 0.3483 loss:  0.7565:  16%|▏| 499/3114 [07:1Epoch: 1 | Step: 500 | Train Acc per class: tensor([3.1334e-01, 4.1152e-01, 5.8523e-01, 1.4879e-01, 3.4410e-01, 2.4836e-01,\n",
      "        9.0959e-01, 3.4625e-01, 3.8112e-01, 3.8700e-01, 7.9472e-01, 0.0000e+00,\n",
      "        8.1689e-03, 0.0000e+00, 1.1324e-04, 7.0205e-01])\n",
      "[ TRAIN ] epoch 1 lr 0.0000086 acc: 0.4445 loss:  0.6948:  32%|▎| 999/3114 [13:5Epoch: 1 | Step: 1000 | Train Acc per class: tensor([0.3494, 0.6340, 0.7163, 0.3524, 0.4649, 0.3628, 0.9146, 0.4386, 0.4504,\n",
      "        0.5281, 0.8649, 0.0027, 0.1737, 0.0000, 0.1132, 0.7457])\n",
      "[ TRAIN ] epoch 1 lr 0.0000002 acc: 0.4866 loss:  0.6671:  48%|▍| 1499/3114 [20:Epoch: 1 | Step: 1500 | Train Acc per class: tensor([0.3681, 0.7164, 0.7569, 0.4467, 0.5229, 0.4108, 0.9167, 0.4829, 0.4797,\n",
      "        0.5794, 0.8881, 0.0234, 0.2573, 0.0000, 0.1744, 0.7630])\n",
      "[ TRAIN ] epoch 1 lr 0.0000057 acc: 0.5118 loss:  0.6512:  64%|▋| 1999/3114 [27:Epoch: 1 | Step: 2000 | Train Acc per class: tensor([0.3758, 0.7629, 0.7864, 0.4949, 0.5547, 0.4408, 0.9173, 0.5078, 0.4984,\n",
      "        0.6099, 0.9020, 0.0432, 0.3044, 0.0000, 0.2180, 0.7732])\n",
      "[ TRAIN ] epoch 1 lr 0.0000199 acc: 0.5319 loss:  0.6412:  80%|▊| 2499/3114 [33:Epoch: 1 | Step: 2500 | Train Acc per class: tensor([0.3813, 0.7900, 0.8015, 0.5262, 0.5712, 0.4607, 0.9172, 0.5250, 0.5130,\n",
      "        0.6328, 0.9110, 0.0924, 0.3450, 0.0033, 0.2621, 0.7794])\n",
      "[ TRAIN ] epoch 1 lr 0.0000231 acc: 0.5352 loss:  0.6399:  84%|▊| 2617/3114 [35:"
     ]
    }
   ],
   "source": [
    "!python train.py --device 1 --wandb_comment \"onecycle_cosine\""
   ]
  },
  {
   "cell_type": "markdown",
   "id": "6d4b975d",
   "metadata": {},
   "source": [
    "## DDP"
   ]
  },
  {
   "cell_type": "code",
   "execution_count": null,
   "id": "6d912e17",
   "metadata": {
    "ExecuteTime": {
     "start_time": "2022-02-27T14:45:24.665Z"
    }
   },
   "outputs": [
    {
     "name": "stdout",
     "output_type": "stream",
     "text": [
      "*****************************************\r\n",
      "Setting OMP_NUM_THREADS environment variable for each process to be 1 in default, to avoid your system being overloaded, please further tune the variable for optimal performance in your application as needed. \r\n",
      "*****************************************\r\n"
     ]
    }
   ],
   "source": [
    "!python -m torch.distributed.launch --nproc_per_node=4 train.py"
   ]
  }
 ],
 "metadata": {
  "kernelspec": {
   "display_name": "Python 3 (ipykernel)",
   "language": "python",
   "name": "python3"
  },
  "language_info": {
   "codemirror_mode": {
    "name": "ipython",
    "version": 3
   },
   "file_extension": ".py",
   "mimetype": "text/x-python",
   "name": "python",
   "nbconvert_exporter": "python",
   "pygments_lexer": "ipython3",
   "version": "3.7.12"
  },
  "toc": {
   "base_numbering": 1,
   "nav_menu": {},
   "number_sections": false,
   "sideBar": true,
   "skip_h1_title": false,
   "title_cell": "Table of Contents",
   "title_sidebar": "Contents",
   "toc_cell": false,
   "toc_position": {
    "height": "calc(100% - 180px)",
    "left": "10px",
    "top": "150px",
    "width": "282.255px"
   },
   "toc_section_display": true,
   "toc_window_display": true
  }
 },
 "nbformat": 4,
 "nbformat_minor": 5
}
