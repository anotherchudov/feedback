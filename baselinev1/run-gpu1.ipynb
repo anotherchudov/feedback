{
 "cells": [
  {
   "cell_type": "markdown",
   "id": "61afee34",
   "metadata": {},
   "source": [
    "# run training\n",
    "\n",
    "> notebook to run the `train.py` file"
   ]
  },
  {
   "cell_type": "code",
   "execution_count": 3,
   "id": "4f259f5d",
   "metadata": {
    "ExecuteTime": {
     "end_time": "2022-02-26T02:58:00.112394Z",
     "start_time": "2022-02-26T02:58:00.108480Z"
    }
   },
   "outputs": [],
   "source": [
    "install_pytorch = False\n",
    "if install_pytorch:\n",
    "    !pip install torch==1.8.1+cu111 torchvision==0.9.1+cu111 torchaudio===0.8.1 -f https://download.pytorch.org/whl/torch_stable.html"
   ]
  },
  {
   "cell_type": "markdown",
   "id": "93c8c22e",
   "metadata": {},
   "source": [
    "## Single GPU"
   ]
  },
  {
   "cell_type": "code",
   "execution_count": null,
   "id": "80571bec",
   "metadata": {
    "ExecuteTime": {
     "start_time": "2022-03-03T00:54:47.586Z"
    },
    "scrolled": false
   },
   "outputs": [
    {
     "name": "stdout",
     "output_type": "stream",
     "text": [
      "\u001b[34m\u001b[1mwandb\u001b[0m: Currently logged in as: \u001b[33mducky\u001b[0m (use `wandb login --relogin` to force relogin)\n",
      "\u001b[34m\u001b[1mwandb\u001b[0m: wandb version 0.12.11 is available!  To upgrade, please run:\n",
      "\u001b[34m\u001b[1mwandb\u001b[0m:  $ pip install wandb --upgrade\n",
      "\u001b[34m\u001b[1mwandb\u001b[0m: Tracking run with wandb version 0.12.10\n",
      "\u001b[34m\u001b[1mwandb\u001b[0m: Syncing run \u001b[33mdeep-feather-91\u001b[0m\n",
      "\u001b[34m\u001b[1mwandb\u001b[0m: ⭐️ View project at \u001b[34m\u001b[4mhttps://wandb.ai/ducky/feedback_deberta_large\u001b[0m\n",
      "\u001b[34m\u001b[1mwandb\u001b[0m: 🚀 View run at \u001b[34m\u001b[4mhttps://wandb.ai/ducky/feedback_deberta_large/runs/3uax3v69\u001b[0m\n",
      "\u001b[34m\u001b[1mwandb\u001b[0m: Run data is saved locally in /home/feedback/working/feedback_ducky/baselinev1/wandb/run-20220303_005450-3uax3v69\n",
      "\u001b[34m\u001b[1mwandb\u001b[0m: Run `wandb offline` to turn off syncing.\n",
      "\n",
      "Namespace(batch_size=4, ce_weight=0.9, cnn1d=False, cycle_mult=1.0, data_prefix='', dataset_path='../../feedback-prize-2021', dataset_version=2, ddp=False, decay_bias=False, device=device(type='cuda', index=1), dropout_ratio=0.0, epochs=9, extra_dense=False, gamma=0.8, global_attn=False, grad_acc_steps=1, grad_checkpt=True, label_smoothing=0.1, local_rank=-1, lr=1e-05, max_grad_norm=10.0, min_len=0, min_lr=1e-06, model='microsoft/deberta-v3-large', momentum=0.9, nesterov=True, num_worker=8, print_acc=500, rank=-1, rce_weight=0.1, save_path='result', seed=0, start_eval_at=0, swa=True, swa_update_per_epoch=3, use_groupped_weights=False, val_fold=0, wandb_comment='swa_plateau_nogradaccu_maxgrad10.0_amp', wandb_project='feedback_deberta_large', wandb_user='ducky', warmup_steps=500, weight_decay=0.01, weights_pow=0.1)\n",
      "Some weights of the model checkpoint at microsoft/deberta-v3-large were not used when initializing DebertaV2Model: ['mask_predictions.classifier.weight', 'mask_predictions.dense.bias', 'mask_predictions.LayerNorm.bias', 'lm_predictions.lm_head.dense.weight', 'mask_predictions.LayerNorm.weight', 'mask_predictions.classifier.bias', 'mask_predictions.dense.weight', 'lm_predictions.lm_head.dense.bias', 'lm_predictions.lm_head.bias', 'lm_predictions.lm_head.LayerNorm.weight', 'lm_predictions.lm_head.LayerNorm.bias']\n",
      "- This IS expected if you are initializing DebertaV2Model from the checkpoint of a model trained on another task or with another architecture (e.g. initializing a BertForSequenceClassification model from a BertForPreTraining model).\n",
      "- This IS NOT expected if you are initializing DebertaV2Model from the checkpoint of a model that you expect to be exactly identical (initializing a BertForSequenceClassification model from a BertForSequenceClassification model).\n",
      "[ TRAIN ] epoch 1 lr 0.0000100 acc: 0.3728 loss:  1.4564:  16%|▏| 499/3114 [07:3Epoch: 1 | Step: 500 | Train Acc per class: tensor([0.3342, 0.4200, 0.6434, 0.1726, 0.4227, 0.2937, 0.9151, 0.3308, 0.4170,\n",
      "        0.3594, 0.8019, 0.0000, 0.1025, 0.0000, 0.0397, 0.7214])\n",
      "[ TRAIN ] epoch 1 lr 0.0000100 acc: 0.4712 loss:  1.3458:  32%|▎| 999/3114 [14:3Epoch: 1 | Step: 1000 | Train Acc per class: tensor([0.3712, 0.6441, 0.7476, 0.3827, 0.5194, 0.3975, 0.9175, 0.4337, 0.4707,\n",
      "        0.5079, 0.8668, 0.0441, 0.2804, 0.0018, 0.1942, 0.7594])\n",
      "[ TRAIN ] epoch 1 lr 0.0000100 acc: 0.5181 loss:  1.3020:  48%|▍| 1499/3114 [21:Epoch: 1 | Step: 1500 | Train Acc per class: tensor([0.3889, 0.7271, 0.7777, 0.4767, 0.5623, 0.4405, 0.9171, 0.4753, 0.4921,\n",
      "        0.5671, 0.8885, 0.1482, 0.3485, 0.0460, 0.2610, 0.7727])\n",
      "[ TRAIN ] epoch 1 lr 0.0000100 acc: 0.5501 loss:  1.2736:  64%|▋| 1999/3114 [28:Epoch: 1 | Step: 2000 | Train Acc per class: tensor([0.3974, 0.7718, 0.7982, 0.5250, 0.5876, 0.4693, 0.9170, 0.5031, 0.5084,\n",
      "        0.6056, 0.8987, 0.2334, 0.3908, 0.1091, 0.3057, 0.7810])\n",
      "[ TRAIN ] epoch 1 lr 0.0000100 acc: 0.5769 loss:  1.2512:  80%|▊| 2499/3114 [35:Epoch: 1 | Step: 2500 | Train Acc per class: tensor([0.4088, 0.7996, 0.8165, 0.5594, 0.6023, 0.4903, 0.9171, 0.5248, 0.5245,\n",
      "        0.6351, 0.9065, 0.2997, 0.4319, 0.1784, 0.3495, 0.7881])\n",
      "[ TRAIN ] epoch 1 lr 0.0000100 acc: 0.5942 loss:  1.2365:  96%|▉| 2999/3114 [42:Epoch: 1 | Step: 3000 | Train Acc per class: tensor([0.4141, 0.8152, 0.8242, 0.5790, 0.6119, 0.5055, 0.9170, 0.5371, 0.5341,\n",
      "        0.6522, 0.9115, 0.3502, 0.4598, 0.2314, 0.3736, 0.7923])\n",
      "[ TRAIN ] epoch 1 lr 0.0000100 acc: 0.5977 loss:  1.2339: 100%|█| 3114/3114 [44:\n",
      "100%|█████████████████████████████████████████| 785/785 [02:05<00:00,  6.23it/s]\n",
      "Valid Acc per class: tensor([0.4862, 0.9347, 0.8650, 0.7231, 0.6508, 0.6355, 0.8958, 0.6853, 0.6707,\n",
      "        0.7704, 0.9384, 0.5572, 0.5441, 0.5461, 0.4426, 0.8145])\n",
      "0.6368342944107892\n",
      "save model .....\n",
      "[ TRAIN ] epoch 2 lr 0.0000100 acc: 0.7214 loss:  1.1020:  16%|▏| 499/3114 [07:2Epoch: 2 | Step: 500 | Train Acc per class: tensor([0.4803, 0.9282, 0.9123, 0.7281, 0.7103, 0.6194, 0.9243, 0.6287, 0.6173,\n",
      "        0.7716, 0.9463, 0.6015, 0.6620, 0.5775, 0.6044, 0.8338])\n",
      "[ TRAIN ] epoch 2 lr 0.0000100 acc: 0.7138 loss:  1.1071:  32%|▎| 999/3114 [14:1Epoch: 2 | Step: 1000 | Train Acc per class: tensor([0.4831, 0.9228, 0.9015, 0.7267, 0.7172, 0.6102, 0.9240, 0.6290, 0.6114,\n",
      "        0.7801, 0.9474, 0.5996, 0.6104, 0.5465, 0.5784, 0.8321])\n",
      "[ TRAIN ] epoch 2 lr 0.0000100 acc: 0.7139 loss:  1.1076:  48%|▍| 1499/3114 [21:Epoch: 2 | Step: 1500 | Train Acc per class: tensor([0.4860, 0.9207, 0.9000, 0.7224, 0.7144, 0.6096, 0.9243, 0.6303, 0.6103,\n",
      "        0.7757, 0.9495, 0.6054, 0.6123, 0.5567, 0.5714, 0.8329])\n",
      "[ TRAIN ] epoch 2 lr 0.0000100 acc: 0.7155 loss:  1.1077:  64%|▋| 1999/3114 [28:Epoch: 2 | Step: 2000 | Train Acc per class: tensor([0.4873, 0.9203, 0.9005, 0.7275, 0.7176, 0.6102, 0.9238, 0.6316, 0.6105,\n",
      "        0.7817, 0.9508, 0.6125, 0.6141, 0.5576, 0.5684, 0.8327])\n",
      "[ TRAIN ] epoch 2 lr 0.0000100 acc: 0.7170 loss:  1.1058:  80%|▊| 2499/3114 [35:Epoch: 2 | Step: 2500 | Train Acc per class: tensor([0.4927, 0.9222, 0.9005, 0.7301, 0.7184, 0.6104, 0.9241, 0.6325, 0.6108,\n",
      "        0.7801, 0.9514, 0.6155, 0.6173, 0.5633, 0.5684, 0.8337])\n",
      "[ TRAIN ] epoch 2 lr 0.0000100 acc: 0.7175 loss:  1.1062:  96%|▉| 2999/3114 [42:Epoch: 2 | Step: 3000 | Train Acc per class: tensor([0.4978, 0.9224, 0.8988, 0.7291, 0.7138, 0.6123, 0.9237, 0.6329, 0.6108,\n",
      "        0.7825, 0.9509, 0.6174, 0.6211, 0.5650, 0.5681, 0.8336])\n",
      "[ TRAIN ] epoch 2 lr 0.0000100 acc: 0.7174 loss:  1.1058: 100%|█| 3114/3114 [44:\n",
      "100%|█████████████████████████████████████████| 785/785 [02:05<00:00,  6.26it/s]\n",
      "Valid Acc per class: tensor([0.5200, 0.9245, 0.8695, 0.7317, 0.6861, 0.6266, 0.8942, 0.6765, 0.6468,\n",
      "        0.7924, 0.9612, 0.6439, 0.6187, 0.6014, 0.5562, 0.8212])\n",
      "0.6616827700591807\n",
      "save model .....\n",
      "[ TRAIN ] epoch 3 lr 0.0000100 acc: 0.7753 loss:  1.0282:  16%|▏| 499/3114 [07:4Epoch: 3 | Step: 500 | Train Acc per class: tensor([0.5262, 0.9417, 0.9407, 0.7801, 0.7991, 0.6691, 0.9344, 0.6710, 0.6765,\n",
      "        0.8126, 0.9681, 0.7197, 0.7315, 0.6810, 0.6931, 0.8625])\n",
      "[ TRAIN ] epoch 3 lr 0.0000100 acc: 0.7694 loss:  1.0330:  32%|▎| 999/3114 [14:4Epoch: 3 | Step: 1000 | Train Acc per class: tensor([0.5327, 0.9411, 0.9347, 0.7781, 0.7961, 0.6618, 0.9326, 0.6744, 0.6737,\n",
      "        0.8057, 0.9633, 0.7056, 0.7190, 0.6537, 0.6776, 0.8596])\n",
      "[ TRAIN ] epoch 3 lr 0.0000100 acc: 0.7701 loss:  1.0338:  48%|▍| 1499/3114 [21:Epoch: 3 | Step: 1500 | Train Acc per class: tensor([0.5310, 0.9420, 0.9338, 0.7746, 0.7898, 0.6581, 0.9331, 0.6743, 0.6721,\n",
      "        0.8108, 0.9636, 0.7079, 0.7280, 0.6595, 0.6826, 0.8600])\n",
      "[ TRAIN ] epoch 3 lr 0.0000100 acc: 0.7694 loss:  1.0337:  64%|▋| 1999/3114 [28:Epoch: 3 | Step: 2000 | Train Acc per class: tensor([0.5275, 0.9410, 0.9348, 0.7740, 0.7852, 0.6579, 0.9334, 0.6717, 0.6709,\n",
      "        0.8134, 0.9631, 0.7066, 0.7246, 0.6616, 0.6812, 0.8597])\n",
      "[ TRAIN ] epoch 3 lr 0.0000100 acc: 0.7686 loss:  1.0348:  80%|▊| 2499/3114 [36:Epoch: 3 | Step: 2500 | Train Acc per class: tensor([0.5341, 0.9400, 0.9328, 0.7739, 0.7818, 0.6564, 0.9322, 0.6695, 0.6693,\n",
      "        0.8152, 0.9622, 0.7086, 0.7276, 0.6591, 0.6764, 0.8587])\n",
      "[ TRAIN ] epoch 3 lr 0.0000100 acc: 0.7670 loss:  1.0365:  96%|▉| 2999/3114 [42:Epoch: 3 | Step: 3000 | Train Acc per class: tensor([0.5362, 0.9389, 0.9320, 0.7712, 0.7796, 0.6535, 0.9315, 0.6683, 0.6671,\n",
      "        0.8162, 0.9623, 0.7052, 0.7207, 0.6559, 0.6743, 0.8580])\n"
     ]
    },
    {
     "name": "stdout",
     "output_type": "stream",
     "text": [
      "[ TRAIN ] epoch 3 lr 0.0000100 acc: 0.7667 loss:  1.0365: 100%|█| 3114/3114 [44:\n",
      "100%|█████████████████████████████████████████| 785/785 [02:05<00:00,  6.24it/s]\n",
      "Valid Acc per class: tensor([0.5379, 0.9197, 0.8808, 0.7356, 0.6940, 0.6312, 0.8990, 0.6658, 0.6212,\n",
      "        0.8001, 0.9562, 0.6524, 0.6486, 0.6244, 0.5992, 0.8237])\n",
      "0.6686365455787452\n",
      "save model .....\n",
      "[ TRAIN ] epoch 4 lr 0.0000100 acc: 0.8116 loss:  0.9629:  16%|▏| 499/3114 [07:1Epoch: 4 | Step: 500 | Train Acc per class: tensor([0.6034, 0.9470, 0.9539, 0.8033, 0.8432, 0.7029, 0.9453, 0.7109, 0.7451,\n",
      "        0.8380, 0.9689, 0.7507, 0.8037, 0.7194, 0.7662, 0.8868])\n",
      "[ TRAIN ] epoch 4 lr 0.0000100 acc: 0.8124 loss:  0.9620:  32%|▎| 999/3114 [14:2Epoch: 4 | Step: 1000 | Train Acc per class: tensor([0.6023, 0.9488, 0.9501, 0.8083, 0.8409, 0.7048, 0.9441, 0.7106, 0.7401,\n",
      "        0.8451, 0.9723, 0.7609, 0.7978, 0.7281, 0.7573, 0.8865])\n",
      "[ TRAIN ] epoch 4 lr 0.0000100 acc: 0.8116 loss:  0.9675:  48%|▍| 1499/3114 [21:Epoch: 4 | Step: 1500 | Train Acc per class: tensor([0.5921, 0.9496, 0.9472, 0.8100, 0.8355, 0.7025, 0.9424, 0.7120, 0.7393,\n",
      "        0.8499, 0.9732, 0.7651, 0.7904, 0.7260, 0.7663, 0.8842])\n",
      "[ TRAIN ] epoch 4 lr 0.0000100 acc: 0.8112 loss:  0.9699:  64%|▋| 1999/3114 [28:Epoch: 4 | Step: 2000 | Train Acc per class: tensor([0.5892, 0.9525, 0.9477, 0.8078, 0.8336, 0.7015, 0.9426, 0.7098, 0.7362,\n",
      "        0.8497, 0.9735, 0.7650, 0.7901, 0.7285, 0.7674, 0.8838])\n",
      "[ TRAIN ] epoch 4 lr 0.0000100 acc: 0.8090 loss:  0.9734:  80%|▊| 2499/3114 [35:Epoch: 4 | Step: 2500 | Train Acc per class: tensor([0.5828, 0.9529, 0.9486, 0.8054, 0.8300, 0.6985, 0.9418, 0.7073, 0.7303,\n",
      "        0.8497, 0.9732, 0.7603, 0.7913, 0.7279, 0.7617, 0.8823])\n",
      "[ TRAIN ] epoch 4 lr 0.0000100 acc: 0.8077 loss:  0.9735:  96%|▉| 2999/3114 [42:Epoch: 4 | Step: 3000 | Train Acc per class: tensor([0.5821, 0.9529, 0.9494, 0.8058, 0.8305, 0.6978, 0.9417, 0.7070, 0.7290,\n",
      "        0.8474, 0.9730, 0.7562, 0.7872, 0.7244, 0.7564, 0.8820])\n",
      "[ TRAIN ] epoch 4 lr 0.0000100 acc: 0.8079 loss:  0.9733: 100%|█| 3114/3114 [44:\n",
      "100%|█████████████████████████████████████████| 785/785 [02:06<00:00,  6.23it/s]\n",
      "Valid Acc per class: tensor([0.5456, 0.9191, 0.8794, 0.7404, 0.6980, 0.6327, 0.8975, 0.6712, 0.6257,\n",
      "        0.8016, 0.9510, 0.6566, 0.6594, 0.6336, 0.6057, 0.8238])\n",
      "0.673756320840724\n",
      "save model .....\n",
      "[ TRAIN ] epoch 5 lr 0.0000100 acc: 0.8428 loss:  0.9197:  16%|▏| 499/3114 [07:2Epoch: 5 | Step: 500 | Train Acc per class: tensor([0.6539, 0.9610, 0.9651, 0.8361, 0.8760, 0.7445, 0.9514, 0.7391, 0.7854,\n",
      "        0.8603, 0.9792, 0.8068, 0.8359, 0.7713, 0.8201, 0.9045])\n",
      "[ TRAIN ] epoch 5 lr 0.0000100 acc: 0.8422 loss:  0.9211:  32%|▎| 999/3114 [14:3Epoch: 5 | Step: 1000 | Train Acc per class: tensor([0.6399, 0.9632, 0.9674, 0.8299, 0.8767, 0.7374, 0.9516, 0.7410, 0.7847,\n",
      "        0.8669, 0.9768, 0.8023, 0.8359, 0.7649, 0.8278, 0.9038])\n",
      "[ TRAIN ] epoch 5 lr 0.0000100 acc: 0.8438 loss:  0.9193:  48%|▍| 1499/3114 [21:Epoch: 5 | Step: 1500 | Train Acc per class: tensor([0.6470, 0.9640, 0.9683, 0.8314, 0.8783, 0.7363, 0.9510, 0.7406, 0.7859,\n",
      "        0.8617, 0.9750, 0.8086, 0.8434, 0.7720, 0.8318, 0.9043])\n",
      "[ TRAIN ] epoch 5 lr 0.0000100 acc: 0.8439 loss:  0.9201:  64%|▋| 1999/3114 [28:Epoch: 5 | Step: 2000 | Train Acc per class: tensor([0.6485, 0.9641, 0.9674, 0.8321, 0.8774, 0.7377, 0.9504, 0.7411, 0.7851,\n",
      "        0.8619, 0.9762, 0.8129, 0.8457, 0.7706, 0.8272, 0.9040])\n",
      "[ TRAIN ] epoch 5 lr 0.0000100 acc: 0.8432 loss:  0.9204:  80%|▊| 2499/3114 [35:Epoch: 5 | Step: 2500 | Train Acc per class: tensor([0.6480, 0.9648, 0.9672, 0.8338, 0.8742, 0.7401, 0.9508, 0.7397, 0.7838,\n",
      "        0.8621, 0.9757, 0.8045, 0.8448, 0.7736, 0.8251, 0.9037])\n",
      "[ TRAIN ] epoch 5 lr 0.0000100 acc: 0.8430 loss:  0.9207:  96%|▉| 2999/3114 [42:Epoch: 5 | Step: 3000 | Train Acc per class: tensor([0.6468, 0.9640, 0.9663, 0.8343, 0.8719, 0.7386, 0.9509, 0.7398, 0.7833,\n",
      "        0.8640, 0.9762, 0.8050, 0.8432, 0.7728, 0.8258, 0.9038])\n",
      "[ TRAIN ] epoch 5 lr 0.0000100 acc: 0.8427 loss:  0.9208: 100%|█| 3114/3114 [44:\n",
      "100%|█████████████████████████████████████████| 785/785 [02:06<00:00,  6.22it/s]\n",
      "Valid Acc per class: tensor([0.5523, 0.9218, 0.8795, 0.7385, 0.6988, 0.6355, 0.8936, 0.6716, 0.6268,\n",
      "        0.8016, 0.9470, 0.6616, 0.6700, 0.6348, 0.6193, 0.8224])\n",
      "0.6749295113887636\n",
      "save model .....\n",
      "[ TRAIN ] epoch 6 lr 0.0000100 acc: 0.8776 loss:  0.8665:  16%|▏| 499/3114 [07:4Epoch: 6 | Step: 500 | Train Acc per class: tensor([0.7180, 0.9738, 0.9761, 0.8516, 0.9157, 0.7855, 0.9642, 0.7718, 0.8365,\n",
      "        0.8818, 0.9852, 0.8388, 0.8870, 0.8402, 0.8917, 0.9280])\n",
      "[ TRAIN ] epoch 6 lr 0.0000100 acc: 0.8742 loss:  0.8717:  32%|▎| 999/3114 [14:4Epoch: 6 | Step: 1000 | Train Acc per class: tensor([0.7190, 0.9709, 0.9749, 0.8585, 0.9095, 0.7758, 0.9623, 0.7684, 0.8315,\n",
      "        0.8809, 0.9834, 0.8331, 0.8854, 0.8273, 0.8795, 0.9256])\n",
      "[ TRAIN ] epoch 6 lr 0.0000100 acc: 0.8715 loss:  0.8737:  48%|▍| 1499/3114 [22:Epoch: 6 | Step: 1500 | Train Acc per class: tensor([0.7225, 0.9682, 0.9717, 0.8611, 0.9073, 0.7741, 0.9618, 0.7701, 0.8300,\n",
      "        0.8853, 0.9832, 0.8277, 0.8791, 0.8073, 0.8709, 0.9247])\n",
      "[ TRAIN ] epoch 6 lr 0.0000100 acc: 0.8707 loss:  0.8741:  64%|▋| 1999/3114 [29:Epoch: 6 | Step: 2000 | Train Acc per class: tensor([0.7193, 0.9675, 0.9718, 0.8613, 0.9039, 0.7735, 0.9621, 0.7695, 0.8299,\n",
      "        0.8824, 0.9827, 0.8265, 0.8780, 0.8067, 0.8709, 0.9245])\n",
      "[ TRAIN ] epoch 6 lr 0.0000100 acc: 0.8703 loss:  0.8759:  80%|▊| 2499/3114 [36:Epoch: 6 | Step: 2500 | Train Acc per class: tensor([0.7118, 0.9683, 0.9722, 0.8603, 0.9041, 0.7724, 0.9614, 0.7691, 0.8287,\n",
      "        0.8824, 0.9825, 0.8311, 0.8795, 0.8072, 0.8697, 0.9234])\n",
      "[ TRAIN ] epoch 6 lr 0.0000100 acc: 0.8698 loss:  0.8763:  96%|▉| 2999/3114 [42:Epoch: 6 | Step: 3000 | Train Acc per class: tensor([0.7089, 0.9684, 0.9719, 0.8595, 0.9034, 0.7737, 0.9613, 0.7695, 0.8287,\n",
      "        0.8803, 0.9818, 0.8303, 0.8809, 0.8041, 0.8691, 0.9232])\n",
      "[ TRAIN ] epoch 6 lr 0.0000100 acc: 0.8697 loss:  0.8760: 100%|█| 3114/3114 [44:\n",
      "100%|█████████████████████████████████████████| 785/785 [02:06<00:00,  6.22it/s]\n",
      "Valid Acc per class: tensor([0.5587, 0.9213, 0.8773, 0.7420, 0.7031, 0.6318, 0.8932, 0.6680, 0.6250,\n",
      "        0.8031, 0.9420, 0.6700, 0.6685, 0.6394, 0.6207, 0.8218])\n",
      "0.6767662066812938\n",
      "save model .....\n",
      "[ TRAIN ] epoch 7 lr 0.0000100 acc: 0.8889 loss:  0.8435:  16%|▏| 499/3114 [07:3Epoch: 7 | Step: 500 | Train Acc per class: tensor([0.7687, 0.9802, 0.9811, 0.8687, 0.9232, 0.8046, 0.9696, 0.7901, 0.8665,\n",
      "        0.8802, 0.9811, 0.8613, 0.9114, 0.8035, 0.8961, 0.9380])\n",
      "[ TRAIN ] epoch 7 lr 0.0000100 acc: 0.8872 loss:  0.8444:  32%|▎| 999/3114 [14:2Epoch: 7 | Step: 1000 | Train Acc per class: tensor([0.7641, 0.9762, 0.9798, 0.8720, 0.9210, 0.8058, 0.9689, 0.7885, 0.8657,\n",
      "        0.8794, 0.9808, 0.8492, 0.8976, 0.8169, 0.8916, 0.9371])\n",
      "[ TRAIN ] epoch 7 lr 0.0000100 acc: 0.8898 loss:  0.8445:  48%|▍| 1499/3114 [21:Epoch: 7 | Step: 1500 | Train Acc per class: tensor([0.7622, 0.9754, 0.9789, 0.8755, 0.9257, 0.8052, 0.9686, 0.7901, 0.8650,\n",
      "        0.8835, 0.9810, 0.8544, 0.9025, 0.8341, 0.8962, 0.9373])\n",
      "[ TRAIN ] epoch 7 lr 0.0000100 acc: 0.8905 loss:  0.8432:  64%|▋| 1999/3114 [28:Epoch: 7 | Step: 2000 | Train Acc per class: tensor([0.7621, 0.9748, 0.9793, 0.8769, 0.9243, 0.8046, 0.9686, 0.7913, 0.8655,\n",
      "        0.8859, 0.9818, 0.8549, 0.9069, 0.8362, 0.8957, 0.9378])\n",
      "[ TRAIN ] epoch 7 lr 0.0000100 acc: 0.8894 loss:  0.8453:  80%|▊| 2499/3114 [35:Epoch: 7 | Step: 2500 | Train Acc per class: tensor([0.7570, 0.9734, 0.9775, 0.8749, 0.9220, 0.8044, 0.9684, 0.7900, 0.8624,\n",
      "        0.8855, 0.9820, 0.8548, 0.9091, 0.8352, 0.8960, 0.9370])\n",
      "[ TRAIN ] epoch 7 lr 0.0000100 acc: 0.8885 loss:  0.8461:  96%|▉| 2999/3114 [42:Epoch: 7 | Step: 3000 | Train Acc per class: tensor([0.7593, 0.9728, 0.9775, 0.8751, 0.9203, 0.8025, 0.9679, 0.7917, 0.8618,\n",
      "        0.8890, 0.9820, 0.8524, 0.9075, 0.8305, 0.8884, 0.9364])\n",
      "[ TRAIN ] epoch 7 lr 0.0000100 acc: 0.8881 loss:  0.8467: 100%|█| 3114/3114 [44:\n",
      "100%|█████████████████████████████████████████| 785/785 [02:05<00:00,  6.23it/s]\n",
      "Valid Acc per class: tensor([0.5678, 0.9223, 0.8754, 0.7433, 0.7024, 0.6305, 0.8900, 0.6621, 0.6255,\n",
      "        0.8005, 0.9403, 0.6700, 0.6693, 0.6359, 0.6256, 0.8205])\n",
      "0.6777550956105134\n"
     ]
    },
    {
     "name": "stdout",
     "output_type": "stream",
     "text": [
      "save model .....\n",
      "[ TRAIN ] epoch 8 lr 0.0000100 acc: 0.9021 loss:  0.8222:  16%|▏| 499/3114 [07:1Epoch: 8 | Step: 500 | Train Acc per class: tensor([0.7946, 0.9759, 0.9787, 0.8865, 0.9332, 0.8345, 0.9752, 0.8090, 0.8913,\n",
      "        0.8854, 0.9830, 0.8648, 0.9306, 0.8378, 0.9069, 0.9478])\n",
      "[ TRAIN ] epoch 8 lr 0.0000100 acc: 0.9042 loss:  0.8213:  32%|▎| 999/3114 [14:1Epoch: 8 | Step: 1000 | Train Acc per class: tensor([0.7920, 0.9746, 0.9785, 0.8859, 0.9321, 0.8310, 0.9755, 0.8140, 0.8917,\n",
      "        0.8948, 0.9842, 0.8799, 0.9314, 0.8430, 0.9109, 0.9483])\n",
      "[ TRAIN ] epoch 8 lr 0.0000100 acc: 0.9043 loss:  0.8218:  48%|▍| 1499/3114 [21:Epoch: 8 | Step: 1500 | Train Acc per class: tensor([0.7953, 0.9750, 0.9791, 0.8876, 0.9327, 0.8274, 0.9747, 0.8123, 0.8918,\n",
      "        0.8963, 0.9839, 0.8803, 0.9279, 0.8420, 0.9136, 0.9481])\n",
      "[ TRAIN ] epoch 8 lr 0.0000100 acc: 0.9033 loss:  0.8233:  64%|▋| 1999/3114 [28:Epoch: 8 | Step: 2000 | Train Acc per class: tensor([0.7930, 0.9740, 0.9793, 0.8857, 0.9303, 0.8271, 0.9744, 0.8108, 0.8904,\n",
      "        0.8958, 0.9840, 0.8771, 0.9291, 0.8441, 0.9089, 0.9475])\n",
      "[ TRAIN ] epoch 8 lr 0.0000100 acc: 0.9019 loss:  0.8243:  80%|▊| 2499/3114 [36:Epoch: 8 | Step: 2500 | Train Acc per class: tensor([0.7893, 0.9740, 0.9790, 0.8852, 0.9310, 0.8254, 0.9743, 0.8087, 0.8886,\n",
      "        0.8967, 0.9840, 0.8711, 0.9240, 0.8423, 0.9096, 0.9468])\n",
      "[ TRAIN ] epoch 8 lr 0.0000100 acc: 0.9006 loss:  0.8263:  96%|▉| 2999/3114 [43:Epoch: 8 | Step: 3000 | Train Acc per class: tensor([0.7873, 0.9739, 0.9795, 0.8865, 0.9309, 0.8227, 0.9734, 0.8077, 0.8869,\n",
      "        0.8955, 0.9837, 0.8670, 0.9192, 0.8406, 0.9088, 0.9458])\n",
      "[ TRAIN ] epoch 8 lr 0.0000100 acc: 0.9006 loss:  0.8263: 100%|█| 3114/3114 [44:\n",
      "100%|█████████████████████████████████████████| 785/785 [02:06<00:00,  6.21it/s]\n",
      "Valid Acc per class: tensor([0.5699, 0.9202, 0.8753, 0.7420, 0.7002, 0.6282, 0.8901, 0.6590, 0.6231,\n",
      "        0.7968, 0.9383, 0.6608, 0.6643, 0.6279, 0.6211, 0.8198])\n",
      "0.6784761262731799\n",
      "save model .....\n",
      "[ TRAIN ] epoch 9 lr 0.0000100 acc: 0.9160 loss:  0.8058:  16%|▏| 499/3114 [07:2Epoch: 9 | Step: 500 | Train Acc per class: tensor([0.8224, 0.9785, 0.9847, 0.8953, 0.9560, 0.8382, 0.9775, 0.8236, 0.9085,\n",
      "        0.9084, 0.9867, 0.8967, 0.9409, 0.8481, 0.9325, 0.9558])\n",
      "[ TRAIN ] epoch 9 lr 0.0000100 acc: 0.9148 loss:  0.8042:  32%|▎| 999/3114 [14:4Epoch: 9 | Step: 1000 | Train Acc per class: tensor([0.8284, 0.9817, 0.9842, 0.8991, 0.9513, 0.8408, 0.9788, 0.8246, 0.9080,\n",
      "        0.9079, 0.9866, 0.8827, 0.9396, 0.8397, 0.9273, 0.9561])\n",
      "[ TRAIN ] epoch 9 lr 0.0000100 acc: 0.9148 loss:  0.8046:  48%|▍| 1499/3114 [21:Epoch: 9 | Step: 1500 | Train Acc per class: tensor([0.8236, 0.9817, 0.9848, 0.8994, 0.9497, 0.8399, 0.9784, 0.8260, 0.9074,\n",
      "        0.9091, 0.9876, 0.8786, 0.9368, 0.8513, 0.9278, 0.9557])\n",
      "[ TRAIN ] epoch 9 lr 0.0000100 acc: 0.9148 loss:  0.8057:  59%|▌| 1824/3114 [26:"
     ]
    }
   ],
   "source": [
    "!python train.py --device 1 --wandb_comment \"swa_plateau_nogradaccu_maxgrad10.0_amp\" --grad_acc_steps 1 --lr 1e-5 --swa"
   ]
  },
  {
   "cell_type": "markdown",
   "id": "6d4b975d",
   "metadata": {},
   "source": [
    "## DDP"
   ]
  },
  {
   "cell_type": "code",
   "execution_count": null,
   "id": "6d912e17",
   "metadata": {
    "ExecuteTime": {
     "start_time": "2022-02-27T14:45:24.665Z"
    }
   },
   "outputs": [
    {
     "name": "stdout",
     "output_type": "stream",
     "text": [
      "*****************************************\r\n",
      "Setting OMP_NUM_THREADS environment variable for each process to be 1 in default, to avoid your system being overloaded, please further tune the variable for optimal performance in your application as needed. \r\n",
      "*****************************************\r\n"
     ]
    }
   ],
   "source": [
    "!python -m torch.distributed.launch --nproc_per_node=4 train.py"
   ]
  }
 ],
 "metadata": {
  "kernelspec": {
   "display_name": "Python 3 (ipykernel)",
   "language": "python",
   "name": "python3"
  },
  "language_info": {
   "codemirror_mode": {
    "name": "ipython",
    "version": 3
   },
   "file_extension": ".py",
   "mimetype": "text/x-python",
   "name": "python",
   "nbconvert_exporter": "python",
   "pygments_lexer": "ipython3",
   "version": "3.7.12"
  },
  "toc": {
   "base_numbering": 1,
   "nav_menu": {},
   "number_sections": false,
   "sideBar": true,
   "skip_h1_title": false,
   "title_cell": "Table of Contents",
   "title_sidebar": "Contents",
   "toc_cell": false,
   "toc_position": {
    "height": "calc(100% - 180px)",
    "left": "10px",
    "top": "150px",
    "width": "282.255px"
   },
   "toc_section_display": true,
   "toc_window_display": true
  }
 },
 "nbformat": 4,
 "nbformat_minor": 5
}
