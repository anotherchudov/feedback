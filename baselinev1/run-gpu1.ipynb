{
 "cells": [
  {
   "cell_type": "markdown",
   "id": "61afee34",
   "metadata": {},
   "source": [
    "# run training\n",
    "\n",
    "> notebook to run the `train.py` file"
   ]
  },
  {
   "cell_type": "code",
   "execution_count": 3,
   "id": "4f259f5d",
   "metadata": {
    "ExecuteTime": {
     "end_time": "2022-02-26T02:58:00.112394Z",
     "start_time": "2022-02-26T02:58:00.108480Z"
    }
   },
   "outputs": [],
   "source": [
    "install_pytorch = False\n",
    "if install_pytorch:\n",
    "    !pip install torch==1.8.1+cu111 torchvision==0.9.1+cu111 torchaudio===0.8.1 -f https://download.pytorch.org/whl/torch_stable.html"
   ]
  },
  {
   "cell_type": "markdown",
   "id": "93c8c22e",
   "metadata": {},
   "source": [
    "## Single GPU"
   ]
  },
  {
   "cell_type": "code",
   "execution_count": null,
   "id": "80571bec",
   "metadata": {
    "ExecuteTime": {
     "start_time": "2022-03-03T11:52:59.717Z"
    },
    "scrolled": true
   },
   "outputs": [
    {
     "name": "stdout",
     "output_type": "stream",
     "text": [
      "\u001b[34m\u001b[1mwandb\u001b[0m: Currently logged in as: \u001b[33mducky\u001b[0m (use `wandb login --relogin` to force relogin)\n",
      "\u001b[34m\u001b[1mwandb\u001b[0m: wandb version 0.12.11 is available!  To upgrade, please run:\n",
      "\u001b[34m\u001b[1mwandb\u001b[0m:  $ pip install wandb --upgrade\n",
      "\u001b[34m\u001b[1mwandb\u001b[0m: Tracking run with wandb version 0.12.10\n",
      "\u001b[34m\u001b[1mwandb\u001b[0m: Syncing run \u001b[33mfresh-snowflake-116\u001b[0m\n",
      "\u001b[34m\u001b[1mwandb\u001b[0m: ⭐️ View project at \u001b[34m\u001b[4mhttps://wandb.ai/ducky/feedback_deberta_large\u001b[0m\n",
      "\u001b[34m\u001b[1mwandb\u001b[0m: 🚀 View run at \u001b[34m\u001b[4mhttps://wandb.ai/ducky/feedback_deberta_large/runs/1rh7sb0f\u001b[0m\n",
      "\u001b[34m\u001b[1mwandb\u001b[0m: Run data is saved locally in /home/feedback/working/feedback_ducky/baselinev1/wandb/run-20220303_115302-1rh7sb0f\n",
      "\u001b[34m\u001b[1mwandb\u001b[0m: Run `wandb offline` to turn off syncing.\n",
      "\n",
      "Namespace(batch_size=4, ce_weight=0.9, cnn1d=False, cycle_mult=1.0, data_prefix='', dataset_path='../../feedback-prize-2021', dataset_version=2, ddp=False, decay_bias=False, device=device(type='cuda', index=1), dropout_ratio=0.0, epochs=9, extra_dense=False, gamma=0.8, grad_acc_steps=1, grad_checkpt=True, label_smoothing=0.1, local_rank=-1, lr=1e-05, max_grad_norm=1.0, min_len=0, min_lr=1e-06, model='microsoft/deberta-v3-large', momentum=0.9, nesterov=True, num_worker=8, print_acc=500, rank=-1, rce_weight=0.1, save_path='result', seed=0, start_eval_at=0, swa=True, swa_update_per_epoch=3, use_groupped_weights=False, val_fold=0, wandb_comment='swa_plateau_nogradaccu_maxgrad1.0_SAM', wandb_project='feedback_deberta_large', wandb_user='ducky', warmup_steps=500, weight_decay=0.01, weights_pow=0.1)\n",
      "Some weights of the model checkpoint at microsoft/deberta-v3-large were not used when initializing DebertaV2Model: ['lm_predictions.lm_head.dense.bias', 'lm_predictions.lm_head.dense.weight', 'lm_predictions.lm_head.LayerNorm.bias', 'mask_predictions.LayerNorm.weight', 'lm_predictions.lm_head.bias', 'mask_predictions.dense.bias', 'mask_predictions.LayerNorm.bias', 'lm_predictions.lm_head.LayerNorm.weight', 'mask_predictions.classifier.weight', 'mask_predictions.classifier.bias', 'mask_predictions.dense.weight']\n",
      "- This IS expected if you are initializing DebertaV2Model from the checkpoint of a model trained on another task or with another architecture (e.g. initializing a BertForSequenceClassification model from a BertForPreTraining model).\n",
      "- This IS NOT expected if you are initializing DebertaV2Model from the checkpoint of a model that you expect to be exactly identical (initializing a BertForSequenceClassification model from a BertForSequenceClassification model).\n",
      "[ TRAIN ] epoch 1 lr 0.0000100 acc: 0.3022 loss:  1.6477:  16%|▏| 499/3114 [14:1Epoch: 1 | Step: 500 | Train Acc per class: tensor([0.3015, 0.2049, 0.4429, 0.1407, 0.2854, 0.2651, 0.8303, 0.3064, 0.3234,\n",
      "        0.3514, 0.7429, 0.0013, 0.0134, 0.0000, 0.0011, 0.6336])\n",
      "[ TRAIN ] epoch 1 lr 0.0000100 acc: 0.3979 loss:  1.4943:  32%|▎| 999/3114 [27:4Epoch: 1 | Step: 1000 | Train Acc per class: tensor([0.3225, 0.4769, 0.6057, 0.3208, 0.3992, 0.3646, 0.8584, 0.4036, 0.3871,\n",
      "        0.4927, 0.8200, 0.0041, 0.1522, 0.0018, 0.0669, 0.6890])\n",
      "[ TRAIN ] epoch 1 lr 0.0000100 acc: 0.4432 loss:  1.4291:  48%|▍| 1499/3114 [40:Epoch: 1 | Step: 1500 | Train Acc per class: tensor([0.3381, 0.5973, 0.6540, 0.4170, 0.4547, 0.4102, 0.8689, 0.4516, 0.4125,\n",
      "        0.5478, 0.8480, 0.0500, 0.2128, 0.0043, 0.1147, 0.7106])\n",
      "[ TRAIN ] epoch 1 lr 0.0000100 acc: 0.4746 loss:  1.3857:  64%|▋| 1999/3114 [54:Epoch: 1 | Step: 2000 | Train Acc per class: tensor([0.3440, 0.6657, 0.6895, 0.4711, 0.4852, 0.4392, 0.8746, 0.4783, 0.4325,\n",
      "        0.5847, 0.8606, 0.1126, 0.2551, 0.0245, 0.1536, 0.7237])\n",
      "[ TRAIN ] epoch 1 lr 0.0000100 acc: 0.5015 loss:  1.3508:  80%|▊| 2499/3114 [1:0Epoch: 1 | Step: 2500 | Train Acc per class: tensor([0.3529, 0.7115, 0.7178, 0.5071, 0.5044, 0.4583, 0.8790, 0.4961, 0.4486,\n",
      "        0.6109, 0.8704, 0.1790, 0.2908, 0.0714, 0.1936, 0.7337])\n",
      "[ TRAIN ] epoch 1 lr 0.0000100 acc: 0.5164 loss:  1.3314:  93%|▉| 2910/3114 [1:1"
     ]
    }
   ],
   "source": [
    "!python train.py --device 1 --wandb_comment \"swa_plateau_nogradaccu_maxgrad1.0_SAM\" --swa"
   ]
  }
 ],
 "metadata": {
  "kernelspec": {
   "display_name": "Python 3 (ipykernel)",
   "language": "python",
   "name": "python3"
  },
  "language_info": {
   "codemirror_mode": {
    "name": "ipython",
    "version": 3
   },
   "file_extension": ".py",
   "mimetype": "text/x-python",
   "name": "python",
   "nbconvert_exporter": "python",
   "pygments_lexer": "ipython3",
   "version": "3.7.12"
  },
  "toc": {
   "base_numbering": 1,
   "nav_menu": {},
   "number_sections": false,
   "sideBar": true,
   "skip_h1_title": false,
   "title_cell": "Table of Contents",
   "title_sidebar": "Contents",
   "toc_cell": false,
   "toc_position": {
    "height": "calc(100% - 180px)",
    "left": "10px",
    "top": "150px",
    "width": "282.255px"
   },
   "toc_section_display": true,
   "toc_window_display": true
  }
 },
 "nbformat": 4,
 "nbformat_minor": 5
}
