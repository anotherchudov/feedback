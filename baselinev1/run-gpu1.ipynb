{
 "cells": [
  {
   "cell_type": "markdown",
   "id": "61afee34",
   "metadata": {},
   "source": [
    "# run training\n",
    "\n",
    "> notebook to run the `train.py` file"
   ]
  },
  {
   "cell_type": "code",
   "execution_count": 3,
   "id": "4f259f5d",
   "metadata": {
    "ExecuteTime": {
     "end_time": "2022-02-26T02:58:00.112394Z",
     "start_time": "2022-02-26T02:58:00.108480Z"
    }
   },
   "outputs": [],
   "source": [
    "install_pytorch = False\n",
    "if install_pytorch:\n",
    "    !pip install torch==1.8.1+cu111 torchvision==0.9.1+cu111 torchaudio===0.8.1 -f https://download.pytorch.org/whl/torch_stable.html"
   ]
  },
  {
   "cell_type": "markdown",
   "id": "93c8c22e",
   "metadata": {},
   "source": [
    "## Single GPU\n"
   ]
  },
  {
   "cell_type": "markdown",
   "id": "b0cc6185",
   "metadata": {},
   "source": [
    "Currently used for saving cache"
   ]
  },
  {
   "cell_type": "code",
   "execution_count": null,
   "id": "f821dd32",
   "metadata": {
    "ExecuteTime": {
     "start_time": "2022-03-09T01:08:02.754Z"
    }
   },
   "outputs": [
    {
     "name": "stdout",
     "output_type": "stream",
     "text": [
      "\u001b[34m\u001b[1mwandb\u001b[0m: Currently logged in as: \u001b[33mducky\u001b[0m (use `wandb login --relogin` to force relogin)\n",
      "\u001b[34m\u001b[1mwandb\u001b[0m: wandb version 0.12.11 is available!  To upgrade, please run:\n",
      "\u001b[34m\u001b[1mwandb\u001b[0m:  $ pip install wandb --upgrade\n",
      "\u001b[34m\u001b[1mwandb\u001b[0m: Tracking run with wandb version 0.12.10\n",
      "\u001b[34m\u001b[1mwandb\u001b[0m: Syncing run \u001b[33mfeasible-gorge-230\u001b[0m\n",
      "\u001b[34m\u001b[1mwandb\u001b[0m: ⭐️ View project at \u001b[34m\u001b[4mhttps://wandb.ai/ducky/feedback_deberta_large\u001b[0m\n",
      "\u001b[34m\u001b[1mwandb\u001b[0m: 🚀 View run at \u001b[34m\u001b[4mhttps://wandb.ai/ducky/feedback_deberta_large/runs/1c30t81x\u001b[0m\n",
      "\u001b[34m\u001b[1mwandb\u001b[0m: Run data is saved locally in /home/feedback/working/feedback_ducky/baselinev1/wandb/run-20220309_010812-1c30t81x\n",
      "\u001b[34m\u001b[1mwandb\u001b[0m: Run `wandb offline` to turn off syncing.\n",
      "\n",
      "Namespace(back_translation=False, batch_size=4, ce_weight=0.9, cnn1d=False, criterion_list=['custom_ce'], criterion_ratio=[1.0], cycle_mult=1.0, data_prefix='', dataset_path='../../feedback-prize-2021', dataset_version=2, ddp=False, decay_bias=False, device=device(type='cuda', index=1), dropout_ratio=0.0, epochs=9, extra_dense=False, gamma=0.9, grad_acc_steps=1, grad_checkpt=True, grammer_correction=False, label_smoothing=0.1, local_rank=-1, lr=0.001, max_grad_norm=1.0, min_len=0, min_lr=1e-06, model='microsoft/deberta-v3-large-ducky', momentum=0.9, nesterov=True, noise_filter=False, noise_injection=False, noise_injection_prob=0.5, num_worker=8, online_dataset=False, optimizer='lamb', print_f1_per_step=500, random_deletion=False, random_deletion_prob=0.5, random_deletion_ratio=0.1, random_insertion=False, random_insertion_prob=0.5, rank=-1, rce_weight=0.1, save_cache=False, save_cache_dir='augmentation', save_path='result', scheduler='plateau', seed=0, start_eval_at=0, swa=True, swa_start_ratio=0.1, swa_update_per_epoch=100, swap_order=False, swap_order_prob=0.5, synonym_replacement=False, synonym_replacement_prob=0.5, text_aug_min_len=15, use_groupped_weights=False, val_fold=0, wandb=True, wandb_comment='swa_ce_swa3_lamb', wandb_project='feedback_deberta_large', wandb_user='ducky', warmup_steps=500, weight_decay=0.01, weights_pow=0.1, word2vec=False, word2vec_prob=0.5)\n",
      "\n",
      "Using Ducky Modified DebertaV2\n",
      "\n",
      "Some weights of the model checkpoint at microsoft/deberta-v3-large were not used when initializing DebertaV2Model: ['mask_predictions.dense.weight', 'lm_predictions.lm_head.dense.bias', 'lm_predictions.lm_head.bias', 'mask_predictions.LayerNorm.bias', 'mask_predictions.classifier.bias', 'lm_predictions.lm_head.dense.weight', 'lm_predictions.lm_head.LayerNorm.weight', 'mask_predictions.classifier.weight', 'mask_predictions.dense.bias', 'lm_predictions.lm_head.LayerNorm.bias', 'mask_predictions.LayerNorm.weight']\n",
      "- This IS expected if you are initializing DebertaV2Model from the checkpoint of a model trained on another task or with another architecture (e.g. initializing a BertForSequenceClassification model from a BertForPreTraining model).\n",
      "- This IS NOT expected if you are initializing DebertaV2Model from the checkpoint of a model that you expect to be exactly identical (initializing a BertForSequenceClassification model from a BertForSequenceClassification model).\n",
      "[ SWA ] - Applied from 2 epochs\n",
      "[ TRAIN ] epoch 1 lr 0.0010000 loss:  1.1271: 100%|█| 3114/3114 [56:18<00:00,  1\n",
      "100%|█████████████████████████████████████████| 785/785 [03:01<00:00,  4.33it/s]\n",
      "Currenlty on [ bug ] version\n",
      "Predicted match stats: {1: {'fp': 392, 'fn': 333, 'tp': 1534}, 2: {'fp': 917, 'fn': 1113, 'tp': 1996}, 3: {'fp': 2820, 'fn': 2756, 'tp': 6477}, 4: {'fp': 4729, 'fn': 3998, 'tp': 6079}, 5: {'fp': 616, 'fn': 486, 'tp': 2236}, 6: {'fp': 695, 'fn': 578, 'tp': 610}, 7: {'fp': 500, 'fn': 544, 'tp': 324}}\n",
      "\n",
      "Currenlty on [ clean ] version\n",
      "Predicted match stats: {1: {'fp': 396, 'fn': 337, 'tp': 1530}, 2: {'fp': 965, 'fn': 1161, 'tp': 1948}, 3: {'fp': 3111, 'fn': 3047, 'tp': 6186}, 4: {'fp': 5142, 'fn': 4411, 'tp': 5666}, 5: {'fp': 685, 'fn': 555, 'tp': 2167}, 6: {'fp': 742, 'fn': 625, 'tp': 563}, 7: {'fp': 535, 'fn': 579, 'tp': 289}}\n",
      "\n",
      "Currenlty on [ wonho ] version\n",
      "Predicted match stats: {1: {'fp': 384, 'fn': 323, 'tp': 1544}, 2: {'fp': 905, 'fn': 1113, 'tp': 1996}, 3: {'fp': 3146, 'fn': 2502, 'tp': 6731}, 4: {'fp': 4668, 'fn': 4166, 'tp': 5911}, 5: {'fp': 724, 'fn': 413, 'tp': 2309}, 6: {'fp': 676, 'fn': 625, 'tp': 563}, 7: {'fp': 491, 'fn': 577, 'tp': 291}}\n",
      "\n",
      "--------------------------------------------------\n",
      "Validation [ Bug ] 0.6325184729054414\n",
      "Validation [ Clean ] 0.6049693761775051\n",
      "Validation [ Wonho ] 0.6248301878694777\n",
      "  0%|                                                  | 0/3114 [00:00<?, ?it/s]--------------------\n",
      "[ SWA ] - First update of the SWA model\n",
      "--------------------\n",
      "[ TRAIN ] epoch 2 lr 0.0010000 loss:  1.0117: 100%|█| 3114/3114 [56:18<00:00,  1\n",
      "100%|█████████████████████████████████████████| 785/785 [03:01<00:00,  4.32it/s]\n",
      "Currenlty on [ bug ] version\n",
      "Predicted match stats: {1: {'fp': 380, 'fn': 264, 'tp': 1603}, 2: {'fp': 1138, 'fn': 943, 'tp': 2166}, 3: {'fp': 2692, 'fn': 2400, 'tp': 6833}, 4: {'fp': 4767, 'fn': 3299, 'tp': 6778}, 5: {'fp': 704, 'fn': 361, 'tp': 2361}, 6: {'fp': 661, 'fn': 495, 'tp': 693}, 7: {'fp': 682, 'fn': 443, 'tp': 425}}\n",
      "\n",
      "Currenlty on [ clean ] version\n",
      "Predicted match stats: {1: {'fp': 389, 'fn': 273, 'tp': 1594}, 2: {'fp': 1159, 'fn': 964, 'tp': 2145}, 3: {'fp': 2924, 'fn': 2632, 'tp': 6601}, 4: {'fp': 5167, 'fn': 3699, 'tp': 6378}, 5: {'fp': 744, 'fn': 401, 'tp': 2321}, 6: {'fp': 699, 'fn': 533, 'tp': 655}, 7: {'fp': 691, 'fn': 452, 'tp': 416}}\n",
      "\n",
      "Currenlty on [ wonho ] version\n",
      "Predicted match stats: {1: {'fp': 376, 'fn': 256, 'tp': 1611}, 2: {'fp': 1089, 'fn': 917, 'tp': 2192}, 3: {'fp': 2876, 'fn': 2305, 'tp': 6928}, 4: {'fp': 4598, 'fn': 3570, 'tp': 6507}, 5: {'fp': 767, 'fn': 324, 'tp': 2398}, 6: {'fp': 608, 'fn': 532, 'tp': 656}, 7: {'fp': 618, 'fn': 451, 'tp': 417}}\n",
      "\n",
      "--------------------------------------------------\n",
      "Validation [ Bug ] 0.6650447445277958\n",
      "Validation [ Clean ] 0.6470739277314616\n",
      "Validation [ Wonho ] 0.6646181527214932\n",
      "[ TRAIN ] epoch 3 lr 0.0010000 loss:  0.9440:  15%|▏| 458/3114 [08:44<53:34,  1."
     ]
    }
   ],
   "source": [
    "!python train.py --device 1 --wandb --wandb_comment \"swa_ce_swa3_lamb\" --optimizer lamb --lr 1e-3 --swa --swa_update_per_epoch 100"
   ]
  },
  {
   "cell_type": "code",
   "execution_count": null,
   "id": "a28f9947",
   "metadata": {
    "ExecuteTime": {
     "start_time": "2022-03-08T16:17:49.774Z"
    }
   },
   "outputs": [],
   "source": [
    "!python train.py --device 1 --wandb --wandb_comment \"swa_ce_swa3_adabound\" --optimizer adabound --lr 1e-5 --swa --swa_update_per_epoch 100"
   ]
  }
 ],
 "metadata": {
  "kernelspec": {
   "display_name": "Python 3 (ipykernel)",
   "language": "python",
   "name": "python3"
  },
  "language_info": {
   "codemirror_mode": {
    "name": "ipython",
    "version": 3
   },
   "file_extension": ".py",
   "mimetype": "text/x-python",
   "name": "python",
   "nbconvert_exporter": "python",
   "pygments_lexer": "ipython3",
   "version": "3.7.12"
  },
  "toc": {
   "base_numbering": 1,
   "nav_menu": {},
   "number_sections": false,
   "sideBar": true,
   "skip_h1_title": false,
   "title_cell": "Table of Contents",
   "title_sidebar": "Contents",
   "toc_cell": false,
   "toc_position": {
    "height": "calc(100% - 180px)",
    "left": "10px",
    "top": "150px",
    "width": "282.242px"
   },
   "toc_section_display": true,
   "toc_window_display": true
  }
 },
 "nbformat": 4,
 "nbformat_minor": 5
}
