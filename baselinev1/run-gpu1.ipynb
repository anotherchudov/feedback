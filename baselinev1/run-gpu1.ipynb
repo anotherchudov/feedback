{
 "cells": [
  {
   "cell_type": "markdown",
   "id": "61afee34",
   "metadata": {},
   "source": [
    "# run training\n",
    "\n",
    "> notebook to run the `train.py` file"
   ]
  },
  {
   "cell_type": "code",
   "execution_count": 3,
   "id": "4f259f5d",
   "metadata": {
    "ExecuteTime": {
     "end_time": "2022-02-26T02:58:00.112394Z",
     "start_time": "2022-02-26T02:58:00.108480Z"
    }
   },
   "outputs": [],
   "source": [
    "install_pytorch = False\n",
    "if install_pytorch:\n",
    "    !pip install torch==1.8.1+cu111 torchvision==0.9.1+cu111 torchaudio===0.8.1 -f https://download.pytorch.org/whl/torch_stable.html"
   ]
  },
  {
   "cell_type": "markdown",
   "id": "93c8c22e",
   "metadata": {},
   "source": [
    "## Single GPU\n"
   ]
  },
  {
   "cell_type": "markdown",
   "id": "b0cc6185",
   "metadata": {},
   "source": [
    "Currently used for saving cache"
   ]
  },
  {
   "cell_type": "code",
   "execution_count": null,
   "id": "4953b678",
   "metadata": {
    "ExecuteTime": {
     "start_time": "2022-03-10T05:08:53.129Z"
    }
   },
   "outputs": [
    {
     "name": "stdout",
     "output_type": "stream",
     "text": [
      "\u001b[34m\u001b[1mwandb\u001b[0m: Currently logged in as: \u001b[33mducky\u001b[0m (use `wandb login --relogin` to force relogin)\n",
      "\u001b[34m\u001b[1mwandb\u001b[0m: wandb version 0.12.11 is available!  To upgrade, please run:\n",
      "\u001b[34m\u001b[1mwandb\u001b[0m:  $ pip install wandb --upgrade\n",
      "\u001b[34m\u001b[1mwandb\u001b[0m: Tracking run with wandb version 0.12.10\n",
      "\u001b[34m\u001b[1mwandb\u001b[0m: Syncing run \u001b[33mzesty-darkness-267\u001b[0m\n",
      "\u001b[34m\u001b[1mwandb\u001b[0m: ⭐️ View project at \u001b[34m\u001b[4mhttps://wandb.ai/ducky/feedback_deberta_large\u001b[0m\n",
      "\u001b[34m\u001b[1mwandb\u001b[0m: 🚀 View run at \u001b[34m\u001b[4mhttps://wandb.ai/ducky/feedback_deberta_large/runs/25rnxxgh\u001b[0m\n",
      "\u001b[34m\u001b[1mwandb\u001b[0m: Run data is saved locally in /home/feedback/working/feedback_ducky/baselinev1/wandb/run-20220310_050902-25rnxxgh\n",
      "\u001b[34m\u001b[1mwandb\u001b[0m: Run `wandb offline` to turn off syncing.\n",
      "\n",
      "Namespace(back_translation=False, batch_size=4, ce_weight=0.9, cnn1d=False, criterion_list=['custom_ce'], criterion_ratio=[1.0], cycle_mult=1.0, data_prefix='', dataset_path='../../feedback-prize-2021', dataset_version=2, ddp=False, decay_bias=False, device=device(type='cuda', index=1), dropout_ratio=0.0, epochs=12, extra_dense=False, gamma=0.9, grad_acc_steps=1, grad_checkpt=True, grammer_correction=False, label_smoothing=0.1, local_rank=-1, lr=1e-05, max_grad_norm=1.0, min_len=0, min_lr=1e-06, model='microsoft/deberta-v3-large-ducky', momentum=0.9, nesterov=True, noise_filter=True, noise_filter_acc_thres=0.6, noise_filter_alpha=0.8, noise_injection=False, noise_injection_prob=0.5, num_worker=8, online_dataset=True, optimizer='adamw', print_f1_per_step=500, random_deletion=False, random_deletion_prob=0.5, random_deletion_ratio=0.1, random_insertion=False, random_insertion_prob=0.5, rank=-1, rce_weight=0.1, save_cache=False, save_cache_dir='augmentation', save_path='result', scheduler='plateau', seed=0, start_eval_at=0, swa=True, swa_start_ratio=0.1, swa_update_per_epoch=100, swap_order=False, swap_order_prob=0.5, synonym_replacement=False, synonym_replacement_prob=0.5, text_aug_min_len=15, use_double_space=False, use_groupped_weights=False, use_space=False, val_fold=0, wandb=True, wandb_comment='swa100_online_noise_filtering0.6', wandb_project='feedback_deberta_large', wandb_user='ducky', warmup_steps=500, weight_decay=0.01, weights_pow=0.1, word2vec=False, word2vec_prob=0.5)\n",
      "[ Text Augmenter ] Initializing\n",
      "[ Text Augmenter ] EDA - Easy Data Augmentation model\n",
      "[ Text Augmenter ] Initializing tokenizer...\n",
      "Special tokens have been added in the vocabulary, make sure the associated word embeddings are fine-tuned or trained.\n",
      "Special tokens have been added in the vocabulary, make sure the associated word embeddings are fine-tuned or trained.\n",
      "[ Text Augmenter ] Initializing Train data\n",
      "100%|████████████████████████████████████| 12454/12454 [00:48<00:00, 258.09it/s]\n",
      "[ Text Augmenter ] Initializing\n",
      "[ Text Augmenter ] EDA - Easy Data Augmentation model\n",
      "[ Text Augmenter ] Initializing tokenizer...\n",
      "Special tokens have been added in the vocabulary, make sure the associated word embeddings are fine-tuned or trained.\n",
      "Special tokens have been added in the vocabulary, make sure the associated word embeddings are fine-tuned or trained.\n",
      "[ Text Augmenter ] Initializing Valid data\n",
      "100%|██████████████████████████████████████| 3140/3140 [00:11<00:00, 264.98it/s]\n",
      "\n",
      "Using Ducky Modified DebertaV2\n",
      "\n",
      "Some weights of the model checkpoint at microsoft/deberta-v3-large were not used when initializing DebertaV2Model: ['mask_predictions.LayerNorm.bias', 'mask_predictions.dense.weight', 'lm_predictions.lm_head.bias', 'lm_predictions.lm_head.LayerNorm.bias', 'lm_predictions.lm_head.dense.weight', 'lm_predictions.lm_head.dense.bias', 'lm_predictions.lm_head.LayerNorm.weight', 'mask_predictions.dense.bias', 'mask_predictions.classifier.bias', 'mask_predictions.classifier.weight', 'mask_predictions.LayerNorm.weight']\n",
      "- This IS expected if you are initializing DebertaV2Model from the checkpoint of a model trained on another task or with another architecture (e.g. initializing a BertForSequenceClassification model from a BertForPreTraining model).\n",
      "- This IS NOT expected if you are initializing DebertaV2Model from the checkpoint of a model that you expect to be exactly identical (initializing a BertForSequenceClassification model from a BertForSequenceClassification model).\n",
      "[ SWA ] - Applied from 2 epochs\n",
      "[ TRAIN ] epoch 1 lr 0.0000100 loss:  1.1159: 100%|█| 3114/3114 [53:33<00:00,  1\n",
      "100%|█████████████████████████████████████████| 785/785 [03:01<00:00,  4.33it/s]\n",
      "Currenlty on [ bug ] version\n",
      "Predicted match stats: {1: {'fp': 386, 'fn': 320, 'tp': 1547}, 2: {'fp': 1105, 'fn': 958, 'tp': 2151}, 3: {'fp': 3060, 'fn': 2587, 'tp': 6646}, 4: {'fp': 4664, 'fn': 3798, 'tp': 6279}, 5: {'fp': 910, 'fn': 378, 'tp': 2344}, 6: {'fp': 431, 'fn': 616, 'tp': 572}, 7: {'fp': 378, 'fn': 533, 'tp': 335}}\n",
      "\n",
      "Currenlty on [ clean ] version\n",
      "Predicted match stats: {1: {'fp': 423, 'fn': 357, 'tp': 1510}, 2: {'fp': 1129, 'fn': 982, 'tp': 2127}, 3: {'fp': 3289, 'fn': 2816, 'tp': 6417}, 4: {'fp': 5071, 'fn': 4205, 'tp': 5872}, 5: {'fp': 971, 'fn': 439, 'tp': 2283}, 6: {'fp': 451, 'fn': 636, 'tp': 552}, 7: {'fp': 439, 'fn': 594, 'tp': 274}}\n",
      "\n",
      "Currenlty on [ wonho ] version\n",
      "Predicted match stats: {1: {'fp': 408, 'fn': 336, 'tp': 1531}, 2: {'fp': 1068, 'fn': 944, 'tp': 2165}, 3: {'fp': 3439, 'fn': 2425, 'tp': 6808}, 4: {'fp': 4754, 'fn': 3968, 'tp': 6109}, 5: {'fp': 988, 'fn': 345, 'tp': 2377}, 6: {'fp': 410, 'fn': 631, 'tp': 557}, 7: {'fp': 407, 'fn': 593, 'tp': 275}}\n",
      "\n",
      "--------------------------------------------------\n",
      "Validation [ Bug ] 0.6456781609785579\n",
      "Validation [ Clean ] 0.6162837753003311\n",
      "Validation [ Wonho ] 0.6317862541023638\n",
      "100%|███████████████████████████████████████| 3114/3114 [12:00<00:00,  4.32it/s]\n",
      "--------------------\n",
      "[ Filter ] - Process step 1\n",
      "                - alpha 0.8\n",
      "                - filter accuracy threshold 0.6\n",
      "             Total texts 12454\n",
      "             Clean texts 6734 (54.07 %)\n",
      "-------------------- \n",
      "\n",
      "[ TRAIN ] epoch 2 lr 0.0000100 loss:  0.7576:   0%| | 1/1684 [00:05<2:20:26,  5.--------------------\n",
      "[ SWA ] - First update of the SWA model\n",
      "--------------------\n",
      "[ TRAIN ] epoch 2 lr 0.0000100 loss:  0.8791: 100%|█| 1684/1684 [34:28<00:00,  1\n",
      "100%|█████████████████████████████████████████| 785/785 [03:02<00:00,  4.31it/s]\n",
      "Currenlty on [ bug ] version\n",
      "Predicted match stats: {1: {'fp': 358, 'fn': 279, 'tp': 1588}, 2: {'fp': 1042, 'fn': 947, 'tp': 2162}, 3: {'fp': 2330, 'fn': 2610, 'tp': 6623}, 4: {'fp': 4322, 'fn': 3689, 'tp': 6388}, 5: {'fp': 626, 'fn': 380, 'tp': 2342}, 6: {'fp': 466, 'fn': 558, 'tp': 630}, 7: {'fp': 499, 'fn': 481, 'tp': 387}}\n",
      "\n",
      "Currenlty on [ clean ] version\n",
      "Predicted match stats: {1: {'fp': 377, 'fn': 298, 'tp': 1569}, 2: {'fp': 1026, 'fn': 931, 'tp': 2178}, 3: {'fp': 2530, 'fn': 2810, 'tp': 6423}, 4: {'fp': 4509, 'fn': 3876, 'tp': 6201}, 5: {'fp': 666, 'fn': 420, 'tp': 2302}, 6: {'fp': 474, 'fn': 566, 'tp': 622}, 7: {'fp': 500, 'fn': 482, 'tp': 386}}\n",
      "\n",
      "Currenlty on [ wonho ] version\n",
      "Predicted match stats: {1: {'fp': 373, 'fn': 289, 'tp': 1578}, 2: {'fp': 996, 'fn': 907, 'tp': 2202}, 3: {'fp': 2660, 'fn': 2413, 'tp': 6820}, 4: {'fp': 4196, 'fn': 3731, 'tp': 6346}, 5: {'fp': 691, 'fn': 333, 'tp': 2389}, 6: {'fp': 452, 'fn': 564, 'tp': 624}, 7: {'fp': 472, 'fn': 480, 'tp': 388}}\n",
      "\n",
      "--------------------------------------------------\n",
      "Validation [ Bug ] 0.6681417988186461\n",
      "Validation [ Clean ] 0.6585576252717065\n",
      "Validation [ Wonho ] 0.6704509021810604\n",
      "[ Wonho version ] saving model\n",
      "100%|███████████████████████████████████████| 3114/3114 [12:00<00:00,  4.32it/s]\n",
      "--------------------\n",
      "[ Filter ] - Process step 2\n",
      "                - alpha 0.8\n",
      "                - filter accuracy threshold 0.6\n",
      "             Total texts 12454\n",
      "             Clean texts 6869 (55.15 %)\n",
      "-------------------- \n",
      "\n",
      "[ TRAIN ] epoch 3 lr 0.0000100 loss:  0.8208: 100%|█| 1718/1718 [34:56<00:00,  1\n",
      "100%|█████████████████████████████████████████| 785/785 [03:01<00:00,  4.32it/s]\n",
      "Currenlty on [ bug ] version\n",
      "Predicted match stats: {1: {'fp': 345, 'fn': 274, 'tp': 1593}, 2: {'fp': 1054, 'fn': 925, 'tp': 2184}, 3: {'fp': 2323, 'fn': 2526, 'tp': 6707}, 4: {'fp': 4247, 'fn': 3670, 'tp': 6407}, 5: {'fp': 603, 'fn': 397, 'tp': 2325}, 6: {'fp': 494, 'fn': 546, 'tp': 642}, 7: {'fp': 510, 'fn': 471, 'tp': 397}}\n",
      "\n",
      "Currenlty on [ clean ] version\n",
      "Predicted match stats: {1: {'fp': 365, 'fn': 294, 'tp': 1573}, 2: {'fp': 1049, 'fn': 920, 'tp': 2189}, 3: {'fp': 2508, 'fn': 2711, 'tp': 6522}, 4: {'fp': 4380, 'fn': 3803, 'tp': 6274}, 5: {'fp': 634, 'fn': 428, 'tp': 2294}, 6: {'fp': 495, 'fn': 547, 'tp': 641}, 7: {'fp': 503, 'fn': 464, 'tp': 404}}\n",
      "\n",
      "Currenlty on [ wonho ] version\n",
      "Predicted match stats: {1: {'fp': 362, 'fn': 286, 'tp': 1581}, 2: {'fp': 1014, 'fn': 898, 'tp': 2211}, 3: {'fp': 2592, 'fn': 2361, 'tp': 6872}, 4: {'fp': 4093, 'fn': 3668, 'tp': 6409}, 5: {'fp': 668, 'fn': 349, 'tp': 2373}, 6: {'fp': 464, 'fn': 546, 'tp': 642}, 7: {'fp': 478, 'fn': 462, 'tp': 406}}\n",
      "\n",
      "--------------------------------------------------\n",
      "Validation [ Bug ] 0.6715636575880916\n",
      "Validation [ Clean ] 0.6649959124736268\n",
      "Validation [ Wonho ] 0.6761054576967694\n"
     ]
    },
    {
     "name": "stdout",
     "output_type": "stream",
     "text": [
      "[ Bug version ] saving model\n",
      "[ Wonho version ] saving model\n",
      "100%|███████████████████████████████████████| 3114/3114 [12:00<00:00,  4.32it/s]\n",
      "--------------------\n",
      "[ Filter ] - Process step 3\n",
      "                - alpha 0.8\n",
      "                - filter accuracy threshold 0.6\n",
      "             Total texts 12454\n",
      "             Clean texts 7035 (56.49 %)\n",
      "-------------------- \n",
      "\n",
      "[ TRAIN ] epoch 4 lr 0.0000100 loss:  0.7706: 100%|█| 1759/1759 [35:42<00:00,  1\n",
      "100%|█████████████████████████████████████████| 785/785 [03:01<00:00,  4.31it/s]\n",
      "Currenlty on [ bug ] version\n",
      "Predicted match stats: {1: {'fp': 330, 'fn': 283, 'tp': 1584}, 2: {'fp': 1056, 'fn': 933, 'tp': 2176}, 3: {'fp': 2348, 'fn': 2472, 'tp': 6761}, 4: {'fp': 4200, 'fn': 3671, 'tp': 6406}, 5: {'fp': 568, 'fn': 391, 'tp': 2331}, 6: {'fp': 496, 'fn': 530, 'tp': 658}, 7: {'fp': 524, 'fn': 472, 'tp': 396}}\n",
      "\n",
      "Currenlty on [ clean ] version\n",
      "Predicted match stats: {1: {'fp': 346, 'fn': 299, 'tp': 1568}, 2: {'fp': 1046, 'fn': 923, 'tp': 2186}, 3: {'fp': 2519, 'fn': 2643, 'tp': 6590}, 4: {'fp': 4286, 'fn': 3757, 'tp': 6320}, 5: {'fp': 604, 'fn': 427, 'tp': 2295}, 6: {'fp': 509, 'fn': 543, 'tp': 645}, 7: {'fp': 521, 'fn': 469, 'tp': 399}}\n",
      "\n",
      "Currenlty on [ wonho ] version\n",
      "Predicted match stats: {1: {'fp': 338, 'fn': 288, 'tp': 1579}, 2: {'fp': 1010, 'fn': 888, 'tp': 2221}, 3: {'fp': 2605, 'fn': 2329, 'tp': 6904}, 4: {'fp': 4039, 'fn': 3634, 'tp': 6443}, 5: {'fp': 633, 'fn': 348, 'tp': 2374}, 6: {'fp': 476, 'fn': 542, 'tp': 646}, 7: {'fp': 493, 'fn': 466, 'tp': 402}}\n",
      "\n",
      "--------------------------------------------------\n",
      "Validation [ Bug ] 0.6735882022548817\n",
      "Validation [ Clean ] 0.6660416224256593\n",
      "Validation [ Wonho ] 0.6775477292961225\n",
      "[ Bug version ] saving model\n",
      "[ Wonho version ] saving model\n",
      "Epoch     4: reducing learning rate of group 0 to 8.0000e-06.\n",
      "Epoch     4: reducing learning rate of group 1 to 8.0000e-06.\n",
      "  9%|███▋                                    | 291/3114 [01:26<12:28,  3.77it/s]"
     ]
    }
   ],
   "source": [
    "!python train.py --device 1 --wandb --wandb_comment \"swa100_online_noise_filtering0.6\" --noise_filter_acc_thres 0.6 --epochs 12 --noise_filter --online --optimizer adamw --swa --swa_update_per_epoch 100 "
   ]
  },
  {
   "cell_type": "code",
   "execution_count": null,
   "id": "a28f9947",
   "metadata": {
    "ExecuteTime": {
     "start_time": "2022-03-09T18:43:45.878Z"
    }
   },
   "outputs": [],
   "source": [
    "!python train.py --device 1 --wandb --wandb_comment \"swa_ce_swa3_qhadam\" --optimizer qhadam --lr 1e-3 --swa --swa_update_per_epoch 100"
   ]
  }
 ],
 "metadata": {
  "kernelspec": {
   "display_name": "Python 3 (ipykernel)",
   "language": "python",
   "name": "python3"
  },
  "language_info": {
   "codemirror_mode": {
    "name": "ipython",
    "version": 3
   },
   "file_extension": ".py",
   "mimetype": "text/x-python",
   "name": "python",
   "nbconvert_exporter": "python",
   "pygments_lexer": "ipython3",
   "version": "3.7.12"
  },
  "toc": {
   "base_numbering": 1,
   "nav_menu": {},
   "number_sections": false,
   "sideBar": true,
   "skip_h1_title": false,
   "title_cell": "Table of Contents",
   "title_sidebar": "Contents",
   "toc_cell": false,
   "toc_position": {
    "height": "calc(100% - 180px)",
    "left": "10px",
    "top": "150px",
    "width": "282.242px"
   },
   "toc_section_display": true,
   "toc_window_display": true
  }
 },
 "nbformat": 4,
 "nbformat_minor": 5
}
