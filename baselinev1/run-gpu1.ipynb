{
 "cells": [
  {
   "cell_type": "markdown",
   "id": "61afee34",
   "metadata": {},
   "source": [
    "# run training\n",
    "\n",
    "> notebook to run the `train.py` file"
   ]
  },
  {
   "cell_type": "code",
   "execution_count": 3,
   "id": "4f259f5d",
   "metadata": {
    "ExecuteTime": {
     "end_time": "2022-02-26T02:58:00.112394Z",
     "start_time": "2022-02-26T02:58:00.108480Z"
    }
   },
   "outputs": [],
   "source": [
    "install_pytorch = False\n",
    "if install_pytorch:\n",
    "    !pip install torch==1.8.1+cu111 torchvision==0.9.1+cu111 torchaudio===0.8.1 -f https://download.pytorch.org/whl/torch_stable.html"
   ]
  },
  {
   "cell_type": "markdown",
   "id": "93c8c22e",
   "metadata": {},
   "source": [
    "## Single GPU\n"
   ]
  },
  {
   "cell_type": "markdown",
   "id": "b0cc6185",
   "metadata": {},
   "source": [
    "Currently used for saving cache"
   ]
  },
  {
   "cell_type": "code",
   "execution_count": null,
   "id": "f821dd32",
   "metadata": {
    "ExecuteTime": {
     "start_time": "2022-03-08T11:05:34.953Z"
    }
   },
   "outputs": [
    {
     "name": "stdout",
     "output_type": "stream",
     "text": [
      "\u001b[34m\u001b[1mwandb\u001b[0m: Currently logged in as: \u001b[33mducky\u001b[0m (use `wandb login --relogin` to force relogin)\n",
      "\u001b[34m\u001b[1mwandb\u001b[0m: wandb version 0.12.11 is available!  To upgrade, please run:\n",
      "\u001b[34m\u001b[1mwandb\u001b[0m:  $ pip install wandb --upgrade\n",
      "\u001b[34m\u001b[1mwandb\u001b[0m: Tracking run with wandb version 0.12.10\n",
      "\u001b[34m\u001b[1mwandb\u001b[0m: Syncing run \u001b[33mfresh-fire-213\u001b[0m\n",
      "\u001b[34m\u001b[1mwandb\u001b[0m: ⭐️ View project at \u001b[34m\u001b[4mhttps://wandb.ai/ducky/feedback_deberta_large\u001b[0m\n",
      "\u001b[34m\u001b[1mwandb\u001b[0m: 🚀 View run at \u001b[34m\u001b[4mhttps://wandb.ai/ducky/feedback_deberta_large/runs/2sbg63v2\u001b[0m\n",
      "\u001b[34m\u001b[1mwandb\u001b[0m: Run data is saved locally in /home/feedback/working/feedback_ducky/baselinev1/wandb/run-20220308_110544-2sbg63v2\n",
      "\u001b[34m\u001b[1mwandb\u001b[0m: Run `wandb offline` to turn off syncing.\n",
      "\n",
      "\n",
      "Using Ducky Modified DebertaV2\n",
      "\n",
      "Some weights of the model checkpoint at microsoft/deberta-v3-large were not used when initializing DebertaV2Model: ['mask_predictions.LayerNorm.weight', 'mask_predictions.classifier.weight', 'mask_predictions.dense.bias', 'mask_predictions.dense.weight', 'lm_predictions.lm_head.LayerNorm.bias', 'lm_predictions.lm_head.bias', 'lm_predictions.lm_head.dense.weight', 'lm_predictions.lm_head.dense.bias', 'mask_predictions.LayerNorm.bias', 'mask_predictions.classifier.bias', 'lm_predictions.lm_head.LayerNorm.weight']\n",
      "- This IS expected if you are initializing DebertaV2Model from the checkpoint of a model trained on another task or with another architecture (e.g. initializing a BertForSequenceClassification model from a BertForPreTraining model).\n",
      "- This IS NOT expected if you are initializing DebertaV2Model from the checkpoint of a model that you expect to be exactly identical (initializing a BertForSequenceClassification model from a BertForSequenceClassification model).\n",
      "Namespace(back_translation=False, batch_size=4, ce_weight=0.9, cnn1d=False, criterion_list=['custom_ce'], criterion_ratio=[1.0], cycle_mult=1.0, data_prefix='', dataset_path='../../feedback-prize-2021', dataset_version=2, ddp=False, decay_bias=False, device=device(type='cuda', index=1), dropout_ratio=0.0, epochs=9, extra_dense=False, gamma=0.9, grad_acc_steps=1, grad_checkpt=True, grammer_correction=False, label_smoothing=0.1, local_rank=-1, lr=0.0001, max_grad_norm=1.0, min_len=0, min_lr=1e-06, model='microsoft/deberta-v3-large-ducky', momentum=0.9, nesterov=True, noise_injection=False, noise_injection_prob=0.5, num_worker=8, online_dataset=False, optimizer='lamb', print_f1_per_step=500, random_deletion=False, random_deletion_prob=0.5, random_deletion_ratio=0.1, random_insertion=False, random_insertion_prob=0.5, rank=-1, rce_weight=0.1, save_cache=False, save_cache_dir='augmentation', save_path='result', scheduler='plateau', seed=0, start_eval_at=0, steps_per_epoch=3114, swa=True, swa_start_ratio=0.1, swa_update_per_epoch=100, swap_order=False, swap_order_prob=0.5, synonym_replacement=False, synonym_replacement_prob=0.5, text_aug_min_len=15, use_groupped_weights=False, val_fold=0, wandb=True, wandb_comment='swa_ce_swa3_lamb', wandb_project='feedback_deberta_large', wandb_user='ducky', warmup_steps=500, weight_decay=0.01, weights_pow=0.1, word2vec=False, word2vec_prob=0.5)\n",
      "[ SWA ] - Applied from 2 epochs\n",
      "[ TRAIN ] epoch 1 lr 0.0001000 loss:  1.2113: 100%|█| 3114/3114 [55:38<00:00,  1\n",
      "100%|█████████████████████████████████████████| 785/785 [03:02<00:00,  4.30it/s]\n",
      "Currenlty on [ bug ] version\n",
      "Predicted match stats: {1: {'fp': 482, 'fn': 369, 'tp': 1498}, 2: {'fp': 975, 'fn': 1144, 'tp': 1965}, 3: {'fp': 3511, 'fn': 2738, 'tp': 6495}, 4: {'fp': 5893, 'fn': 3654, 'tp': 6423}, 5: {'fp': 726, 'fn': 402, 'tp': 2320}, 6: {'fp': 333, 'fn': 915, 'tp': 273}, 7: {'fp': 40, 'fn': 818, 'tp': 50}}\n",
      "\n",
      "Currenlty on [ clean ] version\n",
      "Predicted match stats: {1: {'fp': 490, 'fn': 377, 'tp': 1490}, 2: {'fp': 1012, 'fn': 1181, 'tp': 1928}, 3: {'fp': 3877, 'fn': 3104, 'tp': 6129}, 4: {'fp': 6673, 'fn': 4434, 'tp': 5643}, 5: {'fp': 1044, 'fn': 720, 'tp': 2002}, 6: {'fp': 211, 'fn': 793, 'tp': 395}, 7: {'fp': 42, 'fn': 820, 'tp': 48}}\n",
      "\n",
      "Currenlty on [ wonho ] version\n",
      "Predicted match stats: {1: {'fp': 478, 'fn': 358, 'tp': 1509}, 2: {'fp': 928, 'fn': 1137, 'tp': 1972}, 3: {'fp': 4222, 'fn': 2576, 'tp': 6657}, 4: {'fp': 6365, 'fn': 4151, 'tp': 5926}, 5: {'fp': 938, 'fn': 372, 'tp': 2350}, 6: {'fp': 213, 'fn': 790, 'tp': 398}, 7: {'fp': 49, 'fn': 793, 'tp': 75}}\n",
      "\n",
      "--------------------------------------------------\n",
      "Validation [ Bug ] 0.5557865001168584\n",
      "Validation [ Clean ] 0.5411386680381117\n",
      "Validation [ Wonho ] 0.5724279883672849\n",
      "[ TRAIN ] epoch 2 lr 0.0001000 loss:  1.0446:   0%|    | 0/3114 [00:05<?, ?it/s]--------------------\n",
      "[ SWA ] - First update of the SWA model\n",
      "--------------------\n",
      "[ TRAIN ] epoch 2 lr 0.0001000 loss:  1.0296: 100%|█| 3114/3114 [55:45<00:00,  1\n",
      "100%|█████████████████████████████████████████| 785/785 [03:01<00:00,  4.32it/s]\n",
      "Currenlty on [ bug ] version\n",
      "Predicted match stats: {1: {'fp': 497, 'fn': 313, 'tp': 1554}, 2: {'fp': 1011, 'fn': 1048, 'tp': 2061}, 3: {'fp': 2910, 'fn': 2620, 'tp': 6613}, 4: {'fp': 5092, 'fn': 3670, 'tp': 6407}, 5: {'fp': 881, 'fn': 380, 'tp': 2342}, 6: {'fp': 460, 'fn': 652, 'tp': 536}, 7: {'fp': 283, 'fn': 601, 'tp': 267}}\n",
      "\n",
      "Currenlty on [ clean ] version\n",
      "Predicted match stats: {1: {'fp': 523, 'fn': 339, 'tp': 1528}, 2: {'fp': 1025, 'fn': 1062, 'tp': 2047}, 3: {'fp': 3236, 'fn': 2946, 'tp': 6287}, 4: {'fp': 5585, 'fn': 4163, 'tp': 5914}, 5: {'fp': 1017, 'fn': 516, 'tp': 2206}, 6: {'fp': 419, 'fn': 611, 'tp': 577}, 7: {'fp': 278, 'fn': 596, 'tp': 272}}\n",
      "\n",
      "Currenlty on [ wonho ] version\n",
      "Predicted match stats: {1: {'fp': 501, 'fn': 313, 'tp': 1554}, 2: {'fp': 959, 'fn': 1018, 'tp': 2091}, 3: {'fp': 3447, 'fn': 2478, 'tp': 6755}, 4: {'fp': 5197, 'fn': 3918, 'tp': 6159}, 5: {'fp': 1009, 'fn': 358, 'tp': 2364}, 6: {'fp': 413, 'fn': 608, 'tp': 580}, 7: {'fp': 290, 'fn': 577, 'tp': 291}}\n",
      "\n",
      "--------------------------------------------------\n",
      "Validation [ Bug ] 0.6306463014477927\n",
      "Validation [ Clean ] 0.616443732484891\n",
      "Validation [ Wonho ] 0.6357940367684772\n",
      "[ TRAIN ] epoch 3 lr 0.0001000 loss:  0.9787: 100%|█| 3114/3114 [55:33<00:00,  1\n",
      "100%|█████████████████████████████████████████| 785/785 [03:01<00:00,  4.32it/s]\n",
      "Currenlty on [ bug ] version\n",
      "Predicted match stats: {1: {'fp': 474, 'fn': 307, 'tp': 1560}, 2: {'fp': 1006, 'fn': 1014, 'tp': 2095}, 3: {'fp': 2819, 'fn': 2600, 'tp': 6633}, 4: {'fp': 4956, 'fn': 3591, 'tp': 6486}, 5: {'fp': 812, 'fn': 373, 'tp': 2349}, 6: {'fp': 513, 'fn': 589, 'tp': 599}, 7: {'fp': 409, 'fn': 532, 'tp': 336}}\n",
      "\n",
      "Currenlty on [ clean ] version\n",
      "Predicted match stats: {1: {'fp': 508, 'fn': 341, 'tp': 1526}, 2: {'fp': 1018, 'fn': 1026, 'tp': 2083}, 3: {'fp': 3116, 'fn': 2897, 'tp': 6336}, 4: {'fp': 5368, 'fn': 4003, 'tp': 6074}, 5: {'fp': 907, 'fn': 468, 'tp': 2254}, 6: {'fp': 490, 'fn': 566, 'tp': 622}, 7: {'fp': 406, 'fn': 529, 'tp': 339}}\n",
      "\n",
      "Currenlty on [ wonho ] version\n",
      "Predicted match stats: {1: {'fp': 486, 'fn': 313, 'tp': 1554}, 2: {'fp': 957, 'fn': 973, 'tp': 2136}, 3: {'fp': 3293, 'fn': 2461, 'tp': 6772}, 4: {'fp': 5014, 'fn': 3812, 'tp': 6265}, 5: {'fp': 910, 'fn': 345, 'tp': 2377}, 6: {'fp': 477, 'fn': 563, 'tp': 625}, 7: {'fp': 402, 'fn': 519, 'tp': 349}}\n",
      "\n",
      "--------------------------------------------------\n",
      "Validation [ Bug ] 0.6461953186290306\n",
      "Validation [ Clean ] 0.6319160642084197\n",
      "Validation [ Wonho ] 0.6487126488196865\n",
      "[ TRAIN ] epoch 4 lr 0.0001000 loss:  0.9366: 100%|█| 3114/3114 [55:15<00:00,  1\n",
      "100%|█████████████████████████████████████████| 785/785 [03:01<00:00,  4.33it/s]\n",
      "Currenlty on [ bug ] version\n",
      "Predicted match stats: {1: {'fp': 467, 'fn': 300, 'tp': 1567}, 2: {'fp': 1014, 'fn': 998, 'tp': 2111}, 3: {'fp': 2720, 'fn': 2565, 'tp': 6668}, 4: {'fp': 4906, 'fn': 3553, 'tp': 6524}, 5: {'fp': 750, 'fn': 377, 'tp': 2345}, 6: {'fp': 545, 'fn': 557, 'tp': 631}, 7: {'fp': 472, 'fn': 507, 'tp': 361}}\n",
      "\n",
      "Currenlty on [ clean ] version\n",
      "Predicted match stats: {1: {'fp': 492, 'fn': 325, 'tp': 1542}, 2: {'fp': 1017, 'fn': 1001, 'tp': 2108}, 3: {'fp': 2986, 'fn': 2831, 'tp': 6402}, 4: {'fp': 5284, 'fn': 3931, 'tp': 6146}, 5: {'fp': 821, 'fn': 448, 'tp': 2274}, 6: {'fp': 532, 'fn': 544, 'tp': 644}, 7: {'fp': 471, 'fn': 506, 'tp': 362}}\n",
      "\n",
      "Currenlty on [ wonho ] version\n",
      "Predicted match stats: {1: {'fp': 474, 'fn': 297, 'tp': 1570}, 2: {'fp': 975, 'fn': 957, 'tp': 2152}, 3: {'fp': 3140, 'fn': 2425, 'tp': 6808}, 4: {'fp': 4913, 'fn': 3751, 'tp': 6326}, 5: {'fp': 840, 'fn': 345, 'tp': 2377}, 6: {'fp': 515, 'fn': 541, 'tp': 647}, 7: {'fp': 458, 'fn': 495, 'tp': 373}}\n",
      "\n",
      "--------------------------------------------------\n",
      "Validation [ Bug ] 0.6525798627840441\n",
      "Validation [ Clean ] 0.6397601410471699\n",
      "Validation [ Wonho ] 0.6552364573130564\n"
     ]
    },
    {
     "name": "stdout",
     "output_type": "stream",
     "text": [
      "[ TRAIN ] epoch 5 lr 0.0001000 loss:  0.8970: 100%|█| 3114/3114 [55:24<00:00,  1\n",
      "100%|█████████████████████████████████████████| 785/785 [03:01<00:00,  4.32it/s]\n",
      "Currenlty on [ bug ] version\n",
      "Predicted match stats: {1: {'fp': 458, 'fn': 296, 'tp': 1571}, 2: {'fp': 1027, 'fn': 983, 'tp': 2126}, 3: {'fp': 2695, 'fn': 2539, 'tp': 6694}, 4: {'fp': 4795, 'fn': 3484, 'tp': 6593}, 5: {'fp': 695, 'fn': 377, 'tp': 2345}, 6: {'fp': 562, 'fn': 526, 'tp': 662}, 7: {'fp': 512, 'fn': 482, 'tp': 386}}\n",
      "\n",
      "Currenlty on [ clean ] version\n",
      "Predicted match stats: {1: {'fp': 485, 'fn': 323, 'tp': 1544}, 2: {'fp': 1024, 'fn': 980, 'tp': 2129}, 3: {'fp': 2944, 'fn': 2788, 'tp': 6445}, 4: {'fp': 5165, 'fn': 3854, 'tp': 6223}, 5: {'fp': 756, 'fn': 438, 'tp': 2284}, 6: {'fp': 560, 'fn': 524, 'tp': 664}, 7: {'fp': 509, 'fn': 479, 'tp': 389}}\n",
      "\n",
      "Currenlty on [ wonho ] version\n",
      "Predicted match stats: {1: {'fp': 469, 'fn': 298, 'tp': 1569}, 2: {'fp': 982, 'fn': 935, 'tp': 2174}, 3: {'fp': 3063, 'fn': 2406, 'tp': 6827}, 4: {'fp': 4806, 'fn': 3697, 'tp': 6380}, 5: {'fp': 789, 'fn': 340, 'tp': 2382}, 6: {'fp': 538, 'fn': 522, 'tp': 666}, 7: {'fp': 497, 'fn': 471, 'tp': 397}}\n",
      "\n",
      "--------------------------------------------------\n",
      "Validation [ Bug ] 0.6598204349701727\n",
      "Validation [ Clean ] 0.6469294608848222\n",
      "Validation [ Wonho ] 0.6610870757671586\n",
      "[ TRAIN ] epoch 6 lr 0.0001000 loss:  0.8592:  35%|▎| 1092/3114 [19:42<31:23,  1"
     ]
    }
   ],
   "source": [
    "!python train.py --device 1 --wandb --wandb_comment \"swa_ce_swa3_lamb\" --optimizer lamb --lr 1e-4 --swa --swa_update_per_epoch 100"
   ]
  },
  {
   "cell_type": "code",
   "execution_count": null,
   "id": "a28f9947",
   "metadata": {
    "ExecuteTime": {
     "start_time": "2022-03-08T16:17:49.774Z"
    }
   },
   "outputs": [],
   "source": [
    "!python train.py --device 1 --wandb --wandb_comment \"swa_ce_swa3_adabound\" --optimizer adabound --lr 1e-5 --swa --swa_update_per_epoch 100"
   ]
  }
 ],
 "metadata": {
  "kernelspec": {
   "display_name": "Python 3 (ipykernel)",
   "language": "python",
   "name": "python3"
  },
  "language_info": {
   "codemirror_mode": {
    "name": "ipython",
    "version": 3
   },
   "file_extension": ".py",
   "mimetype": "text/x-python",
   "name": "python",
   "nbconvert_exporter": "python",
   "pygments_lexer": "ipython3",
   "version": "3.7.12"
  },
  "toc": {
   "base_numbering": 1,
   "nav_menu": {},
   "number_sections": false,
   "sideBar": true,
   "skip_h1_title": false,
   "title_cell": "Table of Contents",
   "title_sidebar": "Contents",
   "toc_cell": false,
   "toc_position": {
    "height": "calc(100% - 180px)",
    "left": "10px",
    "top": "150px",
    "width": "282.242px"
   },
   "toc_section_display": true,
   "toc_window_display": true
  }
 },
 "nbformat": 4,
 "nbformat_minor": 5
}
