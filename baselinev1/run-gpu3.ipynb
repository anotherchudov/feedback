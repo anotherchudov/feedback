{
 "cells": [
  {
   "cell_type": "markdown",
   "id": "61afee34",
   "metadata": {},
   "source": [
    "# run training\n",
    "\n",
    "> notebook to run the `train.py` file"
   ]
  },
  {
   "cell_type": "code",
   "execution_count": 3,
   "id": "4f259f5d",
   "metadata": {
    "ExecuteTime": {
     "end_time": "2022-02-26T02:58:00.112394Z",
     "start_time": "2022-02-26T02:58:00.108480Z"
    }
   },
   "outputs": [],
   "source": [
    "install_pytorch = False\n",
    "if install_pytorch:\n",
    "    !pip install torch==1.8.1+cu111 torchvision==0.9.1+cu111 torchaudio===0.8.1 -f https://download.pytorch.org/whl/torch_stable.html"
   ]
  },
  {
   "cell_type": "markdown",
   "id": "93c8c22e",
   "metadata": {},
   "source": [
    "## Single GPU"
   ]
  },
  {
   "cell_type": "code",
   "execution_count": null,
   "id": "80571bec",
   "metadata": {
    "ExecuteTime": {
     "start_time": "2022-03-03T10:02:14.329Z"
    },
    "scrolled": false
   },
   "outputs": [
    {
     "name": "stdout",
     "output_type": "stream",
     "text": [
      "\u001b[34m\u001b[1mwandb\u001b[0m: Currently logged in as: \u001b[33mducky\u001b[0m (use `wandb login --relogin` to force relogin)\n",
      "\u001b[34m\u001b[1mwandb\u001b[0m: wandb version 0.12.11 is available!  To upgrade, please run:\n",
      "\u001b[34m\u001b[1mwandb\u001b[0m:  $ pip install wandb --upgrade\n",
      "\u001b[34m\u001b[1mwandb\u001b[0m: Tracking run with wandb version 0.12.10\n",
      "\u001b[34m\u001b[1mwandb\u001b[0m: Syncing run \u001b[33mcrisp-pond-106\u001b[0m\n",
      "\u001b[34m\u001b[1mwandb\u001b[0m: ⭐️ View project at \u001b[34m\u001b[4mhttps://wandb.ai/ducky/feedback_deberta_large\u001b[0m\n",
      "\u001b[34m\u001b[1mwandb\u001b[0m: 🚀 View run at \u001b[34m\u001b[4mhttps://wandb.ai/ducky/feedback_deberta_large/runs/1ubpaqt9\u001b[0m\n",
      "\u001b[34m\u001b[1mwandb\u001b[0m: Run data is saved locally in /home/feedback/working/feedback_ducky/baselinev1/wandb/run-20220303_100218-1ubpaqt9\n",
      "\u001b[34m\u001b[1mwandb\u001b[0m: Run `wandb offline` to turn off syncing.\n",
      "\n",
      "Namespace(batch_size=4, ce_weight=0.9, cnn1d=False, cycle_mult=1.0, data_prefix='', dataset_path='../../feedback-prize-2021', dataset_version=2, ddp=False, decay_bias=False, device=device(type='cuda', index=3), dropout_ratio=0.0, epochs=9, extra_dense=False, gamma=0.8, global_attn=False, grad_acc_steps=1, grad_checkpt=True, label_smoothing=0.1, local_rank=-1, lr=1e-05, max_grad_norm=1.0, min_len=0, min_lr=1e-06, model='microsoft/deberta-v3-large', momentum=0.9, nesterov=True, num_worker=8, print_acc=500, rank=-1, rce_weight=0.1, save_path='result', seed=0, start_eval_at=0, swa=True, swa_update_per_epoch=3, use_groupped_weights=False, val_fold=0, wandb_comment='swa_plateau_nogradacc_maxgrad1.0_amp_ce_modified_entity_extraction_minlen', wandb_project='feedback_deberta_large', wandb_user='ducky', warmup_steps=500, weight_decay=0.01, weights_pow=0.1)\n",
      "Some weights of the model checkpoint at microsoft/deberta-v3-large were not used when initializing DebertaV2Model: ['mask_predictions.classifier.bias', 'mask_predictions.LayerNorm.bias', 'mask_predictions.dense.weight', 'mask_predictions.classifier.weight', 'lm_predictions.lm_head.LayerNorm.weight', 'mask_predictions.dense.bias', 'lm_predictions.lm_head.LayerNorm.bias', 'lm_predictions.lm_head.bias', 'lm_predictions.lm_head.dense.bias', 'lm_predictions.lm_head.dense.weight', 'mask_predictions.LayerNorm.weight']\n",
      "- This IS expected if you are initializing DebertaV2Model from the checkpoint of a model trained on another task or with another architecture (e.g. initializing a BertForSequenceClassification model from a BertForPreTraining model).\n",
      "- This IS NOT expected if you are initializing DebertaV2Model from the checkpoint of a model that you expect to be exactly identical (initializing a BertForSequenceClassification model from a BertForSequenceClassification model).\n",
      "[ TRAIN ] epoch 1 lr 0.0000100 acc: 0.3734 loss:  1.3490:  16%|▏| 499/3114 [07:3Epoch: 1 | Step: 500 | Train Acc per class: tensor([0.3405, 0.3878, 0.6450, 0.2004, 0.4114, 0.2830, 0.9126, 0.3343, 0.4237,\n",
      "        0.3611, 0.8234, 0.0000, 0.0949, 0.0000, 0.0417, 0.7235])\n",
      "[ TRAIN ] epoch 1 lr 0.0000100 acc: 0.4708 loss:  1.2387:  32%|▎| 999/3114 [14:4Epoch: 1 | Step: 1000 | Train Acc per class: tensor([3.7451e-01, 6.2521e-01, 7.4459e-01, 4.0142e-01, 5.1000e-01, 3.9101e-01,\n",
      "        9.1688e-01, 4.3211e-01, 4.7601e-01, 5.0101e-01, 8.7677e-01, 6.6486e-02,\n",
      "        2.6973e-01, 8.9206e-04, 1.8523e-01, 7.6024e-01])\n",
      "[ TRAIN ] epoch 1 lr 0.0000100 acc: 0.5157 loss:  1.1931:  48%|▍| 1499/3114 [21:Epoch: 1 | Step: 1500 | Train Acc per class: tensor([0.3897, 0.7128, 0.7770, 0.4903, 0.5570, 0.4392, 0.9175, 0.4772, 0.4982,\n",
      "        0.5627, 0.8952, 0.1583, 0.3299, 0.0288, 0.2447, 0.7736])\n",
      "[ TRAIN ] epoch 1 lr 0.0000100 acc: 0.5480 loss:  1.1635:  64%|▋| 1999/3114 [28:Epoch: 1 | Step: 2000 | Train Acc per class: tensor([0.3994, 0.7578, 0.7971, 0.5369, 0.5842, 0.4711, 0.9168, 0.5055, 0.5150,\n",
      "        0.6012, 0.9034, 0.2390, 0.3751, 0.0902, 0.2947, 0.7817])\n",
      "[ TRAIN ] epoch 1 lr 0.0000100 acc: 0.5744 loss:  1.1399:  80%|▊| 2499/3114 [35:Epoch: 1 | Step: 2500 | Train Acc per class: tensor([0.4103, 0.7883, 0.8129, 0.5687, 0.5999, 0.4926, 0.9166, 0.5264, 0.5308,\n",
      "        0.6302, 0.9099, 0.3035, 0.4180, 0.1574, 0.3388, 0.7883])\n",
      "[ TRAIN ] epoch 1 lr 0.0000100 acc: 0.5911 loss:  1.1246:  96%|▉| 2999/3114 [42:Epoch: 1 | Step: 3000 | Train Acc per class: tensor([0.4161, 0.8056, 0.8199, 0.5865, 0.6108, 0.5082, 0.9168, 0.5396, 0.5397,\n",
      "        0.6474, 0.9140, 0.3491, 0.4443, 0.2074, 0.3622, 0.7925])\n",
      "[ TRAIN ] epoch 1 lr 0.0000100 acc: 0.5945 loss:  1.1220: 100%|█| 3114/3114 [44:\n",
      "100%|█████████████████████████████████████████| 785/785 [02:07<00:00,  6.18it/s]\n",
      "Valid Acc per class: tensor([0.4469, 0.9320, 0.8483, 0.7321, 0.6939, 0.6210, 0.8878, 0.6913, 0.6959,\n",
      "        0.7869, 0.9477, 0.6178, 0.5811, 0.5438, 0.4656, 0.8135])\n",
      "0.6608375845858754\n",
      "[ TRAIN ] epoch 2 lr 0.0000100 acc: 0.7195 loss:  0.9806:  16%|▏| 499/3114 [07:2Epoch: 2 | Step: 500 | Train Acc per class: tensor([0.4886, 0.9290, 0.9057, 0.7286, 0.7116, 0.6198, 0.9254, 0.6279, 0.6174,\n",
      "        0.7686, 0.9421, 0.6148, 0.6658, 0.5453, 0.5902, 0.8339])\n",
      "[ TRAIN ] epoch 2 lr 0.0000100 acc: 0.7161 loss:  0.9854:  32%|▎| 999/3114 [14:1Epoch: 2 | Step: 1000 | Train Acc per class: tensor([0.4889, 0.9257, 0.8969, 0.7295, 0.7208, 0.6109, 0.9239, 0.6301, 0.6158,\n",
      "        0.7818, 0.9436, 0.6216, 0.6247, 0.5292, 0.5811, 0.8327])\n",
      "[ TRAIN ] epoch 2 lr 0.0000100 acc: 0.7144 loss:  0.9867:  48%|▍| 1499/3114 [21:Epoch: 2 | Step: 1500 | Train Acc per class: tensor([0.4917, 0.9207, 0.8910, 0.7238, 0.7193, 0.6116, 0.9252, 0.6314, 0.6152,\n",
      "        0.7737, 0.9451, 0.6232, 0.6201, 0.5370, 0.5676, 0.8335])\n",
      "[ TRAIN ] epoch 2 lr 0.0000100 acc: 0.7141 loss:  0.9865:  64%|▋| 1999/3114 [28:Epoch: 2 | Step: 2000 | Train Acc per class: tensor([0.4927, 0.9213, 0.8932, 0.7256, 0.7225, 0.6144, 0.9249, 0.6321, 0.6150,\n",
      "        0.7771, 0.9474, 0.6182, 0.6161, 0.5337, 0.5585, 0.8333])\n",
      "[ TRAIN ] epoch 2 lr 0.0000100 acc: 0.7156 loss:  0.9845:  80%|▊| 2499/3114 [35:Epoch: 2 | Step: 2500 | Train Acc per class: tensor([0.4978, 0.9227, 0.8945, 0.7283, 0.7232, 0.6156, 0.9252, 0.6333, 0.6153,\n",
      "        0.7777, 0.9484, 0.6179, 0.6182, 0.5432, 0.5540, 0.8343])\n",
      "[ TRAIN ] epoch 2 lr 0.0000100 acc: 0.7161 loss:  0.9849:  96%|▉| 2999/3114 [43:Epoch: 2 | Step: 3000 | Train Acc per class: tensor([0.5012, 0.9234, 0.8934, 0.7269, 0.7189, 0.6180, 0.9247, 0.6343, 0.6166,\n",
      "        0.7815, 0.9480, 0.6183, 0.6198, 0.5459, 0.5531, 0.8343])\n",
      "[ TRAIN ] epoch 2 lr 0.0000100 acc: 0.7157 loss:  0.9846: 100%|█| 3114/3114 [44:\n",
      "100%|█████████████████████████████████████████| 785/785 [02:06<00:00,  6.19it/s]\n",
      "Valid Acc per class: tensor([0.5281, 0.9175, 0.8609, 0.7289, 0.6845, 0.6287, 0.8979, 0.6686, 0.6417,\n",
      "        0.8016, 0.9608, 0.6397, 0.5933, 0.5783, 0.5305, 0.8212])\n",
      "0.6745801057137195\n",
      "[ TRAIN ] epoch 3 lr 0.0000100 acc: 0.7741 loss:  0.9019:  16%|▏| 499/3114 [07:4Epoch: 3 | Step: 500 | Train Acc per class: tensor([0.5228, 0.9409, 0.9371, 0.7796, 0.7960, 0.6801, 0.9352, 0.6811, 0.6857,\n",
      "        0.8149, 0.9646, 0.7223, 0.7176, 0.6776, 0.6699, 0.8625])\n",
      "[ TRAIN ] epoch 3 lr 0.0000100 acc: 0.7704 loss:  0.9061:  32%|▎| 999/3114 [14:4Epoch: 3 | Step: 1000 | Train Acc per class: tensor([0.5294, 0.9423, 0.9318, 0.7755, 0.7958, 0.6720, 0.9335, 0.6834, 0.6838,\n",
      "        0.8176, 0.9626, 0.7083, 0.7097, 0.6519, 0.6687, 0.8606])\n",
      "[ TRAIN ] epoch 3 lr 0.0000100 acc: 0.7691 loss:  0.9089:  48%|▍| 1499/3114 [21:Epoch: 3 | Step: 1500 | Train Acc per class: tensor([0.5318, 0.9386, 0.9276, 0.7746, 0.7889, 0.6687, 0.9348, 0.6814, 0.6788,\n",
      "        0.8177, 0.9615, 0.7034, 0.7165, 0.6530, 0.6661, 0.8605])\n",
      "[ TRAIN ] epoch 3 lr 0.0000100 acc: 0.7686 loss:  0.9084:  64%|▋| 1999/3114 [28:Epoch: 3 | Step: 2000 | Train Acc per class: tensor([0.5309, 0.9374, 0.9283, 0.7755, 0.7860, 0.6689, 0.9348, 0.6794, 0.6782,\n",
      "        0.8210, 0.9614, 0.7026, 0.7112, 0.6563, 0.6619, 0.8604])\n",
      "[ TRAIN ] epoch 3 lr 0.0000100 acc: 0.7683 loss:  0.9086:  68%|▋| 2131/3114 [30:"
     ]
    }
   ],
   "source": [
    "!python train.py --device 3 --wandb_comment \"swa_plateau_nogradacc_maxgrad1.0_amp_ce_modified_entity_extraction_minlen\" --swa"
   ]
  }
 ],
 "metadata": {
  "kernelspec": {
   "display_name": "Python 3 (ipykernel)",
   "language": "python",
   "name": "python3"
  },
  "language_info": {
   "codemirror_mode": {
    "name": "ipython",
    "version": 3
   },
   "file_extension": ".py",
   "mimetype": "text/x-python",
   "name": "python",
   "nbconvert_exporter": "python",
   "pygments_lexer": "ipython3",
   "version": "3.7.12"
  },
  "toc": {
   "base_numbering": 1,
   "nav_menu": {},
   "number_sections": false,
   "sideBar": true,
   "skip_h1_title": false,
   "title_cell": "Table of Contents",
   "title_sidebar": "Contents",
   "toc_cell": false,
   "toc_position": {
    "height": "calc(100% - 180px)",
    "left": "10px",
    "top": "150px",
    "width": "282.255px"
   },
   "toc_section_display": true,
   "toc_window_display": true
  }
 },
 "nbformat": 4,
 "nbformat_minor": 5
}
