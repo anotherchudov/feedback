{
 "cells": [
  {
   "cell_type": "markdown",
   "id": "61afee34",
   "metadata": {},
   "source": [
    "# run training\n",
    "\n",
    "> notebook to run the `train.py` file"
   ]
  },
  {
   "cell_type": "code",
   "execution_count": 1,
   "id": "4f259f5d",
   "metadata": {
    "ExecuteTime": {
     "end_time": "2022-03-12T05:21:55.612834Z",
     "start_time": "2022-03-12T05:21:55.609065Z"
    }
   },
   "outputs": [],
   "source": [
    "install_pytorch = False\n",
    "if install_pytorch:\n",
    "    !pip install torch==1.8.1+cu111 torchvision==0.9.1+cu111 torchaudio===0.8.1 -f https://download.pytorch.org/whl/torch_stable.html"
   ]
  },
  {
   "cell_type": "markdown",
   "id": "93c8c22e",
   "metadata": {},
   "source": [
    "## Single GPU"
   ]
  },
  {
   "cell_type": "code",
   "execution_count": null,
   "id": "80571bec",
   "metadata": {
    "ExecuteTime": {
     "start_time": "2022-03-12T08:51:36.960Z"
    },
    "scrolled": true
   },
   "outputs": [
    {
     "name": "stdout",
     "output_type": "stream",
     "text": [
      "\u001b[34m\u001b[1mwandb\u001b[0m: Currently logged in as: \u001b[33mducky\u001b[0m (use `wandb login --relogin` to force relogin)\n",
      "\u001b[34m\u001b[1mwandb\u001b[0m: wandb version 0.12.11 is available!  To upgrade, please run:\n",
      "\u001b[34m\u001b[1mwandb\u001b[0m:  $ pip install wandb --upgrade\n",
      "\u001b[34m\u001b[1mwandb\u001b[0m: Tracking run with wandb version 0.12.10\n",
      "\u001b[34m\u001b[1mwandb\u001b[0m: Syncing run \u001b[33mvisionary-disco-298\u001b[0m\n",
      "\u001b[34m\u001b[1mwandb\u001b[0m: ⭐️ View project at \u001b[34m\u001b[4mhttps://wandb.ai/ducky/feedback_deberta_large\u001b[0m\n",
      "\u001b[34m\u001b[1mwandb\u001b[0m: 🚀 View run at \u001b[34m\u001b[4mhttps://wandb.ai/ducky/feedback_deberta_large/runs/314l44aa\u001b[0m\n",
      "\u001b[34m\u001b[1mwandb\u001b[0m: Run data is saved locally in /home/feedback/working/feedback_ducky/baselinev1/wandb/run-20220312_085147-314l44aa\n",
      "\u001b[34m\u001b[1mwandb\u001b[0m: Run `wandb offline` to turn off syncing.\n",
      "\n",
      "Namespace(back_translation=False, batch_size=4, ce_weight=0.9, cnn1d=False, const_loss_weight=10.0, criterion_list=['custom_ce'], criterion_ratio=[1.0], cycle_mult=1.0, data_prefix='', dataset_path='../../feedback-prize-2021', dataset_version=2, ddp=False, decay_bias=False, device=device(type='cuda', index=3), dropout_ratio=0.0, epochs=20, extra_dense=False, gamma=0.9, grad_acc_steps=1, grad_checkpt=True, grammer_correction=False, label_smoothing=0.1, local_rank=-1, lr=1e-05, max_grad_norm=1.0, mean_teacher_alpha=0.99, min_len=0, min_lr=1e-06, model='microsoft/deberta-v3-large-ducky', momentum=0.9, nesterov=True, noise_filter=True, noise_filter_acc_thres=0.4, noise_filter_alpha=0.99, noise_injection=False, noise_injection_prob=0.5, num_worker=8, online_dataset=True, optimizer='adamw', print_f1_per_step=500, random_deletion=True, random_deletion_prob=0.5, random_deletion_ratio=0.1, random_insertion=False, random_insertion_prob=0.5, rank=-1, rce_weight=0.1, save_cache=False, save_cache_dir='augmentation', save_path='result', scheduler='plateau', seed=0, start_eval_at=0, swa=False, swa_start_ratio=0.1, swa_update_per_epoch=1, swap_order=False, swap_order_prob=0.5, synonym_replacement=False, synonym_replacement_prob=0.5, text_aug_min_len=15, use_double_space=False, use_groupped_weights=False, use_space=False, val_fold=0, wandb=True, wandb_comment='online_no_wd_noise_filtering0.4_mean_teacher0.99_random_deletion0.1', wandb_project='feedback_deberta_large', wandb_user='ducky', warmup_steps=500, weight_decay=0.0, weights_pow=0.1, word2vec=False, word2vec_prob=0.5)\n",
      "[ Text Augmenter ] Initializing\n",
      "[ Text Augmenter ] EDA - Easy Data Augmentation model\n",
      "[ Text Augmenter ] Initializing tokenizer...\n",
      "Special tokens have been added in the vocabulary, make sure the associated word embeddings are fine-tuned or trained.\n",
      "Special tokens have been added in the vocabulary, make sure the associated word embeddings are fine-tuned or trained.\n",
      "[ Text Augmenter ] Initializing Train data\n",
      "100%|████████████████████████████████████| 12454/12454 [00:48<00:00, 254.56it/s]\n",
      "[ Text Augmenter ] Initializing\n",
      "[ Text Augmenter ] EDA - Easy Data Augmentation model\n",
      "[ Text Augmenter ] Initializing tokenizer...\n",
      "Special tokens have been added in the vocabulary, make sure the associated word embeddings are fine-tuned or trained.\n",
      "Special tokens have been added in the vocabulary, make sure the associated word embeddings are fine-tuned or trained.\n",
      "[ Text Augmenter ] Initializing Valid data\n",
      "100%|██████████████████████████████████████| 3140/3140 [00:12<00:00, 258.02it/s]\n",
      "\n",
      "Using Ducky Modified DebertaV2\n",
      "\n",
      "Some weights of the model checkpoint at microsoft/deberta-v3-large were not used when initializing DebertaV2Model: ['mask_predictions.dense.bias', 'lm_predictions.lm_head.LayerNorm.weight', 'mask_predictions.LayerNorm.weight', 'lm_predictions.lm_head.dense.bias', 'lm_predictions.lm_head.dense.weight', 'mask_predictions.classifier.bias', 'mask_predictions.LayerNorm.bias', 'mask_predictions.dense.weight', 'mask_predictions.classifier.weight', 'lm_predictions.lm_head.bias', 'lm_predictions.lm_head.LayerNorm.bias']\n",
      "- This IS expected if you are initializing DebertaV2Model from the checkpoint of a model trained on another task or with another architecture (e.g. initializing a BertForSequenceClassification model from a BertForPreTraining model).\n",
      "- This IS NOT expected if you are initializing DebertaV2Model from the checkpoint of a model that you expect to be exactly identical (initializing a BertForSequenceClassification model from a BertForSequenceClassification model).\n",
      "[ TRAIN ] epoch 1 lr 0.0000100 loss:  1.5927: 100%|█| 3114/3114 [1:04:59<00:00, \n",
      "100%|█████████████████████████████████████████| 785/785 [03:03<00:00,  4.28it/s]\n",
      "Currenlty on [ bug ] version\n",
      "Predicted match stats: {1: {'fp': 437, 'fn': 325, 'tp': 1542}, 2: {'fp': 888, 'fn': 1122, 'tp': 1987}, 3: {'fp': 1876, 'fn': 3288, 'tp': 5945}, 4: {'fp': 4017, 'fn': 4331, 'tp': 5746}, 5: {'fp': 446, 'fn': 479, 'tp': 2243}, 6: {'fp': 429, 'fn': 761, 'tp': 427}, 7: {'fp': 257, 'fn': 651, 'tp': 217}}\n",
      "\n",
      "Currenlty on [ clean ] version\n",
      "Predicted match stats: {1: {'fp': 425, 'fn': 313, 'tp': 1554}, 2: {'fp': 871, 'fn': 1105, 'tp': 2004}, 3: {'fp': 2058, 'fn': 3470, 'tp': 5763}, 4: {'fp': 3954, 'fn': 4268, 'tp': 5809}, 5: {'fp': 772, 'fn': 805, 'tp': 1917}, 6: {'fp': 344, 'fn': 676, 'tp': 512}, 7: {'fp': 230, 'fn': 624, 'tp': 244}}\n",
      "\n",
      "Currenlty on [ wonho ] version\n",
      "Predicted match stats: {1: {'fp': 419, 'fn': 295, 'tp': 1572}, 2: {'fp': 857, 'fn': 1071, 'tp': 2038}, 3: {'fp': 2471, 'fn': 2624, 'tp': 6609}, 4: {'fp': 3790, 'fn': 3995, 'tp': 6082}, 5: {'fp': 632, 'fn': 474, 'tp': 2248}, 6: {'fp': 347, 'fn': 674, 'tp': 514}, 7: {'fp': 230, 'fn': 614, 'tp': 254}}\n",
      "\n",
      "--------------------------------------------------\n",
      "100%|█████████████████████████████████████████| 785/785 [03:03<00:00,  4.29it/s]\n",
      "Currenlty on [ Mean Teacher bug ] version\n",
      "Predicted match stats: {1: {'fp': 421, 'fn': 313, 'tp': 1554}, 2: {'fp': 919, 'fn': 1106, 'tp': 2003}, 3: {'fp': 2086, 'fn': 3161, 'tp': 6072}, 4: {'fp': 4063, 'fn': 4252, 'tp': 5825}, 5: {'fp': 438, 'fn': 483, 'tp': 2239}, 6: {'fp': 390, 'fn': 781, 'tp': 407}, 7: {'fp': 244, 'fn': 655, 'tp': 213}}\n",
      "\n",
      "Currenlty on [ Mean Teacher clean ] version\n",
      "Predicted match stats: {1: {'fp': 428, 'fn': 320, 'tp': 1547}, 2: {'fp': 902, 'fn': 1089, 'tp': 2020}, 3: {'fp': 2295, 'fn': 3370, 'tp': 5863}, 4: {'fp': 4069, 'fn': 4258, 'tp': 5819}, 5: {'fp': 651, 'fn': 696, 'tp': 2026}, 6: {'fp': 299, 'fn': 690, 'tp': 498}, 7: {'fp': 209, 'fn': 620, 'tp': 248}}\n",
      "\n",
      "Currenlty on [ Mean Teacher wonho ] version\n",
      "Predicted match stats: {1: {'fp': 419, 'fn': 302, 'tp': 1565}, 2: {'fp': 870, 'fn': 1041, 'tp': 2068}, 3: {'fp': 2617, 'fn': 2587, 'tp': 6646}, 4: {'fp': 3869, 'fn': 4024, 'tp': 6053}, 5: {'fp': 541, 'fn': 478, 'tp': 2244}, 6: {'fp': 304, 'fn': 687, 'tp': 501}, 7: {'fp': 214, 'fn': 605, 'tp': 263}}\n",
      "\n",
      "--------------------------------------------------\n",
      "Mean Teacher Validation [ Bug ] 0.6165713848273883\n",
      "Mean Teacher Validation [ Clean ] 0.6227101672440604\n",
      "Mean Teacher Validation [ Wonho ] 0.6470748660851583\n",
      "Validation [ Bug ] 0.6160950608886128\n",
      "Validation [ Clean ] 0.6160725359041207\n",
      "Validation [ Wonho ] 0.6436237546676914\n",
      "100%|███████████████████████████████████████| 3114/3114 [11:07<00:00,  4.67it/s]\n",
      "--------------------\n",
      "[ Filter ] - Process step 1\n",
      "                - alpha 0.99\n",
      "                - filter accuracy threshold 0.4\n",
      "             Total texts 12454\n",
      "             Clean texts 10431 (83.76 %)\n",
      "-------------------- \n",
      "\n",
      "[ TRAIN ] epoch 2 lr 0.0000100 loss:  1.0769: 100%|█| 2608/2608 [57:34<00:00,  1\n",
      "100%|█████████████████████████████████████████| 785/785 [03:03<00:00,  4.29it/s]\n",
      "Currenlty on [ bug ] version\n",
      "Predicted match stats: {1: {'fp': 394, 'fn': 317, 'tp': 1550}, 2: {'fp': 941, 'fn': 1048, 'tp': 2061}, 3: {'fp': 1952, 'fn': 3033, 'tp': 6200}, 4: {'fp': 4335, 'fn': 3823, 'tp': 6254}, 5: {'fp': 767, 'fn': 403, 'tp': 2319}, 6: {'fp': 455, 'fn': 624, 'tp': 564}, 7: {'fp': 465, 'fn': 520, 'tp': 348}}\n",
      "\n",
      "Currenlty on [ clean ] version\n",
      "Predicted match stats: {1: {'fp': 393, 'fn': 316, 'tp': 1551}, 2: {'fp': 938, 'fn': 1045, 'tp': 2064}, 3: {'fp': 2095, 'fn': 3176, 'tp': 6057}, 4: {'fp': 4404, 'fn': 3892, 'tp': 6185}, 5: {'fp': 819, 'fn': 455, 'tp': 2267}, 6: {'fp': 440, 'fn': 609, 'tp': 579}, 7: {'fp': 455, 'fn': 510, 'tp': 358}}\n",
      "\n",
      "Currenlty on [ wonho ] version\n",
      "Predicted match stats: {1: {'fp': 387, 'fn': 305, 'tp': 1562}, 2: {'fp': 891, 'fn': 1010, 'tp': 2099}, 3: {'fp': 2321, 'fn': 2646, 'tp': 6587}, 4: {'fp': 4187, 'fn': 3687, 'tp': 6390}, 5: {'fp': 827, 'fn': 338, 'tp': 2384}, 6: {'fp': 426, 'fn': 605, 'tp': 583}, 7: {'fp': 416, 'fn': 506, 'tp': 362}}\n",
      "\n",
      "--------------------------------------------------\n"
     ]
    },
    {
     "name": "stdout",
     "output_type": "stream",
     "text": [
      "100%|█████████████████████████████████████████| 785/785 [03:03<00:00,  4.29it/s]\n",
      "Currenlty on [ Mean Teacher bug ] version\n",
      "Predicted match stats: {1: {'fp': 404, 'fn': 304, 'tp': 1563}, 2: {'fp': 900, 'fn': 1047, 'tp': 2062}, 3: {'fp': 1908, 'fn': 2970, 'tp': 6263}, 4: {'fp': 4117, 'fn': 3909, 'tp': 6168}, 5: {'fp': 639, 'fn': 423, 'tp': 2299}, 6: {'fp': 433, 'fn': 634, 'tp': 554}, 7: {'fp': 435, 'fn': 543, 'tp': 325}}\n",
      "\n",
      "Currenlty on [ Mean Teacher clean ] version\n",
      "Predicted match stats: {1: {'fp': 403, 'fn': 303, 'tp': 1564}, 2: {'fp': 885, 'fn': 1032, 'tp': 2077}, 3: {'fp': 2038, 'fn': 3100, 'tp': 6133}, 4: {'fp': 4156, 'fn': 3948, 'tp': 6129}, 5: {'fp': 716, 'fn': 500, 'tp': 2222}, 6: {'fp': 415, 'fn': 616, 'tp': 572}, 7: {'fp': 416, 'fn': 524, 'tp': 344}}\n",
      "\n",
      "Currenlty on [ Mean Teacher wonho ] version\n",
      "Predicted match stats: {1: {'fp': 391, 'fn': 288, 'tp': 1579}, 2: {'fp': 848, 'fn': 1004, 'tp': 2105}, 3: {'fp': 2261, 'fn': 2581, 'tp': 6652}, 4: {'fp': 3946, 'fn': 3738, 'tp': 6339}, 5: {'fp': 712, 'fn': 360, 'tp': 2362}, 6: {'fp': 404, 'fn': 613, 'tp': 575}, 7: {'fp': 383, 'fn': 523, 'tp': 345}}\n",
      "\n",
      "--------------------------------------------------\n",
      "Mean Teacher Validation [ Bug ] 0.6487487359943328\n",
      "Mean Teacher Validation [ Clean ] 0.6486599047341318\n",
      "Mean Teacher Validation [ Wonho ] 0.6644838707491226\n",
      "Validation [ Bug ] 0.647164865565866\n",
      "Validation [ Clean ] 0.6451595071549043\n",
      "Validation [ Wonho ] 0.6608790085917026\n",
      "100%|███████████████████████████████████████| 3114/3114 [11:05<00:00,  4.68it/s]\n",
      "--------------------\n",
      "[ Filter ] - Process step 2\n",
      "                - alpha 0.99\n",
      "                - filter accuracy threshold 0.4\n",
      "             Total texts 12454\n",
      "             Clean texts 10351 (83.11 %)\n",
      "-------------------- \n",
      "\n",
      "[ TRAIN ] epoch 3 lr 0.0000100 loss:  1.0061:  10%| | 246/2588 [05:50<40:05,  1."
     ]
    }
   ],
   "source": [
    "!python train.py --device 3 --wandb --wandb_comment \"online_no_wd_noise_filtering0.4_mean_teacher0.99_random_deletion0.1\" --random_deletion --online --epochs 20 --noise_filter_acc_thres 0.4 --noise_filter --optimizer adamw --weight_decay 0.0"
   ]
  }
 ],
 "metadata": {
  "kernelspec": {
   "display_name": "Python 3 (ipykernel)",
   "language": "python",
   "name": "python3"
  },
  "language_info": {
   "codemirror_mode": {
    "name": "ipython",
    "version": 3
   },
   "file_extension": ".py",
   "mimetype": "text/x-python",
   "name": "python",
   "nbconvert_exporter": "python",
   "pygments_lexer": "ipython3",
   "version": "3.7.12"
  },
  "toc": {
   "base_numbering": 1,
   "nav_menu": {},
   "number_sections": false,
   "sideBar": true,
   "skip_h1_title": false,
   "title_cell": "Table of Contents",
   "title_sidebar": "Contents",
   "toc_cell": false,
   "toc_position": {
    "height": "calc(100% - 180px)",
    "left": "10px",
    "top": "150px",
    "width": "282.242px"
   },
   "toc_section_display": true,
   "toc_window_display": true
  }
 },
 "nbformat": 4,
 "nbformat_minor": 5
}
