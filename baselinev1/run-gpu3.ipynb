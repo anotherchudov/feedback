{
 "cells": [
  {
   "cell_type": "markdown",
   "id": "61afee34",
   "metadata": {},
   "source": [
    "# run training\n",
    "\n",
    "> notebook to run the `train.py` file"
   ]
  },
  {
   "cell_type": "code",
   "execution_count": 3,
   "id": "4f259f5d",
   "metadata": {
    "ExecuteTime": {
     "end_time": "2022-02-26T02:58:00.112394Z",
     "start_time": "2022-02-26T02:58:00.108480Z"
    }
   },
   "outputs": [],
   "source": [
    "install_pytorch = False\n",
    "if install_pytorch:\n",
    "    !pip install torch==1.8.1+cu111 torchvision==0.9.1+cu111 torchaudio===0.8.1 -f https://download.pytorch.org/whl/torch_stable.html"
   ]
  },
  {
   "cell_type": "markdown",
   "id": "93c8c22e",
   "metadata": {},
   "source": [
    "## Single GPU"
   ]
  },
  {
   "cell_type": "code",
   "execution_count": null,
   "id": "80571bec",
   "metadata": {
    "ExecuteTime": {
     "start_time": "2022-03-07T05:31:46.285Z"
    },
    "scrolled": false
   },
   "outputs": [
    {
     "name": "stdout",
     "output_type": "stream",
     "text": [
      "\u001b[34m\u001b[1mwandb\u001b[0m: Currently logged in as: \u001b[33mducky\u001b[0m (use `wandb login --relogin` to force relogin)\n",
      "\u001b[34m\u001b[1mwandb\u001b[0m: wandb version 0.12.11 is available!  To upgrade, please run:\n",
      "\u001b[34m\u001b[1mwandb\u001b[0m:  $ pip install wandb --upgrade\n",
      "\u001b[34m\u001b[1mwandb\u001b[0m: Tracking run with wandb version 0.12.10\n",
      "\u001b[34m\u001b[1mwandb\u001b[0m: Syncing run \u001b[33mdark-plasma-157\u001b[0m\n",
      "\u001b[34m\u001b[1mwandb\u001b[0m: ⭐️ View project at \u001b[34m\u001b[4mhttps://wandb.ai/ducky/feedback_deberta_large\u001b[0m\n",
      "\u001b[34m\u001b[1mwandb\u001b[0m: 🚀 View run at \u001b[34m\u001b[4mhttps://wandb.ai/ducky/feedback_deberta_large/runs/2mcueydf\u001b[0m\n",
      "\u001b[34m\u001b[1mwandb\u001b[0m: Run data is saved locally in /home/feedback/working/feedback_ducky/baselinev1/wandb/run-20220307_053155-2mcueydf\n",
      "\u001b[34m\u001b[1mwandb\u001b[0m: Run `wandb offline` to turn off syncing.\n",
      "\n",
      "[ Text Augmenter ] Initializing\n",
      "[ Text Augmenter ] Word2Vec model loaded\n",
      "[ Text Augmenter ] Initializing tokenizer...\n",
      "Special tokens have been added in the vocabulary, make sure the associated word embeddings are fine-tuned or trained.\n",
      "Special tokens have been added in the vocabulary, make sure the associated word embeddings are fine-tuned or trained.\n",
      "[ Text Augmenter ] Initializing data...\n",
      "100%|████████████████████████████████████| 12454/12454 [00:47<00:00, 260.75it/s]\n",
      "\n",
      "Using Ducky Modified DebertaV2\n",
      "\n",
      "Some weights of the model checkpoint at microsoft/deberta-v3-large were not used when initializing DebertaV2Model: ['lm_predictions.lm_head.dense.bias', 'mask_predictions.dense.bias', 'mask_predictions.classifier.bias', 'lm_predictions.lm_head.dense.weight', 'lm_predictions.lm_head.LayerNorm.bias', 'mask_predictions.classifier.weight', 'mask_predictions.LayerNorm.weight', 'mask_predictions.LayerNorm.bias', 'lm_predictions.lm_head.bias', 'mask_predictions.dense.weight', 'lm_predictions.lm_head.LayerNorm.weight']\n",
      "- This IS expected if you are initializing DebertaV2Model from the checkpoint of a model trained on another task or with another architecture (e.g. initializing a BertForSequenceClassification model from a BertForPreTraining model).\n",
      "- This IS NOT expected if you are initializing DebertaV2Model from the checkpoint of a model that you expect to be exactly identical (initializing a BertForSequenceClassification model from a BertForSequenceClassification model).\n",
      "Namespace(back_translation=False, batch_size=4, ce_weight=0.9, cnn1d=False, criterion_list=['custom_ce'], criterion_ratio=[1.0], cycle_mult=1.0, data_prefix='', dataset_path='../../feedback-prize-2021', dataset_version=2, ddp=False, decay_bias=False, device=device(type='cuda', index=3), dropout_ratio=0.0, epochs=12, extra_dense=False, gamma=0.9, grad_acc_steps=1, grad_checkpt=True, grammer_correction=False, label_smoothing=0.1, local_rank=-1, lr=1e-05, max_grad_norm=1.0, min_len=0, min_lr=1e-06, model='microsoft/deberta-v3-large-ducky', momentum=0.9, nesterov=True, noise_injection=False, num_worker=8, online_dataset=True, optimizer='adamw', print_f1_per_step=500, rank=-1, rce_weight=0.1, save_path='result', scheduler='plateau', seed=0, start_eval_at=0, steps_per_epoch=3114, swa=True, swa_start_ratio=0.1, swa_update_per_epoch=100, use_groupped_weights=False, val_fold=0, wandb_comment='swa_ce_rce_swa100_online_revise', wandb_project='feedback_deberta_large', wandb_user='ducky', warmup_steps=500, weight_decay=0.01, weights_pow=0.1)\n",
      "[ SWA ] - Applied from 2 epochs\n",
      "[ TRAIN ] epoch 1 lr 0.0000100 loss:  1.1153: 100%|█| 3114/3114 [45:16<00:00,  1\n",
      "100%|█████████████████████████████████████████| 785/785 [02:12<00:00,  5.90it/s]\n",
      "Currenlty on [ bug ] version\n",
      "Predicted match stats: {1: {'fp': 432, 'fn': 309, 'tp': 1558}, 2: {'fp': 1014, 'fn': 1032, 'tp': 2077}, 3: {'fp': 2928, 'fn': 2650, 'tp': 6583}, 4: {'fp': 4988, 'fn': 3656, 'tp': 6421}, 5: {'fp': 797, 'fn': 382, 'tp': 2340}, 6: {'fp': 461, 'fn': 614, 'tp': 574}, 7: {'fp': 415, 'fn': 536, 'tp': 332}}\n",
      "\n",
      "Currenlty on [ clean ] version\n",
      "Predicted match stats: {1: {'fp': 455, 'fn': 332, 'tp': 1535}, 2: {'fp': 1025, 'fn': 1043, 'tp': 2066}, 3: {'fp': 3118, 'fn': 2840, 'tp': 6393}, 4: {'fp': 5471, 'fn': 4139, 'tp': 5938}, 5: {'fp': 862, 'fn': 447, 'tp': 2275}, 6: {'fp': 485, 'fn': 638, 'tp': 550}, 7: {'fp': 480, 'fn': 601, 'tp': 267}}\n",
      "\n",
      "Currenlty on [ wonho ] version\n",
      "Predicted match stats: {1: {'fp': 449, 'fn': 322, 'tp': 1545}, 2: {'fp': 945, 'fn': 1006, 'tp': 2103}, 3: {'fp': 3189, 'fn': 2445, 'tp': 6788}, 4: {'fp': 5060, 'fn': 3925, 'tp': 6152}, 5: {'fp': 870, 'fn': 328, 'tp': 2394}, 6: {'fp': 445, 'fn': 635, 'tp': 553}, 7: {'fp': 423, 'fn': 601, 'tp': 267}}\n",
      "\n",
      "--------------------------------------------------\n",
      "Validation [ Bug ] 0.6434743738619073\n",
      "Validation [ Clean ] 0.6141910449039686\n",
      "Validation [ Wonho ] 0.6309517724522145\n",
      "  0%|                                                  | 0/3114 [00:00<?, ?it/s]--------------------\n",
      "[ SWA ] - First update of the SWA model\n",
      "--------------------\n",
      "[ TRAIN ] epoch 2 lr 0.0000100 loss:  0.9830: 100%|█| 3114/3114 [55:46<00:00,  1\n",
      "100%|█████████████████████████████████████████| 785/785 [02:12<00:00,  5.94it/s]\n",
      "Currenlty on [ bug ] version\n",
      "Predicted match stats: {1: {'fp': 406, 'fn': 270, 'tp': 1597}, 2: {'fp': 1089, 'fn': 936, 'tp': 2173}, 3: {'fp': 2604, 'fn': 2502, 'tp': 6731}, 4: {'fp': 4738, 'fn': 3385, 'tp': 6692}, 5: {'fp': 663, 'fn': 372, 'tp': 2350}, 6: {'fp': 610, 'fn': 508, 'tp': 680}, 7: {'fp': 641, 'fn': 447, 'tp': 421}}\n",
      "\n",
      "Currenlty on [ clean ] version\n",
      "Predicted match stats: {1: {'fp': 422, 'fn': 286, 'tp': 1581}, 2: {'fp': 1084, 'fn': 931, 'tp': 2178}, 3: {'fp': 2821, 'fn': 2719, 'tp': 6514}, 4: {'fp': 5081, 'fn': 3728, 'tp': 6349}, 5: {'fp': 707, 'fn': 416, 'tp': 2306}, 6: {'fp': 618, 'fn': 516, 'tp': 672}, 7: {'fp': 665, 'fn': 471, 'tp': 397}}\n",
      "\n",
      "Currenlty on [ wonho ] version\n",
      "Predicted match stats: {1: {'fp': 408, 'fn': 269, 'tp': 1598}, 2: {'fp': 1005, 'fn': 887, 'tp': 2222}, 3: {'fp': 2887, 'fn': 2343, 'tp': 6890}, 4: {'fp': 4591, 'fn': 3566, 'tp': 6511}, 5: {'fp': 722, 'fn': 325, 'tp': 2397}, 6: {'fp': 579, 'fn': 514, 'tp': 674}, 7: {'fp': 613, 'fn': 468, 'tp': 400}}\n",
      "\n",
      "--------------------------------------------------\n",
      "Validation [ Bug ] 0.665632090034609\n",
      "Validation [ Clean ] 0.6501119582910937\n",
      "Validation [ Wonho ] 0.6663733173766538\n",
      "[ TRAIN ] epoch 3 lr 0.0000100 loss:  0.9099: 100%|█| 3114/3114 [44:08<00:00,  1\n",
      "100%|█████████████████████████████████████████| 785/785 [02:11<00:00,  6.15it/s]Currenlty on [ bug ] version\n",
      "Predicted match stats: {1: {'fp': 382, 'fn': 268, 'tp': 1599}, 2: {'fp': 1111, 'fn': 934, 'tp': 2175}, 3: {'fp': 2604, 'fn': 2419, 'tp': 6814}, 4: {'fp': 4639, 'fn': 3357, 'tp': 6720}, 5: {'fp': 610, 'fn': 378, 'tp': 2344}, 6: {'fp': 612, 'fn': 499, 'tp': 689}, 7: {'fp': 650, 'fn': 443, 'tp': 425}}\n",
      "\n",
      "100%|█████████████████████████████████████████| 785/785 [02:11<00:00,  5.95it/s]\n",
      "Currenlty on [ clean ] version\n",
      "Predicted match stats: {1: {'fp': 393, 'fn': 279, 'tp': 1588}, 2: {'fp': 1111, 'fn': 934, 'tp': 2175}, 3: {'fp': 2811, 'fn': 2626, 'tp': 6607}, 4: {'fp': 4939, 'fn': 3657, 'tp': 6420}, 5: {'fp': 645, 'fn': 413, 'tp': 2309}, 6: {'fp': 620, 'fn': 507, 'tp': 681}, 7: {'fp': 667, 'fn': 460, 'tp': 408}}\n",
      "\n",
      "Currenlty on [ wonho ] version\n",
      "Predicted match stats: {1: {'fp': 383, 'fn': 268, 'tp': 1599}, 2: {'fp': 1032, 'fn': 897, 'tp': 2212}, 3: {'fp': 2801, 'fn': 2296, 'tp': 6937}, 4: {'fp': 4506, 'fn': 3498, 'tp': 6579}, 5: {'fp': 661, 'fn': 321, 'tp': 2401}, 6: {'fp': 583, 'fn': 501, 'tp': 687}, 7: {'fp': 625, 'fn': 458, 'tp': 410}}\n",
      "\n",
      "--------------------------------------------------\n",
      "Validation [ Bug ] 0.6694292739322442\n",
      "Validation [ Clean ] 0.6562629339284592\n",
      "Validation [ Wonho ] 0.6714916649286241\n",
      "[ TRAIN ] epoch 4 lr 0.0000100 loss:  0.8422: 100%|█| 3114/3114 [44:30<00:00,  1\n",
      "100%|█████████████████████████████████████████| 785/785 [02:11<00:00,  6.15it/s]Currenlty on [ bug ] version\n",
      "100%|█████████████████████████████████████████| 785/785 [02:11<00:00,  5.95it/s]\n",
      "Predicted match stats: {1: {'fp': 363, 'fn': 266, 'tp': 1601}, 2: {'fp': 1097, 'fn': 914, 'tp': 2195}, 3: {'fp': 2569, 'fn': 2385, 'tp': 6848}, 4: {'fp': 4588, 'fn': 3342, 'tp': 6735}, 5: {'fp': 601, 'fn': 374, 'tp': 2348}, 6: {'fp': 639, 'fn': 484, 'tp': 704}, 7: {'fp': 654, 'fn': 437, 'tp': 431}}\n",
      "\n",
      "Currenlty on [ clean ] version\n",
      "Predicted match stats: {1: {'fp': 370, 'fn': 273, 'tp': 1594}, 2: {'fp': 1089, 'fn': 906, 'tp': 2203}, 3: {'fp': 2730, 'fn': 2546, 'tp': 6687}, 4: {'fp': 4834, 'fn': 3588, 'tp': 6489}, 5: {'fp': 635, 'fn': 408, 'tp': 2314}, 6: {'fp': 651, 'fn': 496, 'tp': 692}, 7: {'fp': 661, 'fn': 444, 'tp': 424}}\n",
      "\n",
      "Currenlty on [ wonho ] version\n",
      "Predicted match stats: {1: {'fp': 356, 'fn': 257, 'tp': 1610}, 2: {'fp': 1029, 'fn': 875, 'tp': 2234}, 3: {'fp': 2779, 'fn': 2285, 'tp': 6948}, 4: {'fp': 4453, 'fn': 3449, 'tp': 6628}, 5: {'fp': 669, 'fn': 331, 'tp': 2391}, 6: {'fp': 620, 'fn': 494, 'tp': 694}, 7: {'fp': 627, 'fn': 442, 'tp': 426}}\n",
      "\n",
      "--------------------------------------------------\n",
      "Validation [ Bug ] 0.673028489013007\n",
      "Validation [ Clean ] 0.6630209795865091\n",
      "Validation [ Wonho ] 0.6751465808206606\n",
      "Epoch     4: reducing learning rate of group 0 to 8.0000e-06.\n",
      "Epoch     4: reducing learning rate of group 1 to 8.0000e-06.\n"
     ]
    },
    {
     "name": "stdout",
     "output_type": "stream",
     "text": [
      "[ TRAIN ] epoch 5 lr 0.0000080 loss:  0.7727:  81%|▊| 2526/3114 [45:14<09:48,  1"
     ]
    }
   ],
   "source": [
    "!python train.py --device 3 --wandb_comment \"swa_ce_rce_swa100_online_revise\" --swa --epochs 12 --swa_update_per_epoch 100 --online"
   ]
  }
 ],
 "metadata": {
  "kernelspec": {
   "display_name": "Python 3 (ipykernel)",
   "language": "python",
   "name": "python3"
  },
  "language_info": {
   "codemirror_mode": {
    "name": "ipython",
    "version": 3
   },
   "file_extension": ".py",
   "mimetype": "text/x-python",
   "name": "python",
   "nbconvert_exporter": "python",
   "pygments_lexer": "ipython3",
   "version": "3.7.12"
  },
  "toc": {
   "base_numbering": 1,
   "nav_menu": {},
   "number_sections": false,
   "sideBar": true,
   "skip_h1_title": false,
   "title_cell": "Table of Contents",
   "title_sidebar": "Contents",
   "toc_cell": false,
   "toc_position": {
    "height": "calc(100% - 180px)",
    "left": "10px",
    "top": "150px",
    "width": "282.255px"
   },
   "toc_section_display": true,
   "toc_window_display": true
  }
 },
 "nbformat": 4,
 "nbformat_minor": 5
}
