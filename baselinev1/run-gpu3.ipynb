{
 "cells": [
  {
   "cell_type": "markdown",
   "id": "61afee34",
   "metadata": {},
   "source": [
    "# run training\n",
    "\n",
    "> notebook to run the `train.py` file"
   ]
  },
  {
   "cell_type": "code",
   "execution_count": 1,
   "id": "4f259f5d",
   "metadata": {
    "ExecuteTime": {
     "end_time": "2022-03-12T05:21:55.612834Z",
     "start_time": "2022-03-12T05:21:55.609065Z"
    }
   },
   "outputs": [],
   "source": [
    "install_pytorch = False\n",
    "if install_pytorch:\n",
    "    !pip install torch==1.8.1+cu111 torchvision==0.9.1+cu111 torchaudio===0.8.1 -f https://download.pytorch.org/whl/torch_stable.html"
   ]
  },
  {
   "cell_type": "markdown",
   "id": "93c8c22e",
   "metadata": {},
   "source": [
    "## Single GPU"
   ]
  },
  {
   "cell_type": "code",
   "execution_count": 4,
   "id": "80571bec",
   "metadata": {
    "ExecuteTime": {
     "end_time": "2022-03-14T13:58:43.602678Z",
     "start_time": "2022-03-14T13:56:48.727709Z"
    },
    "scrolled": true
   },
   "outputs": [
    {
     "name": "stdout",
     "output_type": "stream",
     "text": [
      "\u001b[34m\u001b[1mwandb\u001b[0m: Currently logged in as: \u001b[33mducky\u001b[0m (use `wandb login --relogin` to force relogin)\n",
      "\u001b[34m\u001b[1mwandb\u001b[0m: wandb version 0.12.11 is available!  To upgrade, please run:\n",
      "\u001b[34m\u001b[1mwandb\u001b[0m:  $ pip install wandb --upgrade\n",
      "\u001b[34m\u001b[1mwandb\u001b[0m: Tracking run with wandb version 0.12.10\n",
      "\u001b[34m\u001b[1mwandb\u001b[0m: Syncing run \u001b[33mcurrant-flan-314\u001b[0m\n",
      "\u001b[34m\u001b[1mwandb\u001b[0m: ⭐️ View project at \u001b[34m\u001b[4mhttps://wandb.ai/ducky/feedback_deberta_large\u001b[0m\n",
      "\u001b[34m\u001b[1mwandb\u001b[0m: 🚀 View run at \u001b[34m\u001b[4mhttps://wandb.ai/ducky/feedback_deberta_large/runs/1w0sz13c\u001b[0m\n",
      "\u001b[34m\u001b[1mwandb\u001b[0m: Run data is saved locally in /home/feedback/working/feedback_ducky/baselinev1/wandb/run-20220314_135659-1w0sz13c\n",
      "\u001b[34m\u001b[1mwandb\u001b[0m: Run `wandb offline` to turn off syncing.\n",
      "\n",
      "Namespace(back_translation=False, batch_size=4, ce_weight=0.9, cnn1d=False, const_loss_weight=10.0, criterion_list=['custom_ce'], criterion_ratio=[1.0], cycle_mult=1.0, data_prefix='', dataset_path='../../feedback-prize-2021', dataset_version=2, ddp=False, decay_bias=False, device=device(type='cuda', index=3), distill=False, dropout_ratio=0.0, epochs=20, extra_dense=False, gamma=0.9, grad_acc_steps=1, grad_checkpt=True, grammer_correction=False, label_smoothing=0.1, local_rank=-1, lr=1e-05, max_grad_norm=1.0, mean_teacher_alpha=0.99, min_len=0, min_lr=1e-06, model='microsoft/deberta-v3-large-crf', momentum=0.9, nesterov=True, noise_filter=True, noise_filter_acc_thres=0.4, noise_filter_alpha=0.99, noise_injection=False, noise_injection_prob=0.5, num_worker=8, online_dataset=True, optimizer='adamw', print_f1_per_step=500, random_deletion=False, random_deletion_prob=0.5, random_deletion_ratio=0.1, random_insertion=False, random_insertion_prob=0.5, rank=-1, rce_weight=0.1, save_cache=False, save_cache_dir='augmentation', save_path='result', scheduler='plateau', seed=0, start_eval_at=0, swa=False, swa_start_ratio=0.1, swa_update_per_epoch=1, swap_order=False, swap_order_prob=0.5, synonym_replacement=False, synonym_replacement_prob=0.5, text_aug_min_len=15, use_double_space=False, use_groupped_weights=False, use_space=False, val_fold=0, wandb=True, wandb_comment='crf_online_no_wd_noise_filtering0.4_mean_teacher0.99', wandb_project='feedback_deberta_large', wandb_user='ducky', warmup_steps=500, weight_decay=0.0, weights_pow=0.1, word2vec=False, word2vec_prob=0.5)\n",
      "[ Text Augmenter ] Initializing\n",
      "[ Text Augmenter ] EDA - Easy Data Augmentation model\n",
      "[ Text Augmenter ] Initializing tokenizer...\n",
      "Special tokens have been added in the vocabulary, make sure the associated word embeddings are fine-tuned or trained.\n",
      "Special tokens have been added in the vocabulary, make sure the associated word embeddings are fine-tuned or trained.\n",
      "[ Text Augmenter ] Initializing Train data\n",
      "100%|████████████████████████████████████| 12454/12454 [00:47<00:00, 261.84it/s]\n",
      "[ Text Augmenter ] Initializing\n",
      "[ Text Augmenter ] EDA - Easy Data Augmentation model\n",
      "[ Text Augmenter ] Initializing tokenizer...\n",
      "Special tokens have been added in the vocabulary, make sure the associated word embeddings are fine-tuned or trained.\n",
      "Special tokens have been added in the vocabulary, make sure the associated word embeddings are fine-tuned or trained.\n",
      "[ Text Augmenter ] Initializing Valid data\n",
      "100%|██████████████████████████████████████| 3140/3140 [00:12<00:00, 261.30it/s]\n",
      "\n",
      "Using Ducky Modified DebertaV2\n",
      "\n",
      "Some weights of the model checkpoint at microsoft/deberta-v3-large were not used when initializing DebertaV2Model: ['lm_predictions.lm_head.LayerNorm.weight', 'mask_predictions.classifier.weight', 'mask_predictions.classifier.bias', 'lm_predictions.lm_head.LayerNorm.bias', 'lm_predictions.lm_head.bias', 'mask_predictions.LayerNorm.weight', 'mask_predictions.dense.weight', 'mask_predictions.dense.bias', 'lm_predictions.lm_head.dense.weight', 'lm_predictions.lm_head.dense.bias', 'mask_predictions.LayerNorm.bias']\n",
      "- This IS expected if you are initializing DebertaV2Model from the checkpoint of a model trained on another task or with another architecture (e.g. initializing a BertForSequenceClassification model from a BertForPreTraining model).\n",
      "- This IS NOT expected if you are initializing DebertaV2Model from the checkpoint of a model that you expect to be exactly identical (initializing a BertForSequenceClassification model from a BertForSequenceClassification model).\n",
      "  0%|                                                  | 0/3114 [00:02<?, ?it/s]\n",
      "Traceback (most recent call last):\n",
      "  File \"train.py\", line 229, in <module>\n",
      "    best_f1_bug, best_f1_clean, best_f1_wonho = trainer.train()\n",
      "  File \"/home/feedback/working/feedback_ducky/baselinev1/module/trainer.py\", line 605, in train\n",
      "    self.train_one_epoch(epoch, self.train_loader)\n",
      "  File \"/home/feedback/working/feedback_ducky/baselinev1/module/trainer.py\", line 366, in train_one_epoch\n",
      "    loss = self.criterion(outs, label, class_weight=class_weight)\n",
      "  File \"/home/feedback/working/feedback_ducky/baselinev1/module/loss.py\", line 64, in __call__\n",
      "    return self.calculate_loss(preds, gts, class_weight)\n",
      "  File \"/home/feedback/working/feedback_ducky/baselinev1/module/loss.py\", line 54, in calculate_loss\n",
      "    current_loss = criterion(preds, gts, class_weight)\n",
      "  File \"/home/feedback/working/feedback_ducky/baselinev1/module/losses/sergei.py\", line 7, in custom_ce\n",
      "    preds = torch.log_softmax(preds, -1)\n",
      "TypeError: log_softmax() received an invalid combination of arguments - got (list, int), but expected one of:\n",
      " * (Tensor input, name dim, *, torch.dtype dtype)\n",
      " * (Tensor input, int dim, torch.dtype dtype)\n",
      "\n",
      "\n",
      "\u001b[34m\u001b[1mwandb\u001b[0m: Waiting for W&B process to finish, PID 3889730... (failed 1). Press ctrl-c to abort syncing.\n",
      "\u001b[34m\u001b[1mwandb\u001b[0m:                                                                                \n",
      "\u001b[34m\u001b[1mwandb\u001b[0m: Synced 5 W&B file(s), 0 media file(s), 0 artifact file(s) and 0 other file(s)\n",
      "\u001b[34m\u001b[1mwandb\u001b[0m: Synced \u001b[33mcurrant-flan-314\u001b[0m: \u001b[34mhttps://wandb.ai/ducky/feedback_deberta_large/runs/1w0sz13c\u001b[0m\n",
      "\u001b[34m\u001b[1mwandb\u001b[0m: Find logs at: ./wandb/run-20220314_135659-1w0sz13c/logs/debug.log\n",
      "\u001b[34m\u001b[1mwandb\u001b[0m: \n"
     ]
    }
   ],
   "source": [
    "!python train.py --val_fold 0 --device 3 --wandb --wandb_comment \"crf_online_no_wd_noise_filtering0.4_mean_teacher0.99\" --online --epochs 20 --noise_filter_acc_thres 0.4 --noise_filter --optimizer adamw --weight_decay 0.0"
   ]
  }
 ],
 "metadata": {
  "kernelspec": {
   "display_name": "Python 3 (ipykernel)",
   "language": "python",
   "name": "python3"
  },
  "language_info": {
   "codemirror_mode": {
    "name": "ipython",
    "version": 3
   },
   "file_extension": ".py",
   "mimetype": "text/x-python",
   "name": "python",
   "nbconvert_exporter": "python",
   "pygments_lexer": "ipython3",
   "version": "3.7.12"
  },
  "toc": {
   "base_numbering": 1,
   "nav_menu": {},
   "number_sections": false,
   "sideBar": true,
   "skip_h1_title": false,
   "title_cell": "Table of Contents",
   "title_sidebar": "Contents",
   "toc_cell": false,
   "toc_position": {
    "height": "calc(100% - 180px)",
    "left": "10px",
    "top": "150px",
    "width": "282.242px"
   },
   "toc_section_display": true,
   "toc_window_display": true
  }
 },
 "nbformat": 4,
 "nbformat_minor": 5
}
