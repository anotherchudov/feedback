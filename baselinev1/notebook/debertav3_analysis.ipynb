{
 "cells": [
  {
   "cell_type": "markdown",
   "id": "43a33054",
   "metadata": {},
   "source": [
    "# DebertaV3 Analysis Report\n",
    "\n",
    "- [Huggingface DebertaV2model code](https://github.com/anotherchudov/feedback/blob/sergei/models_training/longformer/sumbission/codes/new_transformers_branch/transformers/src/transformers/models/deberta_v2/modeling_deberta_v2.py#L994) \n",
    "\n",
    "- Is it ok to use max_relative_position?"
   ]
  },
  {
   "cell_type": "markdown",
   "id": "16d23838",
   "metadata": {},
   "source": [
    "```python\n",
    "\n",
    "class DebertaV2Model(DebertaV2PreTrainedModel):\n",
    "    def __init__(self, config):\n",
    "        super().__init__(config)\n",
    "\n",
    "        self.embeddings = DebertaV2Embeddings(config)\n",
    "        self.encoder = DebertaV2Encoder(config)\n",
    "        \n",
    "    def forward():\n",
    "        embedding_output = self.embeddings(\n",
    "            input_ids=input_ids,\n",
    "            token_type_ids=token_type_ids,\n",
    "            position_ids=position_ids,\n",
    "            mask=attention_mask,\n",
    "            inputs_embeds=inputs_embeds,\n",
    "        )\n",
    "\n",
    "        encoder_outputs = self.encoder(\n",
    "            embedding_output,\n",
    "            attention_mask,\n",
    "            output_hidden_states=True,\n",
    "            output_attentions=output_attentions,\n",
    "            return_dict=return_dict,\n",
    "        )\n",
    "```"
   ]
  },
  {
   "cell_type": "code",
   "execution_count": 26,
   "id": "4af3d737",
   "metadata": {
    "ExecuteTime": {
     "end_time": "2022-03-02T09:04:36.988686Z",
     "start_time": "2022-03-02T09:04:36.986180Z"
    }
   },
   "outputs": [],
   "source": [
    "import easydict\n",
    "import numpy as np\n",
    "\n",
    "import torch\n",
    "from torch import nn"
   ]
  },
  {
   "cell_type": "markdown",
   "id": "7ab8c934",
   "metadata": {},
   "source": [
    "## Configuration"
   ]
  },
  {
   "cell_type": "code",
   "execution_count": 14,
   "id": "7a6360ae",
   "metadata": {
    "ExecuteTime": {
     "end_time": "2022-03-02T08:52:20.896951Z",
     "start_time": "2022-03-02T08:52:20.892955Z"
    }
   },
   "outputs": [],
   "source": [
    "deberta_config = {\n",
    "    \"model_type\": \"deberta-v2\",\n",
    "    \"attention_probs_dropout_prob\": 0.1,\n",
    "    \"hidden_act\": \"gelu\",\n",
    "    \"hidden_dropout_prob\": 0.1,\n",
    "    \"hidden_size\": 1024,\n",
    "    \"initializer_range\": 0.02,\n",
    "    \"intermediate_size\": 4096,\n",
    "    \"max_position_embeddings\": 512,\n",
    "    \"relative_attention\": True,\n",
    "    \"position_buckets\": 256,\n",
    "    \"norm_rel_ebd\": \"layer_norm\",\n",
    "    \"share_att_key\": True,\n",
    "    \"pos_att_type\": \"p2c|c2p\",\n",
    "    \"layer_norm_eps\": 1e-7,\n",
    "    \"max_relative_positions\": -1,\n",
    "    \"position_biased_input\": False,\n",
    "    \"num_attention_heads\": 16,\n",
    "    \"num_hidden_layers\": 24,\n",
    "    \"type_vocab_size\": 0,\n",
    "    \"vocab_size\": 128100,\n",
    "}\n",
    "\n",
    "config = easydict.EasyDict(deberta_config)"
   ]
  },
  {
   "cell_type": "markdown",
   "id": "c2335dfd",
   "metadata": {
    "ExecuteTime": {
     "end_time": "2022-03-02T08:44:02.352284Z",
     "start_time": "2022-03-02T08:44:02.350382Z"
    }
   },
   "source": [
    "## self.embeddings `position_ids` is ok?\n",
    "\n",
    "> the model `position_ids` is set to [0, 1, ..., 510, 511]"
   ]
  },
  {
   "cell_type": "markdown",
   "id": "fc32b8d5",
   "metadata": {},
   "source": [
    "when we use relative position embedding we don't use absolute position embedding so `position_biased_input` option is turned off. totally fine. This won't be applied why training.\n",
    "\n",
    "```python\n",
    "if self.position_biased_input:\n",
    "      embeddings += position_embeddings\n",
    "```"
   ]
  },
  {
   "cell_type": "markdown",
   "id": "57a6e473",
   "metadata": {},
   "source": [
    "## Max Relative Position\n",
    "\n",
    "> embedding is done by which bucket does token is part of, not by each token position"
   ]
  },
  {
   "cell_type": "code",
   "execution_count": 21,
   "id": "820af21a",
   "metadata": {
    "ExecuteTime": {
     "end_time": "2022-03-02T08:54:46.901250Z",
     "start_time": "2022-03-02T08:54:46.889891Z"
    }
   },
   "outputs": [],
   "source": [
    "class BertEncoder(nn.Module):\n",
    "    \"\"\"Modified BertEncoder with relative position bias support\"\"\"\n",
    "\n",
    "    def __init__(self, config):\n",
    "        super().__init__()\n",
    "        \n",
    "        # initialize model layers\n",
    "#         self.layer = nn.ModuleList(\n",
    "#             [BertLayer(config) for _ in range(config.num_hidden_layers)]\n",
    "#         )\n",
    "        \n",
    "        self.relative_attention = getattr(config, \"relative_attention\", False)\n",
    "        if self.relative_attention:\n",
    "            self.max_relative_positions = getattr(config, \"max_relative_positions\", -1)\n",
    "\n",
    "            if self.max_relative_positions < 1:\n",
    "                self.max_relative_positions = config.max_position_embeddings\n",
    "                self.position_buckets = getattr(config, \"position_buckets\", -1)\n",
    "                pos_ebd_size = self.max_relative_positions * 2\n",
    "\n",
    "                if self.position_buckets > 0:\n",
    "                    pos_ebd_size = self.position_buckets * 2\n",
    "\n",
    "            self.rel_embeddings = nn.Embedding(pos_ebd_size, config.hidden_size)\n",
    "\n",
    "#         self.norm_rel_ebd = [\n",
    "#             x.strip()\n",
    "#             for x in getattr(config, \"norm_rel_ebd\", \"none\").lower().split(\"|\")\n",
    "#         ]\n",
    "#         if \"layer_norm\" in self.norm_rel_ebd:\n",
    "#             self.LayerNorm = LayerNorm(\n",
    "#                 config.hidden_size, config.layer_norm_eps, elementwise_affine=True\n",
    "#             )\n",
    "\n",
    "#         kernel_size = getattr(config, \"conv_kernel_size\", 0)\n",
    "#         self.with_conv = False\n",
    "#         if kernel_size > 0:\n",
    "#             self.with_conv = True\n",
    "#             self.conv = ConvLayer(config)\n",
    "\n",
    "    def get_rel_embedding(self):\n",
    "        rel_embeddings = self.rel_embeddings.weight if self.relative_attention else None\n",
    "        if rel_embeddings is not None and (\"layer_norm\" in self.norm_rel_ebd):\n",
    "            rel_embeddings = self.LayerNorm(rel_embeddings)\n",
    "        return rel_embeddings\n",
    "\n",
    "    def get_attention_mask(self, attention_mask):\n",
    "        if attention_mask.dim() <= 2:\n",
    "            extended_attention_mask = attention_mask.unsqueeze(1).unsqueeze(2)\n",
    "            attention_mask = extended_attention_mask * extended_attention_mask.squeeze(\n",
    "                -2\n",
    "            ).unsqueeze(-1)\n",
    "            attention_mask = attention_mask.byte()\n",
    "        elif attention_mask.dim() == 3:\n",
    "            attention_mask = attention_mask.unsqueeze(1)\n",
    "\n",
    "        return attention_mask\n",
    "\n",
    "    def get_rel_pos(self, hidden_states, query_states=None, relative_pos=None):\n",
    "        if self.relative_attention and relative_pos is None:\n",
    "            q = (\n",
    "                query_states.size(-2)\n",
    "                if query_states is not None\n",
    "                else hidden_states.size(-2)\n",
    "            )\n",
    "            relative_pos = build_relative_position(\n",
    "                q,\n",
    "                hidden_states.size(-2),\n",
    "                bucket_size=self.position_buckets,\n",
    "                max_position=self.max_relative_positions,\n",
    "            )\n",
    "        return relative_pos\n",
    "\n",
    "    def forward(\n",
    "        self,\n",
    "        hidden_states,\n",
    "        attention_mask,\n",
    "        output_all_encoded_layers=True,\n",
    "        return_att=False,\n",
    "        query_states=None,\n",
    "        relative_pos=None,\n",
    "    ):\n",
    "        if attention_mask.dim() <= 2:\n",
    "            input_mask = attention_mask\n",
    "        else:\n",
    "            input_mask = (attention_mask.sum(-2) > 0).byte()\n",
    "        attention_mask = self.get_attention_mask(attention_mask)\n",
    "        relative_pos = self.get_rel_pos(hidden_states, query_states, relative_pos)\n",
    "\n",
    "        all_encoder_layers = []\n",
    "        att_matrices = []\n",
    "        if isinstance(hidden_states, Sequence):\n",
    "            next_kv = hidden_states[0]\n",
    "        else:\n",
    "            next_kv = hidden_states\n",
    "        rel_embeddings = self.get_rel_embedding()\n",
    "        for i, layer_module in enumerate(self.layer):\n",
    "            output_states = layer_module(\n",
    "                next_kv,\n",
    "                attention_mask,\n",
    "                return_att,\n",
    "                query_states=query_states,\n",
    "                relative_pos=relative_pos,\n",
    "                rel_embeddings=rel_embeddings,\n",
    "            )\n",
    "            if return_att:\n",
    "                output_states, att_m = output_states\n",
    "\n",
    "            if i == 0 and self.with_conv:\n",
    "                prenorm = output_states  # output['prenorm_states']\n",
    "                output_states = self.conv(hidden_states, prenorm, input_mask)\n",
    "\n",
    "            if query_states is not None:\n",
    "                query_states = output_states\n",
    "                if isinstance(hidden_states, Sequence):\n",
    "                    next_kv = hidden_states[i + 1] if i + 1 < len(self.layer) else None\n",
    "            else:\n",
    "                next_kv = output_states\n",
    "\n",
    "            if output_all_encoded_layers:\n",
    "                all_encoder_layers.append(output_states)\n",
    "                if return_att:\n",
    "                    att_matrices.append(att_m)\n",
    "        if not output_all_encoded_layers:\n",
    "            all_encoder_layers.append(output_states)\n",
    "            if return_att:\n",
    "                att_matrices.append(att_m)\n",
    "        return {\"hidden_states\": all_encoder_layers, \"attention_matrices\": att_matrices}"
   ]
  },
  {
   "cell_type": "code",
   "execution_count": 141,
   "id": "231948e1",
   "metadata": {
    "ExecuteTime": {
     "end_time": "2022-03-02T11:31:25.449760Z",
     "start_time": "2022-03-02T11:31:25.440282Z"
    }
   },
   "outputs": [
    {
     "data": {
      "text/plain": [
       "BertEncoder(\n",
       "  (rel_embeddings): Embedding(512, 1024)\n",
       ")"
      ]
     },
     "execution_count": 141,
     "metadata": {},
     "output_type": "execute_result"
    }
   ],
   "source": [
    "bert = BertEncoder(config)\n",
    "bert"
   ]
  },
  {
   "cell_type": "code",
   "execution_count": 29,
   "id": "7f0a9a19",
   "metadata": {
    "ExecuteTime": {
     "end_time": "2022-03-02T09:14:11.344529Z",
     "start_time": "2022-03-02T09:14:11.341314Z"
    }
   },
   "outputs": [],
   "source": [
    "def make_log_bucket_position(relative_pos, bucket_size, max_position):\n",
    "    sign = np.sign(relative_pos)\n",
    "    mid = bucket_size // 2\n",
    "    \n",
    "    abs_pos = np.where((relative_pos < mid) & (relative_pos > -mid), mid - 1, np.abs(relative_pos))\n",
    "    log_pos = np.ceil(np.log(abs_pos / mid) / np.log((max_position - 1) / mid) * (mid - 1)) + mid\n",
    "    bucket_pos = np.where(abs_pos <= mid, relative_pos, log_pos * sign).astype(np.int)\n",
    "    \n",
    "    return bucket_pos"
   ]
  },
  {
   "cell_type": "code",
   "execution_count": 73,
   "id": "968f55ba",
   "metadata": {
    "ExecuteTime": {
     "end_time": "2022-03-02T09:26:49.973292Z",
     "start_time": "2022-03-02T09:26:49.967478Z"
    }
   },
   "outputs": [],
   "source": [
    "def build_relative_position(query_size, key_size, bucket_size=-1, max_position=-1):\n",
    "    \"\"\"\n",
    "    Build relative position according to the query and key\n",
    "    - we assume the absolute position of query [ P query ] is range from (0, query_size)\n",
    "    - and the absolute position of key [ P key ] is range from (0, key_size)\n",
    "    \n",
    "    The relative positions from query to key is [ R query -> key ] = P query - P key\n",
    "\n",
    "    Args:\n",
    "        query_size (int): the length of query\n",
    "        key_size (int): the length of key\n",
    "        bucket_size (int): the size of position bucket\n",
    "        max_position (int): the maximum allowed absolute position\n",
    "    Return:\n",
    "        `torch.LongTensor`: A tensor with shape [1, query_size, key_size]\n",
    "    \"\"\"\n",
    "    q_ids = np.arange(0, query_size)\n",
    "    k_ids = np.arange(0, key_size)\n",
    "    rel_pos_ids = q_ids[:, None] - np.tile(k_ids, (q_ids.shape[0], 1))\n",
    "    \n",
    "    print('relative positional ids')\n",
    "    print(rel_pos_ids)\n",
    "    if bucket_size > 0 and max_position > 0:\n",
    "        rel_pos_ids = make_log_bucket_position(rel_pos_ids, bucket_size, max_position)\n",
    "\n",
    "    rel_pos_ids = torch.tensor(rel_pos_ids, dtype=torch.long)\n",
    "    rel_pos_ids = rel_pos_ids[:query_size, :]\n",
    "    rel_pos_ids = rel_pos_ids.unsqueeze(0)\n",
    "\n",
    "    return rel_pos_ids"
   ]
  },
  {
   "cell_type": "code",
   "execution_count": 74,
   "id": "b54ff19a",
   "metadata": {
    "ExecuteTime": {
     "end_time": "2022-03-02T09:26:50.153544Z",
     "start_time": "2022-03-02T09:26:50.151130Z"
    }
   },
   "outputs": [
    {
     "data": {
      "text/plain": [
       "(256, 512)"
      ]
     },
     "execution_count": 74,
     "metadata": {},
     "output_type": "execute_result"
    }
   ],
   "source": [
    "config.position_buckets, config.max_position_embeddings"
   ]
  },
  {
   "cell_type": "markdown",
   "id": "dbcf7b16",
   "metadata": {
    "heading_collapsed": true
   },
   "source": [
    "### bucket with 512 max relative position & 512 input length"
   ]
  },
  {
   "cell_type": "code",
   "execution_count": 75,
   "id": "37dd25ff",
   "metadata": {
    "ExecuteTime": {
     "end_time": "2022-03-02T09:26:50.890957Z",
     "start_time": "2022-03-02T09:26:50.882998Z"
    },
    "code_folding": [],
    "hidden": true,
    "scrolled": true
   },
   "outputs": [
    {
     "name": "stdout",
     "output_type": "stream",
     "text": [
      "relative positional ids\n",
      "[[   0   -1   -2 ... -509 -510 -511]\n",
      " [   1    0   -1 ... -508 -509 -510]\n",
      " [   2    1    0 ... -507 -508 -509]\n",
      " ...\n",
      " [ 509  508  507 ...    0   -1   -2]\n",
      " [ 510  509  508 ...    1    0   -1]\n",
      " [ 511  510  509 ...    2    1    0]]\n"
     ]
    }
   ],
   "source": [
    "bucket_pos = build_relative_position(\n",
    "    query_size=512,\n",
    "    key_size=512,\n",
    "    bucket_size=config.position_buckets,\n",
    "    max_position=config.max_position_embeddings,  # alternative for max_relative_embeddings\n",
    ")"
   ]
  },
  {
   "cell_type": "code",
   "execution_count": 76,
   "id": "3d624fcc",
   "metadata": {
    "ExecuteTime": {
     "end_time": "2022-03-02T09:26:53.812481Z",
     "start_time": "2022-03-02T09:26:53.809897Z"
    },
    "hidden": true
   },
   "outputs": [],
   "source": [
    "pretrained_bucket_values = bucket_pos[:, 0, :][0].numpy()"
   ]
  },
  {
   "cell_type": "code",
   "execution_count": 77,
   "id": "f81e39e5",
   "metadata": {
    "ExecuteTime": {
     "end_time": "2022-03-02T09:26:57.487009Z",
     "start_time": "2022-03-02T09:26:57.391494Z"
    },
    "hidden": true
   },
   "outputs": [
    {
     "data": {
      "image/png": "[encoded data removed]",
      "text/plain": [
       "<Figure size 720x360 with 1 Axes>"
      ]
     },
     "metadata": {
      "needs_background": "light"
     },
     "output_type": "display_data"
    }
   ],
   "source": [
    "# code from https://stackoverflow.com/questions/48026056/visualize-matplotlib-histogram-bin-counts-directly-on-the-graph\n",
    "\n",
    "import matplotlib.pyplot as plt              \n",
    "import numpy as np                                       \n",
    "\n",
    "plt.figure(figsize=(10, 5))\n",
    "\n",
    "counts, bins, patches = plt.hist(pretrained_bucket_values)\n",
    "plt.ylabel('Probability')\n",
    "\n",
    "\n",
    "# Label the raw counts and the percentages below the x-axis...\n",
    "bin_centers = 0.5 * np.diff(bins) + bins[:-1]\n",
    "for count, x in zip(counts, bin_centers):\n",
    "    # Label the raw counts\n",
    "    plt.annotate('{:.2f}'.format(count), xy=(x, 0), xycoords=('data', 'axes fraction'),\n",
    "        xytext=(0, 18), textcoords='offset points', va='top', ha='center')\n",
    "\n",
    "plt.show()"
   ]
  },
  {
   "cell_type": "code",
   "execution_count": 78,
   "id": "432fa70b",
   "metadata": {
    "ExecuteTime": {
     "end_time": "2022-03-02T09:26:59.778324Z",
     "start_time": "2022-03-02T09:26:59.775683Z"
    },
    "hidden": true
   },
   "outputs": [
    {
     "data": {
      "text/plain": [
       "array([-236, -236, -236, -236, -237, -237, -237, -237, -238, -238, -238,\n",
       "       -238, -238, -239, -239, -239, -239, -239, -240, -240, -240, -240,\n",
       "       -241, -241, -241, -241, -241, -242, -242, -242, -242, -242, -243,\n",
       "       -243, -243, -243, -243, -244, -244, -244, -244, -244, -245, -245,\n",
       "       -245, -245, -245, -246, -246, -246, -246, -246, -247, -247, -247,\n",
       "       -247, -247, -248, -248, -248, -248, -248, -249, -249, -249, -249,\n",
       "       -249, -250, -250, -250, -250, -250, -251, -251, -251, -251, -251,\n",
       "       -251, -252, -252, -252, -252, -252, -253, -253, -253, -253, -253,\n",
       "       -254, -254, -254, -254, -254, -254, -255, -255, -255, -255, -255,\n",
       "       -255])"
      ]
     },
     "execution_count": 78,
     "metadata": {},
     "output_type": "execute_result"
    }
   ],
   "source": [
    "pretrained_bucket_values[-100:]"
   ]
  },
  {
   "cell_type": "markdown",
   "id": "16b30bd5",
   "metadata": {
    "heading_collapsed": true
   },
   "source": [
    "### bucket with 512 max relative position & 2048 input length"
   ]
  },
  {
   "cell_type": "code",
   "execution_count": 155,
   "id": "4141cd45",
   "metadata": {
    "ExecuteTime": {
     "end_time": "2022-03-02T12:47:29.689873Z",
     "start_time": "2022-03-02T12:47:29.585455Z"
    },
    "code_folding": [],
    "hidden": true
   },
   "outputs": [
    {
     "name": "stdout",
     "output_type": "stream",
     "text": [
      "relative positional ids\n",
      "[[    0    -1    -2 ... -2045 -2046 -2047]\n",
      " [    1     0    -1 ... -2044 -2045 -2046]\n",
      " [    2     1     0 ... -2043 -2044 -2045]\n",
      " ...\n",
      " [ 2045  2044  2043 ...     0    -1    -2]\n",
      " [ 2046  2045  2044 ...     1     0    -1]\n",
      " [ 2047  2046  2045 ...     2     1     0]]\n"
     ]
    }
   ],
   "source": [
    "bucket_pos = build_relative_position(\n",
    "    query_size=2048,\n",
    "    key_size=2048,\n",
    "    bucket_size=config.position_buckets,\n",
    "    max_position=config.max_position_embeddings,  # alternative for max_relative_embeddings\n",
    ")"
   ]
  },
  {
   "cell_type": "code",
   "execution_count": 157,
   "id": "a141cc2e",
   "metadata": {
    "ExecuteTime": {
     "end_time": "2022-03-02T12:47:34.809357Z",
     "start_time": "2022-03-02T12:47:34.805123Z"
    },
    "hidden": true
   },
   "outputs": [
    {
     "data": {
      "text/plain": [
       "tensor([[[   0,   -1,   -2,  ..., -383, -383, -383],\n",
       "         [   1,    0,   -1,  ..., -383, -383, -383],\n",
       "         [   2,    1,    0,  ..., -383, -383, -383],\n",
       "         ...,\n",
       "         [ 383,  383,  383,  ...,    0,   -1,   -2],\n",
       "         [ 383,  383,  383,  ...,    1,    0,   -1],\n",
       "         [ 383,  383,  383,  ...,    2,    1,    0]]])"
      ]
     },
     "execution_count": 157,
     "metadata": {},
     "output_type": "execute_result"
    }
   ],
   "source": [
    "bucket_pos"
   ]
  },
  {
   "cell_type": "code",
   "execution_count": 80,
   "id": "10a2855f",
   "metadata": {
    "ExecuteTime": {
     "end_time": "2022-03-02T09:27:07.890863Z",
     "start_time": "2022-03-02T09:27:07.888342Z"
    },
    "hidden": true
   },
   "outputs": [],
   "source": [
    "finetuned_bucket_values = bucket_pos[:, 0, :][0].numpy()"
   ]
  },
  {
   "cell_type": "code",
   "execution_count": 81,
   "id": "e89427cb",
   "metadata": {
    "ExecuteTime": {
     "end_time": "2022-03-02T09:27:11.296401Z",
     "start_time": "2022-03-02T09:27:11.188327Z"
    },
    "hidden": true
   },
   "outputs": [
    {
     "data": {
      "image/png": "[encoded data removed]",
      "text/plain": [
       "<Figure size 720x360 with 1 Axes>"
      ]
     },
     "metadata": {
      "needs_background": "light"
     },
     "output_type": "display_data"
    }
   ],
   "source": [
    "# code from https://stackoverflow.com/questions/48026056/visualize-matplotlib-histogram-bin-counts-directly-on-the-graph\n",
    "\n",
    "import matplotlib.pyplot as plt              \n",
    "import numpy as np                                       \n",
    "\n",
    "plt.figure(figsize=(10, 5))\n",
    "\n",
    "counts, bins, patches = plt.hist(finetuned_bucket_values)\n",
    "plt.ylabel('Probability')\n",
    "\n",
    "\n",
    "# Label the raw counts and the percentages below the x-axis...\n",
    "bin_centers = 0.5 * np.diff(bins) + bins[:-1]\n",
    "for count, x in zip(counts, bin_centers):\n",
    "    # Label the raw counts\n",
    "    plt.annotate('{:.2f}'.format(count), xy=(x, 0), xycoords=('data', 'axes fraction'),\n",
    "        xytext=(0, 18), textcoords='offset points', va='top', ha='center')\n",
    "\n",
    "plt.show()"
   ]
  },
  {
   "cell_type": "code",
   "execution_count": 82,
   "id": "95603be5",
   "metadata": {
    "ExecuteTime": {
     "end_time": "2022-03-02T09:27:18.700268Z",
     "start_time": "2022-03-02T09:27:18.696389Z"
    },
    "hidden": true
   },
   "outputs": [
    {
     "data": {
      "text/plain": [
       "array([  0,  -1,  -2,  -3,  -4,  -5,  -6,  -7,  -8,  -9, -10, -11, -12,\n",
       "       -13, -14, -15, -16, -17, -18, -19, -20, -21, -22, -23, -24, -25,\n",
       "       -26, -27, -28, -29, -30, -31, -32, -33, -34, -35, -36, -37, -38,\n",
       "       -39, -40, -41, -42, -43, -44, -45, -46, -47, -48, -49, -50, -51,\n",
       "       -52, -53, -54, -55, -56, -57, -58, -59, -60, -61, -62, -63, -64,\n",
       "       -65, -66, -67, -68, -69, -70, -71, -72, -73, -74, -75, -76, -77,\n",
       "       -78, -79, -80, -81, -82, -83, -84, -85, -86, -87, -88, -89, -90,\n",
       "       -91, -92, -93, -94, -95, -96, -97, -98, -99])"
      ]
     },
     "execution_count": 82,
     "metadata": {},
     "output_type": "execute_result"
    }
   ],
   "source": [
    "finetuned_bucket_values[:100]"
   ]
  },
  {
   "cell_type": "code",
   "execution_count": 83,
   "id": "f3a9efe8",
   "metadata": {
    "ExecuteTime": {
     "end_time": "2022-03-02T09:27:19.022970Z",
     "start_time": "2022-03-02T09:27:19.020420Z"
    },
    "hidden": true
   },
   "outputs": [
    {
     "data": {
      "text/plain": [
       "array([-100, -101, -102, -103, -104, -105, -106, -107, -108, -109, -110,\n",
       "       -111, -112, -113, -114, -115, -116, -117, -118, -119, -120, -121,\n",
       "       -122, -123, -124, -125, -126, -127, -128, -129, -130, -131, -131,\n",
       "       -132, -133, -133, -134, -135, -135, -136, -137, -137, -138, -139,\n",
       "       -139, -140, -141, -141, -142, -142, -143, -144, -144, -145, -145,\n",
       "       -146, -147, -147, -148, -148, -149, -150, -150, -151, -151, -152,\n",
       "       -152, -153, -153, -154, -155, -155, -156, -156, -157, -157, -158,\n",
       "       -158, -159, -159, -160, -160, -161, -161, -162, -162, -163, -163,\n",
       "       -164, -164, -165, -165, -166, -166, -167, -167, -168, -168, -169,\n",
       "       -169])"
      ]
     },
     "execution_count": 83,
     "metadata": {},
     "output_type": "execute_result"
    }
   ],
   "source": [
    "finetuned_bucket_values[100:200]"
   ]
  },
  {
   "cell_type": "code",
   "execution_count": 84,
   "id": "89fd0170",
   "metadata": {
    "ExecuteTime": {
     "end_time": "2022-03-02T09:27:19.900894Z",
     "start_time": "2022-03-02T09:27:19.897305Z"
    },
    "hidden": true
   },
   "outputs": [
    {
     "data": {
      "text/plain": [
       "array([-169, -170, -170, -171, -171, -172, -172, -173, -173, -173, -174,\n",
       "       -174, -175, -175, -176, -176, -177, -177, -177, -178, -178, -179,\n",
       "       -179, -179, -180, -180, -181, -181, -181, -182, -182, -183, -183,\n",
       "       -183, -184, -184, -185, -185, -185, -186, -186, -187, -187, -187,\n",
       "       -188, -188, -188, -189, -189, -190, -190, -190, -191, -191, -191,\n",
       "       -192, -192, -192, -193, -193, -194, -194, -194, -195, -195, -195,\n",
       "       -196, -196, -196, -197, -197, -197, -198, -198, -198, -199, -199,\n",
       "       -199, -200, -200, -200, -201, -201, -201, -202, -202, -202, -203,\n",
       "       -203, -203, -204, -204, -204, -204, -205, -205, -205, -206, -206,\n",
       "       -206])"
      ]
     },
     "execution_count": 84,
     "metadata": {},
     "output_type": "execute_result"
    }
   ],
   "source": [
    "finetuned_bucket_values[200:300]"
   ]
  },
  {
   "cell_type": "markdown",
   "id": "f5be85c8",
   "metadata": {
    "heading_collapsed": true
   },
   "source": [
    "### Comparing bucket location\n",
    "\n",
    "> we can know that bucket value of pretrained is same with bucket value of finetuned one if only the position length between two token is less or same than 255"
   ]
  },
  {
   "cell_type": "code",
   "execution_count": 114,
   "id": "1bfa2f1c",
   "metadata": {
    "ExecuteTime": {
     "end_time": "2022-03-02T09:34:23.885836Z",
     "start_time": "2022-03-02T09:34:23.883337Z"
    },
    "hidden": true
   },
   "outputs": [
    {
     "name": "stdout",
     "output_type": "stream",
     "text": [
      "pretrained bucket value -150 was in location [161, 162]\n",
      "finetuned bucket value -150 was in location [161, 162]\n"
     ]
    }
   ],
   "source": [
    "bucket_value = -150\n",
    "print(f'pretrained bucket value {bucket_value} was in location {np.where(pretrained_bucket_values == bucket_value)[0].tolist()}')\n",
    "print(f'finetuned bucket value {bucket_value} was in location {np.where(finetuned_bucket_values == bucket_value)[0].tolist()}')"
   ]
  },
  {
   "cell_type": "code",
   "execution_count": 115,
   "id": "979dfc1c",
   "metadata": {
    "ExecuteTime": {
     "end_time": "2022-03-02T09:34:33.164125Z",
     "start_time": "2022-03-02T09:34:33.161483Z"
    },
    "hidden": true
   },
   "outputs": [
    {
     "name": "stdout",
     "output_type": "stream",
     "text": [
      "pretrained bucket value -255 was in location [506, 507, 508, 509, 510, 511]\n",
      "finetuned bucket value -255 was in location [506, 507, 508, 509, 510, 511]\n"
     ]
    }
   ],
   "source": [
    "bucket_value = -255\n",
    "print(f'pretrained bucket value {bucket_value} was in location {np.where(pretrained_bucket_values == bucket_value)[0].tolist()}')\n",
    "print(f'finetuned bucket value {bucket_value} was in location {np.where(finetuned_bucket_values == bucket_value)[0].tolist()}')"
   ]
  },
  {
   "cell_type": "code",
   "execution_count": 116,
   "id": "abf5234e",
   "metadata": {
    "ExecuteTime": {
     "end_time": "2022-03-02T09:34:41.768627Z",
     "start_time": "2022-03-02T09:34:41.765974Z"
    },
    "hidden": true
   },
   "outputs": [
    {
     "name": "stdout",
     "output_type": "stream",
     "text": [
      "pretrained bucket value -256 was in location []\n",
      "finetuned bucket value -256 was in location [512, 513, 514, 515, 516]\n"
     ]
    }
   ],
   "source": [
    "bucket_value = -256\n",
    "print(f'pretrained bucket value {bucket_value} was in location {np.where(pretrained_bucket_values == bucket_value)[0].tolist()}')\n",
    "print(f'finetuned bucket value {bucket_value} was in location {np.where(finetuned_bucket_values == bucket_value)[0].tolist()}')"
   ]
  },
  {
   "cell_type": "code",
   "execution_count": 117,
   "id": "1d744273",
   "metadata": {
    "ExecuteTime": {
     "end_time": "2022-03-02T09:35:25.197052Z",
     "start_time": "2022-03-02T09:35:25.193796Z"
    },
    "hidden": true
   },
   "outputs": [
    {
     "name": "stdout",
     "output_type": "stream",
     "text": [
      "pretrained bucket value -300 was in location []\n",
      "finetuned bucket value -300 was in location [826, 827, 828, 829, 830, 831, 832, 833, 834]\n"
     ]
    }
   ],
   "source": [
    "bucket_value = -300\n",
    "print(f'pretrained bucket value {bucket_value} was in location {np.where(pretrained_bucket_values == bucket_value)[0].tolist()}')\n",
    "print(f'finetuned bucket value {bucket_value} was in location {np.where(finetuned_bucket_values == bucket_value)[0].tolist()}')"
   ]
  },
  {
   "cell_type": "code",
   "execution_count": 120,
   "id": "d735338d",
   "metadata": {
    "ExecuteTime": {
     "end_time": "2022-03-02T09:35:37.341922Z",
     "start_time": "2022-03-02T09:35:37.339606Z"
    },
    "hidden": true
   },
   "outputs": [
    {
     "name": "stdout",
     "output_type": "stream",
     "text": [
      "pretrained bucket value -383 was in location []\n",
      "finetuned bucket value -383 was in location [2041, 2042, 2043, 2044, 2045, 2046, 2047]\n"
     ]
    }
   ],
   "source": [
    "bucket_value = -383\n",
    "print(f'pretrained bucket value {bucket_value} was in location {np.where(pretrained_bucket_values == bucket_value)[0].tolist()}')\n",
    "print(f'finetuned bucket value {bucket_value} was in location {np.where(finetuned_bucket_values == bucket_value)[0].tolist()}')"
   ]
  },
  {
   "cell_type": "code",
   "execution_count": 122,
   "id": "3f11f31f",
   "metadata": {
    "ExecuteTime": {
     "end_time": "2022-03-02T09:35:48.813336Z",
     "start_time": "2022-03-02T09:35:48.810295Z"
    },
    "hidden": true
   },
   "outputs": [
    {
     "name": "stdout",
     "output_type": "stream",
     "text": [
      "pretrained bucket value -384 was in location []\n",
      "finetuned bucket value -384 was in location []\n"
     ]
    }
   ],
   "source": [
    "bucket_value = -384\n",
    "print(f'pretrained bucket value {bucket_value} was in location {np.where(pretrained_bucket_values == bucket_value)[0].tolist()}')\n",
    "print(f'finetuned bucket value {bucket_value} was in location {np.where(finetuned_bucket_values == bucket_value)[0].tolist()}')"
   ]
  },
  {
   "cell_type": "markdown",
   "id": "78fb4da7",
   "metadata": {
    "heading_collapsed": true
   },
   "source": [
    "## Bert Layer"
   ]
  },
  {
   "cell_type": "markdown",
   "id": "e6584383",
   "metadata": {
    "ExecuteTime": {
     "end_time": "2022-03-02T09:52:43.385632Z",
     "start_time": "2022-03-02T09:52:43.380419Z"
    },
    "hidden": true
   },
   "source": [
    "```python\n",
    "class BertLayer(nn.Module):\n",
    "    def __init__(self, config):\n",
    "        super(BertLayer, self).__init__()\n",
    "        self.attention = BertAttention(config)\n",
    "        self.intermediate = BertIntermediate(config)\n",
    "        self.output = BertOutput(config)\n",
    "\n",
    "    def forward(\n",
    "        self,\n",
    "        hidden_states,\n",
    "        attention_mask,\n",
    "        return_att=False,\n",
    "        query_states=None,\n",
    "        relative_pos=None,\n",
    "        rel_embeddings=None,\n",
    "    ):\n",
    "        attention_output = self.attention(\n",
    "            hidden_states,\n",
    "            attention_mask,\n",
    "            return_att=return_att,\n",
    "            query_states=query_states,\n",
    "            relative_pos=relative_pos,\n",
    "            rel_embeddings=rel_embeddings,\n",
    "        )\n",
    "```"
   ]
  },
  {
   "cell_type": "markdown",
   "id": "d81f1d5f",
   "metadata": {
    "hidden": true
   },
   "source": [
    "```python\n",
    "class BertAttention(nn.Module):\n",
    "    def __init__(self, config):\n",
    "        super().__init__()\n",
    "        self.self = DisentangledSelfAttention(config)\n",
    "        self.output = BertSelfOutput(config)\n",
    "        self.config = config\n",
    "\n",
    "    def forward(\n",
    "        self,\n",
    "        hidden_states,\n",
    "        attention_mask,\n",
    "        return_att=False,\n",
    "        query_states=None,\n",
    "        relative_pos=None,\n",
    "        rel_embeddings=None,\n",
    "    ):\n",
    "        output = self.self(\n",
    "            hidden_states,\n",
    "            attention_mask,\n",
    "            return_att,\n",
    "            query_states=query_states,\n",
    "            relative_pos=relative_pos,\n",
    "            rel_embeddings=rel_embeddings,  # nn.Embedding(pos_ebd_size, config.hidden_size)\n",
    "        )\n",
    "```"
   ]
  },
  {
   "cell_type": "markdown",
   "id": "6d09a531",
   "metadata": {
    "hidden": true
   },
   "source": [
    "- [class DisentangledSelfAttention](https://github.com/microsoft/DeBERTa/blob/master/DeBERTa/deberta/disentangled_attention.py#L28)"
   ]
  },
  {
   "cell_type": "markdown",
   "id": "b79f3372",
   "metadata": {
    "hidden": true
   },
   "source": [
    "```python\n",
    "class DisentangledSelfAttention(nn.Module):\n",
    "    def __init__(self, config):\n",
    "        super().__init__()\n",
    "        self.num_attention_heads = config.num_attention_heads\n",
    "        _attention_head_size = int(config.hidden_size / config.num_attention_heads)\n",
    "        self.attention_head_size = getattr(config, 'attention_head_size', _attention_head_size)\n",
    "        self.all_head_size = self.num_attention_heads * self.attention_head_size\n",
    "        self.query_proj = nn.Linear(config.hidden_size, self.all_head_size, bias=True)\n",
    "        self.key_proj = nn.Linear(config.hidden_size, self.all_head_size, bias=True)\n",
    "        self.value_proj = nn.Linear(config.hidden_size, self.all_head_size, bias=True)\n",
    "\n",
    "        self.relative_attention = getattr(config, 'relative_attention', False)\n",
    "\n",
    "        if self.relative_attention:\n",
    "            self.position_buckets = getattr(config, 'position_buckets', -1)\n",
    "            self.max_relative_positions = getattr(config, 'max_relative_positions', -1)\n",
    "            if self.max_relative_positions <1:\n",
    "                self.max_relative_positions = config.max_position_embeddings\n",
    "            self.pos_ebd_size = self.max_relative_positions\n",
    "            if self.position_buckets>0:\n",
    "                self.pos_ebd_size = self.position_buckets\n",
    "                # For backward compitable\n",
    "\n",
    "            self.pos_dropout = StableDropout(config.hidden_dropout_prob)\n",
    "\n",
    "    def forward(self, hidden_states, attention_mask, return_att=False, query_states=None, relative_pos=None, rel_embeddings=None):\n",
    "        if query_states is None:\n",
    "            query_states = hidden_states\n",
    "\n",
    "        query_layer = self.transpose_for_scores(self.query_proj(query_states), self.num_attention_heads).float()\n",
    "        key_layer = self.transpose_for_scores(self.key_proj(hidden_states), self.num_attention_heads).float()\n",
    "        value_layer = self.transpose_for_scores(self.value_proj(hidden_states), self.num_attention_heads)\n",
    "        \n",
    "        rel_att = None\n",
    "        scale = 1/math.sqrt(query_layer.size(-1)*scale_factor)\n",
    "        attention_scores = torch.bmm(query_layer, key_layer.transpose(-1, -2)*scale)\n",
    "        if self.relative_attention:\n",
    "            rel_embeddings = self.pos_dropout(rel_embeddings)\n",
    "            rel_att = self.disentangled_attention_bias(query_layer, key_layer, relative_pos, rel_embeddings, scale_factor)\n",
    "```"
   ]
  },
  {
   "cell_type": "markdown",
   "id": "c646ba7e",
   "metadata": {
    "hidden": true
   },
   "source": [
    "pos_ebd_size turns to 256 here"
   ]
  },
  {
   "cell_type": "code",
   "execution_count": null,
   "id": "a722908a",
   "metadata": {
    "hidden": true
   },
   "outputs": [],
   "source": [
    "def disentangled_attention_bias(self, query_layer, key_layer, relative_pos, rel_embeddings, scale_factor):\n",
    "        if relative_pos is None:\n",
    "            q = query_layer.size(-2)\n",
    "            relative_pos = build_relative_position(q, key_layer.size(-2), bucket_size = self.position_buckets, max_position = self.max_relative_positions)\n",
    "        if relative_pos.dim()==2:\n",
    "            relative_pos = relative_pos.unsqueeze(0).unsqueeze(0)\n",
    "        elif relative_pos.dim()==3:\n",
    "            relative_pos = relative_pos.unsqueeze(1)\n",
    "        # bxhxqxk\n",
    "        elif relative_pos.dim()!=4:\n",
    "            raise ValueError(f'Relative postion ids must be of dim 2 or 3 or 4. {relative_pos.dim()}')\n",
    "\n",
    "        att_span = self.pos_ebd_size\n",
    "        relative_pos = relative_pos.long().to(query_layer.device)\n",
    "\n",
    "        rel_embeddings = rel_embeddings[self.pos_ebd_size - att_span:self.pos_ebd_size + att_span, :].unsqueeze(0) #.repeat(query_layer.size(0)//self.num_attention_heads, 1, 1)\n",
    "        if self.share_att_key:\n",
    "            pos_query_layer = self.transpose_for_scores(self.query_proj(rel_embeddings), self.num_attention_heads)\\\n",
    "                .repeat(query_layer.size(0)//self.num_attention_heads, 1, 1) #.split(self.all_head_size, dim=-1)\n",
    "            pos_key_layer = self.transpose_for_scores(self.key_proj(rel_embeddings), self.num_attention_heads)\\\n",
    "                .repeat(query_layer.size(0)//self.num_attention_heads, 1, 1) #.split(self.all_head_size, dim=-1)\n",
    "        else:\n",
    "            if 'c2p' in self.pos_att_type or 'p2p' in self.pos_att_type:\n",
    "                pos_key_layer = self.transpose_for_scores(self.pos_key_proj(rel_embeddings), self.num_attention_heads)\\\n",
    "                    .repeat(query_layer.size(0)//self.num_attention_heads, 1, 1) #.split(self.all_head_size, dim=-1)\n",
    "            if 'p2c' in self.pos_att_type or 'p2p' in self.pos_att_type:\n",
    "                pos_query_layer = self.transpose_for_scores(self.pos_query_proj(rel_embeddings), self.num_attention_heads)\\\n",
    "                    .repeat(query_layer.size(0)//self.num_attention_heads, 1, 1) #.split(self.all_head_size, dim=-1)\n",
    "\n",
    "        score = 0\n",
    "        # content -> position\n",
    "        if 'c2p' in self.pos_att_type:\n",
    "            scale = 1/math.sqrt(pos_key_layer.size(-1)*scale_factor)\n",
    "            c2p_att = torch.bmm(query_layer, pos_key_layer.transpose(-1, -2).to(query_layer)*scale)\n",
    "            c2p_pos = torch.clamp(relative_pos + att_span, 0, att_span*2-1)\n",
    "            c2p_att = torch.gather(c2p_att, dim=-1, index=c2p_pos.squeeze(0).expand([query_layer.size(0), query_layer.size(1), relative_pos.size(-1)]))\n",
    "            score += c2p_att\n",
    "\n",
    "        # position -> content\n",
    "        if 'p2c' in self.pos_att_type or 'p2p' in self.pos_att_type:\n",
    "            scale = 1/math.sqrt(pos_query_layer.size(-1)*scale_factor)\n",
    "            if key_layer.size(-2) != query_layer.size(-2):\n",
    "                r_pos = build_relative_position(key_layer.size(-2), key_layer.size(-2), bucket_size = self.position_buckets, max_position = self.max_relative_positions).to(query_layer.device)\n",
    "                r_pos = r_pos.unsqueeze(0)\n",
    "            else:\n",
    "                r_pos = relative_pos\n",
    "\n",
    "            p2c_pos = torch.clamp(-r_pos + att_span, 0, att_span*2-1)\n",
    "            if query_layer.size(-2) != key_layer.size(-2):\n",
    "                pos_index = relative_pos[:, :, :, 0].unsqueeze(-1)\n",
    "\n",
    "        if 'p2c' in self.pos_att_type:\n",
    "            p2c_att = torch.bmm(key_layer, pos_query_layer.transpose(-1, -2).to(key_layer)*scale)\n",
    "            p2c_att = torch.gather(p2c_att, dim=-1, index=p2c_pos.squeeze(0).expand([query_layer.size(0), key_layer.size(-2), key_layer.size(-2)])).transpose(-1,-2)\n",
    "            if query_layer.size(-2) != key_layer.size(-2):\n",
    "                p2c_att = torch.gather(p2c_att, dim=-2, index=pos_index.expand(p2c_att.size()[:2] + (pos_index.size(-2), key_layer.size(-2))))\n",
    "            score += p2c_att\n",
    "\n",
    "        # position -> position\n",
    "        if 'p2p' in self.pos_att_type:\n",
    "            pos_query = pos_query_layer[:,:,att_span:,:]\n",
    "            p2p_att = torch.matmul(pos_query, pos_key_layer.transpose(-1, -2))\n",
    "            p2p_att = p2p_att.expand(query_layer.size()[:2] + p2p_att.size()[2:])\n",
    "            if query_layer.size(-2) != key_layer.size(-2):\n",
    "                p2p_att = torch.gather(p2p_att, dim=-2, index=pos_index.expand(query_layer.size()[:2] + (pos_index.size(-2), p2p_att.size(-1))))\n",
    "            p2p_att = torch.gather(p2p_att, dim=-1, index=c2p_pos.expand([query_layer.size(0), query_layer.size(1), query_layer.size(2), relative_pos.size(-1)]))\n",
    "            score += p2p_att\n",
    "\n",
    "        return score\n"
   ]
  },
  {
   "cell_type": "markdown",
   "id": "8e4ac405",
   "metadata": {
    "heading_collapsed": true
   },
   "source": [
    "## Pos is clamped"
   ]
  },
  {
   "cell_type": "code",
   "execution_count": 158,
   "id": "f1bec022",
   "metadata": {
    "ExecuteTime": {
     "end_time": "2022-03-02T13:02:58.306480Z",
     "start_time": "2022-03-02T13:02:58.208053Z"
    },
    "hidden": true
   },
   "outputs": [
    {
     "name": "stdout",
     "output_type": "stream",
     "text": [
      "relative positional ids\n",
      "[[    0    -1    -2 ... -2045 -2046 -2047]\n",
      " [    1     0    -1 ... -2044 -2045 -2046]\n",
      " [    2     1     0 ... -2043 -2044 -2045]\n",
      " ...\n",
      " [ 2045  2044  2043 ...     0    -1    -2]\n",
      " [ 2046  2045  2044 ...     1     0    -1]\n",
      " [ 2047  2046  2045 ...     2     1     0]]\n"
     ]
    }
   ],
   "source": [
    "relative_pos = build_relative_position(\n",
    "    query_size=2048,\n",
    "    key_size=2048,\n",
    "    bucket_size=config.position_buckets,\n",
    "    max_position=config.max_position_embeddings,  # alternative for max_relative_embeddings\n",
    ")"
   ]
  },
  {
   "cell_type": "code",
   "execution_count": 159,
   "id": "0f4425e4",
   "metadata": {
    "ExecuteTime": {
     "end_time": "2022-03-02T13:02:58.406193Z",
     "start_time": "2022-03-02T13:02:58.401865Z"
    },
    "hidden": true
   },
   "outputs": [
    {
     "data": {
      "text/plain": [
       "tensor([[[   0,   -1,   -2,  ..., -383, -383, -383],\n",
       "         [   1,    0,   -1,  ..., -383, -383, -383],\n",
       "         [   2,    1,    0,  ..., -383, -383, -383],\n",
       "         ...,\n",
       "         [ 383,  383,  383,  ...,    0,   -1,   -2],\n",
       "         [ 383,  383,  383,  ...,    1,    0,   -1],\n",
       "         [ 383,  383,  383,  ...,    2,    1,    0]]])"
      ]
     },
     "execution_count": 159,
     "metadata": {},
     "output_type": "execute_result"
    }
   ],
   "source": [
    "relative_pos"
   ]
  },
  {
   "cell_type": "code",
   "execution_count": 160,
   "id": "d6ab7113",
   "metadata": {
    "ExecuteTime": {
     "end_time": "2022-03-02T13:03:01.364565Z",
     "start_time": "2022-03-02T13:03:01.362492Z"
    },
    "hidden": true
   },
   "outputs": [],
   "source": [
    "max_relative_positions = config.max_position_embeddings\n",
    "pos_ebd_size = config.position_buckets"
   ]
  },
  {
   "cell_type": "code",
   "execution_count": 161,
   "id": "68302c50",
   "metadata": {
    "ExecuteTime": {
     "end_time": "2022-03-02T13:03:01.528277Z",
     "start_time": "2022-03-02T13:03:01.525841Z"
    },
    "hidden": true
   },
   "outputs": [
    {
     "data": {
      "text/plain": [
       "256"
      ]
     },
     "execution_count": 161,
     "metadata": {},
     "output_type": "execute_result"
    }
   ],
   "source": [
    "att_span = pos_ebd_size\n",
    "att_span"
   ]
  },
  {
   "cell_type": "code",
   "execution_count": 162,
   "id": "7de0d319",
   "metadata": {
    "ExecuteTime": {
     "end_time": "2022-03-02T13:03:11.634228Z",
     "start_time": "2022-03-02T13:03:11.628649Z"
    },
    "hidden": true
   },
   "outputs": [
    {
     "data": {
      "text/plain": [
       "tensor([[[ 256,  255,  254,  ..., -127, -127, -127],\n",
       "         [ 257,  256,  255,  ..., -127, -127, -127],\n",
       "         [ 258,  257,  256,  ..., -127, -127, -127],\n",
       "         ...,\n",
       "         [ 639,  639,  639,  ...,  256,  255,  254],\n",
       "         [ 639,  639,  639,  ...,  257,  256,  255],\n",
       "         [ 639,  639,  639,  ...,  258,  257,  256]]])"
      ]
     },
     "execution_count": 162,
     "metadata": {},
     "output_type": "execute_result"
    }
   ],
   "source": [
    "relative_pos + att_span"
   ]
  },
  {
   "cell_type": "markdown",
   "id": "5075f93a",
   "metadata": {
    "hidden": true
   },
   "source": [
    "511 (right token) - 256 (where the token is) - 0 (left token)"
   ]
  },
  {
   "cell_type": "code",
   "execution_count": 132,
   "id": "7e4d3850",
   "metadata": {
    "ExecuteTime": {
     "end_time": "2022-03-02T11:26:00.435990Z",
     "start_time": "2022-03-02T11:26:00.425768Z"
    },
    "hidden": true
   },
   "outputs": [
    {
     "data": {
      "text/plain": [
       "tensor([[[256, 255, 254,  ...,   0,   0,   0],\n",
       "         [257, 256, 255,  ...,   0,   0,   0],\n",
       "         [258, 257, 256,  ...,   0,   0,   0],\n",
       "         ...,\n",
       "         [511, 511, 511,  ..., 256, 255, 254],\n",
       "         [511, 511, 511,  ..., 257, 256, 255],\n",
       "         [511, 511, 511,  ..., 258, 257, 256]]])"
      ]
     },
     "execution_count": 132,
     "metadata": {},
     "output_type": "execute_result"
    }
   ],
   "source": [
    "c2p_pos = torch.clamp(relative_pos + att_span, 0, att_span*2-1)\n",
    "c2p_pos"
   ]
  },
  {
   "cell_type": "code",
   "execution_count": 135,
   "id": "0bad2b51",
   "metadata": {
    "ExecuteTime": {
     "end_time": "2022-03-02T11:26:29.811944Z",
     "start_time": "2022-03-02T11:26:29.808387Z"
    },
    "hidden": true
   },
   "outputs": [
    {
     "data": {
      "text/plain": [
       "tensor([256, 255, 254, 253, 252, 251, 250, 249, 248, 247, 246, 245, 244, 243,\n",
       "        242, 241, 240, 239, 238, 237, 236, 235, 234, 233, 232, 231, 230, 229,\n",
       "        228, 227, 226, 225, 224, 223, 222, 221, 220, 219, 218, 217, 216, 215,\n",
       "        214, 213, 212, 211, 210, 209, 208, 207, 206, 205, 204, 203, 202, 201,\n",
       "        200, 199, 198, 197, 196, 195, 194, 193, 192, 191, 190, 189, 188, 187,\n",
       "        186, 185, 184, 183, 182, 181, 180, 179, 178, 177, 176, 175, 174, 173,\n",
       "        172, 171, 170, 169, 168, 167, 166, 165, 164, 163, 162, 161, 160, 159,\n",
       "        158, 157])"
      ]
     },
     "execution_count": 135,
     "metadata": {},
     "output_type": "execute_result"
    }
   ],
   "source": [
    "c2p_pos[0][0][:100]"
   ]
  },
  {
   "cell_type": "markdown",
   "id": "c4511f72",
   "metadata": {
    "hidden": true
   },
   "source": [
    "same position exist for 1536 times. 3 quarter of total attention"
   ]
  },
  {
   "cell_type": "code",
   "execution_count": 140,
   "id": "3c8749b2",
   "metadata": {
    "ExecuteTime": {
     "end_time": "2022-03-02T11:29:23.249788Z",
     "start_time": "2022-03-02T11:29:23.245531Z"
    },
    "hidden": true
   },
   "outputs": [
    {
     "data": {
      "text/plain": [
       "tensor(1536)"
      ]
     },
     "execution_count": 140,
     "metadata": {},
     "output_type": "execute_result"
    }
   ],
   "source": [
    "(c2p_pos[0][0] == 0).sum()"
   ]
  },
  {
   "cell_type": "markdown",
   "id": "190eea20",
   "metadata": {},
   "source": [
    "## Relative Embedding is right?"
   ]
  },
  {
   "cell_type": "markdown",
   "id": "ee757203",
   "metadata": {
    "ExecuteTime": {
     "end_time": "2022-03-02T11:33:43.465285Z",
     "start_time": "2022-03-02T11:33:43.462457Z"
    }
   },
   "source": [
    "```python\n",
    "self.rel_embeddings = nn.Embedding(pos_ebd_size, config.hidden_size)\n",
    "self.LayerNorm = LayerNorm(config.hidden_size, config.layer_norm_eps)\n",
    "\n",
    "def get_rel_embedding(self):\n",
    "    rel_embeddings = self.rel_embeddings.weight if self.relative_attention else None\n",
    "    if rel_embeddings is not None and (\"layer_norm\" in self.norm_rel_ebd):\n",
    "        rel_embeddings = self.LayerNorm(rel_embeddings)\n",
    "    return rel_embeddings\n",
    "\n",
    "rel_embeddings = encoder.get_rel_embedding()\n",
    "self.pos_dropout = StableDropout(config.hidden_dropout_prob)\n",
    "rel_embeddings = self.pos_dropout(rel_embeddings)\n",
    "```"
   ]
  },
  {
   "cell_type": "code",
   "execution_count": 144,
   "id": "531020c5",
   "metadata": {
    "ExecuteTime": {
     "end_time": "2022-03-02T11:31:34.794783Z",
     "start_time": "2022-03-02T11:31:34.792366Z"
    },
    "scrolled": true
   },
   "outputs": [
    {
     "data": {
      "text/plain": [
       "Embedding(512, 1024)"
      ]
     },
     "execution_count": 144,
     "metadata": {},
     "output_type": "execute_result"
    }
   ],
   "source": [
    "bert.rel_embeddings"
   ]
  },
  {
   "cell_type": "code",
   "execution_count": 150,
   "id": "b5b17e00",
   "metadata": {
    "ExecuteTime": {
     "end_time": "2022-03-02T11:41:48.367248Z",
     "start_time": "2022-03-02T11:41:48.364761Z"
    }
   },
   "outputs": [
    {
     "data": {
      "text/plain": [
       "torch.Size([512, 1024])"
      ]
     },
     "execution_count": 150,
     "metadata": {},
     "output_type": "execute_result"
    }
   ],
   "source": [
    "rel_embeddings = bert.rel_embeddings.weight\n",
    "rel_embeddings.size()"
   ]
  },
  {
   "cell_type": "code",
   "execution_count": 151,
   "id": "93e0f382",
   "metadata": {
    "ExecuteTime": {
     "end_time": "2022-03-02T11:41:58.810454Z",
     "start_time": "2022-03-02T11:41:58.805435Z"
    }
   },
   "outputs": [
    {
     "data": {
      "text/plain": [
       "Parameter containing:\n",
       "tensor([[ 0.0698,  0.3482, -1.4406,  ...,  1.4373, -0.5048, -0.6732],\n",
       "        [-1.0669, -1.3299,  0.7206,  ..., -1.2796, -1.0290,  0.6135],\n",
       "        [ 0.5742, -0.5303,  0.3706,  ...,  1.0502,  0.6977,  0.3621],\n",
       "        ...,\n",
       "        [-0.6821, -0.3887, -1.6728,  ..., -1.3490, -0.0899, -2.2291],\n",
       "        [ 0.0834,  0.7432,  2.2757,  ...,  0.2183,  0.8242, -0.7037],\n",
       "        [-0.1434, -0.5098, -1.7966,  ...,  0.2468, -0.8081, -0.6022]],\n",
       "       requires_grad=True)"
      ]
     },
     "execution_count": 151,
     "metadata": {},
     "output_type": "execute_result"
    }
   ],
   "source": [
    "rel_embeddings"
   ]
  },
  {
   "cell_type": "code",
   "execution_count": 149,
   "id": "4f8617e4",
   "metadata": {
    "ExecuteTime": {
     "end_time": "2022-03-02T11:41:27.238021Z",
     "start_time": "2022-03-02T11:41:27.235814Z"
    }
   },
   "outputs": [],
   "source": [
    "LayerNorm = torch.nn.LayerNorm(1024)"
   ]
  },
  {
   "cell_type": "code",
   "execution_count": 152,
   "id": "fffcf687",
   "metadata": {
    "ExecuteTime": {
     "end_time": "2022-03-02T11:42:10.031883Z",
     "start_time": "2022-03-02T11:42:10.027771Z"
    }
   },
   "outputs": [],
   "source": [
    "rel_embeddings = LayerNorm(rel_embeddings)"
   ]
  },
  {
   "cell_type": "code",
   "execution_count": 153,
   "id": "ef02b36f",
   "metadata": {
    "ExecuteTime": {
     "end_time": "2022-03-02T11:42:14.404732Z",
     "start_time": "2022-03-02T11:42:14.401402Z"
    }
   },
   "outputs": [
    {
     "data": {
      "text/plain": [
       "tensor([[ 0.0778,  0.3543, -1.4226,  ...,  1.4362, -0.4930, -0.6603],\n",
       "        [-1.1001, -1.3597,  0.6642,  ..., -1.3101, -1.0626,  0.5585],\n",
       "        [ 0.5074, -0.5537,  0.3117,  ...,  0.9647,  0.6260,  0.3036],\n",
       "        ...,\n",
       "        [-0.7295, -0.4287, -1.7453,  ..., -1.4134, -0.1224, -2.3157],\n",
       "        [ 0.0607,  0.7239,  2.2642,  ...,  0.1963,  0.8053, -0.7305],\n",
       "        [-0.1270, -0.4933, -1.7797,  ...,  0.2631, -0.7916, -0.5857]],\n",
       "       grad_fn=<NativeLayerNormBackward>)"
      ]
     },
     "execution_count": 153,
     "metadata": {},
     "output_type": "execute_result"
    }
   ],
   "source": [
    "rel_embeddings"
   ]
  },
  {
   "cell_type": "markdown",
   "id": "5a9822a4",
   "metadata": {
    "ExecuteTime": {
     "end_time": "2022-03-02T11:46:14.756141Z",
     "start_time": "2022-03-02T11:46:14.752714Z"
    }
   },
   "source": [
    "- [StableDropout](https://github.com/microsoft/DeBERTa/blob/master/DeBERTa/deberta/ops.py#L131-L180)\n",
    "- [mask code](https://github.com/microsoft/DeBERTa/blob/master/DeBERTa/deberta/ops.py#L101)\n",
    "```python\n",
    "mask=(1-torch.empty_like(input).bernoulli_(1-dropout)).byte()\n",
    "```\n",
    "\n",
    "removed the some part of embedding values"
   ]
  },
  {
   "cell_type": "code",
   "execution_count": null,
   "id": "97f03207",
   "metadata": {},
   "outputs": [],
   "source": []
  }
 ],
 "metadata": {
  "kernelspec": {
   "display_name": "Python 3 (ipykernel)",
   "language": "python",
   "name": "python3"
  },
  "language_info": {
   "codemirror_mode": {
    "name": "ipython",
    "version": 3
   },
   "file_extension": ".py",
   "mimetype": "text/x-python",
   "name": "python",
   "nbconvert_exporter": "python",
   "pygments_lexer": "ipython3",
   "version": "3.7.12"
  },
  "toc": {
   "base_numbering": 1,
   "nav_menu": {},
   "number_sections": false,
   "sideBar": true,
   "skip_h1_title": false,
   "title_cell": "Table of Contents",
   "title_sidebar": "Contents",
   "toc_cell": false,
   "toc_position": {
    "height": "calc(100% - 180px)",
    "left": "10px",
    "top": "150px",
    "width": "286.25px"
   },
   "toc_section_display": true,
   "toc_window_display": true
  }
 },
 "nbformat": 4,
 "nbformat_minor": 5
}
