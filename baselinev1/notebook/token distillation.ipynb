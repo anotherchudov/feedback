{
 "cells": [
  {
   "cell_type": "code",
   "execution_count": 3,
   "id": "bbaa0054",
   "metadata": {
    "ExecuteTime": {
     "end_time": "2022-03-12T13:47:44.756864Z",
     "start_time": "2022-03-12T13:47:44.754726Z"
    }
   },
   "outputs": [],
   "source": [
    "import pickle"
   ]
  },
  {
   "cell_type": "code",
   "execution_count": 1,
   "id": "259eb04c",
   "metadata": {
    "ExecuteTime": {
     "end_time": "2022-03-12T13:46:15.744953Z",
     "start_time": "2022-03-12T13:46:15.742559Z"
    }
   },
   "outputs": [],
   "source": [
    "distill_path = 'result/online_no_wd_noise_filtering0.4_mean_teacher0.99/token_distillation_debertav3_fold0_online_no_wd_noise_filtering0.4_mean_teacher0.99.pkl'"
   ]
  },
  {
   "cell_type": "code",
   "execution_count": 4,
   "id": "a6f045c9",
   "metadata": {
    "ExecuteTime": {
     "end_time": "2022-03-12T13:47:46.405999Z",
     "start_time": "2022-03-12T13:47:45.307159Z"
    }
   },
   "outputs": [],
   "source": [
    "with open(distill_path, 'rb') as f:\n",
    "    distill = pickle.load(f)"
   ]
  },
  {
   "cell_type": "code",
   "execution_count": 8,
   "id": "e02213c9",
   "metadata": {
    "ExecuteTime": {
     "end_time": "2022-03-12T13:48:16.208102Z",
     "start_time": "2022-03-12T13:48:16.205878Z"
    }
   },
   "outputs": [
    {
     "data": {
      "text/plain": [
       "12454"
      ]
     },
     "execution_count": 8,
     "metadata": {},
     "output_type": "execute_result"
    }
   ],
   "source": [
    "len(distill[0])"
   ]
  },
  {
   "cell_type": "code",
   "execution_count": 7,
   "id": "1391c6bd",
   "metadata": {
    "ExecuteTime": {
     "end_time": "2022-03-12T13:48:09.102193Z",
     "start_time": "2022-03-12T13:48:09.099642Z"
    }
   },
   "outputs": [
    {
     "data": {
      "text/plain": [
       "(12454, 2048, 15)"
      ]
     },
     "execution_count": 7,
     "metadata": {},
     "output_type": "execute_result"
    }
   ],
   "source": [
    "distill[1].shape"
   ]
  },
  {
   "cell_type": "code",
   "execution_count": 11,
   "id": "e040fe78",
   "metadata": {
    "ExecuteTime": {
     "end_time": "2022-03-12T13:55:25.252778Z",
     "start_time": "2022-03-12T13:55:25.250212Z"
    }
   },
   "outputs": [
    {
     "data": {
      "text/plain": [
       "'EF5C275B36F9'"
      ]
     },
     "execution_count": 11,
     "metadata": {},
     "output_type": "execute_result"
    }
   ],
   "source": [
    "distill[0][5]"
   ]
  },
  {
   "cell_type": "code",
   "execution_count": 12,
   "id": "a2490b98",
   "metadata": {
    "ExecuteTime": {
     "end_time": "2022-03-12T13:55:37.004270Z",
     "start_time": "2022-03-12T13:55:37.000639Z"
    }
   },
   "outputs": [
    {
     "data": {
      "text/plain": [
       "5"
      ]
     },
     "execution_count": 12,
     "metadata": {},
     "output_type": "execute_result"
    }
   ],
   "source": [
    "distill[0].index('EF5C275B36F9')"
   ]
  },
  {
   "cell_type": "code",
   "execution_count": 21,
   "id": "ac6daff9",
   "metadata": {
    "ExecuteTime": {
     "end_time": "2022-03-12T14:00:52.616369Z",
     "start_time": "2022-03-12T14:00:52.614330Z"
    }
   },
   "outputs": [],
   "source": [
    "import torch\n",
    "import torch.nn.functional as F"
   ]
  },
  {
   "cell_type": "code",
   "execution_count": 33,
   "id": "4456c423",
   "metadata": {
    "ExecuteTime": {
     "end_time": "2022-03-12T14:04:40.144339Z",
     "start_time": "2022-03-12T14:04:40.140988Z"
    }
   },
   "outputs": [
    {
     "data": {
      "text/plain": [
       "tensor([-2.6342, -2.8057, -2.7876, -2.7098, -2.6412, -2.6778, -2.6082, -2.6306,\n",
       "        -2.7542, -2.7758, -2.7082, -2.7409, -2.7192, -2.6637, -2.7933])"
      ]
     },
     "execution_count": 33,
     "metadata": {},
     "output_type": "execute_result"
    }
   ],
   "source": [
    "F.log_softmax(torch.Tensor(distill[1][1251][0]), dim=-1)"
   ]
  },
  {
   "cell_type": "code",
   "execution_count": 38,
   "id": "c0a25e86",
   "metadata": {
    "ExecuteTime": {
     "end_time": "2022-03-12T14:06:55.531886Z",
     "start_time": "2022-03-12T14:06:55.527437Z"
    }
   },
   "outputs": [
    {
     "data": {
      "text/plain": [
       "tensor([0.0704, 0.0582, 0.0639, 0.0700, 0.0794, 0.0682, 0.0684, 0.0764, 0.0675,\n",
       "        0.0545, 0.0681, 0.0633, 0.0607, 0.0722, 0.0588])"
      ]
     },
     "execution_count": 38,
     "metadata": {},
     "output_type": "execute_result"
    }
   ],
   "source": [
    "F.softmax(torch.Tensor(distill[1][151][500]), dim=-1)"
   ]
  }
 ],
 "metadata": {
  "kernelspec": {
   "display_name": "Python 3 (ipykernel)",
   "language": "python",
   "name": "python3"
  },
  "language_info": {
   "codemirror_mode": {
    "name": "ipython",
    "version": 3
   },
   "file_extension": ".py",
   "mimetype": "text/x-python",
   "name": "python",
   "nbconvert_exporter": "python",
   "pygments_lexer": "ipython3",
   "version": "3.7.12"
  },
  "toc": {
   "base_numbering": 1,
   "nav_menu": {},
   "number_sections": false,
   "sideBar": true,
   "skip_h1_title": false,
   "title_cell": "Table of Contents",
   "title_sidebar": "Contents",
   "toc_cell": false,
   "toc_position": {},
   "toc_section_display": true,
   "toc_window_display": false
  }
 },
 "nbformat": 4,
 "nbformat_minor": 5
}
