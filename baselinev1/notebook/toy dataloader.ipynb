{
 "cells": [
  {
   "cell_type": "code",
   "execution_count": 15,
   "id": "a3ac880b",
   "metadata": {
    "ExecuteTime": {
     "end_time": "2022-03-09T07:18:08.574546Z",
     "start_time": "2022-03-09T07:18:08.572729Z"
    }
   },
   "outputs": [],
   "source": [
    "import os\n",
    "import torch\n",
    "import numpy as np\n",
    "from torch.utils.data import Dataset, DataLoader"
   ]
  },
  {
   "cell_type": "code",
   "execution_count": 16,
   "id": "dc163e70",
   "metadata": {
    "ExecuteTime": {
     "end_time": "2022-03-09T07:18:09.500117Z",
     "start_time": "2022-03-09T07:18:09.496768Z"
    }
   },
   "outputs": [],
   "source": [
    "class FilterDataset(Dataset):\n",
    "    def __init__(self):\n",
    "        ...\n",
    "\n",
    "    def __len__(self):\n",
    "        return 10\n",
    "\n",
    "    def __getitem__(self, idx):\n",
    "        return idx"
   ]
  },
  {
   "cell_type": "code",
   "execution_count": 17,
   "id": "153646a7",
   "metadata": {
    "ExecuteTime": {
     "end_time": "2022-03-09T07:18:09.697385Z",
     "start_time": "2022-03-09T07:18:09.695179Z"
    }
   },
   "outputs": [],
   "source": [
    "filter_dataset = FilterDataset()"
   ]
  },
  {
   "cell_type": "code",
   "execution_count": 18,
   "id": "169c2dea",
   "metadata": {
    "ExecuteTime": {
     "end_time": "2022-03-09T07:18:27.296107Z",
     "start_time": "2022-03-09T07:18:27.293503Z"
    }
   },
   "outputs": [],
   "source": [
    "filter_dataloader = DataLoader(filter_dataset, batch_size=2, shuffle=True)"
   ]
  },
  {
   "cell_type": "code",
   "execution_count": 14,
   "id": "62db1200",
   "metadata": {
    "ExecuteTime": {
     "end_time": "2022-03-09T07:17:56.713069Z",
     "start_time": "2022-03-09T07:17:56.708635Z"
    }
   },
   "outputs": [
    {
     "name": "stdout",
     "output_type": "stream",
     "text": [
      "0\n",
      "1\n",
      "2\n",
      "3\n",
      "4\n",
      "5\n",
      "6\n",
      "7\n",
      "8\n",
      "9\n"
     ]
    }
   ],
   "source": [
    "for i in range(len(filter_dataset)):\n",
    "    sample = filter_dataset[i]\n",
    "\n",
    "    print(sample)"
   ]
  },
  {
   "cell_type": "code",
   "execution_count": 25,
   "id": "d17b600d",
   "metadata": {
    "ExecuteTime": {
     "end_time": "2022-03-09T07:19:19.344674Z",
     "start_time": "2022-03-09T07:19:19.342765Z"
    }
   },
   "outputs": [],
   "source": [
    "filter_dataloader"
   ]
  },
  {
   "cell_type": "code",
   "execution_count": 29,
   "id": "a151521f",
   "metadata": {
    "ExecuteTime": {
     "end_time": "2022-03-09T07:19:21.472099Z",
     "start_time": "2022-03-09T07:19:21.468805Z"
    }
   },
   "outputs": [
    {
     "name": "stdout",
     "output_type": "stream",
     "text": [
      "tensor([5, 4])\n",
      "tensor([7, 0])\n",
      "tensor([3, 1])\n",
      "tensor([8, 2])\n",
      "tensor([6, 9])\n"
     ]
    }
   ],
   "source": [
    "for sample in filter_dataloader:\n",
    "\n",
    "    print(sample)"
   ]
  },
  {
   "cell_type": "code",
   "execution_count": null,
   "id": "3b446604",
   "metadata": {},
   "outputs": [],
   "source": []
  }
 ],
 "metadata": {
  "kernelspec": {
   "display_name": "Python 3 (ipykernel)",
   "language": "python",
   "name": "python3"
  },
  "language_info": {
   "codemirror_mode": {
    "name": "ipython",
    "version": 3
   },
   "file_extension": ".py",
   "mimetype": "text/x-python",
   "name": "python",
   "nbconvert_exporter": "python",
   "pygments_lexer": "ipython3",
   "version": "3.7.12"
  },
  "toc": {
   "base_numbering": 1,
   "nav_menu": {},
   "number_sections": false,
   "sideBar": true,
   "skip_h1_title": false,
   "title_cell": "Table of Contents",
   "title_sidebar": "Contents",
   "toc_cell": false,
   "toc_position": {},
   "toc_section_display": true,
   "toc_window_display": false
  }
 },
 "nbformat": 4,
 "nbformat_minor": 5
}
