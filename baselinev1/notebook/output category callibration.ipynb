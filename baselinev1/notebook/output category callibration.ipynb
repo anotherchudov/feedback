{
 "cells": [
  {
   "cell_type": "markdown",
   "id": "242b48ac",
   "metadata": {},
   "source": [
    "# Callibration\n",
    "\n",
    "- input   0 0 1 0 0 2 2 2\n",
    "- output  0 0 1 2 2 2 2 2"
   ]
  },
  {
   "cell_type": "code",
   "execution_count": 1,
   "id": "a5db1064",
   "metadata": {
    "ExecuteTime": {
     "end_time": "2022-03-14T13:26:23.222311Z",
     "start_time": "2022-03-14T13:26:23.220047Z"
    }
   },
   "outputs": [],
   "source": [
    "import sys\n",
    "\n",
    "DATASET_PATH = ('../../../feedback-prize-2021')\n",
    "\n",
    "sys.path.insert(0, '../codes/new_transformers_branch/transformers/src')\n",
    "sys.path.append('../codes')\n",
    "sys.path.append('..')"
   ]
  },
  {
   "cell_type": "code",
   "execution_count": 2,
   "id": "e3514de6",
   "metadata": {
    "ExecuteTime": {
     "end_time": "2022-03-14T13:26:23.841069Z",
     "start_time": "2022-03-14T13:26:23.223299Z"
    }
   },
   "outputs": [],
   "source": [
    "import os\n",
    "import os.path as osp\n",
    "\n",
    "import re\n",
    "import pickle\n",
    "import random\n",
    "import easydict\n",
    "import copy\n",
    "\n",
    "from glob import glob\n",
    "from tqdm.auto import tqdm\n",
    "\n",
    "import pandas as pd\n",
    "import numpy as np\n",
    "import matplotlib.pyplot as plt\n",
    "\n",
    "from new_transformers import DebertaV2TokenizerFast\n",
    "\n",
    "import torch\n",
    "from torch import nn\n",
    "from torch import optim\n",
    "from torch.nn import functional as F\n",
    "from torch.utils.data import DataLoader"
   ]
  },
  {
   "cell_type": "markdown",
   "id": "538d766f",
   "metadata": {},
   "source": [
    "## Data"
   ]
  },
  {
   "cell_type": "code",
   "execution_count": 3,
   "id": "83392571",
   "metadata": {
    "ExecuteTime": {
     "end_time": "2022-03-14T13:26:24.467750Z",
     "start_time": "2022-03-14T13:26:23.842492Z"
    }
   },
   "outputs": [],
   "source": [
    "import h5py\n",
    "\n",
    "data = h5py.File(f'../data_file/deberta_spm_data_v2.h5py')\n",
    "labels = data[f'cbio_labels']\n",
    "labels = np.argmax(labels, -1)\n",
    "labels = labels[:-1]"
   ]
  },
  {
   "cell_type": "code",
   "execution_count": 4,
   "id": "77104a94",
   "metadata": {
    "ExecuteTime": {
     "end_time": "2022-03-14T13:26:25.056544Z",
     "start_time": "2022-03-14T13:26:24.468841Z"
    }
   },
   "outputs": [],
   "source": [
    "token_n_list = []\n",
    "for num_tokens in data['num_tokens']:\n",
    "    token_n_list.append(num_tokens[0])\n",
    "    \n",
    "token_n_list = token_n_list[:-1]"
   ]
  },
  {
   "cell_type": "markdown",
   "id": "461c6fb4",
   "metadata": {},
   "source": [
    "## Augmentation"
   ]
  },
  {
   "cell_type": "markdown",
   "id": "0e9f2312",
   "metadata": {},
   "source": [
    "### Replacing category randomly by continuous 0 (length is 1 - 5)"
   ]
  },
  {
   "cell_type": "code",
   "execution_count": 5,
   "id": "0addc315",
   "metadata": {
    "ExecuteTime": {
     "end_time": "2022-03-14T13:26:25.061357Z",
     "start_time": "2022-03-14T13:26:25.057425Z"
    }
   },
   "outputs": [
    {
     "name": "stdout",
     "output_type": "stream",
     "text": [
      "0 category will be added at 232 index with length 1\n",
      "before [10 10 10 10 10 10 10 10 10 10 10 10 10 10 10 10 10 10 10 10 10]\n",
      "after  [10 10 10 10 10 10 10 10 10 10  0 10 10 10 10 10 10 10 10 10 10]\n"
     ]
    }
   ],
   "source": [
    "test = copy.deepcopy(labels[0])\n",
    "token_n = token_n_list[0]\n",
    "\n",
    "# padding\n",
    "test[token_n:] = -1\n",
    "\n",
    "# place where zero class will be assigned\n",
    "zero_n = random.randint(1, 5)\n",
    "zero_start_i = random.randint(1, token_n - 1)\n",
    "zero_end_i = min(zero_start_i + zero_n, token_n - 1)\n",
    "\n",
    "# place that will be printed\n",
    "print_start_i = max(zero_start_i - 10, 0)\n",
    "print_end_i = min(zero_end_i + 10, token_n - 1)\n",
    "\n",
    "print(f'0 category will be added at {zero_start_i} index with length {zero_n}')\n",
    "print(f'before {test[print_start_i:print_end_i]}')\n",
    "\n",
    "# augmentation\n",
    "test[zero_start_i:zero_end_i] = 0\n",
    "\n",
    "print(f'after  {test[print_start_i:print_end_i]}')"
   ]
  },
  {
   "cell_type": "markdown",
   "id": "3469ff8d",
   "metadata": {},
   "source": [
    "### Replacing category randomly by any category (length is 30 - 100)"
   ]
  },
  {
   "cell_type": "code",
   "execution_count": 6,
   "id": "7ed86a04",
   "metadata": {
    "ExecuteTime": {
     "end_time": "2022-03-14T13:26:25.075338Z",
     "start_time": "2022-03-14T13:26:25.062058Z"
    }
   },
   "outputs": [
    {
     "name": "stdout",
     "output_type": "stream",
     "text": [
      "category replacement will be happend at 81 times\n",
      "showing at index 149\n",
      "before [6 6 6 6 6 6 6 6 6 6 6 6 6 6 6 6 6 6 6 6]\n",
      "after  [ 6  6 12  6  6  6  6  6  5  1 12  6  8  6  6  2  6 10  8  6]\n"
     ]
    }
   ],
   "source": [
    "test = copy.deepcopy(labels[0])\n",
    "token_n = token_n_list[0]\n",
    "\n",
    "# padding\n",
    "test[token_n:] = -1\n",
    "\n",
    "# place where zero class will be assigned\n",
    "replace_n = random.randint(30, 100)\n",
    "replace_idx = np.random.choice(range(1, token_n - 1), size=replace_n, replace=False)\n",
    "replace_cats = np.random.choice(range(0, 15), size=replace_n, replace=True)\n",
    "\n",
    "# place that will be printed\n",
    "print_start_i = max(replace_idx[0] - 10, 0)\n",
    "print_end_i = min(replace_idx[0] + 10, token_n - 1)\n",
    "\n",
    "print(f'category replacement will be happend at {replace_n} times')\n",
    "print(f'showing at index {print_start_i}')\n",
    "print(f'before {test[print_start_i:print_end_i]}')\n",
    "\n",
    "# augmentation\n",
    "test[replace_idx] = replace_cats\n",
    "\n",
    "print(f'after  {test[print_start_i:print_end_i]}')"
   ]
  },
  {
   "cell_type": "markdown",
   "id": "4e7e08ff",
   "metadata": {},
   "source": [
    "### Replace starting category as even number (ex: 122 -> 222)"
   ]
  },
  {
   "cell_type": "code",
   "execution_count": 7,
   "id": "5e8227b3",
   "metadata": {
    "ExecuteTime": {
     "end_time": "2022-03-14T13:26:25.093466Z",
     "start_time": "2022-03-14T13:26:25.076628Z"
    }
   },
   "outputs": [
    {
     "name": "stdout",
     "output_type": "stream",
     "text": [
      "total 5 will be replaced\n",
      "example: category 3 will be replaced to 4\n",
      "before [2 2 2 2 0 3 4 4 4 4]\n",
      "after  [2 2 2 2 0 4 4 4 4 4]\n"
     ]
    }
   ],
   "source": [
    "test = copy.deepcopy(labels[0])\n",
    "token_n = token_n_list[0]\n",
    "\n",
    "# padding\n",
    "test[token_n:] = -1\n",
    "\n",
    "# place where odd category exist\n",
    "odd_category = [1, 3, 5, 7, 9, 11, 13]\n",
    "\n",
    "odd_cat_idx = [i for i, category in enumerate(test) if category in odd_category]\n",
    "replace_n = random.randint(1, len(odd_cat_idx))\n",
    "odd_cat_idx = np.random.choice(odd_cat_idx, size=replace_n, replace=False)\n",
    "\n",
    "# place that will be printed\n",
    "print_start_i = max(odd_cat_idx[0] - 5, 0)\n",
    "print_end_i = min(odd_cat_idx[0] + 5, token_n - 1)\n",
    "\n",
    "print(f'total {replace_n} will be replaced')\n",
    "print(f'example: category {test[odd_cat_idx[0]]} will be replaced to {test[odd_cat_idx[0]] + 1}')\n",
    "print(f'before {test[print_start_i:print_end_i]}')\n",
    "\n",
    "# augmentation\n",
    "test[odd_cat_idx] += 1\n",
    "\n",
    "print(f'after  {test[print_start_i:print_end_i]}')"
   ]
  },
  {
   "cell_type": "markdown",
   "id": "f532ec61",
   "metadata": {},
   "source": [
    "### Replace starting category to different category (ex: 122 -> 322)"
   ]
  },
  {
   "cell_type": "code",
   "execution_count": 8,
   "id": "4ddec7f4",
   "metadata": {
    "ExecuteTime": {
     "end_time": "2022-03-14T13:26:25.109478Z",
     "start_time": "2022-03-14T13:26:25.094730Z"
    }
   },
   "outputs": [
    {
     "name": "stdout",
     "output_type": "stream",
     "text": [
      "total 3 will be replaced\n",
      "category 3 will be replaced to 11\n",
      "before [2 2 2 2 0 3 4 4 4 4]\n",
      "after  [ 2  2  2  2  0 11  4  4  4  4]\n"
     ]
    }
   ],
   "source": [
    "test = copy.deepcopy(labels[0])\n",
    "token_n = token_n_list[0]\n",
    "\n",
    "# padding\n",
    "test[token_n:] = -1\n",
    "\n",
    "# place where odd category exist\n",
    "odd_category = [1, 3, 5, 7, 9, 11, 13]\n",
    "odd_cat_idx = [i for i, category in enumerate(test) if category in odd_category]\n",
    "\n",
    "replace_n = random.randint(1, len(odd_cat_idx))\n",
    "odd_cat_idx = np.random.choice(odd_cat_idx, size=replace_n, replace=False)\n",
    "\n",
    "replace_cats = []\n",
    "for odd_cat_i in odd_cat_idx:\n",
    "    current_cat = test[odd_cat_i]\n",
    "    odd_sample = copy.deepcopy(odd_category)\n",
    "    odd_sample.remove(current_cat)\n",
    "    replace_cats.append(random.choice(odd_sample))\n",
    "    \n",
    "replace_cats = np.array(replace_cats)\n",
    "\n",
    "# place that will be printed\n",
    "print_start_i = max(odd_cat_idx[0] - 5, 0)\n",
    "print_end_i = min(odd_cat_idx[0] + 5, token_n - 1)\n",
    "\n",
    "print(f'total {replace_n} will be replaced')\n",
    "print(f'category {test[odd_cat_idx[0]]} will be replaced to {replace_cats[0]}')\n",
    "print(f'before {test[print_start_i:print_end_i]}')\n",
    "\n",
    "# augmentation\n",
    "test[odd_cat_idx] = replace_cats\n",
    "\n",
    "print(f'after  {test[print_start_i:print_end_i]}')"
   ]
  },
  {
   "cell_type": "markdown",
   "id": "fbbc7309",
   "metadata": {},
   "source": [
    "## Dataset"
   ]
  },
  {
   "cell_type": "code",
   "execution_count": 9,
   "id": "09bbd3d3",
   "metadata": {
    "ExecuteTime": {
     "end_time": "2022-03-14T13:26:25.126059Z",
     "start_time": "2022-03-14T13:26:25.111489Z"
    }
   },
   "outputs": [],
   "source": [
    "class CategoryDataset(torch.utils.data.Dataset):\n",
    "    def __init__(self, labels, token_n_list):\n",
    "        self.labels = labels\n",
    "        self.token_n_list = token_n_list\n",
    "        \n",
    "        self.odd_category = [1, 3, 5, 7, 9, 11, 13]\n",
    "\n",
    "    def replace_with_zero(self, label, token_n):\n",
    "        \"\"\"\"\"\"\n",
    "        zero_n = random.randint(1, 5)\n",
    "        zero_start_i = random.randint(1, token_n - 1)\n",
    "        zero_end_i = min(zero_start_i + zero_n, token_n - 1)\n",
    "        \n",
    "        label[zero_start_i:zero_end_i] = 0\n",
    "        \n",
    "        return label\n",
    "    \n",
    "    def b_to_i_label(self, label, token_n):\n",
    "        \"\"\"\"\"\"\n",
    "        odd_cat_idx = [i for i, category in enumerate(label) if category in self.odd_category]\n",
    "        if len(odd_cat_idx) == 0:\n",
    "            return label\n",
    "\n",
    "        replace_n = random.randint(1, len(odd_cat_idx))\n",
    "        odd_cat_idx = np.random.choice(odd_cat_idx, size=replace_n, replace=False)\n",
    "\n",
    "        label[odd_cat_idx] += 1\n",
    "        \n",
    "        return label\n",
    "    \n",
    "    def replace_b_label(self, label, token_n):\n",
    "        \"\"\"\"\"\"\n",
    "        odd_cat_idx = [i for i, category in enumerate(label) if category in self.odd_category]\n",
    "        if len(odd_cat_idx) == 0:\n",
    "            return label\n",
    "\n",
    "        replace_n = random.randint(1, len(odd_cat_idx))\n",
    "        odd_cat_idx = np.random.choice(odd_cat_idx, size=replace_n, replace=False)\n",
    "\n",
    "        replace_cats = []\n",
    "        for odd_cat_i in odd_cat_idx:\n",
    "            current_cat = label[odd_cat_i]\n",
    "            odd_sample = copy.deepcopy(self.odd_category)\n",
    "            odd_sample.remove(current_cat)\n",
    "            replace_cats.append(random.choice(odd_sample))\n",
    "\n",
    "        replace_cats = np.array(replace_cats)\n",
    "\n",
    "        # augmentation\n",
    "        label[odd_cat_idx] = replace_cats\n",
    "        \n",
    "        return label\n",
    "    \n",
    "    def replace_with_random_label(self, label, token_n):\n",
    "        \"\"\"\"\"\"\n",
    "        replace_n = random.randint(30, 100)\n",
    "        replace_idx = np.random.choice(range(1, token_n - 1), size=replace_n, replace=False)\n",
    "        replace_cats = np.random.choice(range(0, 15), size=replace_n, replace=True)\n",
    "\n",
    "        label[replace_idx] = replace_cats\n",
    "\n",
    "        return label\n",
    "        \n",
    "    def __getitem__(self, idx):\n",
    "        targets = copy.deepcopy(self.labels[idx])\n",
    "        inputs = copy.deepcopy(targets)\n",
    "        token_n = self.token_n_list[idx]\n",
    "        \n",
    "        # padding\n",
    "        inputs[token_n:] = 15\n",
    "        targets[token_n:] = 15\n",
    "\n",
    "        # augmentation\n",
    "        inputs = self.replace_with_zero(inputs, token_n)\n",
    "        inputs = self.b_to_i_label(inputs, token_n)\n",
    "        inputs = self.replace_b_label(inputs, token_n)\n",
    "        inputs = self.replace_with_random_label(inputs, token_n)\n",
    "        \n",
    "        return inputs, targets\n",
    "\n",
    "    def __len__(self):\n",
    "        return len(self.labels)"
   ]
  },
  {
   "cell_type": "markdown",
   "id": "cd4460ad",
   "metadata": {},
   "source": [
    "## Model"
   ]
  },
  {
   "cell_type": "code",
   "execution_count": 62,
   "id": "c0ec87ae",
   "metadata": {
    "ExecuteTime": {
     "end_time": "2022-03-14T13:58:13.161477Z",
     "start_time": "2022-03-14T13:58:13.153013Z"
    }
   },
   "outputs": [],
   "source": [
    "class Callibration(nn.Module):\n",
    "    def __init__(self,\n",
    "                 hidden_size=128,\n",
    "                 n_layers=2,\n",
    "                 device='cuda:0'):\n",
    "        super().__init__()\n",
    "        \n",
    "        self.hidden_size = hidden_size\n",
    "        self.n_layers = n_layers\n",
    "        self.device = device\n",
    "\n",
    "        self.embedding = nn.Embedding(16, hidden_size, padding_idx=15)\n",
    "        self.lstm = nn.LSTM(hidden_size,\n",
    "                            hidden_size,\n",
    "                            n_layers,\n",
    "                            bidirectional=True,\n",
    "                            batch_first=True)\n",
    "        self.fc = nn.Linear(hidden_size * 2, 16)\n",
    "        \n",
    "    def init_hidden(self, batch_size):\n",
    "        h = torch.zeros(self.n_layers * 2, batch_size, self.hidden_size)\n",
    "        h = h.to(self.device)\n",
    "\n",
    "        c = torch.zeros(self.n_layers * 2, batch_size, self.hidden_size)\n",
    "        c = c.to(self.device)\n",
    "\n",
    "        return (h, c)\n",
    "\n",
    "    def forward(self, x):\n",
    "        batch_size, seq_len = x.size()\n",
    "        out = self.embedding(x)\n",
    "        \n",
    "        hidden = self.init_hidden(batch_size)\n",
    "        out, hidden = self.lstm(out, hidden)\n",
    "        \n",
    "        out = out.contiguous().view(batch_size, -1, self.hidden_size * 2)\n",
    "        out = self.fc(out)\n",
    "        \n",
    "        return out"
   ]
  },
  {
   "cell_type": "markdown",
   "id": "a66ccfa4",
   "metadata": {},
   "source": [
    "## Train"
   ]
  },
  {
   "cell_type": "code",
   "execution_count": 31,
   "id": "b51d83fb",
   "metadata": {
    "ExecuteTime": {
     "end_time": "2022-03-14T13:39:38.937989Z",
     "start_time": "2022-03-14T13:39:38.936336Z"
    }
   },
   "outputs": [],
   "source": [
    "batch_size = 32\n",
    "device = 'cuda:0'"
   ]
  },
  {
   "cell_type": "code",
   "execution_count": 32,
   "id": "c7103636",
   "metadata": {
    "ExecuteTime": {
     "end_time": "2022-03-14T13:39:39.213770Z",
     "start_time": "2022-03-14T13:39:39.210781Z"
    }
   },
   "outputs": [],
   "source": [
    "train_dataset = CategoryDataset(labels, token_n_list)\n",
    "train_dataloader = DataLoader(train_dataset, batch_size=batch_size, shuffle=True)"
   ]
  },
  {
   "cell_type": "code",
   "execution_count": 63,
   "id": "ad829e19",
   "metadata": {
    "ExecuteTime": {
     "end_time": "2022-03-14T14:08:48.974214Z",
     "start_time": "2022-03-14T13:58:15.244942Z"
    },
    "scrolled": true
   },
   "outputs": [
    {
     "data": {
      "application/vnd.jupyter.widget-view+json": {
       "model_id": "c23ed8f8a3724763ab6011a5a1efe444",
       "version_major": 2,
       "version_minor": 0
      },
      "text/plain": [
       "  0%|          | 0/488 [00:00<?, ?it/s]"
      ]
     },
     "metadata": {},
     "output_type": "display_data"
    },
    {
     "name": "stdout",
     "output_type": "stream",
     "text": [
      "[ TRAIN ] epoch 1 loss: 1.2471\n",
      "[ TRAIN ] epoch 1 loss: 0.6721\n",
      "[ TRAIN ] epoch 1 loss: 0.4638\n",
      "[ TRAIN ] epoch 1 loss: 0.3554\n",
      "[ TRAIN ] epoch 1 loss: 0.2892\n",
      "[ TRAIN ] epoch 1 loss: 0.2444\n",
      "[ TRAIN ] epoch 1 loss: 0.2122\n",
      "[ TRAIN ] epoch 1 loss: 0.1879\n",
      "[ TRAIN ] epoch 1 loss: 0.1689\n",
      "[ TRAIN ] epoch 1 loss: 0.1535\n",
      "[ TRAIN ] epoch 1 loss: 0.1409\n",
      "[ TRAIN ] epoch 1 loss: 0.1303\n",
      "[ TRAIN ] epoch 1 loss: 0.1213\n",
      "[ TRAIN ] epoch 1 loss: 0.1135\n",
      "[ TRAIN ] epoch 1 loss: 0.1068\n",
      "[ TRAIN ] epoch 1 loss: 0.1008\n",
      "[ TRAIN ] epoch 1 loss: 0.0956\n",
      "[ TRAIN ] epoch 1 loss: 0.0909\n",
      "[ TRAIN ] epoch 1 loss: 0.0867\n",
      "[ TRAIN ] epoch 1 loss: 0.0829\n",
      "[ TRAIN ] epoch 1 loss: 0.0795\n",
      "[ TRAIN ] epoch 1 loss: 0.0764\n",
      "[ TRAIN ] epoch 1 loss: 0.0735\n",
      "[ TRAIN ] epoch 1 loss: 0.0708\n"
     ]
    },
    {
     "data": {
      "application/vnd.jupyter.widget-view+json": {
       "model_id": "50f1ba030a1040beb3a12006650ebe05",
       "version_major": 2,
       "version_minor": 0
      },
      "text/plain": [
       "  0%|          | 0/488 [00:00<?, ?it/s]"
      ]
     },
     "metadata": {},
     "output_type": "display_data"
    },
    {
     "name": "stdout",
     "output_type": "stream",
     "text": [
      "[ TRAIN ] epoch 2 loss: 0.0100\n",
      "[ TRAIN ] epoch 2 loss: 0.0100\n",
      "[ TRAIN ] epoch 2 loss: 0.0098\n",
      "[ TRAIN ] epoch 2 loss: 0.0097\n",
      "[ TRAIN ] epoch 2 loss: 0.0096\n",
      "[ TRAIN ] epoch 2 loss: 0.0096\n",
      "[ TRAIN ] epoch 2 loss: 0.0095\n",
      "[ TRAIN ] epoch 2 loss: 0.0094\n",
      "[ TRAIN ] epoch 2 loss: 0.0093\n",
      "[ TRAIN ] epoch 2 loss: 0.0093\n",
      "[ TRAIN ] epoch 2 loss: 0.0093\n",
      "[ TRAIN ] epoch 2 loss: 0.0092\n",
      "[ TRAIN ] epoch 2 loss: 0.0092\n",
      "[ TRAIN ] epoch 2 loss: 0.0091\n",
      "[ TRAIN ] epoch 2 loss: 0.0091\n",
      "[ TRAIN ] epoch 2 loss: 0.0090\n",
      "[ TRAIN ] epoch 2 loss: 0.0090\n",
      "[ TRAIN ] epoch 2 loss: 0.0090\n",
      "[ TRAIN ] epoch 2 loss: 0.0090\n",
      "[ TRAIN ] epoch 2 loss: 0.0089\n",
      "[ TRAIN ] epoch 2 loss: 0.0089\n",
      "[ TRAIN ] epoch 2 loss: 0.0089\n",
      "[ TRAIN ] epoch 2 loss: 0.0088\n",
      "[ TRAIN ] epoch 2 loss: 0.0088\n"
     ]
    },
    {
     "data": {
      "application/vnd.jupyter.widget-view+json": {
       "model_id": "b3aea979a9fb47abbda4e96d2ab02d7e",
       "version_major": 2,
       "version_minor": 0
      },
      "text/plain": [
       "  0%|          | 0/488 [00:00<?, ?it/s]"
      ]
     },
     "metadata": {},
     "output_type": "display_data"
    },
    {
     "name": "stdout",
     "output_type": "stream",
     "text": [
      "[ TRAIN ] epoch 3 loss: 0.0084\n",
      "[ TRAIN ] epoch 3 loss: 0.0082\n",
      "[ TRAIN ] epoch 3 loss: 0.0081\n",
      "[ TRAIN ] epoch 3 loss: 0.0080\n",
      "[ TRAIN ] epoch 3 loss: 0.0080\n",
      "[ TRAIN ] epoch 3 loss: 0.0080\n",
      "[ TRAIN ] epoch 3 loss: 0.0080\n",
      "[ TRAIN ] epoch 3 loss: 0.0079\n",
      "[ TRAIN ] epoch 3 loss: 0.0079\n",
      "[ TRAIN ] epoch 3 loss: 0.0079\n",
      "[ TRAIN ] epoch 3 loss: 0.0079\n",
      "[ TRAIN ] epoch 3 loss: 0.0079\n",
      "[ TRAIN ] epoch 3 loss: 0.0079\n",
      "[ TRAIN ] epoch 3 loss: 0.0079\n",
      "[ TRAIN ] epoch 3 loss: 0.0079\n",
      "[ TRAIN ] epoch 3 loss: 0.0079\n",
      "[ TRAIN ] epoch 3 loss: 0.0079\n",
      "[ TRAIN ] epoch 3 loss: 0.0079\n",
      "[ TRAIN ] epoch 3 loss: 0.0079\n",
      "[ TRAIN ] epoch 3 loss: 0.0079\n",
      "[ TRAIN ] epoch 3 loss: 0.0079\n",
      "[ TRAIN ] epoch 3 loss: 0.0079\n",
      "[ TRAIN ] epoch 3 loss: 0.0079\n",
      "[ TRAIN ] epoch 3 loss: 0.0079\n"
     ]
    },
    {
     "data": {
      "application/vnd.jupyter.widget-view+json": {
       "model_id": "ff0a710016944b64b9bac87ba0fd7db5",
       "version_major": 2,
       "version_minor": 0
      },
      "text/plain": [
       "  0%|          | 0/488 [00:00<?, ?it/s]"
      ]
     },
     "metadata": {},
     "output_type": "display_data"
    },
    {
     "name": "stdout",
     "output_type": "stream",
     "text": [
      "[ TRAIN ] epoch 4 loss: 0.0078\n",
      "[ TRAIN ] epoch 4 loss: 0.0076\n",
      "[ TRAIN ] epoch 4 loss: 0.0075\n",
      "[ TRAIN ] epoch 4 loss: 0.0075\n"
     ]
    },
    {
     "ename": "KeyboardInterrupt",
     "evalue": "",
     "output_type": "error",
     "traceback": [
      "\u001b[0;31m---------------------------------------------------------------------------\u001b[0m",
      "\u001b[0;31mKeyboardInterrupt\u001b[0m                         Traceback (most recent call last)",
      "\u001b[0;32m/tmp/ipykernel_3873474/880072878.py\u001b[0m in \u001b[0;36m<module>\u001b[0;34m\u001b[0m\n\u001b[1;32m      5\u001b[0m \u001b[0;32mfor\u001b[0m \u001b[0mepoch\u001b[0m \u001b[0;32min\u001b[0m \u001b[0mrange\u001b[0m\u001b[0;34m(\u001b[0m\u001b[0;36m10\u001b[0m\u001b[0;34m)\u001b[0m\u001b[0;34m:\u001b[0m\u001b[0;34m\u001b[0m\u001b[0;34m\u001b[0m\u001b[0m\n\u001b[1;32m      6\u001b[0m     \u001b[0mlosses\u001b[0m \u001b[0;34m=\u001b[0m \u001b[0;34m[\u001b[0m\u001b[0;34m]\u001b[0m\u001b[0;34m\u001b[0m\u001b[0;34m\u001b[0m\u001b[0m\n\u001b[0;32m----> 7\u001b[0;31m     \u001b[0;32mfor\u001b[0m \u001b[0mstep\u001b[0m\u001b[0;34m,\u001b[0m \u001b[0;34m(\u001b[0m\u001b[0minputs\u001b[0m\u001b[0;34m,\u001b[0m \u001b[0mtargets\u001b[0m\u001b[0;34m)\u001b[0m \u001b[0;32min\u001b[0m \u001b[0mtqdm\u001b[0m\u001b[0;34m(\u001b[0m\u001b[0menumerate\u001b[0m\u001b[0;34m(\u001b[0m\u001b[0mtrain_dataloader\u001b[0m\u001b[0;34m)\u001b[0m\u001b[0;34m,\u001b[0m \u001b[0mtotal\u001b[0m\u001b[0;34m=\u001b[0m\u001b[0mlen\u001b[0m\u001b[0;34m(\u001b[0m\u001b[0mtrain_dataloader\u001b[0m\u001b[0;34m)\u001b[0m\u001b[0;34m)\u001b[0m\u001b[0;34m:\u001b[0m\u001b[0;34m\u001b[0m\u001b[0;34m\u001b[0m\u001b[0m\n\u001b[0m\u001b[1;32m      8\u001b[0m         \u001b[0minputs\u001b[0m \u001b[0;34m=\u001b[0m \u001b[0minputs\u001b[0m\u001b[0;34m.\u001b[0m\u001b[0mto\u001b[0m\u001b[0;34m(\u001b[0m\u001b[0mdevice\u001b[0m\u001b[0;34m)\u001b[0m\u001b[0;34m\u001b[0m\u001b[0;34m\u001b[0m\u001b[0m\n\u001b[1;32m      9\u001b[0m         \u001b[0mtargets\u001b[0m \u001b[0;34m=\u001b[0m \u001b[0mtargets\u001b[0m\u001b[0;34m.\u001b[0m\u001b[0mto\u001b[0m\u001b[0;34m(\u001b[0m\u001b[0mdevice\u001b[0m\u001b[0;34m)\u001b[0m\u001b[0;34m\u001b[0m\u001b[0;34m\u001b[0m\u001b[0m\n",
      "\u001b[0;32m/opt/conda/lib/python3.7/site-packages/tqdm/notebook.py\u001b[0m in \u001b[0;36m__iter__\u001b[0;34m(self)\u001b[0m\n\u001b[1;32m    255\u001b[0m     \u001b[0;32mdef\u001b[0m \u001b[0m__iter__\u001b[0m\u001b[0;34m(\u001b[0m\u001b[0mself\u001b[0m\u001b[0;34m)\u001b[0m\u001b[0;34m:\u001b[0m\u001b[0;34m\u001b[0m\u001b[0;34m\u001b[0m\u001b[0m\n\u001b[1;32m    256\u001b[0m         \u001b[0;32mtry\u001b[0m\u001b[0;34m:\u001b[0m\u001b[0;34m\u001b[0m\u001b[0;34m\u001b[0m\u001b[0m\n\u001b[0;32m--> 257\u001b[0;31m             \u001b[0;32mfor\u001b[0m \u001b[0mobj\u001b[0m \u001b[0;32min\u001b[0m \u001b[0msuper\u001b[0m\u001b[0;34m(\u001b[0m\u001b[0mtqdm_notebook\u001b[0m\u001b[0;34m,\u001b[0m \u001b[0mself\u001b[0m\u001b[0;34m)\u001b[0m\u001b[0;34m.\u001b[0m\u001b[0m__iter__\u001b[0m\u001b[0;34m(\u001b[0m\u001b[0;34m)\u001b[0m\u001b[0;34m:\u001b[0m\u001b[0;34m\u001b[0m\u001b[0;34m\u001b[0m\u001b[0m\n\u001b[0m\u001b[1;32m    258\u001b[0m                 \u001b[0;31m# return super(tqdm...) will not catch exception\u001b[0m\u001b[0;34m\u001b[0m\u001b[0;34m\u001b[0m\u001b[0;34m\u001b[0m\u001b[0m\n\u001b[1;32m    259\u001b[0m                 \u001b[0;32myield\u001b[0m \u001b[0mobj\u001b[0m\u001b[0;34m\u001b[0m\u001b[0;34m\u001b[0m\u001b[0m\n",
      "\u001b[0;32m/opt/conda/lib/python3.7/site-packages/tqdm/std.py\u001b[0m in \u001b[0;36m__iter__\u001b[0;34m(self)\u001b[0m\n\u001b[1;32m   1178\u001b[0m \u001b[0;34m\u001b[0m\u001b[0m\n\u001b[1;32m   1179\u001b[0m         \u001b[0;32mtry\u001b[0m\u001b[0;34m:\u001b[0m\u001b[0;34m\u001b[0m\u001b[0;34m\u001b[0m\u001b[0m\n\u001b[0;32m-> 1180\u001b[0;31m             \u001b[0;32mfor\u001b[0m \u001b[0mobj\u001b[0m \u001b[0;32min\u001b[0m \u001b[0miterable\u001b[0m\u001b[0;34m:\u001b[0m\u001b[0;34m\u001b[0m\u001b[0;34m\u001b[0m\u001b[0m\n\u001b[0m\u001b[1;32m   1181\u001b[0m                 \u001b[0;32myield\u001b[0m \u001b[0mobj\u001b[0m\u001b[0;34m\u001b[0m\u001b[0;34m\u001b[0m\u001b[0m\n\u001b[1;32m   1182\u001b[0m                 \u001b[0;31m# Update and possibly print the progressbar.\u001b[0m\u001b[0;34m\u001b[0m\u001b[0;34m\u001b[0m\u001b[0;34m\u001b[0m\u001b[0m\n",
      "\u001b[0;32m/opt/conda/lib/python3.7/site-packages/torch/utils/data/dataloader.py\u001b[0m in \u001b[0;36m__next__\u001b[0;34m(self)\u001b[0m\n\u001b[1;32m    515\u001b[0m             \u001b[0;32mif\u001b[0m \u001b[0mself\u001b[0m\u001b[0;34m.\u001b[0m\u001b[0m_sampler_iter\u001b[0m \u001b[0;32mis\u001b[0m \u001b[0;32mNone\u001b[0m\u001b[0;34m:\u001b[0m\u001b[0;34m\u001b[0m\u001b[0;34m\u001b[0m\u001b[0m\n\u001b[1;32m    516\u001b[0m                 \u001b[0mself\u001b[0m\u001b[0;34m.\u001b[0m\u001b[0m_reset\u001b[0m\u001b[0;34m(\u001b[0m\u001b[0;34m)\u001b[0m\u001b[0;34m\u001b[0m\u001b[0;34m\u001b[0m\u001b[0m\n\u001b[0;32m--> 517\u001b[0;31m             \u001b[0mdata\u001b[0m \u001b[0;34m=\u001b[0m \u001b[0mself\u001b[0m\u001b[0;34m.\u001b[0m\u001b[0m_next_data\u001b[0m\u001b[0;34m(\u001b[0m\u001b[0;34m)\u001b[0m\u001b[0;34m\u001b[0m\u001b[0;34m\u001b[0m\u001b[0m\n\u001b[0m\u001b[1;32m    518\u001b[0m             \u001b[0mself\u001b[0m\u001b[0;34m.\u001b[0m\u001b[0m_num_yielded\u001b[0m \u001b[0;34m+=\u001b[0m \u001b[0;36m1\u001b[0m\u001b[0;34m\u001b[0m\u001b[0;34m\u001b[0m\u001b[0m\n\u001b[1;32m    519\u001b[0m             \u001b[0;32mif\u001b[0m \u001b[0mself\u001b[0m\u001b[0;34m.\u001b[0m\u001b[0m_dataset_kind\u001b[0m \u001b[0;34m==\u001b[0m \u001b[0m_DatasetKind\u001b[0m\u001b[0;34m.\u001b[0m\u001b[0mIterable\u001b[0m \u001b[0;32mand\u001b[0m\u001b[0;31m \u001b[0m\u001b[0;31m\\\u001b[0m\u001b[0;34m\u001b[0m\u001b[0;34m\u001b[0m\u001b[0m\n",
      "\u001b[0;32m/opt/conda/lib/python3.7/site-packages/torch/utils/data/dataloader.py\u001b[0m in \u001b[0;36m_next_data\u001b[0;34m(self)\u001b[0m\n\u001b[1;32m    555\u001b[0m     \u001b[0;32mdef\u001b[0m \u001b[0m_next_data\u001b[0m\u001b[0;34m(\u001b[0m\u001b[0mself\u001b[0m\u001b[0;34m)\u001b[0m\u001b[0;34m:\u001b[0m\u001b[0;34m\u001b[0m\u001b[0;34m\u001b[0m\u001b[0m\n\u001b[1;32m    556\u001b[0m         \u001b[0mindex\u001b[0m \u001b[0;34m=\u001b[0m \u001b[0mself\u001b[0m\u001b[0;34m.\u001b[0m\u001b[0m_next_index\u001b[0m\u001b[0;34m(\u001b[0m\u001b[0;34m)\u001b[0m  \u001b[0;31m# may raise StopIteration\u001b[0m\u001b[0;34m\u001b[0m\u001b[0;34m\u001b[0m\u001b[0m\n\u001b[0;32m--> 557\u001b[0;31m         \u001b[0mdata\u001b[0m \u001b[0;34m=\u001b[0m \u001b[0mself\u001b[0m\u001b[0;34m.\u001b[0m\u001b[0m_dataset_fetcher\u001b[0m\u001b[0;34m.\u001b[0m\u001b[0mfetch\u001b[0m\u001b[0;34m(\u001b[0m\u001b[0mindex\u001b[0m\u001b[0;34m)\u001b[0m  \u001b[0;31m# may raise StopIteration\u001b[0m\u001b[0;34m\u001b[0m\u001b[0;34m\u001b[0m\u001b[0m\n\u001b[0m\u001b[1;32m    558\u001b[0m         \u001b[0;32mif\u001b[0m \u001b[0mself\u001b[0m\u001b[0;34m.\u001b[0m\u001b[0m_pin_memory\u001b[0m\u001b[0;34m:\u001b[0m\u001b[0;34m\u001b[0m\u001b[0;34m\u001b[0m\u001b[0m\n\u001b[1;32m    559\u001b[0m             \u001b[0mdata\u001b[0m \u001b[0;34m=\u001b[0m \u001b[0m_utils\u001b[0m\u001b[0;34m.\u001b[0m\u001b[0mpin_memory\u001b[0m\u001b[0;34m.\u001b[0m\u001b[0mpin_memory\u001b[0m\u001b[0;34m(\u001b[0m\u001b[0mdata\u001b[0m\u001b[0;34m)\u001b[0m\u001b[0;34m\u001b[0m\u001b[0;34m\u001b[0m\u001b[0m\n",
      "\u001b[0;32m/opt/conda/lib/python3.7/site-packages/torch/utils/data/_utils/fetch.py\u001b[0m in \u001b[0;36mfetch\u001b[0;34m(self, possibly_batched_index)\u001b[0m\n\u001b[1;32m     42\u001b[0m     \u001b[0;32mdef\u001b[0m \u001b[0mfetch\u001b[0m\u001b[0;34m(\u001b[0m\u001b[0mself\u001b[0m\u001b[0;34m,\u001b[0m \u001b[0mpossibly_batched_index\u001b[0m\u001b[0;34m)\u001b[0m\u001b[0;34m:\u001b[0m\u001b[0;34m\u001b[0m\u001b[0;34m\u001b[0m\u001b[0m\n\u001b[1;32m     43\u001b[0m         \u001b[0;32mif\u001b[0m \u001b[0mself\u001b[0m\u001b[0;34m.\u001b[0m\u001b[0mauto_collation\u001b[0m\u001b[0;34m:\u001b[0m\u001b[0;34m\u001b[0m\u001b[0;34m\u001b[0m\u001b[0m\n\u001b[0;32m---> 44\u001b[0;31m             \u001b[0mdata\u001b[0m \u001b[0;34m=\u001b[0m \u001b[0;34m[\u001b[0m\u001b[0mself\u001b[0m\u001b[0;34m.\u001b[0m\u001b[0mdataset\u001b[0m\u001b[0;34m[\u001b[0m\u001b[0midx\u001b[0m\u001b[0;34m]\u001b[0m \u001b[0;32mfor\u001b[0m \u001b[0midx\u001b[0m \u001b[0;32min\u001b[0m \u001b[0mpossibly_batched_index\u001b[0m\u001b[0;34m]\u001b[0m\u001b[0;34m\u001b[0m\u001b[0;34m\u001b[0m\u001b[0m\n\u001b[0m\u001b[1;32m     45\u001b[0m         \u001b[0;32melse\u001b[0m\u001b[0;34m:\u001b[0m\u001b[0;34m\u001b[0m\u001b[0;34m\u001b[0m\u001b[0m\n\u001b[1;32m     46\u001b[0m             \u001b[0mdata\u001b[0m \u001b[0;34m=\u001b[0m \u001b[0mself\u001b[0m\u001b[0;34m.\u001b[0m\u001b[0mdataset\u001b[0m\u001b[0;34m[\u001b[0m\u001b[0mpossibly_batched_index\u001b[0m\u001b[0;34m]\u001b[0m\u001b[0;34m\u001b[0m\u001b[0;34m\u001b[0m\u001b[0m\n",
      "\u001b[0;32m/opt/conda/lib/python3.7/site-packages/torch/utils/data/_utils/fetch.py\u001b[0m in \u001b[0;36m<listcomp>\u001b[0;34m(.0)\u001b[0m\n\u001b[1;32m     42\u001b[0m     \u001b[0;32mdef\u001b[0m \u001b[0mfetch\u001b[0m\u001b[0;34m(\u001b[0m\u001b[0mself\u001b[0m\u001b[0;34m,\u001b[0m \u001b[0mpossibly_batched_index\u001b[0m\u001b[0;34m)\u001b[0m\u001b[0;34m:\u001b[0m\u001b[0;34m\u001b[0m\u001b[0;34m\u001b[0m\u001b[0m\n\u001b[1;32m     43\u001b[0m         \u001b[0;32mif\u001b[0m \u001b[0mself\u001b[0m\u001b[0;34m.\u001b[0m\u001b[0mauto_collation\u001b[0m\u001b[0;34m:\u001b[0m\u001b[0;34m\u001b[0m\u001b[0;34m\u001b[0m\u001b[0m\n\u001b[0;32m---> 44\u001b[0;31m             \u001b[0mdata\u001b[0m \u001b[0;34m=\u001b[0m \u001b[0;34m[\u001b[0m\u001b[0mself\u001b[0m\u001b[0;34m.\u001b[0m\u001b[0mdataset\u001b[0m\u001b[0;34m[\u001b[0m\u001b[0midx\u001b[0m\u001b[0;34m]\u001b[0m \u001b[0;32mfor\u001b[0m \u001b[0midx\u001b[0m \u001b[0;32min\u001b[0m \u001b[0mpossibly_batched_index\u001b[0m\u001b[0;34m]\u001b[0m\u001b[0;34m\u001b[0m\u001b[0;34m\u001b[0m\u001b[0m\n\u001b[0m\u001b[1;32m     45\u001b[0m         \u001b[0;32melse\u001b[0m\u001b[0;34m:\u001b[0m\u001b[0;34m\u001b[0m\u001b[0;34m\u001b[0m\u001b[0m\n\u001b[1;32m     46\u001b[0m             \u001b[0mdata\u001b[0m \u001b[0;34m=\u001b[0m \u001b[0mself\u001b[0m\u001b[0;34m.\u001b[0m\u001b[0mdataset\u001b[0m\u001b[0;34m[\u001b[0m\u001b[0mpossibly_batched_index\u001b[0m\u001b[0;34m]\u001b[0m\u001b[0;34m\u001b[0m\u001b[0;34m\u001b[0m\u001b[0m\n",
      "\u001b[0;32m/tmp/ipykernel_3873474/892776750.py\u001b[0m in \u001b[0;36m__getitem__\u001b[0;34m(self, idx)\u001b[0m\n\u001b[1;32m     73\u001b[0m         \u001b[0;31m# augmentation\u001b[0m\u001b[0;34m\u001b[0m\u001b[0;34m\u001b[0m\u001b[0;34m\u001b[0m\u001b[0m\n\u001b[1;32m     74\u001b[0m         \u001b[0minputs\u001b[0m \u001b[0;34m=\u001b[0m \u001b[0mself\u001b[0m\u001b[0;34m.\u001b[0m\u001b[0mreplace_with_zero\u001b[0m\u001b[0;34m(\u001b[0m\u001b[0minputs\u001b[0m\u001b[0;34m,\u001b[0m \u001b[0mtoken_n\u001b[0m\u001b[0;34m)\u001b[0m\u001b[0;34m\u001b[0m\u001b[0;34m\u001b[0m\u001b[0m\n\u001b[0;32m---> 75\u001b[0;31m         \u001b[0minputs\u001b[0m \u001b[0;34m=\u001b[0m \u001b[0mself\u001b[0m\u001b[0;34m.\u001b[0m\u001b[0mb_to_i_label\u001b[0m\u001b[0;34m(\u001b[0m\u001b[0minputs\u001b[0m\u001b[0;34m,\u001b[0m \u001b[0mtoken_n\u001b[0m\u001b[0;34m)\u001b[0m\u001b[0;34m\u001b[0m\u001b[0;34m\u001b[0m\u001b[0m\n\u001b[0m\u001b[1;32m     76\u001b[0m         \u001b[0minputs\u001b[0m \u001b[0;34m=\u001b[0m \u001b[0mself\u001b[0m\u001b[0;34m.\u001b[0m\u001b[0mreplace_b_label\u001b[0m\u001b[0;34m(\u001b[0m\u001b[0minputs\u001b[0m\u001b[0;34m,\u001b[0m \u001b[0mtoken_n\u001b[0m\u001b[0;34m)\u001b[0m\u001b[0;34m\u001b[0m\u001b[0;34m\u001b[0m\u001b[0m\n\u001b[1;32m     77\u001b[0m         \u001b[0minputs\u001b[0m \u001b[0;34m=\u001b[0m \u001b[0mself\u001b[0m\u001b[0;34m.\u001b[0m\u001b[0mreplace_with_random_label\u001b[0m\u001b[0;34m(\u001b[0m\u001b[0minputs\u001b[0m\u001b[0;34m,\u001b[0m \u001b[0mtoken_n\u001b[0m\u001b[0;34m)\u001b[0m\u001b[0;34m\u001b[0m\u001b[0;34m\u001b[0m\u001b[0m\n",
      "\u001b[0;32m/tmp/ipykernel_3873474/892776750.py\u001b[0m in \u001b[0;36mb_to_i_label\u001b[0;34m(self, label, token_n)\u001b[0m\n\u001b[1;32m     18\u001b[0m     \u001b[0;32mdef\u001b[0m \u001b[0mb_to_i_label\u001b[0m\u001b[0;34m(\u001b[0m\u001b[0mself\u001b[0m\u001b[0;34m,\u001b[0m \u001b[0mlabel\u001b[0m\u001b[0;34m,\u001b[0m \u001b[0mtoken_n\u001b[0m\u001b[0;34m)\u001b[0m\u001b[0;34m:\u001b[0m\u001b[0;34m\u001b[0m\u001b[0;34m\u001b[0m\u001b[0m\n\u001b[1;32m     19\u001b[0m         \u001b[0;34m\"\"\"\"\"\"\u001b[0m\u001b[0;34m\u001b[0m\u001b[0;34m\u001b[0m\u001b[0m\n\u001b[0;32m---> 20\u001b[0;31m         \u001b[0modd_cat_idx\u001b[0m \u001b[0;34m=\u001b[0m \u001b[0;34m[\u001b[0m\u001b[0mi\u001b[0m \u001b[0;32mfor\u001b[0m \u001b[0mi\u001b[0m\u001b[0;34m,\u001b[0m \u001b[0mcategory\u001b[0m \u001b[0;32min\u001b[0m \u001b[0menumerate\u001b[0m\u001b[0;34m(\u001b[0m\u001b[0mlabel\u001b[0m\u001b[0;34m)\u001b[0m \u001b[0;32mif\u001b[0m \u001b[0mcategory\u001b[0m \u001b[0;32min\u001b[0m \u001b[0mself\u001b[0m\u001b[0;34m.\u001b[0m\u001b[0modd_category\u001b[0m\u001b[0;34m]\u001b[0m\u001b[0;34m\u001b[0m\u001b[0;34m\u001b[0m\u001b[0m\n\u001b[0m\u001b[1;32m     21\u001b[0m         \u001b[0;32mif\u001b[0m \u001b[0mlen\u001b[0m\u001b[0;34m(\u001b[0m\u001b[0modd_cat_idx\u001b[0m\u001b[0;34m)\u001b[0m \u001b[0;34m==\u001b[0m \u001b[0;36m0\u001b[0m\u001b[0;34m:\u001b[0m\u001b[0;34m\u001b[0m\u001b[0;34m\u001b[0m\u001b[0m\n\u001b[1;32m     22\u001b[0m             \u001b[0;32mreturn\u001b[0m \u001b[0mlabel\u001b[0m\u001b[0;34m\u001b[0m\u001b[0;34m\u001b[0m\u001b[0m\n",
      "\u001b[0;32m/tmp/ipykernel_3873474/892776750.py\u001b[0m in \u001b[0;36m<listcomp>\u001b[0;34m(.0)\u001b[0m\n\u001b[1;32m     18\u001b[0m     \u001b[0;32mdef\u001b[0m \u001b[0mb_to_i_label\u001b[0m\u001b[0;34m(\u001b[0m\u001b[0mself\u001b[0m\u001b[0;34m,\u001b[0m \u001b[0mlabel\u001b[0m\u001b[0;34m,\u001b[0m \u001b[0mtoken_n\u001b[0m\u001b[0;34m)\u001b[0m\u001b[0;34m:\u001b[0m\u001b[0;34m\u001b[0m\u001b[0;34m\u001b[0m\u001b[0m\n\u001b[1;32m     19\u001b[0m         \u001b[0;34m\"\"\"\"\"\"\u001b[0m\u001b[0;34m\u001b[0m\u001b[0;34m\u001b[0m\u001b[0m\n\u001b[0;32m---> 20\u001b[0;31m         \u001b[0modd_cat_idx\u001b[0m \u001b[0;34m=\u001b[0m \u001b[0;34m[\u001b[0m\u001b[0mi\u001b[0m \u001b[0;32mfor\u001b[0m \u001b[0mi\u001b[0m\u001b[0;34m,\u001b[0m \u001b[0mcategory\u001b[0m \u001b[0;32min\u001b[0m \u001b[0menumerate\u001b[0m\u001b[0;34m(\u001b[0m\u001b[0mlabel\u001b[0m\u001b[0;34m)\u001b[0m \u001b[0;32mif\u001b[0m \u001b[0mcategory\u001b[0m \u001b[0;32min\u001b[0m \u001b[0mself\u001b[0m\u001b[0;34m.\u001b[0m\u001b[0modd_category\u001b[0m\u001b[0;34m]\u001b[0m\u001b[0;34m\u001b[0m\u001b[0;34m\u001b[0m\u001b[0m\n\u001b[0m\u001b[1;32m     21\u001b[0m         \u001b[0;32mif\u001b[0m \u001b[0mlen\u001b[0m\u001b[0;34m(\u001b[0m\u001b[0modd_cat_idx\u001b[0m\u001b[0;34m)\u001b[0m \u001b[0;34m==\u001b[0m \u001b[0;36m0\u001b[0m\u001b[0;34m:\u001b[0m\u001b[0;34m\u001b[0m\u001b[0;34m\u001b[0m\u001b[0m\n\u001b[1;32m     22\u001b[0m             \u001b[0;32mreturn\u001b[0m \u001b[0mlabel\u001b[0m\u001b[0;34m\u001b[0m\u001b[0;34m\u001b[0m\u001b[0m\n",
      "\u001b[0;31mKeyboardInterrupt\u001b[0m: "
     ]
    }
   ],
   "source": [
    "model = Callibration().to(device)\n",
    "criterion = nn.CrossEntropyLoss()\n",
    "optimizer = optim.Adam(model.parameters(), lr=0.001)\n",
    "\n",
    "for epoch in range(10):\n",
    "    losses = []\n",
    "    for step, (inputs, targets) in tqdm(enumerate(train_dataloader), total=len(train_dataloader)):\n",
    "        inputs = inputs.to(device)\n",
    "        targets = targets.to(device)\n",
    "        \n",
    "        batch_size, seq_len = inputs.size()\n",
    "        \n",
    "        preds = model(inputs)\n",
    "        preds = preds.view(batch_size * seq_len, 16)\n",
    "        targets = targets.view(-1)\n",
    "        \n",
    "        loss = criterion(preds, targets)\n",
    "        losses.append(loss.item())\n",
    "        \n",
    "\n",
    "        if (step + 1) % 20 == 0:\n",
    "            print(f\"[ TRAIN ] epoch {epoch + 1} loss: {np.array(losses).mean():.4f}\")\n",
    "        \n",
    "        optimizer.zero_grad()\n",
    "        loss.backward()\n",
    "        optimizer.step()"
   ]
  },
  {
   "cell_type": "code",
   "execution_count": 92,
   "id": "9dc9143b",
   "metadata": {
    "ExecuteTime": {
     "end_time": "2022-03-14T14:11:42.867628Z",
     "start_time": "2022-03-14T14:11:42.673111Z"
    }
   },
   "outputs": [],
   "source": [
    "token_n = 15\n",
    "inputs = torch.zeros(2048)\n",
    "\n",
    "inputs[token_n:] = 15\n",
    "\n",
    "inputs[:token_n] = torch.Tensor([0, 1, 2, 2, 0, 4, 0, 4, 3, 5, 0, 0, 1, 4, 0])\n",
    "inputs = inputs.long().to(device).unsqueeze(0)\n",
    "\n",
    "output = model(inputs)\n",
    "cal_output = output.argmax(-1)"
   ]
  },
  {
   "cell_type": "code",
   "execution_count": 93,
   "id": "b61687ec",
   "metadata": {
    "ExecuteTime": {
     "end_time": "2022-03-14T14:11:43.060563Z",
     "start_time": "2022-03-14T14:11:43.056542Z"
    }
   },
   "outputs": [
    {
     "data": {
      "text/plain": [
       "tensor([[0, 1, 2, 2, 0, 4, 0, 4, 3, 5, 0, 0, 1, 4, 0]], device='cuda:0')"
      ]
     },
     "execution_count": 93,
     "metadata": {},
     "output_type": "execute_result"
    }
   ],
   "source": [
    "inputs[:, :15]"
   ]
  },
  {
   "cell_type": "code",
   "execution_count": 94,
   "id": "4a4b571f",
   "metadata": {
    "ExecuteTime": {
     "end_time": "2022-03-14T14:11:43.591203Z",
     "start_time": "2022-03-14T14:11:43.587006Z"
    }
   },
   "outputs": [
    {
     "data": {
      "text/plain": [
       "tensor([[0, 1, 2, 2, 0, 0, 0, 0, 0, 0, 0, 0, 0, 4, 0]], device='cuda:0')"
      ]
     },
     "execution_count": 94,
     "metadata": {},
     "output_type": "execute_result"
    }
   ],
   "source": [
    "cal_output[:, :15]"
   ]
  },
  {
   "cell_type": "code",
   "execution_count": 95,
   "id": "45f35728",
   "metadata": {
    "ExecuteTime": {
     "end_time": "2022-03-14T14:19:25.471967Z",
     "start_time": "2022-03-14T14:19:25.359022Z"
    }
   },
   "outputs": [],
   "source": [
    "torch.save(model.state_dict(), '../result/callibration.pt')"
   ]
  }
 ],
 "metadata": {
  "kernelspec": {
   "display_name": "Python 3 (ipykernel)",
   "language": "python",
   "name": "python3"
  },
  "language_info": {
   "codemirror_mode": {
    "name": "ipython",
    "version": 3
   },
   "file_extension": ".py",
   "mimetype": "text/x-python",
   "name": "python",
   "nbconvert_exporter": "python",
   "pygments_lexer": "ipython3",
   "version": "3.7.12"
  },
  "toc": {
   "base_numbering": 1,
   "nav_menu": {},
   "number_sections": false,
   "sideBar": true,
   "skip_h1_title": false,
   "title_cell": "Table of Contents",
   "title_sidebar": "Contents",
   "toc_cell": false,
   "toc_position": {
    "height": "calc(100% - 180px)",
    "left": "10px",
    "top": "150px",
    "width": "418.997px"
   },
   "toc_section_display": true,
   "toc_window_display": true
  }
 },
 "nbformat": 4,
 "nbformat_minor": 5
}
