{
 "cells": [
  {
   "cell_type": "code",
   "execution_count": null,
   "id": "601c1bc7-15d0-446b-913c-3c7eeead066d",
   "metadata": {},
   "outputs": [],
   "source": [
    "import sys\n",
    "sys.path.insert(0, 'feedback_debertav2_fasttokenizer')\n",
    "import torch as t\n",
    "from glob import glob\n",
    "import pandas as pd\n",
    "import dill as pickle\n",
    "import re\n",
    "import numpy as np\n",
    "from tqdm import tqdm\n",
    "import spacy\n",
    "from spacy import displacy\n",
    "from transformers import DebertaV2TokenizerFast\n",
    "import h5py"
   ]
  },
  {
   "cell_type": "code",
   "execution_count": null,
   "id": "8676079f-5c03-4035-8d58-6959605c8aa5",
   "metadata": {},
   "outputs": [],
   "source": [
    "tokenizer = DebertaV2TokenizerFast.from_pretrained('microsoft/deberta-v2-xlarge')\n",
    "tokenizer.model_max_length = 2048"
   ]
  },
  {
   "cell_type": "code",
   "execution_count": null,
   "id": "09ae7ca8-b50d-4bf4-b24b-d7f5a8195d93",
   "metadata": {},
   "outputs": [],
   "source": [
    "data = pd.read_csv('train.csv')\n",
    "data.loc[data.discourse_id==1623258656795.0, 'discourse_text'] =  data.loc[data.discourse_id==1623258656795.0, \n",
    "                                                                           'discourse_text'].map(lambda x: x.replace('florida', 'LOCATION_NAME')).values"
   ]
  },
  {
   "cell_type": "code",
   "execution_count": null,
   "id": "9596e2b8-eeab-4bdc-888f-d9aca60467cf",
   "metadata": {},
   "outputs": [],
   "source": [
    "label_names = ['None', 'Lead', 'Position', 'Evidence', 'Claim',\n",
    "               'Concluding Statement', 'Counterclaim', 'Rebuttal']"
   ]
  },
  {
   "cell_type": "code",
   "execution_count": null,
   "id": "f9fc64a6-21cd-4999-8e10-0c79c9a70a4f",
   "metadata": {},
   "outputs": [],
   "source": [
    "colors = {\n",
    "            'Lead': '#8000ff',\n",
    "            'Position': '#2b7ff6',\n",
    "            'Evidence': '#2adddd',\n",
    "            'Claim': '#80ffb4',\n",
    "            'Concluding Statement': 'd4dd80',\n",
    "            'Counterclaim': '#ff8042',\n",
    "            'Rebuttal': '#ff0000'\n",
    "         }\n",
    "options = {\"ents\": list(colors.keys()), \"colors\": colors}"
   ]
  },
  {
   "cell_type": "code",
   "execution_count": null,
   "id": "6db29c97-5606-4e72-9e16-bddb3a22fc36",
   "metadata": {},
   "outputs": [],
   "source": [
    "token_maps = dict(zip(colors, range(1, 2 * len(colors), 2)))"
   ]
  },
  {
   "cell_type": "code",
   "execution_count": null,
   "id": "2dfe8093-d0b5-4a97-90d4-54105d39a7fb",
   "metadata": {},
   "outputs": [],
   "source": [
    "token_maps"
   ]
  },
  {
   "cell_type": "code",
   "execution_count": null,
   "id": "86dbfeb2-73bc-4914-bc83-ac50e007276d",
   "metadata": {},
   "outputs": [],
   "source": [
    "def show_sample(ID):\n",
    "    with open(f'train/{ID}.txt') as f:\n",
    "        org_text = f.read()\n",
    "    dsc = data.loc[data.id==ID].sort_values('discourse_start')\n",
    "    ents = []\n",
    "    pointer = 0\n",
    "    for _, row in dsc.iterrows():\n",
    "        entity = row.discourse_text.strip()\n",
    "        starts_at = org_text[pointer:].index(entity) + pointer\n",
    "        end = 0\n",
    "        start = 0\n",
    "        if starts_at + len(entity) < len(org_text) and  punkt_re.match(org_text[starts_at + len(entity)]) is not None:\n",
    "            end = 1\n",
    "        if punkt_re.match(org_text[starts_at]) is not None:\n",
    "            start = 1\n",
    "        ents.append({'start': starts_at + start, 'end': starts_at + len(entity) + end, 'label': row.discourse_type})\n",
    "        pointer = starts_at + len(entity)\n",
    "    displacy.render({'text': org_text, 'ents': ents, 'title': ID}, style=\"ent\",\n",
    "                    options=options, manual=True, jupyter=True)"
   ]
  },
  {
   "cell_type": "code",
   "execution_count": null,
   "id": "fac03bb6-d42a-4b4a-baea-fe447bf16f58",
   "metadata": {},
   "outputs": [],
   "source": [
    "regexp = re.compile('[0-9a-zA-z]')"
   ]
  },
  {
   "cell_type": "code",
   "execution_count": null,
   "id": "6d1df82e-4072-4632-8882-c35b3bfe4612",
   "metadata": {},
   "outputs": [],
   "source": [
    "def make_more_targets(targets):\n",
    "    linkage = np.zeros((len(targets), 2), 'f4')\n",
    "    class_index = np.zeros((len(targets),), 'f4')\n",
    "    linkage_mask = np.ones((len(targets),), 'f4')\n",
    "    current_target = -2\n",
    "    for ix in range(1, len(targets) -1):\n",
    "        if ((current_target % 2 == 0 and current_target == targets[ix]) \n",
    "              or (targets[ix] == current_target + 1 and current_target %2 == 1)):\n",
    "            linkage[ix - 1, 1] = 1\n",
    "            linkage[ix, 0] = 1\n",
    "        current_target = targets[ix]\n",
    "        class_index[:] = [x // 2 for x in targets + 1]\n",
    "    link_sums = (linkage * np.array([2, 1])).sum(-1).astype('i4')\n",
    "    bi =  np.zeros((len(targets), 2), 'f4')\n",
    "    bi[link_sums < 2, 0] = 1\n",
    "    bi[link_sums >= 2, 1] = 1\n",
    "    bio = np.array(bi)\n",
    "    bio[targets==0] = 0\n",
    "    bies =  np.zeros((len(targets), 4), 'f4')\n",
    "    bies[:, :2] = bi\n",
    "    bies[link_sums == 0] = (0, 0, 0, 1)\n",
    "    bies[link_sums == 2] = (0, 0, 1, 0)\n",
    "    bieso = np.array(bies)\n",
    "    bieso[targets==0] = 0\n",
    "    return class_index, bi, bio, bies, bieso"
   ]
  },
  {
   "cell_type": "code",
   "execution_count": null,
   "id": "1480d2c6-2c72-4f89-ad56-3a5ad1e80ff6",
   "metadata": {},
   "outputs": [],
   "source": [
    "def combine_labels(class_index, bi, bio, bies, bieso):\n",
    "    combined_bi = class_index * 2 + bi[:, 0]\n",
    "    combined_bies = class_index * 4 + bies @ np.array([0, 1, 2, 3])\n",
    "    non_o_index = np.where(class_index != 0)[0]\n",
    "    combined_bieso = np.array(class_index)\n",
    "    combined_bieso[non_o_index] = (class_index[non_o_index] - 1) * 4 + bieso[non_o_index] @ np.array([1, 2, 3, 4])\n",
    "    combined_bio = np.array(class_index)\n",
    "    combined_bio[non_o_index] = (class_index[non_o_index] - 1) * 2 + bio[non_o_index] @ np.array([1, 2])\n",
    "    return combined_bi, combined_bio, combined_bies, combined_bieso"
   ]
  },
  {
   "cell_type": "code",
   "execution_count": null,
   "id": "cb2be59a-4984-4430-b17c-876efb691c89",
   "metadata": {},
   "outputs": [],
   "source": [
    "import h5py"
   ]
  },
  {
   "cell_type": "code",
   "execution_count": null,
   "id": "9de84cde-4841-4331-9153-bd069512e96c",
   "metadata": {},
   "outputs": [],
   "source": [
    "data_file = h5py.File('debertav2_data.h5py', 'w')"
   ]
  },
  {
   "cell_type": "code",
   "execution_count": null,
   "id": "c8caa473-8da6-4df2-8465-89963371da1d",
   "metadata": {},
   "outputs": [],
   "source": [
    "num_texts = len(glob('train/*.txt')) + 1"
   ]
  },
  {
   "cell_type": "code",
   "execution_count": null,
   "id": "f4c1eebb-a629-45f1-86b2-35b240291816",
   "metadata": {},
   "outputs": [],
   "source": [
    "tokens_dataset = data_file.create_dataset('tokens', (num_texts, 2048), 'i8')\n",
    "attention_masks_dataset = data_file.create_dataset('attention_masks', (num_texts, 2048), 'f4')\n",
    "token_offsets_dataset = data_file.create_dataset('token_offsets', (num_texts, 2048, 2), 'i4')\n",
    "class_labels_dataset = data_file.create_dataset('class_labels', (num_texts, 2048, 8), 'f4')\n",
    "num_tokens_dataset = data_file.create_dataset('num_tokens', (num_texts, 2048), 'i4')\n",
    "\n",
    "bi_labels_dataset = data_file.create_dataset('bi_labels', (num_texts, 2048, 2), 'f4')\n",
    "bio_labels_dataset = data_file.create_dataset('bio_labels', (num_texts, 2048, 2), 'f4')\n",
    "bies_labels_dataset = data_file.create_dataset('bies_labels', (num_texts, 2048, 4), 'f4')\n",
    "bieso_labels_dataset = data_file.create_dataset('bieso_labels', (num_texts, 2048, 4), 'f4')\n",
    "\n",
    "cbi_labels_dataset = data_file.create_dataset('cbi_labels', (num_texts, 2048, 16), 'f4')\n",
    "cbio_labels_dataset = data_file.create_dataset('cbio_labels', (num_texts, 2048, 15), 'f4')\n",
    "cbies_labels_dataset = data_file.create_dataset('cbies_labels', (num_texts, 2048, 32), 'f4')\n",
    "cbieso_labels_dataset = data_file.create_dataset('cbieso_labels', (num_texts, 2048, 29), 'f4')\n"
   ]
  },
  {
   "cell_type": "code",
   "execution_count": null,
   "id": "40787e7b-e8f1-476c-b41b-9f00b6425f12",
   "metadata": {},
   "outputs": [],
   "source": [
    "for dataset in tqdm((tokens_dataset, \n",
    "               attention_masks_dataset,\n",
    "               token_offsets_dataset,\n",
    "               class_labels_dataset,\n",
    "               num_tokens_dataset,\n",
    "               bi_labels_dataset,\n",
    "               bio_labels_dataset,\n",
    "               bies_labels_dataset,\n",
    "               bieso_labels_dataset,\n",
    "               cbi_labels_dataset,\n",
    "               cbio_labels_dataset,\n",
    "               cbies_labels_dataset,\n",
    "               cbieso_labels_dataset,)):\n",
    "    dataset[-1] = 0\n",
    "    \n"
   ]
  },
  {
   "cell_type": "code",
   "execution_count": null,
   "id": "199be078-08bb-41c9-8f2e-60dda9020d15",
   "metadata": {},
   "outputs": [],
   "source": [
    "def make_one_hot(indices, num_labels):\n",
    "    array = np.zeros((len(indices), num_labels))\n",
    "    array[np.arange(len(indices)), indices.astype('i4')] = 1\n",
    "    return array"
   ]
  },
  {
   "cell_type": "code",
   "execution_count": null,
   "id": "cd5047b6-a060-472a-86b0-0d743c46d1c6",
   "metadata": {},
   "outputs": [],
   "source": [
    "fix_text = lambda x: x.replace('\\n', '‽')"
   ]
  },
  {
   "cell_type": "code",
   "execution_count": null,
   "id": "92d08f0a-0ea1-443c-a5f7-9a5cb02255a6",
   "metadata": {},
   "outputs": [],
   "source": [
    "from collections import Counter"
   ]
  },
  {
   "cell_type": "raw",
   "id": "94e716aa-d7a5-4078-84d5-733328f70559",
   "metadata": {},
   "source": [
    "import ftfy\n",
    "\n",
    "def fix_text(text):\n",
    "    return ftfy.fix_text(text).translate(str.maketrans({'\\xad': '-', '`': '\\'',\n",
    "                                                          '´': '\\'', '¨': '\"',\n",
    "                                                        '\\xa0': ' '}))"
   ]
  },
  {
   "cell_type": "code",
   "execution_count": null,
   "id": "cd9baa22-0a46-4e0d-9072-9bf2adf327d6",
   "metadata": {},
   "outputs": [],
   "source": [
    "broken_indices = []"
   ]
  },
  {
   "cell_type": "code",
   "execution_count": null,
   "id": "01a29de6-79d0-4d03-b756-a629f75e7bdc",
   "metadata": {
    "tags": []
   },
   "outputs": [],
   "source": [
    "id_to_ix_map = {}\n",
    "for filename_ix, filename in tqdm(enumerate(glob('train/*.txt')), total = num_texts-1):\n",
    "    ID = filename.split('/')[-1].split('.')[0]\n",
    "    with open(filename) as f:\n",
    "        text = fix_text(f.read().strip())\n",
    "    tokenizer_outs = tokenizer(text, return_offsets_mapping=True)\n",
    "    tokenizer_outs['input_ids'] = [x if x != 126599 else 128000 for x in tokenizer_outs['input_ids']]\n",
    "    text_data = data.loc[data.id==ID].sort_values('discourse_start')\n",
    "    ent_boundaries = []\n",
    "    pointer = 0\n",
    "    for row_id, row in text_data.iterrows():\n",
    "        entity_text = fix_text(row.discourse_text.strip())\n",
    "        entity_text = entity_text[next(regexp.finditer(entity_text)).start():]\n",
    "        if len(entity_text.split()[0]) == 1 and pointer != 0:\n",
    "            entity_start_ix = text[pointer:].index(entity_text)\n",
    "            prev_text = text[:pointer + entity_start_ix]\n",
    "            if pointer + entity_start_ix > 0 and prev_text[-1].isalpha():\n",
    "                broken_indices.append((filename_ix, ID))\n",
    "                print('cut entity ', filename_ix, ID)\n",
    "                cut_word_chunk_size = len(prev_text.split()[-1])\n",
    "                if cut_word_chunk_size > 1:\n",
    "                    entity_text = entity_text[next(regexp.finditer(entity_text[1:])).start() + 1 :]\n",
    "        if row.discourse_id in (1620147556527.0, 1622983056026.0):\n",
    "            pointer += 10\n",
    "        offset = text[pointer:].index(entity_text)\n",
    "        starts_at = offset + pointer\n",
    "        ent_boundaries.append((starts_at, starts_at + len(entity_text), row.discourse_type))\n",
    "        pointer = starts_at + len(entity_text)\n",
    "    all_boundaries = [(z, x[-1], t) for x in ent_boundaries for z, t in zip(x[:2], ('start', 'end'))]\n",
    "    current_target = 0\n",
    "    targets = np.zeros(len(tokenizer_outs['input_ids']), 'i8')\n",
    "    token_positions = np.vstack(tokenizer_outs['offset_mapping']).astype('i4')\n",
    "    for token_ix in range(len(tokenizer_outs['input_ids'])):\n",
    "        token_start_ix, token_end_ix = tokenizer_outs['offset_mapping'][token_ix]\n",
    "        if token_end_ix != 0 and (all_boundaries[0][2] == 'end' and token_end_ix >= all_boundaries[0][0])\\\n",
    "                            or (all_boundaries[0][2] == 'start' and token_end_ix > all_boundaries[0][0]):\n",
    "            if all_boundaries[0][2] == 'start':\n",
    "                current_target = token_maps[all_boundaries[0][1]]\n",
    "                targets[token_ix] = current_target\n",
    "                if token_end_ix == all_boundaries[1][0]:\n",
    "                    current_target = 0\n",
    "                    all_boundaries.pop(0)\n",
    "                else:\n",
    "                    current_target += 1\n",
    "            else:\n",
    "                if len(all_boundaries) > 1 and token_end_ix > all_boundaries[1][0]:\n",
    "                    if token_start_ix >= all_boundaries[1][0]:\n",
    "                        assert text[all_boundaries[0][0] - 1] == '¨'\n",
    "                    all_boundaries.pop(0)\n",
    "                    current_target = token_maps[all_boundaries[0][1]]\n",
    "                    targets[token_ix] = current_target\n",
    "                    current_target += 1\n",
    "                else:\n",
    "                    if token_start_ix >= all_boundaries[0][0]:\n",
    "                        current_target = 0\n",
    "                    targets[token_ix] = current_target\n",
    "                    current_target = 0\n",
    "            all_boundaries.pop(0)\n",
    "            if not all_boundaries:\n",
    "                break\n",
    "        else:\n",
    "            targets[token_ix] = current_target\n",
    "    class_index, bi, bio, bies, bieso = make_more_targets(targets)\n",
    "    combined_bi, combined_bio, combined_bies, combined_bieso = combine_labels(class_index, bi, bio, bies, bieso)\n",
    "    assert (combined_bio[1:-1] == targets[1:-1]).all()\n",
    "    num_tokens = len(targets)\n",
    "    \n",
    "    tokens_dataset[filename_ix, :num_tokens] = tokenizer_outs['input_ids']\n",
    "    tokens_dataset[filename_ix, num_tokens:] = tokenizer.pad_token_id\n",
    "    attention_masks_dataset[filename_ix, :num_tokens] = tokenizer_outs['attention_mask']\n",
    "    attention_masks_dataset[filename_ix, num_tokens:] = 0\n",
    "    token_offsets_dataset[filename_ix, :num_tokens] = token_positions\n",
    "    token_offsets_dataset[filename_ix, num_tokens:] = 0\n",
    "    class_labels_dataset[filename_ix, :num_tokens] = make_one_hot(class_index, 8)\n",
    "    class_labels_dataset[filename_ix, num_tokens:] = 0\n",
    "    num_tokens_dataset[filename_ix] = num_tokens\n",
    "    bi_labels_dataset[filename_ix, :num_tokens] = bi\n",
    "    bi_labels_dataset[filename_ix, num_tokens:] = 0\n",
    "    bio_labels_dataset[filename_ix, :num_tokens] = bio\n",
    "    bio_labels_dataset[filename_ix, num_tokens:] = 0\n",
    "    bies_labels_dataset[filename_ix, :num_tokens] = bies\n",
    "    bies_labels_dataset[filename_ix, num_tokens:] = 0\n",
    "    bieso_labels_dataset[filename_ix, :num_tokens] = bieso\n",
    "    bieso_labels_dataset[filename_ix, num_tokens:] = 0\n",
    "    cbi_labels_dataset[filename_ix, :num_tokens] = make_one_hot(combined_bi, 16)\n",
    "    cbi_labels_dataset[filename_ix, num_tokens:] = 0\n",
    "    cbio_labels_dataset[filename_ix, :num_tokens] = make_one_hot(combined_bio, 15)\n",
    "    cbio_labels_dataset[filename_ix, num_tokens:] = 0\n",
    "    cbies_labels_dataset[filename_ix, :num_tokens] = make_one_hot(combined_bies, 32)\n",
    "    cbies_labels_dataset[filename_ix, num_tokens:] = 0\n",
    "    cbieso_labels_dataset[filename_ix, :num_tokens] = make_one_hot(combined_bieso, 29)\n",
    "    cbieso_labels_dataset[filename_ix, num_tokens:] = 0\n",
    "                                                                "
   ]
  },
  {
   "cell_type": "code",
   "execution_count": null,
   "id": "916d7ac7-0271-4b50-b038-7b4011d337bf",
   "metadata": {},
   "outputs": [],
   "source": [
    "data_file.close()"
   ]
  },
  {
   "cell_type": "code",
   "execution_count": null,
   "id": "ecbce775-b58a-49d2-ac9f-520ffe579b28",
   "metadata": {},
   "outputs": [],
   "source": [
    "id_to_ix_map = {filename: ix for ix, filename in enumerate(glob('train/*.txt'))}\n",
    "with open('id_to_ix_map.pickle', 'wb') as f:\n",
    "    import dill as pickle\n",
    "    pickle.dump(id_to_ix_map, f)"
   ]
  },
  {
   "cell_type": "code",
   "execution_count": null,
   "id": "5e54c9d5-8c6f-4034-82bc-be977214d4f1",
   "metadata": {},
   "outputs": [],
   "source": [
    "data_file = h5py.File('debertav2_data.h5py')\n",
    "labels = data_file['cbio_labels']\n",
    "token_nums = data_file['num_tokens']\n",
    "token_counts = np.zeros(15)\n",
    "for ix in tqdm(range(len(labels) - 1)):\n",
    "    a, b = np.unique(labels[ix, :token_nums[ix, 0]].argmax(-1), return_counts=True)\n",
    "    token_counts[a] += b"
   ]
  },
  {
   "cell_type": "code",
   "execution_count": null,
   "id": "5f072594-a9b4-4326-8794-273e3617a645",
   "metadata": {},
   "outputs": [],
   "source": [
    "with open('token_counts.pickle', 'wb') as f:\n",
    "    pickle.dump((token_counts, token_counts), f)"
   ]
  },
  {
   "cell_type": "code",
   "execution_count": null,
   "id": "56b5607b-8589-4c5c-a98e-9b2fd733a904",
   "metadata": {},
   "outputs": [],
   "source": [
    "data_file.close()"
   ]
  },
  {
   "cell_type": "code",
   "execution_count": null,
   "id": "d5a123a0-eaf4-4a5c-9482-344034c36938",
   "metadata": {},
   "outputs": [],
   "source": [
    "#bert_normalizer.normalize_str, ftfy"
   ]
  }
 ],
 "metadata": {
  "kernelspec": {
   "display_name": "Python 3 (ipykernel)",
   "language": "python",
   "name": "python3"
  },
  "language_info": {
   "codemirror_mode": {
    "name": "ipython",
    "version": 3
   },
   "file_extension": ".py",
   "mimetype": "text/x-python",
   "name": "python",
   "nbconvert_exporter": "python",
   "pygments_lexer": "ipython3",
   "version": "3.7.11"
  }
 },
 "nbformat": 4,
 "nbformat_minor": 5
}
