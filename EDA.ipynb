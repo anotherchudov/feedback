{
 "cells": [
  {
   "cell_type": "markdown",
   "metadata": {},
   "source": [
    "# EDA\n",
    "\n",
    "- Length of texts\n",
    "- Cleaning train.csv"
   ]
  },
  {
   "cell_type": "markdown",
   "metadata": {},
   "source": [
    "## Length of texts"
   ]
  },
  {
   "cell_type": "code",
   "execution_count": 4,
   "metadata": {},
   "outputs": [],
   "source": [
    "import re\n",
    "import pandas as pd\n",
    "import glob\n",
    "\n",
    "from tqdm.auto import tqdm"
   ]
  },
  {
   "cell_type": "code",
   "execution_count": 5,
   "metadata": {},
   "outputs": [
    {
     "data": {
      "application/vnd.jupyter.widget-view+json": {
       "model_id": "4c8eb166f9724d75b60ed0994b40515a",
       "version_major": 2,
       "version_minor": 0
      },
      "text/plain": [
       "  0%|          | 0/15594 [00:00<?, ?it/s]"
      ]
     },
     "metadata": {},
     "output_type": "display_data"
    }
   ],
   "source": [
    "train_df = pd.read_csv('../feedback-prize-2021/train.csv')\n",
    "train_df.loc[train_df.discourse_id==1623258656795.0, 'discourse_text'] =  train_df.loc[train_df.discourse_id==1623258656795.0, \n",
    "                                                                           'discourse_text'].map(lambda x: x.replace('florida', 'LOCATION_NAME')).values\n",
    "\n",
    "texts = []\n",
    "ids = []\n",
    "for fname in tqdm(glob.glob('../feedback-prize-2021/train/*.txt')):\n",
    "    with open(fname, encoding='utf-8') as f:\n",
    "        texts.append(f.read())\n",
    "    ids.append(fname.split('/')[-1].split('.')[0])\n",
    "\n",
    "df = pd.DataFrame({'id': ids, 'text': texts})\n",
    "\n",
    "\n",
    "df['text_len'] = df.text.apply(lambda x: len(re.split(r'\\n| ', x)))\n"
   ]
  },
  {
   "cell_type": "code",
   "execution_count": 7,
   "metadata": {},
   "outputs": [
    {
     "data": {
      "text/html": [
       "<div>\n",
       "<style scoped>\n",
       "    .dataframe tbody tr th:only-of-type {\n",
       "        vertical-align: middle;\n",
       "    }\n",
       "\n",
       "    .dataframe tbody tr th {\n",
       "        vertical-align: top;\n",
       "    }\n",
       "\n",
       "    .dataframe thead th {\n",
       "        text-align: right;\n",
       "    }\n",
       "</style>\n",
       "<table border=\"1\" class=\"dataframe\">\n",
       "  <thead>\n",
       "    <tr style=\"text-align: right;\">\n",
       "      <th></th>\n",
       "      <th>id</th>\n",
       "      <th>text</th>\n",
       "      <th>text_len</th>\n",
       "    </tr>\n",
       "  </thead>\n",
       "  <tbody>\n",
       "    <tr>\n",
       "      <th>14605</th>\n",
       "      <td>73D6F19E24BD</td>\n",
       "      <td>The students are very mad that the principal i...</td>\n",
       "      <td>151</td>\n",
       "    </tr>\n",
       "    <tr>\n",
       "      <th>15090</th>\n",
       "      <td>4CB458757785</td>\n",
       "      <td>The authors claim to keep studing venus is a v...</td>\n",
       "      <td>151</td>\n",
       "    </tr>\n",
       "    <tr>\n",
       "      <th>7903</th>\n",
       "      <td>5503B0FB1886</td>\n",
       "      <td>I dont think the use of the technology to read...</td>\n",
       "      <td>152</td>\n",
       "    </tr>\n",
       "    <tr>\n",
       "      <th>6631</th>\n",
       "      <td>C0897AC15921</td>\n",
       "      <td>The challenge of exploring venus was being abl...</td>\n",
       "      <td>152</td>\n",
       "    </tr>\n",
       "    <tr>\n",
       "      <th>15202</th>\n",
       "      <td>8CE968DB99AB</td>\n",
       "      <td>Dear Principal,\\n\\nI am addressing the new pol...</td>\n",
       "      <td>152</td>\n",
       "    </tr>\n",
       "    <tr>\n",
       "      <th>...</th>\n",
       "      <td>...</td>\n",
       "      <td>...</td>\n",
       "      <td>...</td>\n",
       "    </tr>\n",
       "    <tr>\n",
       "      <th>2588</th>\n",
       "      <td>DC59B3A9D4A2</td>\n",
       "      <td>Ther are 3 main supportive reassons why this \"...</td>\n",
       "      <td>7493</td>\n",
       "    </tr>\n",
       "    <tr>\n",
       "      <th>11071</th>\n",
       "      <td>803FA7997692</td>\n",
       "      <td>I dont think that FACS should be able to be us...</td>\n",
       "      <td>8546</td>\n",
       "    </tr>\n",
       "    <tr>\n",
       "      <th>7284</th>\n",
       "      <td>BFF07046CF7A</td>\n",
       "      <td>The author shows us the many benifical factors...</td>\n",
       "      <td>8815</td>\n",
       "    </tr>\n",
       "    <tr>\n",
       "      <th>4129</th>\n",
       "      <td>E4559E81E304</td>\n",
       "      <td>This passage is about a germany mom from the s...</td>\n",
       "      <td>8944</td>\n",
       "    </tr>\n",
       "    <tr>\n",
       "      <th>2525</th>\n",
       "      <td>9B23715DFB32</td>\n",
       "      <td>if we look back at time in the united states y...</td>\n",
       "      <td>14718</td>\n",
       "    </tr>\n",
       "  </tbody>\n",
       "</table>\n",
       "<p>15594 rows × 3 columns</p>\n",
       "</div>"
      ],
      "text/plain": [
       "                 id                                               text  \\\n",
       "14605  73D6F19E24BD  The students are very mad that the principal i...   \n",
       "15090  4CB458757785  The authors claim to keep studing venus is a v...   \n",
       "7903   5503B0FB1886  I dont think the use of the technology to read...   \n",
       "6631   C0897AC15921  The challenge of exploring venus was being abl...   \n",
       "15202  8CE968DB99AB  Dear Principal,\\n\\nI am addressing the new pol...   \n",
       "...             ...                                                ...   \n",
       "2588   DC59B3A9D4A2  Ther are 3 main supportive reassons why this \"...   \n",
       "11071  803FA7997692  I dont think that FACS should be able to be us...   \n",
       "7284   BFF07046CF7A  The author shows us the many benifical factors...   \n",
       "4129   E4559E81E304  This passage is about a germany mom from the s...   \n",
       "2525   9B23715DFB32  if we look back at time in the united states y...   \n",
       "\n",
       "       text_len  \n",
       "14605       151  \n",
       "15090       151  \n",
       "7903        152  \n",
       "6631        152  \n",
       "15202       152  \n",
       "...         ...  \n",
       "2588       7493  \n",
       "11071      8546  \n",
       "7284       8815  \n",
       "4129       8944  \n",
       "2525      14718  \n",
       "\n",
       "[15594 rows x 3 columns]"
      ]
     },
     "execution_count": 7,
     "metadata": {},
     "output_type": "execute_result"
    }
   ],
   "source": [
    "df.sort_values('text_len')"
   ]
  },
  {
   "cell_type": "code",
   "execution_count": 9,
   "metadata": {},
   "outputs": [
    {
     "data": {
      "text/plain": [
       "array([[<AxesSubplot:title={'center':'text_len'}>]], dtype=object)"
      ]
     },
     "execution_count": 9,
     "metadata": {},
     "output_type": "execute_result"
    },
    {
     "data": {
      "image/png": "[encoded data removed]",
      "text/plain": [
       "<Figure size 432x288 with 1 Axes>"
      ]
     },
     "metadata": {
      "needs_background": "light"
     },
     "output_type": "display_data"
    }
   ],
   "source": [
    "df.sort_values('text_len').hist(column='text_len', bins=100)"
   ]
  },
  {
   "cell_type": "markdown",
   "metadata": {},
   "source": [
    "## Cleaning train.csv\n",
    "> Just to share, I tried to use this file and the LB score improved by 0.002. This was on distilbert based small model only so there is a chance that this file can provide improved results on larger models.\n",
    "\n",
    "- [corrected train.csv (feedback prize)](https://www.kaggle.com/nbroad/corrected-train-csv-feedback-prize)"
   ]
  },
  {
   "cell_type": "code",
   "execution_count": null,
   "metadata": {},
   "outputs": [],
   "source": []
  }
 ],
 "metadata": {
  "interpreter": {
   "hash": "d4d1e4263499bec80672ea0156c357c1ee493ec2b1c70f0acce89fc37c4a6abe"
  },
  "kernelspec": {
   "display_name": "Python 3.7.12 ('base')",
   "language": "python",
   "name": "python3"
  },
  "language_info": {
   "codemirror_mode": {
    "name": "ipython",
    "version": 3
   },
   "file_extension": ".py",
   "mimetype": "text/x-python",
   "name": "python",
   "nbconvert_exporter": "python",
   "pygments_lexer": "ipython3",
   "version": "3.7.12"
  },
  "orig_nbformat": 4
 },
 "nbformat": 4,
 "nbformat_minor": 2
}
