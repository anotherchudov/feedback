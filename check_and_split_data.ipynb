{
 "cells": [
  {
   "cell_type": "code",
   "execution_count": null,
   "id": "08553f2d-c608-4742-91e6-2ac67a01c547",
   "metadata": {},
   "outputs": [],
   "source": [
    "#from https://github.com/anotherchudov/feedback/blob/ducky/check_and_split_data.ipynb"
   ]
  },
  {
   "cell_type": "markdown",
   "id": "cc397e76",
   "metadata": {
    "tags": []
   },
   "source": [
    "# Data Clustering & Splitting\n",
    "\n",
    "\n",
    "- Clustering to 15 topics with TFIDF, Umap, DBSCAN\n",
    "- Data Splitting\n",
    "    - `discourse counts` and `no label chunk relative length` of text is used for splitting\n",
    "    - Umap is used again to calculate `discourse counts` similarity between each text and to sort it\n",
    "    - text ID sorted by above will be assigned to each fold one by one"
   ]
  },
  {
   "cell_type": "code",
   "execution_count": 1,
   "id": "9f520557-decf-4c70-a27f-6a7d59df9ac9",
   "metadata": {
    "ExecuteTime": {
     "end_time": "2022-02-23T08:45:50.859656Z",
     "start_time": "2022-02-23T08:45:48.150087Z"
    }
   },
   "outputs": [],
   "source": [
    "import pandas as pd, os\n",
    "import cudf, cuml, cupy\n",
    "from tqdm import tqdm\n",
    "import numpy as np\n",
    "from glob import glob\n",
    "from cuml import UMAP, TSNE\n",
    "from cuml.feature_extraction.text import TfidfTransformer, TfidfVectorizer, CountVectorizer, HashingVectorizer\n",
    "from cuml import HDBSCAN, DBSCAN\n",
    "from collections import Counter\n",
    "import matplotlib.pyplot as plt\n",
    "import re\n",
    "from random import choice\n",
    "import spacy\n",
    "import pandas as pd"
   ]
  },
  {
   "cell_type": "markdown",
   "id": "ed5e5237",
   "metadata": {},
   "source": [
    "## Cluster text data"
   ]
  },
  {
   "cell_type": "code",
   "execution_count": 2,
   "id": "74c85a18-a282-4d9a-94b3-907f4ddf6bae",
   "metadata": {
    "ExecuteTime": {
     "end_time": "2022-02-23T08:45:51.066127Z",
     "start_time": "2022-02-23T08:45:50.860960Z"
    },
    "scrolled": true
   },
   "outputs": [
    {
     "name": "stderr",
     "output_type": "stream",
     "text": [
      "100% 15594/15594 [00:00<00:00, 88190.77it/s]\n"
     ]
    }
   ],
   "source": [
    "texts = []\n",
    "ids = []\n",
    "for fname in tqdm(glob('train/*.txt')):\n",
    "    with open(fname, encoding='utf-8') as f:\n",
    "        texts.append(f.read())\n",
    "    ids.append(fname.split('/')[-1].split('.')[0])\n"
   ]
  },
  {
   "cell_type": "code",
   "execution_count": 3,
   "id": "80869d1e-5a45-4b2b-8da2-69e97c125855",
   "metadata": {
    "ExecuteTime": {
     "end_time": "2022-02-23T08:45:52.185650Z",
     "start_time": "2022-02-23T08:45:51.069638Z"
    }
   },
   "outputs": [],
   "source": [
    "df = cudf.DataFrame({'id': ids, 'text': texts})"
   ]
  },
  {
   "cell_type": "code",
   "execution_count": 4,
   "id": "7a8fa5f0-c3bb-4b50-a046-6f5a276dd251",
   "metadata": {
    "ExecuteTime": {
     "end_time": "2022-02-23T08:45:52.189116Z",
     "start_time": "2022-02-23T08:45:52.186857Z"
    }
   },
   "outputs": [],
   "source": [
    "tfrm = TfidfVectorizer(stop_words='english', smooth_idf=False, sublinear_tf=True)"
   ]
  },
  {
   "cell_type": "code",
   "execution_count": 5,
   "id": "259dbcfe-232e-4621-9bb9-3a499c7338df",
   "metadata": {
    "ExecuteTime": {
     "end_time": "2022-02-23T08:45:52.778175Z",
     "start_time": "2022-02-23T08:45:52.190017Z"
    }
   },
   "outputs": [],
   "source": [
    "m = tfrm.fit_transform(df.text)"
   ]
  },
  {
   "cell_type": "code",
   "execution_count": 6,
   "id": "2f3d6f85-5f1f-4dde-b33a-f24f0ba652d8",
   "metadata": {
    "ExecuteTime": {
     "end_time": "2022-02-23T08:45:54.033507Z",
     "start_time": "2022-02-23T08:45:52.779230Z"
    }
   },
   "outputs": [
    {
     "data": {
      "text/plain": [
       "<matplotlib.collections.PathCollection at 0x7f2ab8618820>"
      ]
     },
     "execution_count": 6,
     "metadata": {},
     "output_type": "execute_result"
    },
    {
     "data": {
      "image/png": "[encoded data removed]",
      "text/plain": [
       "<Figure size 432x288 with 1 Axes>"
      ]
     },
     "metadata": {
      "needs_background": "light"
     },
     "output_type": "display_data"
    }
   ],
   "source": [
    "umap = UMAP(n_neighbors=25, min_dist=.3)\n",
    "embed_2d = umap.fit_transform(m)\n",
    "embed_2d = cupy.asnumpy( embed_2d )\n",
    "plt.scatter(embed_2d[:, 0], embed_2d[:, 1])"
   ]
  },
  {
   "cell_type": "code",
   "execution_count": 7,
   "id": "d496f37b-2aac-46b5-a836-a91d10a5d92a",
   "metadata": {
    "ExecuteTime": {
     "end_time": "2022-02-23T08:45:54.049040Z",
     "start_time": "2022-02-23T08:45:54.034759Z"
    }
   },
   "outputs": [],
   "source": [
    "clst = DBSCAN(eps=1)\n",
    "cluster_assignement = clst.fit_predict(embed_2d)"
   ]
  },
  {
   "cell_type": "code",
   "execution_count": 8,
   "id": "fd483135-cc06-4dc4-8cae-288e35023a60",
   "metadata": {
    "ExecuteTime": {
     "end_time": "2022-02-23T08:45:58.717640Z",
     "start_time": "2022-02-23T08:45:58.711454Z"
    }
   },
   "outputs": [],
   "source": [
    "def hsv_to_rgb(h, s=.5, v=1.):\n",
    "        if s == 0.0: v*=255; return (v, v, v)\n",
    "        i = int(h*6.) # XXX assume int() truncates!\n",
    "        f = (h*6.)-i; p,q,t = int(255*(v*(1.-s))), int(255*(v*(1.-s*f))), int(255*(v*(1.-s*(1.-f)))); v*=255; i%=6\n",
    "        if i == 0: return (v, t, p)\n",
    "        if i == 1: return (q, v, p)\n",
    "        if i == 2: return (p, v, t)\n",
    "        if i == 3: return (p, q, v)\n",
    "        if i == 4: return (t, p, v)\n",
    "        if i == 5: return (v, p, q)"
   ]
  },
  {
   "cell_type": "code",
   "execution_count": 9,
   "id": "47a9b867-58b1-4f30-bc3d-68f3f263d5bf",
   "metadata": {
    "ExecuteTime": {
     "end_time": "2022-02-23T08:45:59.391315Z",
     "start_time": "2022-02-23T08:45:59.159038Z"
    }
   },
   "outputs": [
    {
     "data": {
      "image/png": "[encoded data removed]",
      "text/plain": [
       "<Figure size 432x288 with 1 Axes>"
      ]
     },
     "metadata": {
      "needs_background": "light"
     },
     "output_type": "display_data"
    }
   ],
   "source": [
    "for x in range(15):\n",
    "    embs = embed_2d[cluster_assignement == x]\n",
    "    c = [x/255 for x in hsv_to_rgb(x / 15)]\n",
    "    plt.scatter(embs[:, 0], embs[:, 1], c=[c] * len(embs))\n"
   ]
  },
  {
   "cell_type": "code",
   "execution_count": 10,
   "id": "b54ed390-bf47-47d1-bd08-b81917bfa196",
   "metadata": {
    "ExecuteTime": {
     "end_time": "2022-02-23T08:46:01.702076Z",
     "start_time": "2022-02-23T08:46:01.693429Z"
    }
   },
   "outputs": [],
   "source": [
    "cluster_map = dict(zip(df['id'].values_host, cluster_assignement))"
   ]
  },
  {
   "cell_type": "code",
   "execution_count": 11,
   "id": "7584c077-3d9b-4432-a35c-caf8a3b0e158",
   "metadata": {
    "ExecuteTime": {
     "end_time": "2022-02-23T08:46:03.252632Z",
     "start_time": "2022-02-23T08:46:02.763165Z"
    }
   },
   "outputs": [],
   "source": [
    "data = pd.read_csv('train.csv')"
   ]
  },
  {
   "cell_type": "code",
   "execution_count": 12,
   "id": "a0fa327b",
   "metadata": {
    "ExecuteTime": {
     "end_time": "2022-02-23T08:46:03.880229Z",
     "start_time": "2022-02-23T08:46:03.875174Z"
    }
   },
   "outputs": [
    {
     "name": "stdout",
     "output_type": "stream",
     "text": [
      "This whole thing is point less how they have us in here for two days im missing my education. We could have finished this in one day and had the rest of the week to get back on the track of learning. I've missed both days of weight lifting, algebra, and my world history that i do not want to fail again! If their are any people actually gonna sit down and take the time to read this then\n",
      "\n",
      "DO NOT DO THIS NEXT YEAR\n",
      "\n",
      ".\n",
      "\n",
      "They are giving us cold lunches. ham and cheese and an apple, I am 16\n",
      "\n",
      "years old and my body needs proper food. I wouldnt be complaining if they served actual breakfast. but because of Michelle Obama and her healthy diet rule they surve us 1 poptart in the moring. How does the school board expect us to last from 7:05-12:15 on a pop tart? then expect us to get A's, we are more focused on lunch than anything else. I am about done so if you have the time to read this even though this does not count. Bring PROPER_NAME a big Mac from mc donalds, SCHOOL_NAME, (idk area code but its in florida)            \n"
     ]
    }
   ],
   "source": [
    "print(data.loc[data.discourse_id==1623258656795.0, 'discourse_text'][8916])"
   ]
  },
  {
   "cell_type": "code",
   "execution_count": 13,
   "id": "f17e76f9",
   "metadata": {
    "ExecuteTime": {
     "end_time": "2022-02-23T08:46:04.907838Z",
     "start_time": "2022-02-23T08:46:04.422214Z"
    }
   },
   "outputs": [],
   "source": [
    "data_before = pd.read_csv('train.csv')"
   ]
  },
  {
   "cell_type": "code",
   "execution_count": 14,
   "id": "a86776d8",
   "metadata": {
    "ExecuteTime": {
     "end_time": "2022-02-23T08:46:04.912139Z",
     "start_time": "2022-02-23T08:46:04.909032Z"
    }
   },
   "outputs": [
    {
     "name": "stdout",
     "output_type": "stream",
     "text": [
      "This whole thing is point less how they have us in here for two days im missing my education. We could have finished this in one day and had the rest of the week to get back on the track of learning. I've missed both days of weight lifting, algebra, and my world history that i do not want to fail again! If their are any people actually gonna sit down and take the time to read this then\n",
      "\n",
      "DO NOT DO THIS NEXT YEAR\n",
      "\n",
      ".\n",
      "\n",
      "They are giving us cold lunches. ham and cheese and an apple, I am 16\n",
      "\n",
      "years old and my body needs proper food. I wouldnt be complaining if they served actual breakfast. but because of Michelle Obama and her healthy diet rule they surve us 1 poptart in the moring. How does the school board expect us to last from 7:05-12:15 on a pop tart? then expect us to get A's, we are more focused on lunch than anything else. I am about done so if you have the time to read this even though this does not count. Bring PROPER_NAME a big Mac from mc donalds, SCHOOL_NAME, (idk area code but its in LOCATION_NAME)            \n"
     ]
    }
   ],
   "source": [
    "print(data_before.loc[data_before.discourse_id==1623258656795.0, 'discourse_text'][8916])"
   ]
  },
  {
   "cell_type": "code",
   "execution_count": 15,
   "id": "82543ffb-f8bc-4d5e-a0b7-a38893da8517",
   "metadata": {
    "ExecuteTime": {
     "end_time": "2022-02-23T08:46:05.413477Z",
     "start_time": "2022-02-23T08:46:05.369684Z"
    }
   },
   "outputs": [],
   "source": [
    "data['cluster_id'] = data['id'].map(lambda x: cluster_map[x])"
   ]
  },
  {
   "cell_type": "code",
   "execution_count": 16,
   "id": "6bb3a8e7-2660-4773-8c54-d79ee961dd7c",
   "metadata": {
    "ExecuteTime": {
     "end_time": "2022-02-23T08:46:05.798484Z",
     "start_time": "2022-02-23T08:46:05.795063Z"
    }
   },
   "outputs": [],
   "source": [
    "colors = {\n",
    "            'Lead': '#8000ff',\n",
    "            'Position': '#2b7ff6',\n",
    "            'Evidence': '#2adddd',\n",
    "            'Claim': '#80ffb4',\n",
    "            'Concluding Statement': 'd4dd80',\n",
    "            'Counterclaim': '#ff8042',\n",
    "            'Rebuttal': '#ff0000'\n",
    "         }\n",
    "options = {\"ents\": list(colors.keys()), \"colors\": colors}"
   ]
  },
  {
   "cell_type": "code",
   "execution_count": 17,
   "id": "45f8bfef",
   "metadata": {
    "ExecuteTime": {
     "end_time": "2022-02-23T08:46:06.756860Z",
     "start_time": "2022-02-23T08:46:06.741631Z"
    }
   },
   "outputs": [
    {
     "data": {
      "text/html": [
       "<div>\n",
       "<style scoped>\n",
       "    .dataframe tbody tr th:only-of-type {\n",
       "        vertical-align: middle;\n",
       "    }\n",
       "\n",
       "    .dataframe tbody tr th {\n",
       "        vertical-align: top;\n",
       "    }\n",
       "\n",
       "    .dataframe thead th {\n",
       "        text-align: right;\n",
       "    }\n",
       "</style>\n",
       "<table border=\"1\" class=\"dataframe\">\n",
       "  <thead>\n",
       "    <tr style=\"text-align: right;\">\n",
       "      <th></th>\n",
       "      <th>id</th>\n",
       "      <th>discourse_id</th>\n",
       "      <th>discourse_start</th>\n",
       "      <th>discourse_end</th>\n",
       "      <th>discourse_text</th>\n",
       "      <th>discourse_type</th>\n",
       "      <th>discourse_type_num</th>\n",
       "      <th>predictionstring</th>\n",
       "      <th>cluster_id</th>\n",
       "    </tr>\n",
       "  </thead>\n",
       "  <tbody>\n",
       "    <tr>\n",
       "      <th>0</th>\n",
       "      <td>423A1CA112E2</td>\n",
       "      <td>1.622628e+12</td>\n",
       "      <td>8.0</td>\n",
       "      <td>229.0</td>\n",
       "      <td>Modern humans today are always on their phone....</td>\n",
       "      <td>Lead</td>\n",
       "      <td>Lead 1</td>\n",
       "      <td>1 2 3 4 5 6 7 8 9 10 11 12 13 14 15 16 17 18 1...</td>\n",
       "      <td>13</td>\n",
       "    </tr>\n",
       "    <tr>\n",
       "      <th>1</th>\n",
       "      <td>423A1CA112E2</td>\n",
       "      <td>1.622628e+12</td>\n",
       "      <td>230.0</td>\n",
       "      <td>312.0</td>\n",
       "      <td>They are some really bad consequences when stu...</td>\n",
       "      <td>Position</td>\n",
       "      <td>Position 1</td>\n",
       "      <td>45 46 47 48 49 50 51 52 53 54 55 56 57 58 59</td>\n",
       "      <td>13</td>\n",
       "    </tr>\n",
       "    <tr>\n",
       "      <th>2</th>\n",
       "      <td>423A1CA112E2</td>\n",
       "      <td>1.622628e+12</td>\n",
       "      <td>313.0</td>\n",
       "      <td>401.0</td>\n",
       "      <td>Some certain areas in the United States ban ph...</td>\n",
       "      <td>Evidence</td>\n",
       "      <td>Evidence 1</td>\n",
       "      <td>60 61 62 63 64 65 66 67 68 69 70 71 72 73 74 75</td>\n",
       "      <td>13</td>\n",
       "    </tr>\n",
       "    <tr>\n",
       "      <th>3</th>\n",
       "      <td>423A1CA112E2</td>\n",
       "      <td>1.622628e+12</td>\n",
       "      <td>402.0</td>\n",
       "      <td>758.0</td>\n",
       "      <td>When people have phones, they know about certa...</td>\n",
       "      <td>Evidence</td>\n",
       "      <td>Evidence 2</td>\n",
       "      <td>76 77 78 79 80 81 82 83 84 85 86 87 88 89 90 9...</td>\n",
       "      <td>13</td>\n",
       "    </tr>\n",
       "    <tr>\n",
       "      <th>4</th>\n",
       "      <td>423A1CA112E2</td>\n",
       "      <td>1.622628e+12</td>\n",
       "      <td>759.0</td>\n",
       "      <td>886.0</td>\n",
       "      <td>Driving is one of the way how to get around. P...</td>\n",
       "      <td>Claim</td>\n",
       "      <td>Claim 1</td>\n",
       "      <td>139 140 141 142 143 144 145 146 147 148 149 15...</td>\n",
       "      <td>13</td>\n",
       "    </tr>\n",
       "    <tr>\n",
       "      <th>...</th>\n",
       "      <td>...</td>\n",
       "      <td>...</td>\n",
       "      <td>...</td>\n",
       "      <td>...</td>\n",
       "      <td>...</td>\n",
       "      <td>...</td>\n",
       "      <td>...</td>\n",
       "      <td>...</td>\n",
       "      <td>...</td>\n",
       "    </tr>\n",
       "    <tr>\n",
       "      <th>144288</th>\n",
       "      <td>4C471936CD75</td>\n",
       "      <td>1.618153e+12</td>\n",
       "      <td>2234.0</td>\n",
       "      <td>3203.0</td>\n",
       "      <td>if I'm not sure what college I want to attend...</td>\n",
       "      <td>Evidence</td>\n",
       "      <td>Evidence 2</td>\n",
       "      <td>386 387 388 389 390 391 392 393 394 395 396 39...</td>\n",
       "      <td>1</td>\n",
       "    </tr>\n",
       "    <tr>\n",
       "      <th>144289</th>\n",
       "      <td>4C471936CD75</td>\n",
       "      <td>1.618153e+12</td>\n",
       "      <td>3221.0</td>\n",
       "      <td>4509.0</td>\n",
       "      <td>seeking multiple opinions before making a har...</td>\n",
       "      <td>Evidence</td>\n",
       "      <td>Evidence 3</td>\n",
       "      <td>576 577 578 579 580 581 582 583 584 585 586 58...</td>\n",
       "      <td>1</td>\n",
       "    </tr>\n",
       "    <tr>\n",
       "      <th>144290</th>\n",
       "      <td>4C471936CD75</td>\n",
       "      <td>1.618025e+12</td>\n",
       "      <td>4510.0</td>\n",
       "      <td>4570.0</td>\n",
       "      <td>it is better to seek multiple opinions instead...</td>\n",
       "      <td>Position</td>\n",
       "      <td>Position 1</td>\n",
       "      <td>828 829 830 831 832 833 834 835 836 837 838</td>\n",
       "      <td>1</td>\n",
       "    </tr>\n",
       "    <tr>\n",
       "      <th>144291</th>\n",
       "      <td>4C471936CD75</td>\n",
       "      <td>1.618025e+12</td>\n",
       "      <td>4570.0</td>\n",
       "      <td>4922.0</td>\n",
       "      <td>The impact of asking people to help you make a...</td>\n",
       "      <td>Evidence</td>\n",
       "      <td>Evidence 4</td>\n",
       "      <td>839 840 841 842 843 844 845 846 847 848 849 85...</td>\n",
       "      <td>1</td>\n",
       "    </tr>\n",
       "    <tr>\n",
       "      <th>144292</th>\n",
       "      <td>4C471936CD75</td>\n",
       "      <td>1.618025e+12</td>\n",
       "      <td>4935.0</td>\n",
       "      <td>5825.0</td>\n",
       "      <td>there are many other reasons one might want to...</td>\n",
       "      <td>Concluding Statement</td>\n",
       "      <td>Concluding Statement 1</td>\n",
       "      <td>905 906 907 908 909 910 911 912 913 914 915 91...</td>\n",
       "      <td>1</td>\n",
       "    </tr>\n",
       "  </tbody>\n",
       "</table>\n",
       "<p>144293 rows × 9 columns</p>\n",
       "</div>"
      ],
      "text/plain": [
       "                  id  discourse_id  discourse_start  discourse_end  \\\n",
       "0       423A1CA112E2  1.622628e+12              8.0          229.0   \n",
       "1       423A1CA112E2  1.622628e+12            230.0          312.0   \n",
       "2       423A1CA112E2  1.622628e+12            313.0          401.0   \n",
       "3       423A1CA112E2  1.622628e+12            402.0          758.0   \n",
       "4       423A1CA112E2  1.622628e+12            759.0          886.0   \n",
       "...              ...           ...              ...            ...   \n",
       "144288  4C471936CD75  1.618153e+12           2234.0         3203.0   \n",
       "144289  4C471936CD75  1.618153e+12           3221.0         4509.0   \n",
       "144290  4C471936CD75  1.618025e+12           4510.0         4570.0   \n",
       "144291  4C471936CD75  1.618025e+12           4570.0         4922.0   \n",
       "144292  4C471936CD75  1.618025e+12           4935.0         5825.0   \n",
       "\n",
       "                                           discourse_text  \\\n",
       "0       Modern humans today are always on their phone....   \n",
       "1       They are some really bad consequences when stu...   \n",
       "2       Some certain areas in the United States ban ph...   \n",
       "3       When people have phones, they know about certa...   \n",
       "4       Driving is one of the way how to get around. P...   \n",
       "...                                                   ...   \n",
       "144288   if I'm not sure what college I want to attend...   \n",
       "144289   seeking multiple opinions before making a har...   \n",
       "144290  it is better to seek multiple opinions instead...   \n",
       "144291  The impact of asking people to help you make a...   \n",
       "144292  there are many other reasons one might want to...   \n",
       "\n",
       "              discourse_type      discourse_type_num  \\\n",
       "0                       Lead                  Lead 1   \n",
       "1                   Position              Position 1   \n",
       "2                   Evidence              Evidence 1   \n",
       "3                   Evidence              Evidence 2   \n",
       "4                      Claim                 Claim 1   \n",
       "...                      ...                     ...   \n",
       "144288              Evidence              Evidence 2   \n",
       "144289              Evidence              Evidence 3   \n",
       "144290              Position              Position 1   \n",
       "144291              Evidence              Evidence 4   \n",
       "144292  Concluding Statement  Concluding Statement 1   \n",
       "\n",
       "                                         predictionstring  cluster_id  \n",
       "0       1 2 3 4 5 6 7 8 9 10 11 12 13 14 15 16 17 18 1...          13  \n",
       "1            45 46 47 48 49 50 51 52 53 54 55 56 57 58 59          13  \n",
       "2         60 61 62 63 64 65 66 67 68 69 70 71 72 73 74 75          13  \n",
       "3       76 77 78 79 80 81 82 83 84 85 86 87 88 89 90 9...          13  \n",
       "4       139 140 141 142 143 144 145 146 147 148 149 15...          13  \n",
       "...                                                   ...         ...  \n",
       "144288  386 387 388 389 390 391 392 393 394 395 396 39...           1  \n",
       "144289  576 577 578 579 580 581 582 583 584 585 586 58...           1  \n",
       "144290        828 829 830 831 832 833 834 835 836 837 838           1  \n",
       "144291  839 840 841 842 843 844 845 846 847 848 849 85...           1  \n",
       "144292  905 906 907 908 909 910 911 912 913 914 915 91...           1  \n",
       "\n",
       "[144293 rows x 9 columns]"
      ]
     },
     "execution_count": 17,
     "metadata": {},
     "output_type": "execute_result"
    }
   ],
   "source": [
    "data"
   ]
  },
  {
   "cell_type": "code",
   "execution_count": 18,
   "id": "ed06b5c4-1f94-4a5f-995d-4302b218ccb0",
   "metadata": {
    "ExecuteTime": {
     "end_time": "2022-02-23T08:46:08.896842Z",
     "start_time": "2022-02-23T08:46:07.481678Z"
    },
    "tags": []
   },
   "outputs": [],
   "source": [
    "c = Counter()\n",
    "for z in data.discourse_text.values:\n",
    "    c.update(z)"
   ]
  },
  {
   "cell_type": "code",
   "execution_count": 19,
   "id": "97a4a7dd-d32d-4300-965a-87e3647b3600",
   "metadata": {
    "ExecuteTime": {
     "end_time": "2022-02-23T08:46:08.904158Z",
     "start_time": "2022-02-23T08:46:08.898027Z"
    },
    "collapsed": true,
    "jupyter": {
     "outputs_hidden": true
    },
    "tags": []
   },
   "outputs": [
    {
     "data": {
      "text/plain": [
       "[('ó', 1),\n",
       " ('^', 1),\n",
       " ('£', 1),\n",
       " ('Ó', 1),\n",
       " ('\\x83', 1),\n",
       " ('©', 1),\n",
       " ('º', 1),\n",
       " ('Ë', 1),\n",
       " ('þ', 1),\n",
       " ('®', 1),\n",
       " ('å', 1),\n",
       " ('<', 1),\n",
       " ('>', 2),\n",
       " ('°', 2),\n",
       " ('\\x91', 2),\n",
       " ('¬', 2),\n",
       " ('\\x85', 3),\n",
       " ('@', 5),\n",
       " ('\\x80', 5),\n",
       " ('â', 5),\n",
       " ('|', 6),\n",
       " ('{', 6),\n",
       " ('~', 6),\n",
       " ('}', 7),\n",
       " ('¢', 7),\n",
       " ('=', 19),\n",
       " ('\\\\', 20),\n",
       " ('*', 29),\n",
       " ('\\x97', 63),\n",
       " ('Z', 71),\n",
       " ('X', 74),\n",
       " ('Q', 74),\n",
       " ('\\x94', 81),\n",
       " ('\\x93', 81),\n",
       " ('+', 85),\n",
       " ('\\x92', 102),\n",
       " ('#', 111),\n",
       " ('\\x82', 126),\n",
       " ('Ã', 130),\n",
       " ('Â', 137),\n",
       " ('`', 165),\n",
       " ('´', 231),\n",
       " ('¨', 251),\n",
       " ('&', 252),\n",
       " (']', 278),\n",
       " ('[', 289),\n",
       " ('$', 628),\n",
       " ('%', 1652),\n",
       " ('K', 1680),\n",
       " ('/', 2017),\n",
       " (':', 2104),\n",
       " ('J', 2211),\n",
       " ('4', 3095),\n",
       " ('8', 3206),\n",
       " ('6', 3288),\n",
       " (';', 3358),\n",
       " ('7', 3543),\n",
       " ('_', 3561),\n",
       " ('!', 3639),\n",
       " ('(', 4188),\n",
       " (')', 4224),\n",
       " ('5', 4796),\n",
       " ('9', 4833),\n",
       " ('3', 5210),\n",
       " ('U', 5660),\n",
       " ('R', 5843),\n",
       " ('Y', 8180),\n",
       " ('2', 8388),\n",
       " ('L', 8407),\n",
       " ('G', 9531),\n",
       " ('1', 9598),\n",
       " ('?', 11067),\n",
       " ('D', 11633),\n",
       " ('z', 11834),\n",
       " ('H', 11973),\n",
       " ('O', 12465),\n",
       " ('V', 13309),\n",
       " ('q', 13621),\n",
       " ('P', 13964),\n",
       " ('N', 14649),\n",
       " ('B', 15484),\n",
       " ('0', 15552),\n",
       " ('-', 15999),\n",
       " ('F', 16089),\n",
       " ('M', 18285),\n",
       " ('\\xa0', 19391),\n",
       " ('E', 22576),\n",
       " ('W', 25457),\n",
       " ('C', 25507),\n",
       " ('\\n', 32628),\n",
       " ('\"', 35786),\n",
       " ('S', 42072),\n",
       " ('A', 44730),\n",
       " ('x', 49541),\n",
       " ('j', 50949),\n",
       " (\"'\", 66288),\n",
       " ('T', 74491),\n",
       " ('I', 84993),\n",
       " (',', 199998),\n",
       " ('k', 228835),\n",
       " ('.', 287688),\n",
       " ('v', 352742),\n",
       " ('b', 383121),\n",
       " ('w', 494917),\n",
       " ('f', 507801),\n",
       " ('p', 550889),\n",
       " ('g', 563373),\n",
       " ('y', 574956),\n",
       " ('m', 600614),\n",
       " ('c', 858019),\n",
       " ('u', 877071),\n",
       " ('d', 982343),\n",
       " ('l', 1213494),\n",
       " ('h', 1449486),\n",
       " ('r', 1486337),\n",
       " ('i', 1755028),\n",
       " ('s', 1806989),\n",
       " ('n', 1862286),\n",
       " ('a', 2093511),\n",
       " ('o', 2323216),\n",
       " ('t', 2696093),\n",
       " ('e', 3528791),\n",
       " (' ', 6207043)]"
      ]
     },
     "execution_count": 19,
     "metadata": {},
     "output_type": "execute_result"
    }
   ],
   "source": [
    "sorted(c.items(), key=lambda x: x[1])"
   ]
  },
  {
   "cell_type": "code",
   "execution_count": 20,
   "id": "ed12012a-4a33-49cc-85c3-af924863b66a",
   "metadata": {
    "ExecuteTime": {
     "end_time": "2022-02-23T08:46:08.922435Z",
     "start_time": "2022-02-23T08:46:08.904905Z"
    }
   },
   "outputs": [
    {
     "name": "stdout",
     "output_type": "stream",
     "text": [
      "\n"
     ]
    }
   ],
   "source": [
    "print('\\x82')"
   ]
  },
  {
   "cell_type": "code",
   "execution_count": 21,
   "id": "a820c6de",
   "metadata": {
    "ExecuteTime": {
     "end_time": "2022-02-23T08:46:09.395104Z",
     "start_time": "2022-02-23T08:46:09.389694Z"
    },
    "scrolled": true
   },
   "outputs": [
    {
     "data": {
      "text/plain": [
       "8916    F91D7BB4277C\n",
       "Name: id, dtype: object"
      ]
     },
     "execution_count": 21,
     "metadata": {},
     "output_type": "execute_result"
    }
   ],
   "source": [
    "data.loc[data.discourse_id==1623258656795.0, 'id']"
   ]
  },
  {
   "cell_type": "code",
   "execution_count": 22,
   "id": "58ee928b",
   "metadata": {
    "ExecuteTime": {
     "end_time": "2022-02-23T08:46:10.087974Z",
     "start_time": "2022-02-23T08:46:10.083720Z"
    }
   },
   "outputs": [
    {
     "name": "stdout",
     "output_type": "stream",
     "text": [
      "This whole thing is point less how they have us in here for two days im missing my education. We could have finished this in one day and had the rest of the week to get back on the track of learning. I've missed both days of weight lifting, algebra, and my world history that i do not want to fail again! If their are any people actually gonna sit down and take the time to read this then\n",
      "\n",
      "DO NOT DO THIS NEXT YEAR\n",
      "\n",
      ".\n",
      "\n",
      "They are giving us cold lunches. ham and cheese and an apple, I am 16\n",
      "\n",
      "years old and my body needs proper food. I wouldnt be complaining if they served actual breakfast. but because of Michelle Obama and her healthy diet rule they surve us 1 poptart in the moring. How does the school board expect us to last from 7:05-12:15 on a pop tart? then expect us to get A's, we are more focused on lunch than anything else. I am about done so if you have the time to read this even though this does not count. Bring PROPER_NAME a big Mac from mc donalds, SCHOOL_NAME, (idk area code but its in florida)            \n"
     ]
    }
   ],
   "source": [
    "print(data.loc[data.discourse_id==1623258656795.0, 'discourse_text'][8916])"
   ]
  },
  {
   "cell_type": "code",
   "execution_count": 23,
   "id": "42e322d7-847c-4443-bc17-892597fcde46",
   "metadata": {
    "ExecuteTime": {
     "end_time": "2022-02-23T08:46:10.542560Z",
     "start_time": "2022-02-23T08:46:10.529159Z"
    }
   },
   "outputs": [],
   "source": [
    "data.loc[data.discourse_id==1623258656795.0, 'discourse_text'] = data.loc[data.discourse_id==1623258656795.0, \n",
    "                                                                          'discourse_text'].map(lambda x: x.replace('florida', 'LOCATION_NAME')).values"
   ]
  },
  {
   "cell_type": "markdown",
   "id": "8e527987",
   "metadata": {},
   "source": [
    "## Visualize text data"
   ]
  },
  {
   "cell_type": "code",
   "execution_count": 24,
   "id": "3d65d241-f9b9-48a9-9d91-0bec0382338e",
   "metadata": {
    "ExecuteTime": {
     "end_time": "2022-02-23T08:46:12.093970Z",
     "start_time": "2022-02-23T08:46:12.087921Z"
    },
    "code_folding": []
   },
   "outputs": [],
   "source": [
    "def show_sample(ID):\n",
    "    \n",
    "    with open(f'train/{ID}.txt', encoding='utf-8') as f:\n",
    "        org_text = f.read()\n",
    "\n",
    "    dsc = data.loc[data.id == ID].sort_values('discourse_start')\n",
    "    \n",
    "    ents = []\n",
    "    pointer = 0\n",
    "    for _, row in dsc.iterrows():\n",
    "        entity = row.discourse_text.strip()\n",
    "        \n",
    "        # find the beginning of the \n",
    "        starts_at = org_text[pointer:].index(entity) + pointer\n",
    "        ents.append({'start': starts_at, 'end': starts_at + len(entity), 'label': row.discourse_type})\n",
    "        pointer = starts_at + len(entity)\n",
    "\n",
    "    spacy.displacy.render({'text': org_text, 'ents': ents, 'title': ID}, style=\"ent\",\n",
    "                          options=options, manual=True, jupyter=True)"
   ]
  },
  {
   "cell_type": "code",
   "execution_count": 25,
   "id": "990af642",
   "metadata": {
    "ExecuteTime": {
     "end_time": "2022-02-23T08:46:12.695291Z",
     "start_time": "2022-02-23T08:46:12.692852Z"
    }
   },
   "outputs": [],
   "source": [
    "ID = 'F91D7BB4277C'\n",
    "\n",
    "# # this id works\n",
    "# ID = ids[0]"
   ]
  },
  {
   "cell_type": "code",
   "execution_count": 26,
   "id": "38eefd9c",
   "metadata": {
    "ExecuteTime": {
     "end_time": "2022-02-23T08:46:13.749026Z",
     "start_time": "2022-02-23T08:46:13.735800Z"
    }
   },
   "outputs": [
    {
     "data": {
      "text/html": [
       "<span class=\"tex2jax_ignore\"><h2 style=\"margin: 0\">F91D7BB4277C</h2>\n",
       "\n",
       "<div class=\"entities\" style=\"line-height: 2.5; direction: ltr\">\n",
       "<mark class=\"entity\" style=\"background: #2b7ff6; padding: 0.45em 0.6em; margin: 0 0.25em; line-height: 1; border-radius: 0.35em;\">\n",
       "    If we limit our car usage throughout the year we can cut the rate of carbon dioxiod we produce by 1/2\n",
       "    <span style=\"font-size: 0.8em; font-weight: bold; line-height: 1; border-radius: 0.35em; vertical-align: middle; margin-left: 0.5rem\">Position</span>\n",
       "</mark>\n",
       "! \n",
       "<mark class=\"entity\" style=\"background: #2adddd; padding: 0.45em 0.6em; margin: 0 0.25em; line-height: 1; border-radius: 0.35em;\">\n",
       "    That will save uor trees, animals, and even our own lifes in the future. Also the ablity to save as many fossil fuels we have remaining cause everyone knows we are starting to run completly out and can not creat any more\n",
       "    <span style=\"font-size: 0.8em; font-weight: bold; line-height: 1; border-radius: 0.35em; vertical-align: middle; margin-left: 0.5rem\">Evidence</span>\n",
       "</mark>\n",
       ". By doing this \n",
       "<mark class=\"entity\" style=\"background: #80ffb4; padding: 0.45em 0.6em; margin: 0 0.25em; line-height: 1; border-radius: 0.35em;\">\n",
       "    we save time and energy\n",
       "    <span style=\"font-size: 0.8em; font-weight: bold; line-height: 1; border-radius: 0.35em; vertical-align: middle; margin-left: 0.5rem\">Claim</span>\n",
       "</mark>\n",
       " and \n",
       "<mark class=\"entity\" style=\"background: #80ffb4; padding: 0.45em 0.6em; margin: 0 0.25em; line-height: 1; border-radius: 0.35em;\">\n",
       "    creat a healthy envirnment.\n",
       "    <span style=\"font-size: 0.8em; font-weight: bold; line-height: 1; border-radius: 0.35em; vertical-align: middle; margin-left: 0.5rem\">Claim</span>\n",
       "</mark>\n",
       "</br></br>\n",
       "<mark class=\"entity\" style=\"background: #2adddd; padding: 0.45em 0.6em; margin: 0 0.25em; line-height: 1; border-radius: 0.35em;\">\n",
       "    If we slowly progress the fact that we are only using our automobiles\n",
       "\n",
       "345/360 days a year will cut back our usage for fossile fuels by 15%.\n",
       "    <span style=\"font-size: 0.8em; font-weight: bold; line-height: 1; border-radius: 0.35em; vertical-align: middle; margin-left: 0.5rem\">Evidence</span>\n",
       "</mark>\n",
       " \n",
       "<mark class=\"entity\" style=\"background: #2adddd; padding: 0.45em 0.6em; margin: 0 0.25em; line-height: 1; border-radius: 0.35em;\">\n",
       "    This whole thing is point less how they have us in here for two days im missing my education. We could have finished this in one day and had the rest of the week to get back on the track of learning. I've missed both days of weight lifting, algebra, and my world history that i do not want to fail again! If their are any people actually gonna sit down and take the time to read this then\n",
       "\n",
       "DO NOT DO THIS NEXT YEAR\n",
       "\n",
       ".\n",
       "\n",
       "They are giving us cold lunches. ham and cheese and an apple, I am 16\n",
       "\n",
       "years old and my body needs proper food. I wouldnt be complaining if they served actual breakfast. but because of Michelle Obama and her healthy diet rule they surve us 1 poptart in the moring. How does the school board expect us to last from 7:05-12:15 on a pop tart? then expect us to get A's, we are more focused on lunch than anything else. I am about done so if you have the time to read this even though this does not count. Bring PROPER_NAME a big Mac from mc donalds, SCHOOL_NAME, (idk area code but its in LOCATION_NAME)\n",
       "    <span style=\"font-size: 0.8em; font-weight: bold; line-height: 1; border-radius: 0.35em; vertical-align: middle; margin-left: 0.5rem\">Evidence</span>\n",
       "</mark>\n",
       "            </div></span>"
      ],
      "text/plain": [
       "<IPython.core.display.HTML object>"
      ]
     },
     "metadata": {},
     "output_type": "display_data"
    }
   ],
   "source": [
    "show_sample(ID)"
   ]
  },
  {
   "cell_type": "code",
   "execution_count": 27,
   "id": "f06d7214-0112-408e-9ec2-d384dcb4574f",
   "metadata": {
    "ExecuteTime": {
     "end_time": "2022-02-23T08:46:14.330617Z",
     "start_time": "2022-02-23T08:46:14.327826Z"
    }
   },
   "outputs": [],
   "source": [
    "regexp = re.compile('(?s:.)*[a-zA-z0-9].*')"
   ]
  },
  {
   "cell_type": "markdown",
   "id": "c20bcc3d",
   "metadata": {},
   "source": [
    "## chunk Statistics\n",
    "> Get the statistic information of chunks that has no label\n",
    "- chunk number per ID\n",
    "- chunk length per ID\n",
    "- chunk relative length normalized by `labeled chunk length` per ID\n",
    "\n",
    "**Additionally save information related to topic**\n",
    "- chunk number per topic\n",
    "- chunk length per topic\n",
    "- chunk relative length normalized by `labeled chunk length` per topic"
   ]
  },
  {
   "cell_type": "code",
   "execution_count": 28,
   "id": "5bafa5b4",
   "metadata": {
    "ExecuteTime": {
     "end_time": "2022-02-23T08:46:16.634080Z",
     "start_time": "2022-02-23T08:46:16.629735Z"
    }
   },
   "outputs": [
    {
     "data": {
      "text/plain": [
       "array([13,  5, 12,  7, 14, -1,  3, 11,  8,  2,  1,  9,  0, 10,  6,  4],\n",
       "      dtype=int32)"
      ]
     },
     "execution_count": 28,
     "metadata": {},
     "output_type": "execute_result"
    }
   ],
   "source": [
    "data.cluster_id.unique()"
   ]
  },
  {
   "cell_type": "code",
   "execution_count": 29,
   "id": "309b4018-0408-422d-b8ba-58982863ff64",
   "metadata": {
    "ExecuteTime": {
     "end_time": "2022-02-23T08:48:35.524690Z",
     "start_time": "2022-02-23T08:46:46.882629Z"
    }
   },
   "outputs": [
    {
     "name": "stderr",
     "output_type": "stream",
     "text": [
      "100% 15594/15594 [01:48<00:00, 143.55it/s]\n"
     ]
    }
   ],
   "source": [
    "# chunks by ID\n",
    "other_chunks_rel_map = {}\n",
    "other_chunks_abs_map = {}\n",
    "other_chunks_num_map = {}\n",
    "\n",
    "# chunks by 15 topics\n",
    "num_other_chunks = [[] for _ in range(15)]\n",
    "mean_abs_size_other_chunks = [[] for _ in range(15)]\n",
    "mean_rel_size_other_chunks = [[] for _ in range(15)]\n",
    "\n",
    "for ID in tqdm(ids):\n",
    "    # other chunks - group of words that is not entity\n",
    "    # ents - entity\n",
    "    # segment_sizes - length of each entity\n",
    "    \n",
    "    other_chunks = []\n",
    "    with open(f'train/{ID}.txt', encoding='utf-8') as f:\n",
    "        org_text = f.read()\n",
    "    \n",
    "    segment_sizes = []\n",
    "    \n",
    "    # process text per ID\n",
    "    id_df = data.loc[data.id == ID].sort_values('discourse_start')\n",
    "    \n",
    "    ents = []\n",
    "    pointer = 0\n",
    "    \n",
    "    for _, row in id_df.iterrows():\n",
    "        entity = row.discourse_text.strip()\n",
    "        segment_sizes.append(len(entity))\n",
    "        offset = org_text[pointer:].index(entity)\n",
    "        \n",
    "        # when there is get information about the chunks without label\n",
    "        if offset > 0:\n",
    "            stripped_bit = org_text[pointer: pointer + offset].strip()\n",
    "            \n",
    "            # reg exr\n",
    "            if len(stripped_bit) and regexp.match(stripped_bit) is not None:\n",
    "                offset_text_size = len(stripped_bit)\n",
    "                other_chunks.append(offset_text_size)\n",
    "\n",
    "        starts_at = offset + pointer\n",
    "        ents.append({'start': starts_at, 'end': starts_at + len(entity), 'label': row.discourse_type})\n",
    "        pointer = starts_at + len(entity)\n",
    "     \n",
    "    # check there is no overlapped index sets\n",
    "    index_sets = [set(range(ent['start'], ent['end'])) for ent in ents]\n",
    "    if len(index_sets) > 2:\n",
    "        for a in range(len(index_sets)):\n",
    "            for b in range(a + 1, len(index_sets)):\n",
    "                 assert not index_sets[a].intersection(index_sets[b])\n",
    "                    \n",
    "    mean_segment_size = np.mean(segment_sizes)\n",
    "    \n",
    "    # topic has 15 types!\n",
    "    topic = id_df.iloc[0].cluster_id\n",
    "    \n",
    "    chunk_absolute_len = 0 if not len(other_chunks) else np.mean(other_chunks)\n",
    "    chunk_relative_len = 0 if not len(other_chunks) else np.mean(other_chunks) / mean_segment_size\n",
    "    chunk_n = len(other_chunks)\n",
    "    \n",
    "    # per topic\n",
    "    mean_abs_size_other_chunks[topic].append(chunk_absolute_len)\n",
    "    mean_rel_size_other_chunks[topic].append(chunk_relative_len)\n",
    "    num_other_chunks[topic].append(len(other_chunks))\n",
    "    \n",
    "    # per ID\n",
    "    other_chunks_abs_map[ID] = chunk_absolute_len\n",
    "    other_chunks_rel_map[ID] = chunk_relative_len\n",
    "    other_chunks_num_map[ID] = chunk_n"
   ]
  },
  {
   "cell_type": "code",
   "execution_count": 30,
   "id": "e788dc09-75b6-4f2a-8746-3a6c026e0fbd",
   "metadata": {
    "ExecuteTime": {
     "end_time": "2022-02-23T08:48:35.528063Z",
     "start_time": "2022-02-23T08:48:35.525754Z"
    }
   },
   "outputs": [],
   "source": [
    "all_ids = list(other_chunks_num_map.keys())"
   ]
  },
  {
   "cell_type": "code",
   "execution_count": 31,
   "id": "1adf576f-6d4f-4826-b716-efd815556799",
   "metadata": {
    "ExecuteTime": {
     "end_time": "2022-02-23T08:48:35.562453Z",
     "start_time": "2022-02-23T08:48:35.528900Z"
    }
   },
   "outputs": [
    {
     "data": {
      "text/html": [
       "<span class=\"tex2jax_ignore\"><h2 style=\"margin: 0\">CF48D9415493</h2>\n",
       "\n",
       "<div class=\"entities\" style=\"line-height: 2.5; direction: ltr\">\n",
       "<mark class=\"entity\" style=\"background: #8000ff; padding: 0.45em 0.6em; margin: 0 0.25em; line-height: 1; border-radius: 0.35em;\">\n",
       "    How would you feel if there is a machine that can tell you how youe feeling or what your emotions are?\n",
       "\n",
       "Well there is a software that is the lastest innovation from professer\n",
       "    <span style=\"font-size: 0.8em; font-weight: bold; line-height: 1; border-radius: 0.35em; vertical-align: middle; margin-left: 0.5rem\">Lead</span>\n",
       "</mark>\n",
       ". \n",
       "<mark class=\"entity\" style=\"background: #2b7ff6; padding: 0.45em 0.6em; margin: 0 0.25em; line-height: 1; border-radius: 0.35em;\">\n",
       "    I think this technology to read the emotional expressions of students in classrooms is valuable\n",
       "    <span style=\"font-size: 0.8em; font-weight: bold; line-height: 1; border-radius: 0.35em; vertical-align: middle; margin-left: 0.5rem\">Position</span>\n",
       "</mark>\n",
       " \n",
       "<mark class=\"entity\" style=\"background: #80ffb4; padding: 0.45em 0.6em; margin: 0 0.25em; line-height: 1; border-radius: 0.35em;\">\n",
       "    because its important for students to know how students are doing and feeling.\n",
       "    <span style=\"font-size: 0.8em; font-weight: bold; line-height: 1; border-radius: 0.35em; vertical-align: middle; margin-left: 0.5rem\">Claim</span>\n",
       "</mark>\n",
       " \n",
       "<mark class=\"entity\" style=\"background: #2adddd; padding: 0.45em 0.6em; margin: 0 0.25em; line-height: 1; border-radius: 0.35em;\">\n",
       "    Some students probably dont want to talk about how their feeling because there probably scared or something . Some kids in school go through depression which is bad because if kids go through depression, some kids will commit sucide and we dont want that to happen. For that computers to read humans minds, it has to have all fourty-four major muscles like in a human , then it also has to move like what humans muscle do. In this new software or invention, it can track your facial expressions and movement. Which that is amzaing because I really want to help our other students or kids out so they wont go through sad,depressed,mad,etc.\n",
       "    <span style=\"font-size: 0.8em; font-weight: bold; line-height: 1; border-radius: 0.35em; vertical-align: middle; margin-left: 0.5rem\">Evidence</span>\n",
       "</mark>\n",
       "</br></br>\n",
       "<mark class=\"entity\" style=\"background: d4dd80; padding: 0.45em 0.6em; margin: 0 0.25em; line-height: 1; border-radius: 0.35em;\">\n",
       "    My conclusion to this is that its very helpful to have a machine to read or can tell how kids are doing now. We dont want student nor kids going to think about committing suicdue. We lost so much syduents or kids because they are going bullying. If they being bullyed you can at least talk to them or try to have the new invention read their emotions. Everyone is imporatant to this world.\n",
       "    <span style=\"font-size: 0.8em; font-weight: bold; line-height: 1; border-radius: 0.35em; vertical-align: middle; margin-left: 0.5rem\">Concluding Statement</span>\n",
       "</mark>\n",
       " </div></span>"
      ],
      "text/plain": [
       "<IPython.core.display.HTML object>"
      ]
     },
     "metadata": {},
     "output_type": "display_data"
    }
   ],
   "source": [
    "show_sample(all_ids[np.argmin([other_chunks_rel_map[x] for x in all_ids])])"
   ]
  },
  {
   "cell_type": "code",
   "execution_count": 32,
   "id": "8e3dcfd9",
   "metadata": {
    "ExecuteTime": {
     "end_time": "2022-02-23T08:48:35.579961Z",
     "start_time": "2022-02-23T08:48:35.563681Z"
    }
   },
   "outputs": [
    {
     "data": {
      "text/html": [
       "<span class=\"tex2jax_ignore\"><h2 style=\"margin: 0\">4DF55925F544</h2>\n",
       "\n",
       "<div class=\"entities\" style=\"line-height: 2.5; direction: ltr\">\n",
       "<mark class=\"entity\" style=\"background: #2b7ff6; padding: 0.45em 0.6em; margin: 0 0.25em; line-height: 1; border-radius: 0.35em;\">\n",
       "    Why should we limit our uses on car usages\n",
       "    <span style=\"font-size: 0.8em; font-weight: bold; line-height: 1; border-radius: 0.35em; vertical-align: middle; margin-left: 0.5rem\">Position</span>\n",
       "</mark>\n",
       ", \n",
       "<mark class=\"entity\" style=\"background: #80ffb4; padding: 0.45em 0.6em; margin: 0 0.25em; line-height: 1; border-radius: 0.35em;\">\n",
       "    some people se the limiting of car usage as less tense\n",
       "    <span style=\"font-size: 0.8em; font-weight: bold; line-height: 1; border-radius: 0.35em; vertical-align: middle; margin-left: 0.5rem\">Claim</span>\n",
       "</mark>\n",
       ". \n",
       "<mark class=\"entity\" style=\"background: #2adddd; padding: 0.45em 0.6em; margin: 0 0.25em; line-height: 1; border-radius: 0.35em;\">\n",
       "    &quot; When I had a car I was always tense. I'm much happier this way&quot; said heidrun Walter, a mother of two. when you have a car you'll have to find space for it as well as a house to buy. There are only two places to park at the edge of a development, where a car-owner has to pay $40,000, along with a home.\n",
       "    <span style=\"font-size: 0.8em; font-weight: bold; line-height: 1; border-radius: 0.35em; vertical-align: middle; margin-left: 0.5rem\">Evidence</span>\n",
       "</mark>\n",
       " \n",
       "<mark class=\"entity\" style=\"background: #2adddd; padding: 0.45em 0.6em; margin: 0 0.25em; line-height: 1; border-radius: 0.35em;\">\n",
       "    passenger cars are responcible for 12 percent of greenhouse gas emissions in Europe, and up to 50 percent in the United states. with less cars people have the advantages of being a walk away from a store instead of a highway\n",
       "    <span style=\"font-size: 0.8em; font-weight: bold; line-height: 1; border-radius: 0.35em; vertical-align: middle; margin-left: 0.5rem\">Evidence</span>\n",
       "</mark>\n",
       ". \n",
       "<mark class=\"entity\" style=\"background: #80ffb4; padding: 0.45em 0.6em; margin: 0 0.25em; line-height: 1; border-radius: 0.35em;\">\n",
       "    With less cars that give off gas emissions the less our ozone will deplete.\n",
       "    <span style=\"font-size: 0.8em; font-weight: bold; line-height: 1; border-radius: 0.35em; vertical-align: middle; margin-left: 0.5rem\">Claim</span>\n",
       "</mark>\n",
       " More and more people are using hybrid cars because they dont give off as much gas emissions than regular cars that take diesel. Depending on the weather of the night and day could really effect the greenhouse effect of our planet. If ther was a cold night and a warm day this could help the warmer layer of air to trap the car emissions, which depletes the ozone layer that is protecting our planet.</br></br>Paris one of the most leading countries in the world with the car emissions ended making people stop using their cars because of all the smog that was  being created. People who used their cars were fined $31 and if they complained about that their car would somethimes be towed away. While the rule of no cars was in effect the traffic jams in france were down over 60 percent. Think about what this could do to the United States. The smog had cleard so much that Paris eventually allowed odd numbered plates to drive again on Tuesday. &quot; 'It's a good oppourtunity to take away stress and lower air pollution'  said Carlos Arturo as he rode with his wife on a two seat bicycle&quot; ( Andrew Selsky, Source 3). The no car rule is sweeping over the nations, because of this rule there has been over 118 miles of bicycle paths in Bogota, Colombia.</br></br>&quot; Municipal athorities from other countries came to Bogota to see the event and were enthusiastic 'These poeple are generating a revolutionary change, and this is crossing borders' Said Enrique Riera, the mayor of asuncion, Paraguay. As of April 2013, the number of miles driven per person was nearly down by 9 percent below the peak and equal to where the country was in January of 1995. Part of the explantion lies in the recession, because cash- strapped Americans could not afford new cars, and the unimployed weren't going to  work anyway. These people could not afford cars but they could have afforded a bike if they wanted to. They could have rode to work on a bike or could have tried to find a job on a bike it's that people are starting to get to lazy to do important things like ride a bike. With cars theres gas you have to pay for along with the insurence, that's a lot of money.</br></br>\n",
       "<mark class=\"entity\" style=\"background: #2adddd; padding: 0.45em 0.6em; margin: 0 0.25em; line-height: 1; border-radius: 0.35em;\">\n",
       "    Lucky for us Americas love affair twords vehicles seem to be coling down. When the number of child growth grew, the number of miles driven dropped steadly down in 2005.\n",
       "    <span style=\"font-size: 0.8em; font-weight: bold; line-height: 1; border-radius: 0.35em; vertical-align: middle; margin-left: 0.5rem\">Evidence</span>\n",
       "</mark>\n",
       " \n",
       "<mark class=\"entity\" style=\"background: #80ffb4; padding: 0.45em 0.6em; margin: 0 0.25em; line-height: 1; border-radius: 0.35em;\">\n",
       "    With cars the rodes are more dangerous anything could happen to anyone or anything.\n",
       "    <span style=\"font-size: 0.8em; font-weight: bold; line-height: 1; border-radius: 0.35em; vertical-align: middle; margin-left: 0.5rem\">Claim</span>\n",
       "</mark>\n",
       " The percentage of 16-39 year olds that are driving dropped, while older people retain thweir licenses as they age. A study last year was found tha driving by younger people dropped by 23 percent between 2001 and 2009. Bill Ford proposed partnering with telecommunactions industrys to create cities in which &quot; pedestrian, bicycle, private cars, commercial and public transportation traffic are woven into a connected network to save time, conserve resources, lower emissions and improive safety&quot;. In Germeny the banning of cars resulted that 70 percent of families donot have cars, and 57 perecnt sold a car to move there. \n",
       "<mark class=\"entity\" style=\"background: d4dd80; padding: 0.45em 0.6em; margin: 0 0.25em; line-height: 1; border-radius: 0.35em;\">\n",
       "    In doing all of these thing this could help stop the greenhouse effect on our planet and start saving it insted of killing it.\n",
       "    <span style=\"font-size: 0.8em; font-weight: bold; line-height: 1; border-radius: 0.35em; vertical-align: middle; margin-left: 0.5rem\">Concluding Statement</span>\n",
       "</mark>\n",
       "                                          </div></span>"
      ],
      "text/plain": [
       "<IPython.core.display.HTML object>"
      ]
     },
     "metadata": {},
     "output_type": "display_data"
    }
   ],
   "source": [
    "show_sample(all_ids[np.argmax([other_chunks_rel_map[x] for x in all_ids])])"
   ]
  },
  {
   "cell_type": "code",
   "execution_count": 33,
   "id": "2d26fd26-aece-4bbc-bc2b-326b39a6080f",
   "metadata": {
    "ExecuteTime": {
     "end_time": "2022-02-23T08:48:35.589453Z",
     "start_time": "2022-02-23T08:48:35.580778Z"
    }
   },
   "outputs": [
    {
     "data": {
      "text/plain": [
       "{'Lead': 0,\n",
       " 'Position': 1,\n",
       " 'Evidence': 2,\n",
       " 'Claim': 3,\n",
       " 'Concluding Statement': 4,\n",
       " 'Counterclaim': 5,\n",
       " 'Rebuttal': 6}"
      ]
     },
     "execution_count": 33,
     "metadata": {},
     "output_type": "execute_result"
    }
   ],
   "source": [
    "ents2idx = dict(zip(colors.keys(), range(len(colors))))\n",
    "ents2idx"
   ]
  },
  {
   "cell_type": "code",
   "execution_count": 34,
   "id": "49d2e844-dfd9-4f02-bca4-fb48d9a95aec",
   "metadata": {
    "ExecuteTime": {
     "end_time": "2022-02-23T08:48:35.599435Z",
     "start_time": "2022-02-23T08:48:35.590626Z"
    }
   },
   "outputs": [],
   "source": [
    "def count_entities(df):    \n",
    "    ent_counts = np.zeros(7)\n",
    "    for _, row in df.iterrows():\n",
    "        ent_counts[ents2idx[row.discourse_type]] += 1\n",
    "\n",
    "    return ent_counts"
   ]
  },
  {
   "cell_type": "code",
   "execution_count": 35,
   "id": "0ef9e2e7-fe00-49c8-9bb3-1e5ccd1dabb3",
   "metadata": {
    "ExecuteTime": {
     "end_time": "2022-02-23T08:48:35.637585Z",
     "start_time": "2022-02-23T08:48:35.600512Z"
    }
   },
   "outputs": [
    {
     "data": {
      "text/plain": [
       "[19, 136, 74, 129, 76, 118, 44, 107, 83, 15, 20, 80, 46, 23, 119]"
      ]
     },
     "execution_count": 35,
     "metadata": {},
     "output_type": "execute_result"
    }
   ],
   "source": [
    "# count how many text's no label chunk has bigger relative size than 0.5 for each topic\n",
    "[sum([rel_size > .5 for rel_size in mean_rel_size_other_chunks[topic]]) for topic in range(15)]"
   ]
  },
  {
   "cell_type": "code",
   "execution_count": 36,
   "id": "06bd9be3",
   "metadata": {
    "ExecuteTime": {
     "end_time": "2022-02-23T08:48:35.648269Z",
     "start_time": "2022-02-23T08:48:35.638353Z"
    }
   },
   "outputs": [
    {
     "data": {
      "text/plain": [
       "16"
      ]
     },
     "execution_count": 36,
     "metadata": {},
     "output_type": "execute_result"
    }
   ],
   "source": [
    "data.cluster_id.nunique()"
   ]
  },
  {
   "cell_type": "markdown",
   "id": "6558c9e9",
   "metadata": {},
   "source": [
    "## Split data\n",
    "> `counts per discourse` and `UMAP clustering` is used to split data\n",
    "\n",
    "```python\n",
    "UMAP(n_neighbors=nn, n_components=1, random_state=seed)\n",
    "```\n",
    "\n",
    "- Seeds for umap clustering \n",
    "- Number of neighbors\n",
    "- Use normalization(75% quantile among cluster discourse counts) for `counter per discourse` of not"
   ]
  },
  {
   "cell_type": "code",
   "execution_count": 37,
   "id": "0512572c-dbba-4c67-8a45-da1e1480c5bc",
   "metadata": {
    "ExecuteTime": {
     "end_time": "2022-02-23T08:55:00.648396Z",
     "start_time": "2022-02-23T08:48:50.877065Z"
    }
   },
   "outputs": [
    {
     "name": "stderr",
     "output_type": "stream",
     "text": [
      "100% 5/5 [01:14<00:00, 14.89s/it]\n",
      "100% 5/5 [01:13<00:00, 14.61s/it]\n",
      "100% 5/5 [01:13<00:00, 14.60s/it]\n",
      "100% 5/5 [01:14<00:00, 14.84s/it]\n",
      "100% 5/5 [01:15<00:00, 15.01s/it]\n"
     ]
    }
   ],
   "source": [
    "nseeds = 5\n",
    "nfolds = 5\n",
    "\n",
    "all_splits = {}\n",
    "for seed in range(nseeds):\n",
    "    \n",
    "    all_splits[seed] = {}\n",
    "    for nn in tqdm((25, 50, 100, 150, 250)):\n",
    "        \n",
    "        all_splits[seed][nn] = {}\n",
    "        for normed, key in zip((True, False), ('normed', 'not_normed')):\n",
    "            \n",
    "            fold_ids = [[] for _ in range(nfolds)]\n",
    "            \n",
    "            # split by each topic(cluster)!\n",
    "            for cluster_id in range(15):\n",
    "                \n",
    "                cluster_df = data.loc[data.cluster_id == cluster_id]\n",
    "                cluster_counts_df = cluster_df.groupby('id').apply(count_entities)\n",
    "                text_ids = cluster_counts_df.index \n",
    "                \n",
    "                # text that relative size of no label chunk is bigger than 50%\n",
    "                much_free_text_ids = set(text_id for text_id in text_ids if other_chunks_rel_map[text_id] > .5)\n",
    "                sorted_much_free_text_ids = sorted(much_free_text_ids, key=lambda x: other_chunks_rel_map[x])\n",
    "                cluster_ent_embs = np.vstack(cluster_counts_df.values)\n",
    "                \n",
    "                # use 75 quantile of each discourse element counts among texts for normalization\n",
    "                eps = 1\n",
    "                if normed:\n",
    "                    cluster_ent_embs /= (np.quantile(cluster_ent_embs, .75, axis=0,) + eps)\n",
    "                \n",
    "                umap = UMAP(n_neighbors=nn, n_components=1, random_state=seed)\n",
    "                embs_1d = umap.fit_transform(cupy.array(cluster_ent_embs))    \n",
    "                sorted_index = np.argsort(embs_1d.get().ravel())\n",
    "                \n",
    "                for fold in range(nfolds):\n",
    "                    # includes text that relative size of no label chunk is smaller than 50%\n",
    "                    fold_ids[fold].extend(text_id for text_id in text_ids[sorted_index[fold::5]] if text_id not in much_free_text_ids)\n",
    "                    \n",
    "                    # includes text that relative size of no label chunk is bigger than 50%\n",
    "                    fold_ids[fold].extend(sorted_much_free_text_ids[fold::5])\n",
    "            \n",
    "            # check fold doens't include the same texts\n",
    "            for fold_cur in range(nfolds):\n",
    "                for fold_next in range(a + 1, nfolds):\n",
    "                    assert not set(fold_ids[fold_cur]).intersection(set(fold_ids[fold_next]))\n",
    "\n",
    "            all_splits[seed][nn][key] = fold_ids"
   ]
  },
  {
   "cell_type": "code",
   "execution_count": 188,
   "id": "e24f49ea-ded7-49c8-b8e0-f50bde86ca70",
   "metadata": {},
   "outputs": [],
   "source": [
    "with open('data_splits.pickle', 'wb') as f:\n",
    "    import dill as pickle\n",
    "    pickle.dump(all_splits, f)"
   ]
  },
  {
   "cell_type": "code",
   "execution_count": 190,
   "id": "ad74ea8b-3aa5-4aeb-a4c1-c0a732b851bb",
   "metadata": {},
   "outputs": [
    {
     "data": {
      "text/plain": [
       "[3140, 3121, 3139, 3096, 3098]"
      ]
     },
     "execution_count": 190,
     "metadata": {},
     "output_type": "execute_result"
    }
   ],
   "source": [
    "[len(x) for x in all_splits[0][250]['normed']]"
   ]
  }
 ],
 "metadata": {
  "kernelspec": {
   "display_name": "Python 3 (ipykernel)",
   "language": "python",
   "name": "python3"
  },
  "language_info": {
   "codemirror_mode": {
    "name": "ipython",
    "version": 3
   },
   "file_extension": ".py",
   "mimetype": "text/x-python",
   "name": "python",
   "nbconvert_exporter": "python",
   "pygments_lexer": "ipython3",
   "version": "3.7.11"
  },
  "toc": {
   "base_numbering": 1,
   "nav_menu": {},
   "number_sections": false,
   "sideBar": true,
   "skip_h1_title": false,
   "title_cell": "Table of Contents",
   "title_sidebar": "Contents",
   "toc_cell": false,
   "toc_position": {},
   "toc_section_display": true,
   "toc_window_display": true
  }
 },
 "nbformat": 4,
 "nbformat_minor": 5
}
