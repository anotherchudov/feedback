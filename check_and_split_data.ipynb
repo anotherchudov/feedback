{
 "cells": [
  {
   "cell_type": "code",
   "execution_count": 5,
   "id": "9f520557-decf-4c70-a27f-6a7d59df9ac9",
   "metadata": {},
   "outputs": [],
   "source": [
    "import pandas as pd, os\n",
    "# import cudf, cuml, cupy\n",
    "from tqdm import tqdm\n",
    "import numpy as np\n",
    "from glob import glob\n",
    "# from cuml import UMAP, TSNE\n",
    "# from cuml.feature_extraction.text import TfidfTransformer, TfidfVectorizer, CountVectorizer, HashingVectorizer\n",
    "# from cuml import HDBSCAN, DBSCAN\n",
    "from collections import Counter\n",
    "import matplotlib.pyplot as plt\n",
    "import re\n",
    "from random import choice\n",
    "# from spacy import displacy\n",
    "import pandas as pd"
   ]
  },
  {
   "cell_type": "code",
   "execution_count": 3,
   "id": "74c85a18-a282-4d9a-94b3-907f4ddf6bae",
   "metadata": {},
   "outputs": [
    {
     "name": "stderr",
     "output_type": "stream",
     "text": [
      "100%|██████████████████████████████████████████████████████████████████████████████████████████████████████| 15594/15594 [00:00<00:00, 94175.58it/s]\n"
     ]
    }
   ],
   "source": [
    "texts = []\n",
    "ids = []\n",
    "for fname in tqdm(glob('train/*.txt')):\n",
    "    with open(fname) as f:\n",
    "        texts.append(f.read())\n",
    "    ids.append(fname.split('/')[1].split('.')[0])\n"
   ]
  },
  {
   "cell_type": "code",
   "execution_count": 4,
   "id": "80869d1e-5a45-4b2b-8da2-69e97c125855",
   "metadata": {},
   "outputs": [],
   "source": [
    "df = cudf.DataFrame({'id': ids, 'text': texts})"
   ]
  },
  {
   "cell_type": "code",
   "execution_count": 5,
   "id": "7a8fa5f0-c3bb-4b50-a046-6f5a276dd251",
   "metadata": {},
   "outputs": [],
   "source": [
    "tfrm = TfidfVectorizer(stop_words='english', smooth_idf=False, sublinear_tf=True)"
   ]
  },
  {
   "cell_type": "code",
   "execution_count": 6,
   "id": "259dbcfe-232e-4621-9bb9-3a499c7338df",
   "metadata": {},
   "outputs": [],
   "source": [
    "m = tfrm.fit_transform(df.text)"
   ]
  },
  {
   "cell_type": "code",
   "execution_count": 161,
   "id": "2f3d6f85-5f1f-4dde-b33a-f24f0ba652d8",
   "metadata": {},
   "outputs": [
    {
     "data": {
      "text/plain": [
       "<matplotlib.collections.PathCollection at 0x7ef834d7a210>"
      ]
     },
     "execution_count": 161,
     "metadata": {},
     "output_type": "execute_result"
    },
    {
     "data": {
      "image/png": "[encoded data removed]",
      "text/plain": [
       "<Figure size 432x288 with 1 Axes>"
      ]
     },
     "metadata": {
      "needs_background": "light"
     },
     "output_type": "display_data"
    }
   ],
   "source": [
    "umap = UMAP(n_neighbors=25, min_dist=.3)\n",
    "embed_2d = umap.fit_transform(m)\n",
    "embed_2d = cupy.asnumpy( embed_2d )\n",
    "plt.scatter(embed_2d[:, 0], embed_2d[:, 1])"
   ]
  },
  {
   "cell_type": "code",
   "execution_count": 162,
   "id": "d496f37b-2aac-46b5-a836-a91d10a5d92a",
   "metadata": {},
   "outputs": [],
   "source": [
    "clst = DBSCAN(eps=1)\n",
    "cluster_assignement = clst.fit_predict(embed_2d)"
   ]
  },
  {
   "cell_type": "code",
   "execution_count": 163,
   "id": "fd483135-cc06-4dc4-8cae-288e35023a60",
   "metadata": {},
   "outputs": [],
   "source": [
    "def hsv_to_rgb(h, s=.5, v=1.):\n",
    "        if s == 0.0: v*=255; return (v, v, v)\n",
    "        i = int(h*6.) # XXX assume int() truncates!\n",
    "        f = (h*6.)-i; p,q,t = int(255*(v*(1.-s))), int(255*(v*(1.-s*f))), int(255*(v*(1.-s*(1.-f)))); v*=255; i%=6\n",
    "        if i == 0: return (v, t, p)\n",
    "        if i == 1: return (q, v, p)\n",
    "        if i == 2: return (p, v, t)\n",
    "        if i == 3: return (p, q, v)\n",
    "        if i == 4: return (t, p, v)\n",
    "        if i == 5: return (v, p, q)"
   ]
  },
  {
   "cell_type": "code",
   "execution_count": 164,
   "id": "47a9b867-58b1-4f30-bc3d-68f3f263d5bf",
   "metadata": {},
   "outputs": [
    {
     "data": {
      "image/png": "[encoded data removed]",
      "text/plain": [
       "<Figure size 432x288 with 1 Axes>"
      ]
     },
     "metadata": {
      "needs_background": "light"
     },
     "output_type": "display_data"
    }
   ],
   "source": [
    "for x in range(15):\n",
    "    embs = embed_2d[cluster_assignement==x]\n",
    "    c = [x/255 for x in hsv_to_rgb(x/15)]\n",
    "    plt.scatter(embs[:, 0], embs[:, 1], c=[c] * len(embs))\n"
   ]
  },
  {
   "cell_type": "code",
   "execution_count": 168,
   "id": "b54ed390-bf47-47d1-bd08-b81917bfa196",
   "metadata": {},
   "outputs": [],
   "source": [
    "cluster_map = dict(zip(df['id'].values_host, cluster_assignement))"
   ]
  },
  {
   "cell_type": "code",
   "execution_count": 6,
   "id": "7584c077-3d9b-4432-a35c-caf8a3b0e158",
   "metadata": {},
   "outputs": [],
   "source": [
    "data = pd.read_csv('train.csv')"
   ]
  },
  {
   "cell_type": "code",
   "execution_count": 170,
   "id": "82543ffb-f8bc-4d5e-a0b7-a38893da8517",
   "metadata": {},
   "outputs": [],
   "source": [
    "data['cluster_id'] = data['id'].map(lambda x: cluster_map[x])"
   ]
  },
  {
   "cell_type": "code",
   "execution_count": 171,
   "id": "6bb3a8e7-2660-4773-8c54-d79ee961dd7c",
   "metadata": {},
   "outputs": [],
   "source": [
    "colors = {\n",
    "            'Lead': '#8000ff',\n",
    "            'Position': '#2b7ff6',\n",
    "            'Evidence': '#2adddd',\n",
    "            'Claim': '#80ffb4',\n",
    "            'Concluding Statement': 'd4dd80',\n",
    "            'Counterclaim': '#ff8042',\n",
    "            'Rebuttal': '#ff0000'\n",
    "         }\n",
    "options = {\"ents\": list(colors.keys()), \"colors\": colors}"
   ]
  },
  {
   "cell_type": "code",
   "execution_count": 7,
   "id": "ed06b5c4-1f94-4a5f-995d-4302b218ccb0",
   "metadata": {
    "tags": []
   },
   "outputs": [],
   "source": [
    "c = Counter()\n",
    "for z in data.discourse_text.values:\n",
    "    c.update(z)"
   ]
  },
  {
   "cell_type": "code",
   "execution_count": 8,
   "id": "97a4a7dd-d32d-4300-965a-87e3647b3600",
   "metadata": {
    "collapsed": true,
    "jupyter": {
     "outputs_hidden": true
    },
    "tags": []
   },
   "outputs": [
    {
     "data": {
      "text/plain": [
       "[('ó', 1),\n",
       " ('^', 1),\n",
       " ('£', 1),\n",
       " ('Ó', 1),\n",
       " ('\\x83', 1),\n",
       " ('©', 1),\n",
       " ('º', 1),\n",
       " ('Ë', 1),\n",
       " ('þ', 1),\n",
       " ('®', 1),\n",
       " ('å', 1),\n",
       " ('<', 1),\n",
       " ('>', 2),\n",
       " ('°', 2),\n",
       " ('\\x91', 2),\n",
       " ('¬', 2),\n",
       " ('\\x85', 3),\n",
       " ('@', 5),\n",
       " ('\\x80', 5),\n",
       " ('â', 5),\n",
       " ('|', 6),\n",
       " ('{', 6),\n",
       " ('~', 6),\n",
       " ('}', 7),\n",
       " ('¢', 7),\n",
       " ('=', 19),\n",
       " ('\\\\', 20),\n",
       " ('*', 29),\n",
       " ('\\x97', 63),\n",
       " ('Z', 71),\n",
       " ('X', 74),\n",
       " ('Q', 74),\n",
       " ('\\x94', 81),\n",
       " ('\\x93', 81),\n",
       " ('+', 85),\n",
       " ('\\x92', 102),\n",
       " ('#', 111),\n",
       " ('\\x82', 126),\n",
       " ('Ã', 130),\n",
       " ('Â', 137),\n",
       " ('`', 165),\n",
       " ('´', 231),\n",
       " ('¨', 251),\n",
       " ('&', 252),\n",
       " (']', 278),\n",
       " ('[', 289),\n",
       " ('$', 628),\n",
       " ('%', 1652),\n",
       " ('K', 1680),\n",
       " ('/', 2017),\n",
       " (':', 2104),\n",
       " ('J', 2211),\n",
       " ('4', 3095),\n",
       " ('8', 3206),\n",
       " ('6', 3288),\n",
       " (';', 3358),\n",
       " ('7', 3543),\n",
       " ('_', 3561),\n",
       " ('!', 3639),\n",
       " ('(', 4188),\n",
       " (')', 4224),\n",
       " ('5', 4796),\n",
       " ('9', 4833),\n",
       " ('3', 5210),\n",
       " ('U', 5660),\n",
       " ('R', 5843),\n",
       " ('Y', 8180),\n",
       " ('2', 8388),\n",
       " ('L', 8407),\n",
       " ('G', 9531),\n",
       " ('1', 9598),\n",
       " ('?', 11067),\n",
       " ('D', 11633),\n",
       " ('z', 11834),\n",
       " ('H', 11973),\n",
       " ('O', 12465),\n",
       " ('V', 13309),\n",
       " ('q', 13621),\n",
       " ('P', 13964),\n",
       " ('N', 14649),\n",
       " ('B', 15484),\n",
       " ('0', 15552),\n",
       " ('-', 15999),\n",
       " ('F', 16089),\n",
       " ('M', 18285),\n",
       " ('\\xa0', 19391),\n",
       " ('E', 22576),\n",
       " ('W', 25457),\n",
       " ('C', 25507),\n",
       " ('\\n', 32628),\n",
       " ('\"', 35786),\n",
       " ('S', 42072),\n",
       " ('A', 44730),\n",
       " ('x', 49541),\n",
       " ('j', 50949),\n",
       " (\"'\", 66288),\n",
       " ('T', 74491),\n",
       " ('I', 84993),\n",
       " (',', 199998),\n",
       " ('k', 228835),\n",
       " ('.', 287688),\n",
       " ('v', 352742),\n",
       " ('b', 383121),\n",
       " ('w', 494917),\n",
       " ('f', 507801),\n",
       " ('p', 550889),\n",
       " ('g', 563373),\n",
       " ('y', 574956),\n",
       " ('m', 600614),\n",
       " ('c', 858019),\n",
       " ('u', 877071),\n",
       " ('d', 982343),\n",
       " ('l', 1213494),\n",
       " ('h', 1449486),\n",
       " ('r', 1486337),\n",
       " ('i', 1755028),\n",
       " ('s', 1806989),\n",
       " ('n', 1862286),\n",
       " ('a', 2093511),\n",
       " ('o', 2323216),\n",
       " ('t', 2696093),\n",
       " ('e', 3528791),\n",
       " (' ', 6207043)]"
      ]
     },
     "execution_count": 8,
     "metadata": {},
     "output_type": "execute_result"
    }
   ],
   "source": [
    "sorted(c.items(), key=lambda x: x[1])"
   ]
  },
  {
   "cell_type": "code",
   "execution_count": 10,
   "id": "ed12012a-4a33-49cc-85c3-af924863b66a",
   "metadata": {},
   "outputs": [
    {
     "name": "stdout",
     "output_type": "stream",
     "text": [
      "\n"
     ]
    }
   ],
   "source": [
    "print('\\x82')"
   ]
  },
  {
   "cell_type": "code",
   "execution_count": 175,
   "id": "42e322d7-847c-4443-bc17-892597fcde46",
   "metadata": {},
   "outputs": [],
   "source": [
    "data.loc[data.discourse_id==1623258656795.0, 'discourse_text'] =  data.loc[data.discourse_id==1623258656795.0, \n",
    "                                                                           'discourse_text'].map(lambda x: x.replace('florida', 'LOCATION_NAME')).values"
   ]
  },
  {
   "cell_type": "code",
   "execution_count": 176,
   "id": "3d65d241-f9b9-48a9-9d91-0bec0382338e",
   "metadata": {},
   "outputs": [],
   "source": [
    "def show_sample(ID):\n",
    "    with open(f'train/{ID}.txt') as f:\n",
    "        org_text = f.read()\n",
    "    dsc = data.loc[data.id==ID].sort_values('discourse_start')\n",
    "    ents = []\n",
    "    pointer = 0\n",
    "    for _, row in dsc.iterrows():\n",
    "        entity = row.discourse_text.strip()\n",
    "        starts_at = org_text[pointer:].index(entity) + pointer\n",
    "        ents.append({'start': starts_at, 'end': starts_at + len(entity), 'label': row.discourse_type})\n",
    "        pointer = starts_at + len(entity)\n",
    "    displacy.render({'text': org_text, 'ents': ents, 'title': ID}, style=\"ent\",\n",
    "                    options=options, manual=True, jupyter=True)"
   ]
  },
  {
   "cell_type": "code",
   "execution_count": 177,
   "id": "f06d7214-0112-408e-9ec2-d384dcb4574f",
   "metadata": {},
   "outputs": [],
   "source": [
    "regexp = re.compile('(?s:.)*[a-zA-z0-9].*')"
   ]
  },
  {
   "cell_type": "code",
   "execution_count": 178,
   "id": "309b4018-0408-422d-b8ba-58982863ff64",
   "metadata": {},
   "outputs": [
    {
     "name": "stderr",
     "output_type": "stream",
     "text": [
      "100%|████████████████████████████████████████████████████████████████████████████████████████████████████████| 15594/15594 [01:37<00:00, 159.77it/s]\n"
     ]
    }
   ],
   "source": [
    "other_chunks_rel_map = {}\n",
    "other_chunks_abs_map = {}\n",
    "other_chunks_num_map = {}\n",
    "num_other_chunks = [[] for _ in range(15)]\n",
    "mean_abs_size_other_chunks = [[] for _ in range(15)]\n",
    "mean_rel_size_other_chunks = [[] for _ in range(15)]\n",
    "for ID in tqdm(ids):\n",
    "    other_chunks = []\n",
    "    with open(f'train/{ID}.txt') as f:\n",
    "        org_text = f.read()\n",
    "    segment_sizes = []\n",
    "    dsc = data.loc[data.id==ID].sort_values('discourse_start')\n",
    "    ents = []\n",
    "    pointer = 0\n",
    "    for _, row in dsc.iterrows():\n",
    "        entity = row.discourse_text.strip()\n",
    "        segment_sizes.append(len(entity))\n",
    "        offset = org_text[pointer:].index(entity)\n",
    "        if offset > 0:\n",
    "            stripped_bit = org_text[pointer: pointer + offset].strip()\n",
    "            if len(stripped_bit) and  regexp.match(stripped_bit) is not None:\n",
    "                offset_text_size = len(stripped_bit)\n",
    "                other_chunks.append(offset_text_size)\n",
    "        starts_at = offset + pointer\n",
    "        ents.append({'start': starts_at, 'end': starts_at + len(entity), 'label': row.discourse_type})\n",
    "        pointer = starts_at + len(entity)\n",
    "    index_sets = [set(range(x['start'], x['end'])) for x in ents]\n",
    "    if len(index_sets) > 2:\n",
    "        for a in range(len(index_sets)):\n",
    "            for b in range(a + 1, len(index_sets)):\n",
    "                 assert not index_sets[a].intersection(index_sets[b])\n",
    "                    \n",
    "    mean_segment_size = np.mean(segment_sizes)\n",
    "    num_other_chunks[dsc.iloc[0].cluster_id].append(len(other_chunks))\n",
    "    mean_abs_size_other_chunks[dsc.iloc[0].cluster_id].append(0 if not len(other_chunks) else np.mean(other_chunks))\n",
    "    mean_rel_size_other_chunks[dsc.iloc[0].cluster_id].append(0 if not len(other_chunks) else np.mean(other_chunks) / mean_segment_size)\n",
    "\n",
    "    other_chunks_rel_map[ID] = 0 if not len(other_chunks) else np.mean(other_chunks) / mean_segment_size\n",
    "    other_chunks_abs_map[ID] = 0 if not len(other_chunks) else np.mean(other_chunks)\n",
    "    other_chunks_num_map[ID] = len(other_chunks)"
   ]
  },
  {
   "cell_type": "code",
   "execution_count": 179,
   "id": "e788dc09-75b6-4f2a-8746-3a6c026e0fbd",
   "metadata": {},
   "outputs": [],
   "source": [
    "all_ids = list(other_chunks_num_map.keys())"
   ]
  },
  {
   "cell_type": "code",
   "execution_count": 741,
   "id": "1adf576f-6d4f-4826-b716-efd815556799",
   "metadata": {},
   "outputs": [
    {
     "data": {
      "text/html": [
       "<span class=\"tex2jax_ignore\"><h2 style=\"margin: 0\">4DF55925F544</h2>\n",
       "\n",
       "<div class=\"entities\" style=\"line-height: 2.5; direction: ltr\">\n",
       "<mark class=\"entity\" style=\"background: #2b7ff6; padding: 0.45em 0.6em; margin: 0 0.25em; line-height: 1; border-radius: 0.35em;\">\n",
       "    Why should we limit our uses on car usages\n",
       "    <span style=\"font-size: 0.8em; font-weight: bold; line-height: 1; border-radius: 0.35em; vertical-align: middle; margin-left: 0.5rem\">Position</span>\n",
       "</mark>\n",
       ", \n",
       "<mark class=\"entity\" style=\"background: #80ffb4; padding: 0.45em 0.6em; margin: 0 0.25em; line-height: 1; border-radius: 0.35em;\">\n",
       "    some people se the limiting of car usage as less tense\n",
       "    <span style=\"font-size: 0.8em; font-weight: bold; line-height: 1; border-radius: 0.35em; vertical-align: middle; margin-left: 0.5rem\">Claim</span>\n",
       "</mark>\n",
       ". \n",
       "<mark class=\"entity\" style=\"background: #2adddd; padding: 0.45em 0.6em; margin: 0 0.25em; line-height: 1; border-radius: 0.35em;\">\n",
       "    &quot; When I had a car I was always tense. I'm much happier this way&quot; said heidrun Walter, a mother of two. when you have a car you'll have to find space for it as well as a house to buy. There are only two places to park at the edge of a development, where a car-owner has to pay $40,000, along with a home.\n",
       "    <span style=\"font-size: 0.8em; font-weight: bold; line-height: 1; border-radius: 0.35em; vertical-align: middle; margin-left: 0.5rem\">Evidence</span>\n",
       "</mark>\n",
       " \n",
       "<mark class=\"entity\" style=\"background: #2adddd; padding: 0.45em 0.6em; margin: 0 0.25em; line-height: 1; border-radius: 0.35em;\">\n",
       "    passenger cars are responcible for 12 percent of greenhouse gas emissions in Europe, and up to 50 percent in the United states. with less cars people have the advantages of being a walk away from a store instead of a highway\n",
       "    <span style=\"font-size: 0.8em; font-weight: bold; line-height: 1; border-radius: 0.35em; vertical-align: middle; margin-left: 0.5rem\">Evidence</span>\n",
       "</mark>\n",
       ". \n",
       "<mark class=\"entity\" style=\"background: #80ffb4; padding: 0.45em 0.6em; margin: 0 0.25em; line-height: 1; border-radius: 0.35em;\">\n",
       "    With less cars that give off gas emissions the less our ozone will deplete.\n",
       "    <span style=\"font-size: 0.8em; font-weight: bold; line-height: 1; border-radius: 0.35em; vertical-align: middle; margin-left: 0.5rem\">Claim</span>\n",
       "</mark>\n",
       " More and more people are using hybrid cars because they dont give off as much gas emissions than regular cars that take diesel. Depending on the weather of the night and day could really effect the greenhouse effect of our planet. If ther was a cold night and a warm day this could help the warmer layer of air to trap the car emissions, which depletes the ozone layer that is protecting our planet.</br></br>Paris one of the most leading countries in the world with the car emissions ended making people stop using their cars because of all the smog that was  being created. People who used their cars were fined $31 and if they complained about that their car would somethimes be towed away. While the rule of no cars was in effect the traffic jams in france were down over 60 percent. Think about what this could do to the United States. The smog had cleard so much that Paris eventually allowed odd numbered plates to drive again on Tuesday. &quot; 'It's a good oppourtunity to take away stress and lower air pollution'  said Carlos Arturo as he rode with his wife on a two seat bicycle&quot; ( Andrew Selsky, Source 3). The no car rule is sweeping over the nations, because of this rule there has been over 118 miles of bicycle paths in Bogota, Colombia.</br></br>&quot; Municipal athorities from other countries came to Bogota to see the event and were enthusiastic 'These poeple are generating a revolutionary change, and this is crossing borders' Said Enrique Riera, the mayor of asuncion, Paraguay. As of April 2013, the number of miles driven per person was nearly down by 9 percent below the peak and equal to where the country was in January of 1995. Part of the explantion lies in the recession, because cash- strapped Americans could not afford new cars, and the unimployed weren't going to  work anyway. These people could not afford cars but they could have afforded a bike if they wanted to. They could have rode to work on a bike or could have tried to find a job on a bike it's that people are starting to get to lazy to do important things like ride a bike. With cars theres gas you have to pay for along with the insurence, that's a lot of money.</br></br>\n",
       "<mark class=\"entity\" style=\"background: #2adddd; padding: 0.45em 0.6em; margin: 0 0.25em; line-height: 1; border-radius: 0.35em;\">\n",
       "    Lucky for us Americas love affair twords vehicles seem to be coling down. When the number of child growth grew, the number of miles driven dropped steadly down in 2005.\n",
       "    <span style=\"font-size: 0.8em; font-weight: bold; line-height: 1; border-radius: 0.35em; vertical-align: middle; margin-left: 0.5rem\">Evidence</span>\n",
       "</mark>\n",
       " \n",
       "<mark class=\"entity\" style=\"background: #80ffb4; padding: 0.45em 0.6em; margin: 0 0.25em; line-height: 1; border-radius: 0.35em;\">\n",
       "    With cars the rodes are more dangerous anything could happen to anyone or anything.\n",
       "    <span style=\"font-size: 0.8em; font-weight: bold; line-height: 1; border-radius: 0.35em; vertical-align: middle; margin-left: 0.5rem\">Claim</span>\n",
       "</mark>\n",
       " The percentage of 16-39 year olds that are driving dropped, while older people retain thweir licenses as they age. A study last year was found tha driving by younger people dropped by 23 percent between 2001 and 2009. Bill Ford proposed partnering with telecommunactions industrys to create cities in which &quot; pedestrian, bicycle, private cars, commercial and public transportation traffic are woven into a connected network to save time, conserve resources, lower emissions and improive safety&quot;. In Germeny the banning of cars resulted that 70 percent of families donot have cars, and 57 perecnt sold a car to move there. \n",
       "<mark class=\"entity\" style=\"background: d4dd80; padding: 0.45em 0.6em; margin: 0 0.25em; line-height: 1; border-radius: 0.35em;\">\n",
       "    In doing all of these thing this could help stop the greenhouse effect on our planet and start saving it insted of killing it.\n",
       "    <span style=\"font-size: 0.8em; font-weight: bold; line-height: 1; border-radius: 0.35em; vertical-align: middle; margin-left: 0.5rem\">Concluding Statement</span>\n",
       "</mark>\n",
       "                                          </div></span>"
      ],
      "text/plain": [
       "<IPython.core.display.HTML object>"
      ]
     },
     "metadata": {},
     "output_type": "display_data"
    }
   ],
   "source": [
    "show_sample(all_ids[np.argmax([other_chunks_rel_map[x] for x in all_ids])])"
   ]
  },
  {
   "cell_type": "code",
   "execution_count": 181,
   "id": "2d26fd26-aece-4bbc-bc2b-326b39a6080f",
   "metadata": {},
   "outputs": [
    {
     "data": {
      "text/plain": [
       "{'Lead': 0,\n",
       " 'Position': 1,\n",
       " 'Evidence': 2,\n",
       " 'Claim': 3,\n",
       " 'Concluding Statement': 4,\n",
       " 'Counterclaim': 5,\n",
       " 'Rebuttal': 6}"
      ]
     },
     "execution_count": 181,
     "metadata": {},
     "output_type": "execute_result"
    }
   ],
   "source": [
    "ents_map = dict(zip(colors.keys(), range(len(colors))))\n",
    "ents_map"
   ]
  },
  {
   "cell_type": "code",
   "execution_count": 182,
   "id": "49d2e844-dfd9-4f02-bca4-fb48d9a95aec",
   "metadata": {},
   "outputs": [],
   "source": [
    "def count_entities(x):    \n",
    "    ent_counts = np.zeros(7)\n",
    "    for _, z in x.iterrows():\n",
    "        ent_counts[ents_map[z.discourse_type]] += 1\n",
    "    return ent_counts"
   ]
  },
  {
   "cell_type": "code",
   "execution_count": 184,
   "id": "0ef9e2e7-fe00-49c8-9bb3-1e5ccd1dabb3",
   "metadata": {},
   "outputs": [
    {
     "data": {
      "text/plain": [
       "[129, 106, 46, 15, 23, 76, 120, 44, 83, 117, 73, 20, 137, 19, 81]"
      ]
     },
     "execution_count": 184,
     "metadata": {},
     "output_type": "execute_result"
    }
   ],
   "source": [
    "[sum([x > .5 for x in mean_rel_size_other_chunks[z]]) for z in range(15)]"
   ]
  },
  {
   "cell_type": "code",
   "execution_count": 185,
   "id": "0512572c-dbba-4c67-8a45-da1e1480c5bc",
   "metadata": {},
   "outputs": [
    {
     "name": "stderr",
     "output_type": "stream",
     "text": [
      "100%|█████████████████████████████████████████████████████████████████████████████████████████████████████████████████| 5/5 [01:13<00:00, 14.71s/it]\n",
      "100%|█████████████████████████████████████████████████████████████████████████████████████████████████████████████████| 5/5 [01:13<00:00, 14.69s/it]\n",
      "100%|█████████████████████████████████████████████████████████████████████████████████████████████████████████████████| 5/5 [01:13<00:00, 14.70s/it]\n",
      "100%|█████████████████████████████████████████████████████████████████████████████████████████████████████████████████| 5/5 [01:13<00:00, 14.74s/it]\n",
      "100%|█████████████████████████████████████████████████████████████████████████████████████████████████████████████████| 5/5 [01:13<00:00, 14.75s/it]\n"
     ]
    }
   ],
   "source": [
    "nseeds = 5\n",
    "nfolds = 5\n",
    "all_splits = {}\n",
    "for seed in range(nseeds):\n",
    "    all_splits[seed] = {}\n",
    "    for nn in tqdm((25, 50, 100, 150, 250)):\n",
    "        all_splits[seed][nn] = {}\n",
    "        for normed, key in zip((True, False),\n",
    "                               ('normed', 'not_normed')):\n",
    "            fold_ids = [[] for _ in range(nfolds)]\n",
    "            for cluster_id in range(15):\n",
    "                cluster_data = data.loc[data.cluster_id==cluster_id]\n",
    "                cluster_counts = cluster_data.groupby('id').apply(count_entities)\n",
    "                cluster_ids = cluster_counts.index\n",
    "                much_free_text_ids = set(x for x in cluster_ids if other_chunks_rel_map[x] > .5)\n",
    "                sorted_much_free_text_ids = sorted(much_free_text_ids, key=lambda x: other_chunks_rel_map[x])\n",
    "                cluster_ent_embs = np.vstack(cluster_counts.values)\n",
    "                if normed:\n",
    "                    cluster_ent_embs /= (np.quantile(cluster_ent_embs, .75, axis=0,) + 1)\n",
    "                umap = UMAP(n_neighbors=nn, n_components=1, random_state=seed)\n",
    "                embs_1d = umap.fit_transform(cupy.array(cluster_ent_embs))    \n",
    "                sorted_index = np.argsort(embs_1d.get().ravel())\n",
    "                for fold in range(nfolds):\n",
    "                    fold_ids[fold].extend(x for x in cluster_ids[sorted_index[fold::5]] if x not in much_free_text_ids)\n",
    "                    fold_ids[fold].extend(sorted_much_free_text_ids[fold::5])\n",
    "            for a in range(nfolds):\n",
    "                for b in range(a+1, nfolds):\n",
    "                    assert not set(fold_ids[a]).intersection(set(fold_ids[b]))\n",
    "            all_splits[seed][nn][key] = fold_ids"
   ]
  },
  {
   "cell_type": "code",
   "execution_count": 188,
   "id": "e24f49ea-ded7-49c8-b8e0-f50bde86ca70",
   "metadata": {},
   "outputs": [],
   "source": [
    "with open('data_splits.pickle', 'wb') as f:\n",
    "    import dill as pickle\n",
    "    pickle.dump(all_splits, f)"
   ]
  },
  {
   "cell_type": "code",
   "execution_count": 190,
   "id": "ad74ea8b-3aa5-4aeb-a4c1-c0a732b851bb",
   "metadata": {},
   "outputs": [
    {
     "data": {
      "text/plain": [
       "[3140, 3121, 3139, 3096, 3098]"
      ]
     },
     "execution_count": 190,
     "metadata": {},
     "output_type": "execute_result"
    }
   ],
   "source": [
    "[len(x) for x in all_splits[0][250]['normed']]"
   ]
  }
 ],
 "metadata": {
  "kernelspec": {
   "display_name": "Python 3 (ipykernel)",
   "language": "python",
   "name": "python3"
  },
  "language_info": {
   "codemirror_mode": {
    "name": "ipython",
    "version": 3
   },
   "file_extension": ".py",
   "mimetype": "text/x-python",
   "name": "python",
   "nbconvert_exporter": "python",
   "pygments_lexer": "ipython3",
   "version": "3.7.11"
  }
 },
 "nbformat": 4,
 "nbformat_minor": 5
}
